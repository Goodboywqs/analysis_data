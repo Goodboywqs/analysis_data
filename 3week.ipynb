{
 "cells": [
  {
   "cell_type": "markdown",
   "metadata": {},
   "source": [
    "# 第五章 简单统计推断"
   ]
  },
  {
   "cell_type": "markdown",
   "metadata": {},
   "source": [
    "## 5.1 常用数据分析工具库"
   ]
  },
  {
   "cell_type": "markdown",
   "metadata": {},
   "source": [
    "scipy在numpy基础上扩展了诸如积分计算、求解微分方程、优化、信号处理和稀疏矩阵等方便用户使用的数理算法和函数"
   ]
  },
  {
   "cell_type": "code",
   "execution_count": 293,
   "metadata": {},
   "outputs": [],
   "source": [
    "from scipy import stats\n",
    "import numpy as np\n",
    "import pandas as pd"
   ]
  },
  {
   "cell_type": "markdown",
   "metadata": {},
   "source": [
    "### 5.1.2 statsmodels"
   ]
  },
  {
   "cell_type": "code",
   "execution_count": 294,
   "metadata": {},
   "outputs": [],
   "source": [
    "import statsmodels.api as sm  #导入模型接口statsmodels.api 并命名为sm"
   ]
  },
  {
   "cell_type": "code",
   "execution_count": 295,
   "metadata": {
    "scrolled": true
   },
   "outputs": [],
   "source": [
    "import sys\n",
    "stdout=sys.stdout\n",
    "stdin=sys.stdin\n",
    "stderr=sys.stderr\n",
    "reload(sys)\n",
    "sys.stdout=stdout\n",
    "sys.stdin=stdin\n",
    "sys.stderr=stderr\n",
    "sys.setdefaultencoding('utf-8')  #解决中文乱码和编码问题"
   ]
  },
  {
   "cell_type": "markdown",
   "metadata": {},
   "source": [
    "### 5.1.3 sklearn"
   ]
  },
  {
   "cell_type": "markdown",
   "metadata": {},
   "source": [
    "主要用于实现python中的机器学习功能，提供了一系列简单高效及最新的数据挖掘和数据分析工具"
   ]
  },
  {
   "cell_type": "code",
   "execution_count": 296,
   "metadata": {},
   "outputs": [],
   "source": [
    "from sklearn import svm  #支持向量机进行分类"
   ]
  },
  {
   "cell_type": "markdown",
   "metadata": {},
   "source": [
    "## 5.2 简单统计推断的基本原理"
   ]
  },
  {
   "cell_type": "markdown",
   "metadata": {},
   "source": [
    "### 5.2.1 数据分布"
   ]
  },
  {
   "cell_type": "markdown",
   "metadata": {},
   "source": [
    "数据分布是描述数据的一种形象方式，可分为离散分布和连续变量的分布。总体分布：已知总体往往是一个具有确定分布的随机变量，总体分布就是所有数据的分布\n",
    "样本分布：在总体中抽取一些信息 抽样分布：是指样本统计量的分布"
   ]
  },
  {
   "cell_type": "code",
   "execution_count": 297,
   "metadata": {},
   "outputs": [
    {
     "name": "stdout",
     "output_type": "stream",
     "text": [
      "5.0\n",
      "5.0\n"
     ]
    }
   ],
   "source": [
    "pop=np.array([2,4,6,8])  #总体数据\n",
    "print pop.var(ddof=0)   #计算总体方差\n",
    "print pop.mean()        #计算总体均值"
   ]
  },
  {
   "cell_type": "code",
   "execution_count": 298,
   "metadata": {},
   "outputs": [
    {
     "name": "stdout",
     "output_type": "stream",
     "text": [
      "2.5\n",
      "5.0\n"
     ]
    }
   ],
   "source": [
    "miu=np.array([2,3,4,5,3,4,5,6,4,5,6,7,5,6,7,8])\n",
    "#miu 为所有样本的均值数据，即均值的抽样分布\n",
    "print miu.var(ddof=0)  #计算miu的样本方差\n",
    "print miu.mean()       #计算miu的样本均值"
   ]
  },
  {
   "cell_type": "markdown",
   "metadata": {},
   "source": [
    "## 5.3 单总体参数的估计及假设检验"
   ]
  },
  {
   "cell_type": "markdown",
   "metadata": {},
   "source": [
    "#### 5.3.1.1 单总体的参数估计"
   ]
  },
  {
   "cell_type": "code",
   "execution_count": 299,
   "metadata": {},
   "outputs": [
    {
     "data": {
      "text/html": [
       "<div>\n",
       "<style scoped>\n",
       "    .dataframe tbody tr th:only-of-type {\n",
       "        vertical-align: middle;\n",
       "    }\n",
       "\n",
       "    .dataframe tbody tr th {\n",
       "        vertical-align: top;\n",
       "    }\n",
       "\n",
       "    .dataframe thead th {\n",
       "        text-align: right;\n",
       "    }\n",
       "</style>\n",
       "<table border=\"1\" class=\"dataframe\">\n",
       "  <thead>\n",
       "    <tr style=\"text-align: right;\">\n",
       "      <th></th>\n",
       "      <th>moisture</th>\n",
       "    </tr>\n",
       "  </thead>\n",
       "  <tbody>\n",
       "    <tr>\n",
       "      <th>0</th>\n",
       "      <td>4.50</td>\n",
       "    </tr>\n",
       "    <tr>\n",
       "      <th>1</th>\n",
       "      <td>3.50</td>\n",
       "    </tr>\n",
       "    <tr>\n",
       "      <th>2</th>\n",
       "      <td>3.55</td>\n",
       "    </tr>\n",
       "    <tr>\n",
       "      <th>3</th>\n",
       "      <td>4.03</td>\n",
       "    </tr>\n",
       "    <tr>\n",
       "      <th>4</th>\n",
       "      <td>3.19</td>\n",
       "    </tr>\n",
       "  </tbody>\n",
       "</table>\n",
       "</div>"
      ],
      "text/plain": [
       "   moisture\n",
       "0      4.50\n",
       "1      3.50\n",
       "2      3.55\n",
       "3      4.03\n",
       "4      3.19"
      ]
     },
     "execution_count": 299,
     "metadata": {},
     "output_type": "execute_result"
    }
   ],
   "source": [
    "path=\"D:/data/Python_data/ch5/moisture.csv\"\n",
    "moisture=pd.read_csv(path)\n",
    "moisture.head()"
   ]
  },
  {
   "cell_type": "code",
   "execution_count": 300,
   "metadata": {},
   "outputs": [
    {
     "data": {
      "text/plain": [
       "(3.933166071056396, 4.014033928943604)"
      ]
     },
     "execution_count": 300,
     "metadata": {},
     "output_type": "execute_result"
    }
   ],
   "source": [
    "sm.stats.DescrStatsW(moisture['moisture']).zconfint_mean(alpha=0.5)  #对总体均值进行Z估计 得到正态估计区间"
   ]
  },
  {
   "cell_type": "code",
   "execution_count": 301,
   "metadata": {},
   "outputs": [
    {
     "data": {
      "text/plain": [
       "(3.9328639422926144, 4.0143360577073866)"
      ]
     },
     "execution_count": 301,
     "metadata": {},
     "output_type": "execute_result"
    }
   ],
   "source": [
    "sm.stats.DescrStatsW(moisture['moisture']).tconfint_mean(alpha=0.5)  #得到t分布的估计区间"
   ]
  },
  {
   "cell_type": "code",
   "execution_count": 302,
   "metadata": {},
   "outputs": [
    {
     "data": {
      "text/plain": [
       "Mean(statistic=3.9736000000000002, minmax=(3.853131123764977, 4.094068876235023))"
      ]
     },
     "execution_count": 302,
     "metadata": {},
     "output_type": "execute_result"
    }
   ],
   "source": [
    "moisture_mean,moisture_var,moisture_std=stats.bayes_mvs(moisture['moisture'],alpha=0.95)  #scipy中的stats.bayes_mvs 函数也提供了采用t分布下的均值估计结果\n",
    "moisture_mean"
   ]
  },
  {
   "cell_type": "markdown",
   "metadata": {},
   "source": [
    "#### 5.3.1.2 单总体方差、标准差的参数估计"
   ]
  },
  {
   "cell_type": "code",
   "execution_count": 105,
   "metadata": {},
   "outputs": [
    {
     "data": {
      "text/plain": [
       "Variance(statistic=0.18733089361702127, minmax=(0.12538093683821308, 0.2790231439977582))"
      ]
     },
     "execution_count": 105,
     "metadata": {},
     "output_type": "execute_result"
    }
   ],
   "source": [
    "moisture_var  #总体方差"
   ]
  },
  {
   "cell_type": "code",
   "execution_count": 106,
   "metadata": {},
   "outputs": [
    {
     "data": {
      "text/plain": [
       "Std_dev(statistic=0.43052145521911656, minmax=(0.35409170681931124, 0.5282264135744805))"
      ]
     },
     "execution_count": 106,
     "metadata": {},
     "output_type": "execute_result"
    }
   ],
   "source": [
    "moisture_std  #总体标准差"
   ]
  },
  {
   "cell_type": "code",
   "execution_count": 107,
   "metadata": {},
   "outputs": [
    {
     "data": {
      "text/plain": [
       "(3.853131123764977, 4.094068876235023)"
      ]
     },
     "execution_count": 107,
     "metadata": {},
     "output_type": "execute_result"
    }
   ],
   "source": [
    "m,v,s=stats.mvsdist(moisture['moisture'])\n",
    "m.interval(0.95)  #返回95%置信度下总体均值的置信区间"
   ]
  },
  {
   "cell_type": "code",
   "execution_count": 108,
   "metadata": {},
   "outputs": [
    {
     "data": {
      "text/plain": [
       "(0.12538093683821308, 0.2790231439977582)"
      ]
     },
     "execution_count": 108,
     "metadata": {},
     "output_type": "execute_result"
    }
   ],
   "source": [
    "v.interval(0.95)  #返回95%置信度下总体方差的置信区间"
   ]
  },
  {
   "cell_type": "code",
   "execution_count": 109,
   "metadata": {},
   "outputs": [
    {
     "data": {
      "text/plain": [
       "(0.35409170681931124, 0.5282264135744805)"
      ]
     },
     "execution_count": 109,
     "metadata": {},
     "output_type": "execute_result"
    }
   ],
   "source": [
    "s.interval(0.95)  #返回95%置信度下总体标准差的置信区间"
   ]
  },
  {
   "cell_type": "code",
   "execution_count": 110,
   "metadata": {},
   "outputs": [
    {
     "data": {
      "text/plain": [
       "0.061209622383579736"
      ]
     },
     "execution_count": 110,
     "metadata": {},
     "output_type": "execute_result"
    }
   ],
   "source": [
    "m.std()  #得到均值的估计标准误差"
   ]
  },
  {
   "cell_type": "markdown",
   "metadata": {},
   "source": [
    "#### 5.3.1.3 单总体比例的参数估计"
   ]
  },
  {
   "cell_type": "markdown",
   "metadata": {},
   "source": [
    "反映总体某种特征的变量只有2种属性，其中某种属性占有的属性的比重或百分比"
   ]
  },
  {
   "cell_type": "code",
   "execution_count": 111,
   "metadata": {},
   "outputs": [
    {
     "data": {
      "text/plain": [
       "(0.8649789068448047, 0.987031078672979)"
      ]
     },
     "execution_count": 111,
     "metadata": {},
     "output_type": "execute_result"
    }
   ],
   "source": [
    "sm.stats.proportion_confint(95,100,alpha=0.01,method='binom_test')\n",
    "#第一个参数表示关注“成功”的数目，第二个参数表示样本量 methon参数可根据抽样分布选择"
   ]
  },
  {
   "cell_type": "markdown",
   "metadata": {},
   "source": [
    "### 5.3.2 单总体参数的假设检验"
   ]
  },
  {
   "cell_type": "markdown",
   "metadata": {},
   "source": [
    "#### 5.3.2.1 总体均值的假设检验"
   ]
  },
  {
   "cell_type": "code",
   "execution_count": 112,
   "metadata": {},
   "outputs": [
    {
     "data": {
      "text/plain": [
       "(-0.440385831166995, 0.6701711574008213)"
      ]
     },
     "execution_count": 112,
     "metadata": {},
     "output_type": "execute_result"
    }
   ],
   "source": [
    "sm.stats.DescrStatsW(moisture['moisture']).ztest_mean(value=4,alternative='larger')\n",
    "#alternative 表示备择假设的符号，缺省则表示默认符号为等号，larger和smaller分别表示备择假设符号为大于或小于"
   ]
  },
  {
   "cell_type": "code",
   "execution_count": 113,
   "metadata": {},
   "outputs": [
    {
     "data": {
      "text/html": [
       "<div>\n",
       "<style scoped>\n",
       "    .dataframe tbody tr th:only-of-type {\n",
       "        vertical-align: middle;\n",
       "    }\n",
       "\n",
       "    .dataframe tbody tr th {\n",
       "        vertical-align: top;\n",
       "    }\n",
       "\n",
       "    .dataframe thead th {\n",
       "        text-align: right;\n",
       "    }\n",
       "</style>\n",
       "<table border=\"1\" class=\"dataframe\">\n",
       "  <thead>\n",
       "    <tr style=\"text-align: right;\">\n",
       "      <th></th>\n",
       "      <th>csi</th>\n",
       "    </tr>\n",
       "  </thead>\n",
       "  <tbody>\n",
       "    <tr>\n",
       "      <th>0</th>\n",
       "      <td>76</td>\n",
       "    </tr>\n",
       "    <tr>\n",
       "      <th>1</th>\n",
       "      <td>84</td>\n",
       "    </tr>\n",
       "    <tr>\n",
       "      <th>2</th>\n",
       "      <td>86</td>\n",
       "    </tr>\n",
       "    <tr>\n",
       "      <th>3</th>\n",
       "      <td>90</td>\n",
       "    </tr>\n",
       "    <tr>\n",
       "      <th>4</th>\n",
       "      <td>84</td>\n",
       "    </tr>\n",
       "  </tbody>\n",
       "</table>\n",
       "</div>"
      ],
      "text/plain": [
       "   csi\n",
       "0   76\n",
       "1   84\n",
       "2   86\n",
       "3   90\n",
       "4   84"
      ]
     },
     "execution_count": 113,
     "metadata": {},
     "output_type": "execute_result"
    }
   ],
   "source": [
    "path=\"D:/data/Python_data/ch5/mobile.csv\"\n",
    "mobile=pd.read_csv(path)\n",
    "mobile.head()"
   ]
  },
  {
   "cell_type": "code",
   "execution_count": 114,
   "metadata": {},
   "outputs": [
    {
     "data": {
      "text/plain": [
       "(-0.6859943405700328, 0.7503546857532633, 24.0)"
      ]
     },
     "execution_count": 114,
     "metadata": {},
     "output_type": "execute_result"
    }
   ],
   "source": [
    "sm.stats.DescrStatsW(mobile['csi']).ttest_mean(value=82,alternative='larger')\n",
    "# alternative 表示备择假设的符号，缺省则表示默认符号为等号，larger和smaller分别表示备择假设符号为大于或小于"
   ]
  },
  {
   "cell_type": "code",
   "execution_count": 115,
   "metadata": {},
   "outputs": [
    {
     "data": {
      "text/plain": [
       "Ttest_1sampResult(statistic=-0.6859943405700328, pvalue=0.4992906284934734)"
      ]
     },
     "execution_count": 115,
     "metadata": {},
     "output_type": "execute_result"
    }
   ],
   "source": [
    "stats.ttest_1samp(a=mobile['csi'],popmean=82)  #ttest_1samp 用于t检验\n",
    "#参数popmean用于指定原假设取等号时的值"
   ]
  },
  {
   "cell_type": "markdown",
   "metadata": {},
   "source": [
    "#### 5.3.2.2 总体比例的假设检验"
   ]
  },
  {
   "cell_type": "markdown",
   "metadata": {},
   "source": [
    "总体比例的假设检验是根据样本数据，对总体具备某种属性的个题总数占全体属性总数的比例，提出假设并进行检验的过程"
   ]
  },
  {
   "cell_type": "code",
   "execution_count": 116,
   "metadata": {},
   "outputs": [
    {
     "data": {
      "text/plain": [
       "0.9191628710986264"
      ]
     },
     "execution_count": 116,
     "metadata": {},
     "output_type": "execute_result"
    }
   ],
   "source": [
    "stats.binom_test(95,100,p=0.97,alternative='greater')  #binom_test 函数可以对单总体比例进行检验\n",
    "#alternative 参数分别可取two-sided less greater"
   ]
  },
  {
   "cell_type": "code",
   "execution_count": 117,
   "metadata": {},
   "outputs": [
    {
     "data": {
      "text/plain": [
       "0.9191628710986264"
      ]
     },
     "execution_count": 117,
     "metadata": {},
     "output_type": "execute_result"
    }
   ],
   "source": [
    "sm.stats.binom_test(95,100,prop=0.97,alternative='larger')  # 使用binom_test 和proportion_ztest 函数 对总体比例进行假设检验"
   ]
  },
  {
   "cell_type": "code",
   "execution_count": 118,
   "metadata": {},
   "outputs": [
    {
     "data": {
      "text/plain": [
       "(-0.9176629354822475, 0.8206023210565294)"
      ]
     },
     "execution_count": 118,
     "metadata": {},
     "output_type": "execute_result"
    }
   ],
   "source": [
    "sm.stats.proportions_ztest(95,100,value=0.97,alternative='larger')"
   ]
  },
  {
   "cell_type": "markdown",
   "metadata": {},
   "source": [
    "本例检验的单侧p值=0.919>>0.05 proportions_ztest 正态检验p值为0.8206 >> 0.05 因此，没有充分证据表明应该拒绝原假设，即没有充分理由否定产品合格率不超过97%"
   ]
  },
  {
   "cell_type": "markdown",
   "metadata": {},
   "source": [
    "## 5.4 两总体参数的假设检验"
   ]
  },
  {
   "cell_type": "markdown",
   "metadata": {},
   "source": [
    "参数估计和假设检验的问题也可以扩展至两个总体的情形，主要考察两个总体的参数是否有差异"
   ]
  },
  {
   "cell_type": "markdown",
   "metadata": {},
   "source": [
    "### 5.4.1 独立样本的假设检验"
   ]
  },
  {
   "cell_type": "markdown",
   "metadata": {},
   "source": [
    "所谓独立样本即两组样本数据是相互独立，一个样本数据特征的变动不会影响另一个样本数据特征的变动"
   ]
  },
  {
   "cell_type": "markdown",
   "metadata": {},
   "source": [
    "#### 5.4.1.1 独立样本均值之差的假设检验"
   ]
  },
  {
   "cell_type": "markdown",
   "metadata": {},
   "source": [
    "独立样本均值之差的假设检验主要考察两个总体的均值是否有差异或检验其差异的具体数值，一般家丁两个总体均服从正态分布，使用t统计量进行检验"
   ]
  },
  {
   "cell_type": "code",
   "execution_count": 119,
   "metadata": {},
   "outputs": [
    {
     "data": {
      "text/html": [
       "<div>\n",
       "<style scoped>\n",
       "    .dataframe tbody tr th:only-of-type {\n",
       "        vertical-align: middle;\n",
       "    }\n",
       "\n",
       "    .dataframe tbody tr th {\n",
       "        vertical-align: top;\n",
       "    }\n",
       "\n",
       "    .dataframe thead th {\n",
       "        text-align: right;\n",
       "    }\n",
       "</style>\n",
       "<table border=\"1\" class=\"dataframe\">\n",
       "  <thead>\n",
       "    <tr style=\"text-align: right;\">\n",
       "      <th></th>\n",
       "      <th>Endurance</th>\n",
       "      <th>tech</th>\n",
       "    </tr>\n",
       "  </thead>\n",
       "  <tbody>\n",
       "    <tr>\n",
       "      <th>0</th>\n",
       "      <td>4.1</td>\n",
       "      <td>1</td>\n",
       "    </tr>\n",
       "    <tr>\n",
       "      <th>1</th>\n",
       "      <td>3.7</td>\n",
       "      <td>1</td>\n",
       "    </tr>\n",
       "    <tr>\n",
       "      <th>2</th>\n",
       "      <td>3.5</td>\n",
       "      <td>1</td>\n",
       "    </tr>\n",
       "    <tr>\n",
       "      <th>3</th>\n",
       "      <td>3.9</td>\n",
       "      <td>1</td>\n",
       "    </tr>\n",
       "    <tr>\n",
       "      <th>4</th>\n",
       "      <td>4.1</td>\n",
       "      <td>1</td>\n",
       "    </tr>\n",
       "  </tbody>\n",
       "</table>\n",
       "</div>"
      ],
      "text/plain": [
       "   Endurance  tech\n",
       "0        4.1     1\n",
       "1        3.7     1\n",
       "2        3.5     1\n",
       "3        3.9     1\n",
       "4        4.1     1"
      ]
     },
     "execution_count": 119,
     "metadata": {},
     "output_type": "execute_result"
    }
   ],
   "source": [
    "path=\"D:/data/Python_data/ch5/battery.csv\"\n",
    "battery=pd.read_csv(path)\n",
    "battery.head()"
   ]
  },
  {
   "cell_type": "code",
   "execution_count": 120,
   "metadata": {},
   "outputs": [
    {
     "data": {
      "text/plain": [
       "BartlettResult(statistic=3.3228777945188592, pvalue=0.06832213694213818)"
      ]
     },
     "execution_count": 120,
     "metadata": {},
     "output_type": "execute_result"
    }
   ],
   "source": [
    "stats.bartlett(battery[battery['tech']==1]['Endurance'],battery[battery['tech']==2]['Endurance'])  #对样本总体方差是否相等进行检验"
   ]
  },
  {
   "cell_type": "code",
   "execution_count": 121,
   "metadata": {},
   "outputs": [
    {
     "data": {
      "text/plain": [
       "LeveneResult(statistic=1.543714821763612, pvalue=0.21833338426451232)"
      ]
     },
     "execution_count": 121,
     "metadata": {},
     "output_type": "execute_result"
    }
   ],
   "source": [
    "stats.levene(battery[battery['tech']==1]['Endurance'],battery[battery['tech']==2]['Endurance'])"
   ]
  },
  {
   "cell_type": "code",
   "execution_count": 122,
   "metadata": {},
   "outputs": [
    {
     "data": {
      "text/plain": [
       "Ttest_indResult(statistic=-2.9908265619140626, pvalue=0.0038722567339729993)"
      ]
     },
     "execution_count": 122,
     "metadata": {},
     "output_type": "execute_result"
    }
   ],
   "source": [
    "stats.ttest_ind(battery[battery['tech']==1]['Endurance'],battery[battery['tech']==2]['Endurance'],equal_var=True)"
   ]
  },
  {
   "cell_type": "code",
   "execution_count": 123,
   "metadata": {},
   "outputs": [
    {
     "data": {
      "text/plain": [
       "Ttest_indResult(statistic=-2.991473205108904, pvalue=0.0038650297570098266)"
      ]
     },
     "execution_count": 123,
     "metadata": {},
     "output_type": "execute_result"
    }
   ],
   "source": [
    "stats.ttest_ind_from_stats(3.7257,0.2994,35,3.9829,0.4112,35)"
   ]
  },
  {
   "cell_type": "code",
   "execution_count": 124,
   "metadata": {},
   "outputs": [
    {
     "data": {
      "text/plain": [
       "(-2.9908265619140626, 0.0038722567339729993, 68.0)"
      ]
     },
     "execution_count": 124,
     "metadata": {},
     "output_type": "execute_result"
    }
   ],
   "source": [
    "sm.stats.ttest_ind(battery[battery['tech']==1]['Endurance'],battery[battery['tech']==2]['Endurance'],alternative='two-sided',usevar='pooled',value=0)\n",
    "#usevar参数pooled，unequal 用于指定参数总体方差是否相等"
   ]
  },
  {
   "cell_type": "markdown",
   "metadata": {},
   "source": [
    "ttest_ind方法还可以对总体均值的差值进行假设检验"
   ]
  },
  {
   "cell_type": "code",
   "execution_count": 125,
   "metadata": {},
   "outputs": [
    {
     "data": {
      "text/plain": [
       "(-4.1539257804361975, 4.6666126944336435e-05, 68.0)"
      ]
     },
     "execution_count": 125,
     "metadata": {},
     "output_type": "execute_result"
    }
   ],
   "source": [
    "sm.stats.ttest_ind(battery[battery['tech']==1]['Endurance'],battery[battery['tech']==2]['Endurance'],alternative='smaller',usevar='pooled',value=0.1)"
   ]
  },
  {
   "cell_type": "markdown",
   "metadata": {},
   "source": [
    "#### 5.4.1.2 独立样本比例之差的假设检验"
   ]
  },
  {
   "cell_type": "markdown",
   "metadata": {},
   "source": [
    "独立样本比例只差的假设检验主要考察两个总体比例是否有差异或检验其差异的具体数值"
   ]
  },
  {
   "cell_type": "code",
   "execution_count": 126,
   "metadata": {},
   "outputs": [
    {
     "data": {
      "text/html": [
       "<div>\n",
       "<style scoped>\n",
       "    .dataframe tbody tr th:only-of-type {\n",
       "        vertical-align: middle;\n",
       "    }\n",
       "\n",
       "    .dataframe tbody tr th {\n",
       "        vertical-align: top;\n",
       "    }\n",
       "\n",
       "    .dataframe thead th {\n",
       "        text-align: right;\n",
       "    }\n",
       "</style>\n",
       "<table border=\"1\" class=\"dataframe\">\n",
       "  <thead>\n",
       "    <tr style=\"text-align: right;\">\n",
       "      <th></th>\n",
       "      <th>name</th>\n",
       "      <th>gender</th>\n",
       "    </tr>\n",
       "  </thead>\n",
       "  <tbody>\n",
       "    <tr>\n",
       "      <th>0</th>\n",
       "      <td>1</td>\n",
       "      <td>1</td>\n",
       "    </tr>\n",
       "    <tr>\n",
       "      <th>1</th>\n",
       "      <td>1</td>\n",
       "      <td>2</td>\n",
       "    </tr>\n",
       "    <tr>\n",
       "      <th>2</th>\n",
       "      <td>1</td>\n",
       "      <td>1</td>\n",
       "    </tr>\n",
       "    <tr>\n",
       "      <th>3</th>\n",
       "      <td>1</td>\n",
       "      <td>1</td>\n",
       "    </tr>\n",
       "    <tr>\n",
       "      <th>4</th>\n",
       "      <td>1</td>\n",
       "      <td>1</td>\n",
       "    </tr>\n",
       "  </tbody>\n",
       "</table>\n",
       "</div>"
      ],
      "text/plain": [
       "   name  gender\n",
       "0     1       1\n",
       "1     1       2\n",
       "2     1       1\n",
       "3     1       1\n",
       "4     1       1"
      ]
     },
     "execution_count": 126,
     "metadata": {},
     "output_type": "execute_result"
    }
   ],
   "source": [
    "path=\"D:/data/Python_data/ch5/magzine.csv\"\n",
    "magzine=pd.read_csv(path)\n",
    "magzine.head()"
   ]
  },
  {
   "cell_type": "code",
   "execution_count": 127,
   "metadata": {},
   "outputs": [],
   "source": [
    "magzine['name']=magzine['name'].astype('category')          #为name gender变量挂上值标签便于分析结果的阅读\n",
    "magzine['name'].cat.categories=['Fashion','Cosmetic'] \n",
    "magzine['name'].cat.set_categories=['Fashion','Cosmetic']\n",
    "\n",
    "magzine['gender']=magzine['gender'].astype('category')\n",
    "magzine['gender'].cat.categories=['Male','Female']\n",
    "magzine['gender'].cat.set_categories=['Male','Female']"
   ]
  },
  {
   "cell_type": "code",
   "execution_count": 128,
   "metadata": {},
   "outputs": [
    {
     "data": {
      "text/plain": [
       "Cosmetic    35\n",
       "Fashion     16\n",
       "Name: name, dtype: int64"
      ]
     },
     "execution_count": 128,
     "metadata": {},
     "output_type": "execute_result"
    }
   ],
   "source": [
    "female=magzine[magzine['gender']=='Female']['name'].value_counts()  #统计女性阅读人数\n",
    "female"
   ]
  },
  {
   "cell_type": "code",
   "execution_count": 129,
   "metadata": {},
   "outputs": [
    {
     "data": {
      "text/plain": [
       "Cosmetic    46\n",
       "Fashion     34\n",
       "Name: name, dtype: int64"
      ]
     },
     "execution_count": 129,
     "metadata": {},
     "output_type": "execute_result"
    }
   ],
   "source": [
    "magzines=magzine['name'].value_counts()  #两个杂志的总人数\n",
    "magzines"
   ]
  },
  {
   "cell_type": "code",
   "execution_count": 130,
   "metadata": {},
   "outputs": [
    {
     "data": {
      "text/plain": [
       "(-0.0893894201435671, 0.4643862156571413)"
      ]
     },
     "execution_count": 130,
     "metadata": {},
     "output_type": "execute_result"
    }
   ],
   "source": [
    "sm.stats.proportions_ztest(np.array(female),np.array(magzines),value=0.3,alternative='smaller',prop_var=False)  \n",
    "#第一个参数和第二个参数分别制定“成功”的数目和样本量 如果是array 则表示每一个样本的上述两个值，此时value表示样本量差值的假设值"
   ]
  },
  {
   "cell_type": "markdown",
   "metadata": {},
   "source": [
    "### 5.4.2 成对样本的假设检验"
   ]
  },
  {
   "cell_type": "code",
   "execution_count": 131,
   "metadata": {},
   "outputs": [
    {
     "data": {
      "text/html": [
       "<div>\n",
       "<style scoped>\n",
       "    .dataframe tbody tr th:only-of-type {\n",
       "        vertical-align: middle;\n",
       "    }\n",
       "\n",
       "    .dataframe tbody tr th {\n",
       "        vertical-align: top;\n",
       "    }\n",
       "\n",
       "    .dataframe thead th {\n",
       "        text-align: right;\n",
       "    }\n",
       "</style>\n",
       "<table border=\"1\" class=\"dataframe\">\n",
       "  <thead>\n",
       "    <tr style=\"text-align: right;\">\n",
       "      <th></th>\n",
       "      <th>Year2015</th>\n",
       "      <th>Year2016</th>\n",
       "    </tr>\n",
       "  </thead>\n",
       "  <tbody>\n",
       "    <tr>\n",
       "      <th>0</th>\n",
       "      <td>69.48</td>\n",
       "      <td>77.44</td>\n",
       "    </tr>\n",
       "    <tr>\n",
       "      <th>1</th>\n",
       "      <td>82.51</td>\n",
       "      <td>67.49</td>\n",
       "    </tr>\n",
       "    <tr>\n",
       "      <th>2</th>\n",
       "      <td>82.12</td>\n",
       "      <td>64.56</td>\n",
       "    </tr>\n",
       "    <tr>\n",
       "      <th>3</th>\n",
       "      <td>70.32</td>\n",
       "      <td>70.14</td>\n",
       "    </tr>\n",
       "    <tr>\n",
       "      <th>4</th>\n",
       "      <td>75.29</td>\n",
       "      <td>74.72</td>\n",
       "    </tr>\n",
       "  </tbody>\n",
       "</table>\n",
       "</div>"
      ],
      "text/plain": [
       "   Year2015  Year2016\n",
       "0     69.48     77.44\n",
       "1     82.51     67.49\n",
       "2     82.12     64.56\n",
       "3     70.32     70.14\n",
       "4     75.29     74.72"
      ]
     },
     "execution_count": 131,
     "metadata": {},
     "output_type": "execute_result"
    }
   ],
   "source": [
    "path=\"D:/data/Python_data/ch5/happiness.csv\"\n",
    "happiness=pd.read_csv(path)\n",
    "happiness.head()"
   ]
  },
  {
   "cell_type": "code",
   "execution_count": 132,
   "metadata": {},
   "outputs": [
    {
     "data": {
      "text/plain": [
       "Ttest_relResult(statistic=-0.45945807951277384, pvalue=0.6464067663555169)"
      ]
     },
     "execution_count": 132,
     "metadata": {},
     "output_type": "execute_result"
    }
   ],
   "source": [
    "stats.ttest_rel(happiness['Year2015'],happiness['Year2016'])  #ttest_rel 函数可以直接对此种类型的数据进行检验\n",
    "#Ttest_re1Result(statistic=-0.45945807951277384,pvalues=0.64640676635551686)"
   ]
  },
  {
   "cell_type": "code",
   "execution_count": 133,
   "metadata": {},
   "outputs": [
    {
     "data": {
      "text/plain": [
       "(0.6767966168222417,\n",
       " (-0.45945807951277423, 0.6767966168222417, 199.0),\n",
       " (-0.45945807951277423, 0.32320338317775826, 199.0))"
      ]
     },
     "execution_count": 133,
     "metadata": {},
     "output_type": "execute_result"
    }
   ],
   "source": [
    "sm.stats.ttost_paired(happiness['Year2015'],happiness['Year2016'],-0,0)  #该函数提供两个样本均值之差的上下界\n",
    "#ttost_paired 函数可以直接得到两侧和单侧检验的结果"
   ]
  },
  {
   "cell_type": "markdown",
   "metadata": {},
   "source": [
    "# 第六章 方差分析"
   ]
  },
  {
   "cell_type": "markdown",
   "metadata": {},
   "source": [
    "## 6.1 方差分析的基本原理"
   ]
  },
  {
   "cell_type": "markdown",
   "metadata": {},
   "source": [
    "方差分析主要是通过方差比较的方式来对不同总体参数进行假设检验"
   ]
  },
  {
   "cell_type": "code",
   "execution_count": 134,
   "metadata": {},
   "outputs": [
    {
     "data": {
      "text/html": [
       "<div>\n",
       "<style scoped>\n",
       "    .dataframe tbody tr th:only-of-type {\n",
       "        vertical-align: middle;\n",
       "    }\n",
       "\n",
       "    .dataframe tbody tr th {\n",
       "        vertical-align: top;\n",
       "    }\n",
       "\n",
       "    .dataframe thead th {\n",
       "        text-align: right;\n",
       "    }\n",
       "</style>\n",
       "<table border=\"1\" class=\"dataframe\">\n",
       "  <thead>\n",
       "    <tr style=\"text-align: right;\">\n",
       "      <th></th>\n",
       "      <th>market</th>\n",
       "      <th>pixel</th>\n",
       "      <th>sales</th>\n",
       "    </tr>\n",
       "  </thead>\n",
       "  <tbody>\n",
       "    <tr>\n",
       "      <th>0</th>\n",
       "      <td>1</td>\n",
       "      <td>1</td>\n",
       "      <td>70</td>\n",
       "    </tr>\n",
       "    <tr>\n",
       "      <th>1</th>\n",
       "      <td>1</td>\n",
       "      <td>2</td>\n",
       "      <td>101</td>\n",
       "    </tr>\n",
       "    <tr>\n",
       "      <th>2</th>\n",
       "      <td>1</td>\n",
       "      <td>3</td>\n",
       "      <td>114</td>\n",
       "    </tr>\n",
       "    <tr>\n",
       "      <th>3</th>\n",
       "      <td>1</td>\n",
       "      <td>4</td>\n",
       "      <td>120</td>\n",
       "    </tr>\n",
       "    <tr>\n",
       "      <th>4</th>\n",
       "      <td>1</td>\n",
       "      <td>5</td>\n",
       "      <td>132</td>\n",
       "    </tr>\n",
       "  </tbody>\n",
       "</table>\n",
       "</div>"
      ],
      "text/plain": [
       "   market  pixel  sales\n",
       "0       1      1     70\n",
       "1       1      2    101\n",
       "2       1      3    114\n",
       "3       1      4    120\n",
       "4       1      5    132"
      ]
     },
     "execution_count": 134,
     "metadata": {},
     "output_type": "execute_result"
    }
   ],
   "source": [
    "path=\"D:/data/Python_data/ch6/dc_sales.csv\"\n",
    "dc_sales=pd.read_csv(path)\n",
    "dc_sales.head()"
   ]
  },
  {
   "cell_type": "code",
   "execution_count": 135,
   "metadata": {},
   "outputs": [],
   "source": [
    "dc_sales['pixel']=dc_sales['pixel'].astype('category')  #将market和pixel变量转化为分类变量并为其值挂上标签\n",
    "dc_sales['pixel'].cat.categories=['500万像素及以下','500-600万像素','600-800万像素','800-1000万像素','1000万像素及以上']\n",
    "dc_sales['pixel'].cat.set_categories=['500万像素及以下','500-600万像素','600-800万像素','800-1000万像素','1000万像素及以上']"
   ]
  },
  {
   "cell_type": "code",
   "execution_count": 136,
   "metadata": {},
   "outputs": [
    {
     "data": {
      "text/html": [
       "<div>\n",
       "<style scoped>\n",
       "    .dataframe tbody tr th:only-of-type {\n",
       "        vertical-align: middle;\n",
       "    }\n",
       "\n",
       "    .dataframe tbody tr th {\n",
       "        vertical-align: top;\n",
       "    }\n",
       "\n",
       "    .dataframe thead tr th {\n",
       "        text-align: left;\n",
       "    }\n",
       "\n",
       "    .dataframe thead tr:last-of-type th {\n",
       "        text-align: right;\n",
       "    }\n",
       "</style>\n",
       "<table border=\"1\" class=\"dataframe\">\n",
       "  <thead>\n",
       "    <tr>\n",
       "      <th></th>\n",
       "      <th colspan=\"8\" halign=\"left\">sales</th>\n",
       "    </tr>\n",
       "    <tr>\n",
       "      <th>market</th>\n",
       "      <th>1</th>\n",
       "      <th>2</th>\n",
       "      <th>3</th>\n",
       "      <th>4</th>\n",
       "      <th>5</th>\n",
       "      <th>6</th>\n",
       "      <th>7</th>\n",
       "      <th>8</th>\n",
       "    </tr>\n",
       "    <tr>\n",
       "      <th>pixel</th>\n",
       "      <th></th>\n",
       "      <th></th>\n",
       "      <th></th>\n",
       "      <th></th>\n",
       "      <th></th>\n",
       "      <th></th>\n",
       "      <th></th>\n",
       "      <th></th>\n",
       "    </tr>\n",
       "  </thead>\n",
       "  <tbody>\n",
       "    <tr>\n",
       "      <th>500万像素及以下</th>\n",
       "      <td>70</td>\n",
       "      <td>67</td>\n",
       "      <td>82</td>\n",
       "      <td>87</td>\n",
       "      <td>80</td>\n",
       "      <td>80</td>\n",
       "      <td>87</td>\n",
       "      <td>96</td>\n",
       "    </tr>\n",
       "    <tr>\n",
       "      <th>500-600万像素</th>\n",
       "      <td>101</td>\n",
       "      <td>76</td>\n",
       "      <td>97</td>\n",
       "      <td>88</td>\n",
       "      <td>92</td>\n",
       "      <td>99</td>\n",
       "      <td>123</td>\n",
       "      <td>90</td>\n",
       "    </tr>\n",
       "    <tr>\n",
       "      <th>600-800万像素</th>\n",
       "      <td>114</td>\n",
       "      <td>96</td>\n",
       "      <td>128</td>\n",
       "      <td>103</td>\n",
       "      <td>107</td>\n",
       "      <td>91</td>\n",
       "      <td>99</td>\n",
       "      <td>119</td>\n",
       "    </tr>\n",
       "    <tr>\n",
       "      <th>800-1000万像素</th>\n",
       "      <td>120</td>\n",
       "      <td>98</td>\n",
       "      <td>132</td>\n",
       "      <td>128</td>\n",
       "      <td>132</td>\n",
       "      <td>132</td>\n",
       "      <td>131</td>\n",
       "      <td>119</td>\n",
       "    </tr>\n",
       "    <tr>\n",
       "      <th>1000万像素及以上</th>\n",
       "      <td>132</td>\n",
       "      <td>102</td>\n",
       "      <td>123</td>\n",
       "      <td>119</td>\n",
       "      <td>123</td>\n",
       "      <td>135</td>\n",
       "      <td>126</td>\n",
       "      <td>117</td>\n",
       "    </tr>\n",
       "  </tbody>\n",
       "</table>\n",
       "</div>"
      ],
      "text/plain": [
       "            sales                                   \n",
       "market          1    2    3    4    5    6    7    8\n",
       "pixel                                               \n",
       "500万像素及以下      70   67   82   87   80   80   87   96\n",
       "500-600万像素    101   76   97   88   92   99  123   90\n",
       "600-800万像素    114   96  128  103  107   91   99  119\n",
       "800-1000万像素   120   98  132  128  132  132  131  119\n",
       "1000万像素及以上    132  102  123  119  123  135  126  117"
      ]
     },
     "execution_count": 136,
     "metadata": {},
     "output_type": "execute_result"
    }
   ],
   "source": [
    "pd.pivot_table(dc_sales,index=['pixel'],columns=['market'],values=['sales'],aggfunc='sum')  #展示各变量之间的关系"
   ]
  },
  {
   "cell_type": "markdown",
   "metadata": {},
   "source": [
    "## 6.2 一元方差分析"
   ]
  },
  {
   "cell_type": "markdown",
   "metadata": {},
   "source": [
    "当所研究的因变量只有一个时的方差分析就是一元方差分析"
   ]
  },
  {
   "cell_type": "markdown",
   "metadata": {},
   "source": [
    "### 6.2.1 一元单因素方差分析"
   ]
  },
  {
   "cell_type": "markdown",
   "metadata": {},
   "source": [
    "一元单因素方差分析主要研究单独一个因素对因变量的影响，通过因素的不同水平对因变量进行分组，计算组间和组内方差，利用方差比较的方法对各分组所形成的总体进行均值比较，从而对个总体均值相等的原假设进行检验"
   ]
  },
  {
   "cell_type": "code",
   "execution_count": 137,
   "metadata": {},
   "outputs": [],
   "source": [
    "G=dc_sales['pixel'].unique()  #G用于统计变量 pixel像素属性\n",
    "args=[]  # 列表args用于存储不同像素属性下的销售数据\n",
    "for i in list(G):\n",
    "    args.append(dc_sales[dc_sales['pixel']==i]['sales'])"
   ]
  },
  {
   "cell_type": "code",
   "execution_count": 138,
   "metadata": {},
   "outputs": [
    {
     "data": {
      "image/png": "[encoded data removed]",
      "text/plain": [
       "<matplotlib.figure.Figure at 0x10a05cc0>"
      ]
     },
     "metadata": {},
     "output_type": "display_data"
    }
   ],
   "source": [
    "%matplotlib inline\n",
    "\n",
    "import matplotlib as mpl\n",
    "import matplotlib.pyplot as plt\n",
    "\n",
    "dc_sales_plot=plt.boxplot(args,vert=True,patch_artist=True)\n",
    "colors=['pink','lightblue','lightgreen','cyan','lightyellow']\n",
    "for patch,color in zip(dc_sales_plot['boxes'],colors):\n",
    "    patch.set_facecolor(color)\n",
    "fig=plt.gcf()\n",
    "fig.set_size_inches(8,5)\n",
    "combinebox=plt.subplot(111)\n",
    "combinebox.set_xticklabels(G)  #存在中文乱码\n",
    "plt.show()"
   ]
  },
  {
   "cell_type": "markdown",
   "metadata": {},
   "source": [
    "#### 6.2.1.1 方差同质性检验"
   ]
  },
  {
   "cell_type": "markdown",
   "metadata": {},
   "source": [
    "一元单因素方差分析应当满足方差齐性假设，因此需要对其进行方差同质性检验，该检验原假设是不同水平所代表总体的方差时相同的，对于一元方差分析常用 lvevne's检验 多元方差分析使用Bartlett's\n"
   ]
  },
  {
   "cell_type": "code",
   "execution_count": 139,
   "metadata": {},
   "outputs": [
    {
     "data": {
      "text/plain": [
       "LeveneResult(statistic=0.233384556281214, pvalue=0.9176929576341715)"
      ]
     },
     "execution_count": 139,
     "metadata": {},
     "output_type": "execute_result"
    }
   ],
   "source": [
    "stats.levene(*args)"
   ]
  },
  {
   "cell_type": "markdown",
   "metadata": {},
   "source": [
    "#### 6.2.1.2 方差来源分解及检验过程"
   ]
  },
  {
   "cell_type": "code",
   "execution_count": 140,
   "metadata": {},
   "outputs": [
    {
     "data": {
      "text/plain": [
       "F_onewayResult(statistic=19.57176228742291, pvalue=1.5491302153222814e-08)"
      ]
     },
     "execution_count": 140,
     "metadata": {},
     "output_type": "execute_result"
    }
   ],
   "source": [
    "stats.f_oneway(*args)"
   ]
  },
  {
   "cell_type": "markdown",
   "metadata": {},
   "source": [
    "F统计量为19.57 p值接近0 可认为像素数对数码相机销量非常显著"
   ]
  },
  {
   "cell_type": "code",
   "execution_count": 141,
   "metadata": {},
   "outputs": [
    {
     "name": "stdout",
     "output_type": "stream",
     "text": [
      "            df     sum_sq    mean_sq          F        PR(>F)\n",
      "C(pixel)   4.0  10472.850  2618.2125  19.571762  1.549130e-08\n",
      "Residual  35.0   4682.125   133.7750        NaN           NaN\n"
     ]
    },
    {
     "data": {
      "text/plain": [
       "'\\nols \\xe7\\xac\\xac\\xe4\\xb8\\x80\\xe4\\xb8\\xaa\\xe5\\x8f\\x82\\xe6\\x95\\xb0\\xe8\\xa1\\xa8\\xe7\\xa4\\xba\\xe6\\xa8\\xa1\\xe5\\x9e\\x8b\\xef\\xbc\\x8c\\xe7\\xac\\xac\\xe4\\xba\\x8c\\xe4\\xb8\\xaa\\xe5\\x8f\\x82\\xe6\\x95\\xb0\\xe7\\x94\\xa8\\xe4\\xba\\x8e\\xe6\\x8c\\x87\\xe5\\xae\\x9a\\xe6\\x89\\x80\\xe5\\x88\\x86\\xe6\\x9e\\x90\\xe7\\x9a\\x84\\xe6\\x95\\xb0\\xe6\\x8d\\xae \\xe5\\x85\\xb6fit\\xe6\\x96\\xb9\\xe6\\xb3\\x95\\xe8\\xa1\\xa8\\xe7\\xa4\\xba\\xe5\\xaf\\xb9\\xe6\\xa8\\xa1\\xe5\\x9e\\x8b\\xe8\\xbf\\x9b\\xe8\\xa1\\x8c\\xe6\\x8b\\x9f\\xe5\\x90\\x88\\xe6\\x88\\x96\\xe4\\xbc\\xb0\\xe8\\xae\\xa1\\n'"
      ]
     },
     "execution_count": 141,
     "metadata": {},
     "output_type": "execute_result"
    }
   ],
   "source": [
    "from statsmodels.formula.api import ols\n",
    "dc_sales_anova=sm.stats.anova_lm(ols('sales~C(pixel)',dc_sales).fit())\n",
    "print dc_sales_anova\n",
    "'''\n",
    "ols 第一个参数表示模型，第二个参数用于指定所分析的数据 其fit方法表示对模型进行拟合或估计\n",
    "'''"
   ]
  },
  {
   "cell_type": "markdown",
   "metadata": {},
   "source": [
    "#### 6.2.1.3 多重比较检验"
   ]
  },
  {
   "cell_type": "markdown",
   "metadata": {},
   "source": [
    "进一步研究是因素的哪一个水平对观察变量产生了显著影响，即具体那种像素数目对销售量有显著影响"
   ]
  },
  {
   "cell_type": "code",
   "execution_count": 142,
   "metadata": {},
   "outputs": [
    {
     "data": {
      "text/html": [
       "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\n"
      ],
      "text/plain": [
       "<class 'statsmodels.iolib.table.SimpleTable'>"
      ]
     },
     "execution_count": 142,
     "metadata": {},
     "output_type": "execute_result"
    }
   ],
   "source": [
    "from statsmodels.stats.multicomp import pairwise_tukeyhsd\n",
    "dc_sales_anova_post=pairwise_tukeyhsd(dc_sales['sales'],dc_sales['pixel'],alpha=0.05)\n",
    "dc_sales_anova_post.summary()"
   ]
  },
  {
   "cell_type": "markdown",
   "metadata": {},
   "source": [
    "#### 6.2.1.4 方差分析模型的参数估计和预测"
   ]
  },
  {
   "cell_type": "code",
   "execution_count": 143,
   "metadata": {},
   "outputs": [
    {
     "name": "stdout",
     "output_type": "stream",
     "text": [
      "                          Results: Ordinary least squares\n",
      "==================================================================================\n",
      "Model:                     OLS                   Adj. R-squared:          0.656   \n",
      "Dependent Variable:        sales                 AIC:                     314.0202\n",
      "Date:                      2018-06-03 20:08      BIC:                     322.4646\n",
      "No. Observations:          40                    Log-Likelihood:          -152.01 \n",
      "Df Model:                  4                     F-statistic:             19.57   \n",
      "Df Residuals:              35                    Prob (F-statistic):      1.55e-08\n",
      "R-squared:                 0.691                 Scale:                   133.78  \n",
      "----------------------------------------------------------------------------------\n",
      "                                    Coef.  Std.Err.    t    P>|t|   [0.025  0.975]\n",
      "----------------------------------------------------------------------------------\n",
      "Intercept                          81.1250   4.0892 19.8387 0.0000 72.8234 89.4266\n",
      "C(pixel)[T.500-600万像素]       14.6250   5.7831  2.5289 0.0161  2.8848 26.3652\n",
      "C(pixel)[T.600-800万像素]       26.0000   5.7831  4.4959 0.0001 14.2598 37.7402\n",
      "C(pixel)[T.800-1000万像素]      42.8750   5.7831  7.4139 0.0000 31.1348 54.6152\n",
      "C(pixel)[T.1000万像素及以上] 41.0000   5.7831  7.0897 0.0000 29.2598 52.7402\n",
      "----------------------------------------------------------------------------------\n",
      "Omnibus:                    0.757              Durbin-Watson:                1.535\n",
      "Prob(Omnibus):              0.685              Jarque-Bera (JB):             0.172\n",
      "Skew:                       -0.090             Prob(JB):                     0.917\n",
      "Kurtosis:                   3.266              Condition No.:                6    \n",
      "==================================================================================\n",
      "\n"
     ]
    }
   ],
   "source": [
    "formula='sales~C(pixel)'\n",
    "dc_sales_est=ols(formula,dc_sales).fit()  #dc_sales_est 是一个模型对象\n",
    "print dc_sales_est.summary2()             # 对象模型可以使用summary summary2等属性和方法查看估计和检验结果"
   ]
  },
  {
   "cell_type": "code",
   "execution_count": 144,
   "metadata": {},
   "outputs": [
    {
     "name": "stdout",
     "output_type": "stream",
     "text": [
      "                          Results: Ordinary least squares\n",
      "===================================================================================\n",
      "Model:                    OLS                    Adj. R-squared:           0.656   \n",
      "Dependent Variable:       sales                  AIC:                      314.0202\n",
      "Date:                     2018-06-03 20:08       BIC:                      322.4646\n",
      "No. Observations:         40                     Log-Likelihood:           -152.01 \n",
      "Df Model:                 4                      F-statistic:              19.57   \n",
      "Df Residuals:             35                     Prob (F-statistic):       1.55e-08\n",
      "R-squared:                0.691                  Scale:                    133.78  \n",
      "-----------------------------------------------------------------------------------\n",
      "                                  Coef.   Std.Err.    t    P>|t|   [0.025   0.975] \n",
      "-----------------------------------------------------------------------------------\n",
      "C(pixel)[500万像素及以下]   81.1250   4.0892 19.8387 0.0000  72.8234  89.4266\n",
      "C(pixel)[500-600万像素]        95.7500   4.0892 23.4151 0.0000  87.4484 104.0516\n",
      "C(pixel)[600-800万像素]       107.1250   4.0892 26.1968 0.0000  98.8234 115.4266\n",
      "C(pixel)[800-1000万像素]      124.0000   4.0892 30.3235 0.0000 115.6984 132.3016\n",
      "C(pixel)[1000万像素及以上] 122.1250   4.0892 29.8650 0.0000 113.8234 130.4266\n",
      "-----------------------------------------------------------------------------------\n",
      "Omnibus:                     0.757              Durbin-Watson:                1.535\n",
      "Prob(Omnibus):               0.685              Jarque-Bera (JB):             0.172\n",
      "Skew:                        -0.090             Prob(JB):                     0.917\n",
      "Kurtosis:                    3.266              Condition No.:                1    \n",
      "===================================================================================\n",
      "\n"
     ]
    }
   ],
   "source": [
    "formula='sales~C(pixel)-1'\n",
    "dc_sales_est1=ols(formula,dc_sales).fit()\n",
    "print dc_sales_est1.summary2()"
   ]
  },
  {
   "cell_type": "markdown",
   "metadata": {},
   "source": [
    "#### 6.2.1.5 方差分析模型的预测"
   ]
  },
  {
   "cell_type": "markdown",
   "metadata": {},
   "source": [
    "对statsmodels 模型对象使用fittedvalues 属性就可以直接依据模型参数估计结果对因变量进行预测"
   ]
  },
  {
   "cell_type": "code",
   "execution_count": 145,
   "metadata": {},
   "outputs": [
    {
     "data": {
      "text/plain": [
       "0      81.125\n",
       "1      95.750\n",
       "2     107.125\n",
       "3     124.000\n",
       "4     122.125\n",
       "5      81.125\n",
       "6      95.750\n",
       "7     107.125\n",
       "8     124.000\n",
       "9     122.125\n",
       "10     81.125\n",
       "11     95.750\n",
       "12    107.125\n",
       "13    124.000\n",
       "14    122.125\n",
       "15     81.125\n",
       "16     95.750\n",
       "17    107.125\n",
       "18    124.000\n",
       "19    122.125\n",
       "20     81.125\n",
       "21     95.750\n",
       "22    107.125\n",
       "23    124.000\n",
       "24    122.125\n",
       "25     81.125\n",
       "26     95.750\n",
       "27    107.125\n",
       "28    124.000\n",
       "29    122.125\n",
       "30     81.125\n",
       "31     95.750\n",
       "32    107.125\n",
       "33    124.000\n",
       "34    122.125\n",
       "35     81.125\n",
       "36     95.750\n",
       "37    107.125\n",
       "38    124.000\n",
       "39    122.125\n",
       "dtype: float64"
      ]
     },
     "execution_count": 145,
     "metadata": {},
     "output_type": "execute_result"
    }
   ],
   "source": [
    "dc_sales_est.fittedvalues"
   ]
  },
  {
   "cell_type": "code",
   "execution_count": 146,
   "metadata": {},
   "outputs": [
    {
     "name": "stdout",
     "output_type": "stream",
     "text": [
      "==================================================================================================\n",
      "       obs      endog     fitted     Cook's   student.   hat diag    dffits   ext.stud.     dffits\n",
      "                           value          d   residual              internal   residual           \n",
      "--------------------------------------------------------------------------------------------------\n",
      "         0     70.000     81.125      0.030     -1.028      0.125     -0.389     -1.029     -0.389\n",
      "         1    101.000     95.750      0.007      0.485      0.125      0.183      0.480      0.181\n",
      "         2    114.000    107.125      0.012      0.635      0.125      0.240      0.630      0.238\n",
      "         3    120.000    124.000      0.004     -0.370      0.125     -0.140     -0.365     -0.138\n",
      "         4    132.000    122.125      0.024      0.913      0.125      0.345      0.911      0.344\n",
      "         5     67.000     81.125      0.049     -1.306      0.125     -0.493     -1.319     -0.499\n",
      "         6     76.000     95.750      0.095     -1.825      0.125     -0.690     -1.892     -0.715\n",
      "         7     96.000    107.125      0.030     -1.028      0.125     -0.389     -1.029     -0.389\n",
      "         8     98.000    124.000      0.165     -2.403      0.125     -0.908     -2.592     -0.980\n",
      "         9    102.000    122.125      0.099     -1.860      0.125     -0.703     -1.931     -0.730\n",
      "        10     82.000     81.125      0.000      0.081      0.125      0.031      0.080      0.030\n",
      "        11     97.000     95.750      0.000      0.116      0.125      0.044      0.114      0.043\n",
      "        12    128.000    107.125      0.106      1.929      0.125      0.729      2.012      0.760\n",
      "        13    132.000    124.000      0.016      0.739      0.125      0.279      0.735      0.278\n",
      "        14    123.000    122.125      0.000      0.081      0.125      0.031      0.080      0.030\n",
      "        15     87.000     81.125      0.008      0.543      0.125      0.205      0.537      0.203\n",
      "        16     88.000     95.750      0.015     -0.716      0.125     -0.271     -0.711     -0.269\n",
      "        17    103.000    107.125      0.004     -0.381      0.125     -0.144     -0.377     -0.142\n",
      "        18    128.000    124.000      0.004      0.370      0.125      0.140      0.365      0.138\n",
      "        19    119.000    122.125      0.002     -0.289      0.125     -0.109     -0.285     -0.108\n",
      "        20     80.000     81.125      0.000     -0.104      0.125     -0.039     -0.103     -0.039\n",
      "        21     92.000     95.750      0.003     -0.347      0.125     -0.131     -0.342     -0.129\n",
      "        22    107.000    107.125      0.000     -0.012      0.125     -0.004     -0.011     -0.004\n",
      "        23    132.000    124.000      0.016      0.739      0.125      0.279      0.735      0.278\n",
      "        24    123.000    122.125      0.000      0.081      0.125      0.031      0.080      0.030\n",
      "        25     80.000     81.125      0.000     -0.104      0.125     -0.039     -0.103     -0.039\n",
      "        26     99.000     95.750      0.003      0.300      0.125      0.114      0.296      0.112\n",
      "        27     91.000    107.125      0.063     -1.490      0.125     -0.563     -1.518     -0.574\n",
      "        28    132.000    124.000      0.016      0.739      0.125      0.279      0.735      0.278\n",
      "        29    135.000    122.125      0.040      1.190      0.125      0.450      1.197      0.453\n",
      "        30     87.000     81.125      0.008      0.543      0.125      0.205      0.537      0.203\n",
      "        31    123.000     95.750      0.181      2.519      0.125      0.952      2.744      1.037\n",
      "        32     99.000    107.125      0.016     -0.751      0.125     -0.284     -0.746     -0.282\n",
      "        33    131.000    124.000      0.012      0.647      0.125      0.245      0.642      0.242\n",
      "        34    126.000    122.125      0.004      0.358      0.125      0.135      0.354      0.134\n",
      "        35     96.000     81.125      0.054      1.375      0.125      0.520      1.393      0.527\n",
      "        36     90.000     95.750      0.008     -0.531      0.125     -0.201     -0.526     -0.199\n",
      "        37    119.000    107.125      0.034      1.098      0.125      0.415      1.101      0.416\n",
      "        38    119.000    124.000      0.006     -0.462      0.125     -0.175     -0.457     -0.173\n",
      "        39    117.000    122.125      0.006     -0.474      0.125     -0.179     -0.468     -0.177\n",
      "==================================================================================================\n"
     ]
    }
   ],
   "source": [
    "dc_sales_influence=dc_sales_est.get_influence()  #也可以使用模型对象的get_influence 方法得到更详细的预测信息\n",
    "print dc_sales_influence.summary_table()"
   ]
  },
  {
   "cell_type": "markdown",
   "metadata": {},
   "source": [
    "### 6.2.2 一元多因素方差分析"
   ]
  },
  {
   "cell_type": "markdown",
   "metadata": {},
   "source": [
    "当有两个或者两个以上的因素对因变量产生影响时，可以用多因素方差分析的方法来进行分析"
   ]
  },
  {
   "cell_type": "markdown",
   "metadata": {},
   "source": [
    "#### 6.2.2.1 只考虑主效应的多因素方差分析"
   ]
  },
  {
   "cell_type": "markdown",
   "metadata": {},
   "source": [
    "只考虑主效应的多因素方差分析模型中，只有因素自身对因变量的独立影像，不含任何交互作用对因变量的影响"
   ]
  },
  {
   "cell_type": "code",
   "execution_count": 147,
   "metadata": {},
   "outputs": [
    {
     "data": {
      "text/html": [
       "<div>\n",
       "<style scoped>\n",
       "    .dataframe tbody tr th:only-of-type {\n",
       "        vertical-align: middle;\n",
       "    }\n",
       "\n",
       "    .dataframe tbody tr th {\n",
       "        vertical-align: top;\n",
       "    }\n",
       "\n",
       "    .dataframe thead th {\n",
       "        text-align: right;\n",
       "    }\n",
       "</style>\n",
       "<table border=\"1\" class=\"dataframe\">\n",
       "  <thead>\n",
       "    <tr style=\"text-align: right;\">\n",
       "      <th></th>\n",
       "      <th>education</th>\n",
       "      <th>unit</th>\n",
       "      <th>income</th>\n",
       "      <th>type</th>\n",
       "      <th>space</th>\n",
       "    </tr>\n",
       "  </thead>\n",
       "  <tbody>\n",
       "    <tr>\n",
       "      <th>0</th>\n",
       "      <td>1</td>\n",
       "      <td>3</td>\n",
       "      <td>2</td>\n",
       "      <td>2</td>\n",
       "      <td>75.0</td>\n",
       "    </tr>\n",
       "    <tr>\n",
       "      <th>1</th>\n",
       "      <td>1</td>\n",
       "      <td>5</td>\n",
       "      <td>1</td>\n",
       "      <td>6</td>\n",
       "      <td>55.0</td>\n",
       "    </tr>\n",
       "    <tr>\n",
       "      <th>2</th>\n",
       "      <td>3</td>\n",
       "      <td>1</td>\n",
       "      <td>2</td>\n",
       "      <td>8</td>\n",
       "      <td>56.0</td>\n",
       "    </tr>\n",
       "    <tr>\n",
       "      <th>3</th>\n",
       "      <td>2</td>\n",
       "      <td>6</td>\n",
       "      <td>2</td>\n",
       "      <td>4</td>\n",
       "      <td>51.0</td>\n",
       "    </tr>\n",
       "    <tr>\n",
       "      <th>4</th>\n",
       "      <td>2</td>\n",
       "      <td>4</td>\n",
       "      <td>1</td>\n",
       "      <td>5</td>\n",
       "      <td>60.0</td>\n",
       "    </tr>\n",
       "  </tbody>\n",
       "</table>\n",
       "</div>"
      ],
      "text/plain": [
       "   education  unit  income  type  space\n",
       "0          1     3       2     2   75.0\n",
       "1          1     5       1     6   55.0\n",
       "2          3     1       2     8   56.0\n",
       "3          2     6       2     4   51.0\n",
       "4          2     4       1     5   60.0"
      ]
     },
     "execution_count": 147,
     "metadata": {},
     "output_type": "execute_result"
    }
   ],
   "source": [
    "path=\"D:/data/Python_data/ch6/house.csv\"\n",
    "house=pd.read_csv(path)\n",
    "house.head()"
   ]
  },
  {
   "cell_type": "code",
   "execution_count": 148,
   "metadata": {},
   "outputs": [],
   "source": [
    "house['education']=house['education'].astype('category')\n",
    "house['education'].cat.categories=['初中及以下','高中（中专）','大学','研究生及以上']\n",
    "house['education'].cat.set_categories=['初中及以下','高中（中专）','大学','研究生及以上']\n",
    "\n",
    "house['unit']=house['unit'].astype('category')\n",
    "house['unit'].cat.categories=['国营企业','行政事业单位','大专院校科研单位','私营企业','失业','其它']\n",
    "house['unit'].cat.set_categories=['国营企业','行政事业单位','大专院校科研单位','私营企业','失业','其它']\n",
    "\n",
    "house['income']=house['income'].astype('category')\n",
    "house['income'].cat.categories=['10000以下','10000-25000','25000-50000','50000-75000','75000以上']\n",
    "house['income'].cat.set_categories=['10000以下','10000-25000','25000-50000','50000-75000','75000以上']\n",
    "\n",
    "house['type']=house['type'].astype('category')\n",
    "house['type'].cat.categories=['一室一厅','二室一厅','二室二厅','三室一厅','三室二厅','三室三厅','四室二厅一卫','四室二厅二卫','四室三厅一卫','四室三厅二卫','更大户型']\n",
    "house['type'].cat.set_categories=['一室一厅','二室一厅','二室二厅','三室一厅','三室二厅','三室三厅','四室二厅一卫','四室二厅二卫','四室三厅一卫','四室三厅二卫','更大户型']"
   ]
  },
  {
   "cell_type": "code",
   "execution_count": 149,
   "metadata": {},
   "outputs": [
    {
     "name": "stdout",
     "output_type": "stream",
     "text": [
      "                 df         sum_sq      mean_sq          F        PR(>F)\n",
      "C(education)    3.0    6619.039028  2206.346343   6.904565  1.490355e-04\n",
      "C(unit)         5.0    1171.976085   234.395217   0.733519  5.985995e-01\n",
      "C(income)       4.0   15387.902934  3846.975734  12.038770  2.653195e-09\n",
      "C(type)        10.0    9604.428837   960.442884   3.005621  1.093296e-03\n",
      "Residual      449.0  143477.460152   319.548909        NaN           NaN\n"
     ]
    }
   ],
   "source": [
    "formula='space~C(education)+C(unit)+C(income)+C(type)'# 考虑各因素对因变量的影响只有主效应没有交互效应的情况下可使用anova_lm 配合ols使用\n",
    "house_anova=sm.stats.anova_lm(ols(formula,data=house).fit(),type=3)\n",
    "print house_anova"
   ]
  },
  {
   "cell_type": "code",
   "execution_count": 150,
   "metadata": {},
   "outputs": [
    {
     "name": "stdout",
     "output_type": "stream",
     "text": [
      "              df         sum_sq      mean_sq          F        PR(>F)\n",
      "C(income)    4.0   19655.107559  4913.776890  15.375296  8.304020e-12\n",
      "C(type)     10.0   10553.485226  1055.348523   3.302204  3.765261e-04\n",
      "Residual   457.0  146052.214252   319.589090        NaN           NaN\n"
     ]
    }
   ],
   "source": [
    "formula='space~C(income)+C(type)'\n",
    "house_anova=sm.stats.anova_lm(ols(formula,data=house).fit(),type=3)\n",
    "print house_anova"
   ]
  },
  {
   "cell_type": "code",
   "execution_count": 151,
   "metadata": {},
   "outputs": [],
   "source": [
    "#house_anova_post=pairwise_tukeyhsd(house['space'],house['income'],alpha=0.05)\n",
    "#house_anova_post.summary()  #"
   ]
  },
  {
   "cell_type": "code",
   "execution_count": 152,
   "metadata": {},
   "outputs": [
    {
     "name": "stdout",
     "output_type": "stream",
     "text": [
      "                         Results: Ordinary least squares\n",
      "================================================================================\n",
      "Model:                    OLS                  Adj. R-squared:         0.146    \n",
      "Dependent Variable:       space                AIC:                    4076.2755\n",
      "Date:                     2018-06-03 20:08     BIC:                    4138.6302\n",
      "No. Observations:         472                  Log-Likelihood:         -2023.1  \n",
      "Df Model:                 14                   F-statistic:            6.752    \n",
      "Df Residuals:             457                  Prob (F-statistic):     1.38e-12 \n",
      "R-squared:                0.171                Scale:                  319.59   \n",
      "--------------------------------------------------------------------------------\n",
      "                               Coef.   Std.Err.    t    P>|t|   [0.025   0.975] \n",
      "--------------------------------------------------------------------------------\n",
      "Intercept                      86.1464   9.0005  9.5713 0.0000  68.4589 103.8339\n",
      "C(income)[T.10000-25000]        4.2072   2.1086  1.9953 0.0466   0.0635   8.3509\n",
      "C(income)[T.25000-50000]        9.9601   2.5641  3.8844 0.0001   4.9212  14.9990\n",
      "C(income)[T.50000-75000]       16.1291   5.1202  3.1501 0.0017   6.0670  26.1911\n",
      "C(income)[T.75000以上]       29.3518   5.9372  4.9437 0.0000  17.6842  41.0193\n",
      "C(type)[T.二室一厅]       -23.0808   9.1696 -2.5171 0.0122 -41.1005  -5.0610\n",
      "C(type)[T.二室二厅]       -22.5007   9.2538 -2.4315 0.0154 -40.6859  -4.3155\n",
      "C(type)[T.三室一厅]       -23.0634   9.1100 -2.5317 0.0117 -40.9660  -5.1608\n",
      "C(type)[T.三室二厅]       -19.4782   9.0933 -2.1420 0.0327 -37.3481  -1.6083\n",
      "C(type)[T.三室三厅]       -28.6264  15.5200 -1.8445 0.0658 -59.1259   1.8730\n",
      "C(type)[T.四室二厅一卫]  -7.2395  10.1864 -0.7107 0.4776 -27.2575  12.7784\n",
      "C(type)[T.四室二厅二卫] -12.6134   9.5902 -1.3152 0.1891 -31.4598   6.2329\n",
      "C(type)[T.四室三厅一卫] -38.3536  20.0149 -1.9162 0.0560 -77.6864   0.9791\n",
      "C(type)[T.四室三厅二卫] -26.4948  12.0484 -2.1990 0.0284 -50.1719  -2.8176\n",
      "C(type)[T.更大户型]        -4.5995  10.5095 -0.4377 0.6618 -25.2524  16.0533\n",
      "--------------------------------------------------------------------------------\n",
      "Omnibus:                  88.385            Durbin-Watson:               1.372  \n",
      "Prob(Omnibus):            0.000             Jarque-Bera (JB):            157.668\n",
      "Skew:                     1.083             Prob(JB):                    0.000  \n",
      "Kurtosis:                 4.825             Condition No.:               47     \n",
      "================================================================================\n",
      "\n"
     ]
    }
   ],
   "source": [
    "house_anova_est=ols(formula,data=house).fit()\n",
    "print house_anova_est.summary2()"
   ]
  },
  {
   "cell_type": "markdown",
   "metadata": {},
   "source": [
    "#### 6.2.2.2 存在交互效应的多因素方差分析"
   ]
  },
  {
   "cell_type": "code",
   "execution_count": 153,
   "metadata": {},
   "outputs": [
    {
     "name": "stdout",
     "output_type": "stream",
     "text": [
      "                      df         sum_sq      mean_sq          F        PR(>F)\n",
      "C(income)            4.0   19655.107559  4913.776890  16.629186  1.077135e-12\n",
      "C(type)             10.0   10553.485226  1055.348523   3.571507  1.438294e-04\n",
      "C(income):C(type)   40.0   19729.421811   493.235545   1.669206  7.857478e-03\n",
      "Residual           436.0  128834.132740   295.491130        NaN           NaN\n"
     ]
    }
   ],
   "source": [
    "formula='space~C(income)*C(type)'  #方差分析\n",
    "house_anova_inter=sm.stats.anova_lm(ols(formula,data=house).fit())\n",
    "print house_anova_inter"
   ]
  },
  {
   "cell_type": "code",
   "execution_count": 154,
   "metadata": {},
   "outputs": [
    {
     "data": {
      "text/plain": [
       "0.26907101524187094"
      ]
     },
     "execution_count": 154,
     "metadata": {},
     "output_type": "execute_result"
    }
   ],
   "source": [
    "ols(formula,data=house).fit().rsquared"
   ]
  },
  {
   "cell_type": "code",
   "execution_count": 155,
   "metadata": {},
   "outputs": [
    {
     "data": {
      "text/plain": [
       "[Text(0,0,u'10000-25000'),\n",
       " Text(0,0,u'10000\\u4ee5\\u4e0b'),\n",
       " Text(0,0,u'25000-50000'),\n",
       " Text(0,0,u'50000-75000'),\n",
       " Text(0,0,u'75000\\u4ee5\\u4e0a')]"
      ]
     },
     "execution_count": 155,
     "metadata": {},
     "output_type": "execute_result"
    },
    {
     "data": {
      "image/png": "[encoded data removed]",
      "text/plain": [
       "<matplotlib.figure.Figure at 0x10f51588>"
      ]
     },
     "metadata": {},
     "output_type": "display_data"
    }
   ],
   "source": [
    "from statsmodels.graphics.api import interaction_plot\n",
    "plt.figure(figsize=(12,6))\n",
    "fig=interaction_plot(np.array(house['income']),np.array(house['type']),house['space'],ax=plt.gca())\n",
    "fig_adj=plt.subplot(111)\n",
    "plt.legend(prop={'family':'simhei','size':10.5},loc='upper left',frameon=False)\n",
    "fig_adj.set_xticklabels(house['income'].unique())"
   ]
  },
  {
   "cell_type": "markdown",
   "metadata": {},
   "source": [
    "## 6.3 协方差分析"
   ]
  },
  {
   "cell_type": "code",
   "execution_count": 156,
   "metadata": {},
   "outputs": [
    {
     "data": {
      "text/html": [
       "<div>\n",
       "<style scoped>\n",
       "    .dataframe tbody tr th:only-of-type {\n",
       "        vertical-align: middle;\n",
       "    }\n",
       "\n",
       "    .dataframe tbody tr th {\n",
       "        vertical-align: top;\n",
       "    }\n",
       "\n",
       "    .dataframe thead th {\n",
       "        text-align: right;\n",
       "    }\n",
       "</style>\n",
       "<table border=\"1\" class=\"dataframe\">\n",
       "  <thead>\n",
       "    <tr style=\"text-align: right;\">\n",
       "      <th></th>\n",
       "      <th>market</th>\n",
       "      <th>warranty</th>\n",
       "      <th>sales</th>\n",
       "      <th>points</th>\n",
       "    </tr>\n",
       "  </thead>\n",
       "  <tbody>\n",
       "    <tr>\n",
       "      <th>0</th>\n",
       "      <td>1</td>\n",
       "      <td>1</td>\n",
       "      <td>26.0</td>\n",
       "      <td>1.8</td>\n",
       "    </tr>\n",
       "    <tr>\n",
       "      <th>1</th>\n",
       "      <td>1</td>\n",
       "      <td>1</td>\n",
       "      <td>22.0</td>\n",
       "      <td>1.1</td>\n",
       "    </tr>\n",
       "    <tr>\n",
       "      <th>2</th>\n",
       "      <td>1</td>\n",
       "      <td>1</td>\n",
       "      <td>21.8</td>\n",
       "      <td>0.9</td>\n",
       "    </tr>\n",
       "    <tr>\n",
       "      <th>3</th>\n",
       "      <td>1</td>\n",
       "      <td>1</td>\n",
       "      <td>33.1</td>\n",
       "      <td>2.2</td>\n",
       "    </tr>\n",
       "    <tr>\n",
       "      <th>4</th>\n",
       "      <td>2</td>\n",
       "      <td>1</td>\n",
       "      <td>22.0</td>\n",
       "      <td>2.0</td>\n",
       "    </tr>\n",
       "  </tbody>\n",
       "</table>\n",
       "</div>"
      ],
      "text/plain": [
       "   market  warranty  sales  points\n",
       "0       1         1   26.0     1.8\n",
       "1       1         1   22.0     1.1\n",
       "2       1         1   21.8     0.9\n",
       "3       1         1   33.1     2.2\n",
       "4       2         1   22.0     2.0"
      ]
     },
     "execution_count": 156,
     "metadata": {},
     "output_type": "execute_result"
    }
   ],
   "source": [
    "path=\"D:/data/Python_data/ch6/sale_points.csv\"\n",
    "sale_points=pd.read_csv(path)\n",
    "sale_points.head()"
   ]
  },
  {
   "cell_type": "code",
   "execution_count": 157,
   "metadata": {},
   "outputs": [],
   "source": [
    "sale_points['market']=sale_points['market'].astype('category')\n",
    "sale_points['market'].cat.categories=['market 1','market 2','market 3']\n",
    "sale_points['market'].cat.set_categories=['market 1','market 2','market 3']\n",
    "\n",
    "sale_points['warranty']=sale_points['warranty'].astype('category')\n",
    "sale_points['warranty'].cat.categories=['1 year','3 years']\n",
    "sale_points['warranty'].cat.set_categories=['1 year','3 years']"
   ]
  },
  {
   "cell_type": "code",
   "execution_count": 158,
   "metadata": {},
   "outputs": [
    {
     "name": "stdout",
     "output_type": "stream",
     "text": [
      "                         df      sum_sq     mean_sq          F        PR(>F)\n",
      "C(market)               2.0  593.160833  296.580417  56.984051  2.903413e-08\n",
      "C(warranty)             1.0  512.450417  512.450417  98.460650  1.734504e-08\n",
      "C(market):C(warranty)   2.0  167.155833   83.577917  16.058404  1.211601e-04\n",
      "points                  1.0  196.523934  196.523934  37.759505  1.079351e-05\n",
      "Residual               17.0   88.478566    5.204622        NaN           NaN\n"
     ]
    }
   ],
   "source": [
    "formula='sales~points+C(market)*C(warranty)'\n",
    "sale_points_anovacov=sm.stats.anova_lm(ols(formula,data=sale_points).fit())\n",
    "print sale_points_anovacov"
   ]
  },
  {
   "cell_type": "code",
   "execution_count": 159,
   "metadata": {},
   "outputs": [
    {
     "name": "stdout",
     "output_type": "stream",
     "text": [
      "                            OLS Regression Results                            \n",
      "==============================================================================\n",
      "Dep. Variable:                  sales   R-squared:                       0.943\n",
      "Model:                            OLS   Adj. R-squared:                  0.923\n",
      "Method:                 Least Squares   F-statistic:                     47.05\n",
      "Date:                Sun, 03 Jun 2018   Prob (F-statistic):           1.16e-09\n",
      "Time:                        20:08:24   Log-Likelihood:                -49.711\n",
      "No. Observations:                  24   AIC:                             113.4\n",
      "Df Residuals:                      17   BIC:                             121.7\n",
      "Df Model:                           6                                         \n",
      "Covariance Type:            nonrobust                                         \n",
      "================================================================================================================\n",
      "                                                   coef    std err          t      P>|t|      [0.025      0.975]\n",
      "----------------------------------------------------------------------------------------------------------------\n",
      "Intercept                                       12.8441      2.386      5.382      0.000       7.809      17.879\n",
      "C(market)[T.market 2]                           -8.0349      1.707     -4.706      0.000     -11.637      -4.433\n",
      "C(market)[T.market 3]                            1.3456      1.615      0.833      0.416      -2.061       4.752\n",
      "C(warranty)[T.3 years]                           3.0485      1.673      1.822      0.086      -0.481       6.578\n",
      "C(market)[T.market 2]:C(warranty)[T.3 years]     5.4217      2.478      2.188      0.043       0.193      10.650\n",
      "C(market)[T.market 3]:C(warranty)[T.3 years]    14.0594      2.338      6.014      0.000       9.127      18.991\n",
      "points                                           8.5873      1.397      6.145      0.000       5.639      11.536\n",
      "==============================================================================\n",
      "Omnibus:                        0.619   Durbin-Watson:                   3.022\n",
      "Prob(Omnibus):                  0.734   Jarque-Bera (JB):                0.690\n",
      "Skew:                          -0.305   Prob(JB):                        0.708\n",
      "Kurtosis:                       2.435   Cond. No.                         16.5\n",
      "==============================================================================\n",
      "\n",
      "Warnings:\n",
      "[1] Standard Errors assume that the covariance matrix of the errors is correctly specified.\n"
     ]
    }
   ],
   "source": [
    "sale_points_anova_cov_est=ols(formula,data=sale_points).fit()  #对协方差模型进行参数估计及预测\n",
    "print sale_points_anova_cov_est.summary()"
   ]
  },
  {
   "cell_type": "markdown",
   "metadata": {},
   "source": [
    "# 第七章 非参数检验"
   ]
  },
  {
   "cell_type": "markdown",
   "metadata": {},
   "source": [
    "## 7.1 非参数检验的基本问题"
   ]
  },
  {
   "cell_type": "code",
   "execution_count": 160,
   "metadata": {},
   "outputs": [
    {
     "name": "stdout",
     "output_type": "stream",
     "text": [
      "value   8    12   5    17   26   3     31   19   18   20\n",
      "rank   3.0  4.0  2.0  5.0  9.0  1.0  10.0  7.0  6.0  8.0\n"
     ]
    }
   ],
   "source": [
    "Rank=pd.Series([8,12,5,17,26,3,31,19,18,20],name='rank')  #获得数值的秩\n",
    "Rank.index=Rank\n",
    "Rank.index.name='value'\n",
    "print pd.DataFrame(Rank).rank().T"
   ]
  },
  {
   "cell_type": "markdown",
   "metadata": {},
   "source": [
    "## 7.2 单样本非参数检验"
   ]
  },
  {
   "cell_type": "markdown",
   "metadata": {},
   "source": [
    "单样本检验可对样本数据来自于何种位置和形状的总体或是否具有随机性进行检验"
   ]
  },
  {
   "cell_type": "markdown",
   "metadata": {},
   "source": [
    "### 7.2.1 中位数（均值）的检验"
   ]
  },
  {
   "cell_type": "code",
   "execution_count": 161,
   "metadata": {},
   "outputs": [
    {
     "data": {
      "text/html": [
       "<div>\n",
       "<style scoped>\n",
       "    .dataframe tbody tr th:only-of-type {\n",
       "        vertical-align: middle;\n",
       "    }\n",
       "\n",
       "    .dataframe tbody tr th {\n",
       "        vertical-align: top;\n",
       "    }\n",
       "\n",
       "    .dataframe thead th {\n",
       "        text-align: right;\n",
       "    }\n",
       "</style>\n",
       "<table border=\"1\" class=\"dataframe\">\n",
       "  <thead>\n",
       "    <tr style=\"text-align: right;\">\n",
       "      <th></th>\n",
       "      <th>Net</th>\n",
       "    </tr>\n",
       "  </thead>\n",
       "  <tbody>\n",
       "    <tr>\n",
       "      <th>0</th>\n",
       "      <td>598.78</td>\n",
       "    </tr>\n",
       "    <tr>\n",
       "      <th>1</th>\n",
       "      <td>599.98</td>\n",
       "    </tr>\n",
       "    <tr>\n",
       "      <th>2</th>\n",
       "      <td>600.48</td>\n",
       "    </tr>\n",
       "    <tr>\n",
       "      <th>3</th>\n",
       "      <td>598.19</td>\n",
       "    </tr>\n",
       "    <tr>\n",
       "      <th>4</th>\n",
       "      <td>597.87</td>\n",
       "    </tr>\n",
       "  </tbody>\n",
       "</table>\n",
       "</div>"
      ],
      "text/plain": [
       "      Net\n",
       "0  598.78\n",
       "1  599.98\n",
       "2  600.48\n",
       "3  598.19\n",
       "4  597.87"
      ]
     },
     "execution_count": 161,
     "metadata": {},
     "output_type": "execute_result"
    }
   ],
   "source": [
    "path=\"D:/data/Python_data/ch7/water.csv\"\n",
    "water=pd.read_csv(path)\n",
    "water.head()"
   ]
  },
  {
   "cell_type": "code",
   "execution_count": 162,
   "metadata": {},
   "outputs": [
    {
     "data": {
      "text/plain": [
       "598.86"
      ]
     },
     "execution_count": 162,
     "metadata": {},
     "output_type": "execute_result"
    }
   ],
   "source": [
    "water['Net'].median()  #样本中位数"
   ]
  },
  {
   "cell_type": "code",
   "execution_count": 163,
   "metadata": {},
   "outputs": [
    {
     "data": {
      "text/plain": [
       "(-1.9943627250286828, 0.046112428969817154)"
      ]
     },
     "execution_count": 163,
     "metadata": {},
     "output_type": "execute_result"
    }
   ],
   "source": [
    "def wilcoxon_signed_rank_test(samp,mu0=0):  #单样本的符号秩检验\n",
    "    temp=pd.DataFrame(np.asarray(samp),columns=['origin_data'])\n",
    "    temp['D']=temp['origin_data']-mu0\n",
    "    temp['rank']=abs(temp['D']).rank()\n",
    "    posW=sum(temp[temp['D']>0]['rank'])\n",
    "    negW=sum(temp[temp['D']<0]['rank'])\n",
    "    n=temp[temp['D']!=0]['rank'].count()\n",
    "    z=(posW-n*(n+1)/4)/np.sqrt((n*(n+1)*(2*n+1))/24)\n",
    "    p=(1-stats.norm.cdf(abs(z)))*2\n",
    "    return z,p\n",
    "\n",
    "wilcoxon_signed_rank_test(water['Net'],mu0=600)"
   ]
  },
  {
   "cell_type": "markdown",
   "metadata": {},
   "source": [
    "### 7.2.2 分布的检验    "
   ]
  },
  {
   "cell_type": "markdown",
   "metadata": {},
   "source": [
    "k-s 检验，主要用来检验样本数据反映的总体是否服从某种理论分布族"
   ]
  },
  {
   "cell_type": "code",
   "execution_count": 164,
   "metadata": {},
   "outputs": [
    {
     "data": {
      "text/html": [
       "<div>\n",
       "<style scoped>\n",
       "    .dataframe tbody tr th:only-of-type {\n",
       "        vertical-align: middle;\n",
       "    }\n",
       "\n",
       "    .dataframe tbody tr th {\n",
       "        vertical-align: top;\n",
       "    }\n",
       "\n",
       "    .dataframe thead th {\n",
       "        text-align: right;\n",
       "    }\n",
       "</style>\n",
       "<table border=\"1\" class=\"dataframe\">\n",
       "  <thead>\n",
       "    <tr style=\"text-align: right;\">\n",
       "      <th></th>\n",
       "      <th>observation</th>\n",
       "    </tr>\n",
       "  </thead>\n",
       "  <tbody>\n",
       "    <tr>\n",
       "      <th>0</th>\n",
       "      <td>77</td>\n",
       "    </tr>\n",
       "    <tr>\n",
       "      <th>1</th>\n",
       "      <td>92</td>\n",
       "    </tr>\n",
       "    <tr>\n",
       "      <th>2</th>\n",
       "      <td>90</td>\n",
       "    </tr>\n",
       "    <tr>\n",
       "      <th>3</th>\n",
       "      <td>71</td>\n",
       "    </tr>\n",
       "    <tr>\n",
       "      <th>4</th>\n",
       "      <td>74</td>\n",
       "    </tr>\n",
       "  </tbody>\n",
       "</table>\n",
       "</div>"
      ],
      "text/plain": [
       "   observation\n",
       "0           77\n",
       "1           92\n",
       "2           90\n",
       "3           71\n",
       "4           74"
      ]
     },
     "execution_count": 164,
     "metadata": {},
     "output_type": "execute_result"
    }
   ],
   "source": [
    "path=\"D:/data/Python_data/ch7/ks.csv\"\n",
    "ks=pd.read_csv(path)\n",
    "ks.head()"
   ]
  },
  {
   "cell_type": "code",
   "execution_count": 165,
   "metadata": {},
   "outputs": [
    {
     "data": {
      "text/plain": [
       "(0.11085609021293796, 0.021718830360242317)"
      ]
     },
     "execution_count": 165,
     "metadata": {},
     "output_type": "execute_result"
    }
   ],
   "source": [
    "sm.stats.diagnostic.kstest_normal(ks['observation'])\n",
    "sm.stats.diagnostic.lilliefors(ks['observation'])  #在估计均值和方差条件下进行正态检验"
   ]
  },
  {
   "cell_type": "code",
   "execution_count": 166,
   "metadata": {},
   "outputs": [
    {
     "data": {
      "text/plain": [
       "KstestResult(statistic=0.11085609021293796, pvalue=0.2869341737555464)"
      ]
     },
     "execution_count": 166,
     "metadata": {},
     "output_type": "execute_result"
    }
   ],
   "source": [
    "stats.kstest(ks['observation'],'norm',args=(ks['observation'].mean(),ks['observation'].std()))  #对分布进行检验"
   ]
  },
  {
   "cell_type": "code",
   "execution_count": 167,
   "metadata": {},
   "outputs": [
    {
     "data": {
      "text/plain": [
       "(0.9556435346603394, 0.009623649530112743)"
      ]
     },
     "execution_count": 167,
     "metadata": {},
     "output_type": "execute_result"
    }
   ],
   "source": [
    "stats.shapiro(ks['observation'])"
   ]
  },
  {
   "cell_type": "code",
   "execution_count": 168,
   "metadata": {},
   "outputs": [
    {
     "data": {
      "text/plain": [
       "AndersonResult(statistic=0.9221944197643097, critical_values=array([0.549, 0.626, 0.751, 0.876, 1.042]), significance_level=array([15. , 10. ,  5. ,  2.5,  1. ]))"
      ]
     },
     "execution_count": 168,
     "metadata": {},
     "output_type": "execute_result"
    }
   ],
   "source": [
    "stats.anderson(ks['observation'],dist='norm')  #anderson检验 将样本数据的检验累积分布函数与假设数据呈正态分布时期望的分布进行比较"
   ]
  },
  {
   "cell_type": "markdown",
   "metadata": {},
   "source": [
    "### 7.2.3 游程检验"
   ]
  },
  {
   "cell_type": "code",
   "execution_count": 169,
   "metadata": {},
   "outputs": [
    {
     "data": {
      "text/plain": [
       "(-1.3394253515905177, 0.18043224087490017)"
      ]
     },
     "execution_count": 169,
     "metadata": {},
     "output_type": "execute_result"
    }
   ],
   "source": [
    "path=\"D:/data/Python_data/ch7/runs.csv\"\n",
    "runs=pd.read_csv(path)\n",
    "sm.stats.runstest_1samp(np.asarray(runs['economics']),cutoff='median')  #进行游程检验"
   ]
  },
  {
   "cell_type": "code",
   "execution_count": 170,
   "metadata": {},
   "outputs": [
    {
     "data": {
      "text/plain": [
       "(-1.93056976097277, 0.053536280411386646)"
      ]
     },
     "execution_count": 170,
     "metadata": {},
     "output_type": "execute_result"
    }
   ],
   "source": [
    "sm.stats.runstest_1samp(np.asarray(runs['statistics']),cutoff='mean')  #采用均值分割点"
   ]
  },
  {
   "cell_type": "markdown",
   "metadata": {},
   "source": [
    "## 7.3 两个样本的非参数检验"
   ]
  },
  {
   "cell_type": "markdown",
   "metadata": {},
   "source": [
    "对于来自两个独立总体的样本数据，同样可以利用非参数检验的方法来检验他们之间的差异"
   ]
  },
  {
   "cell_type": "markdown",
   "metadata": {},
   "source": [
    "### 7.3.1 独立赝本中位数比较的wilcoxon秩和检验"
   ]
  },
  {
   "cell_type": "code",
   "execution_count": 171,
   "metadata": {},
   "outputs": [
    {
     "data": {
      "text/html": [
       "<div>\n",
       "<style scoped>\n",
       "    .dataframe tbody tr th:only-of-type {\n",
       "        vertical-align: middle;\n",
       "    }\n",
       "\n",
       "    .dataframe tbody tr th {\n",
       "        vertical-align: top;\n",
       "    }\n",
       "\n",
       "    .dataframe thead th {\n",
       "        text-align: right;\n",
       "    }\n",
       "</style>\n",
       "<table border=\"1\" class=\"dataframe\">\n",
       "  <thead>\n",
       "    <tr style=\"text-align: right;\">\n",
       "      <th></th>\n",
       "      <th>district</th>\n",
       "      <th>Sales</th>\n",
       "    </tr>\n",
       "  </thead>\n",
       "  <tbody>\n",
       "    <tr>\n",
       "      <th>0</th>\n",
       "      <td>1</td>\n",
       "      <td>87.17</td>\n",
       "    </tr>\n",
       "    <tr>\n",
       "      <th>1</th>\n",
       "      <td>1</td>\n",
       "      <td>88.45</td>\n",
       "    </tr>\n",
       "    <tr>\n",
       "      <th>2</th>\n",
       "      <td>1</td>\n",
       "      <td>93.52</td>\n",
       "    </tr>\n",
       "    <tr>\n",
       "      <th>3</th>\n",
       "      <td>1</td>\n",
       "      <td>96.17</td>\n",
       "    </tr>\n",
       "    <tr>\n",
       "      <th>4</th>\n",
       "      <td>1</td>\n",
       "      <td>92.68</td>\n",
       "    </tr>\n",
       "  </tbody>\n",
       "</table>\n",
       "</div>"
      ],
      "text/plain": [
       "   district  Sales\n",
       "0         1  87.17\n",
       "1         1  88.45\n",
       "2         1  93.52\n",
       "3         1  96.17\n",
       "4         1  92.68"
      ]
     },
     "execution_count": 171,
     "metadata": {},
     "output_type": "execute_result"
    }
   ],
   "source": [
    "path=\"D:/data/Python_data/ch7/sales_district.csv\"\n",
    "sales_district=pd.read_csv(path)\n",
    "sales_district.head()"
   ]
  },
  {
   "cell_type": "code",
   "execution_count": 172,
   "metadata": {},
   "outputs": [
    {
     "data": {
      "text/plain": [
       "RanksumsResult(statistic=-3.6377197716407874, pvalue=0.0002750624589981112)"
      ]
     },
     "execution_count": 172,
     "metadata": {},
     "output_type": "execute_result"
    }
   ],
   "source": [
    "stats.ranksums(sales_district[sales_district['district']==1]['Sales'],  #得到用于检验的近似正态统计量及其双侧检验的p值\n",
    "              sales_district[sales_district['district']==2]['Sales'])"
   ]
  },
  {
   "cell_type": "code",
   "execution_count": 173,
   "metadata": {},
   "outputs": [
    {
     "data": {
      "text/plain": [
       "MannwhitneyuResult(statistic=319.0, pvalue=0.0002811747629731805)"
      ]
     },
     "execution_count": 173,
     "metadata": {},
     "output_type": "execute_result"
    }
   ],
   "source": [
    "stats.mannwhitneyu(sales_district[sales_district['district']==1]['Sales'],\n",
    "                   sales_district[sales_district['district']==2]['Sales'],alternative='two-sided')"
   ]
  },
  {
   "cell_type": "markdown",
   "metadata": {},
   "source": [
    "### 7.3.2 独立样本的分布检验"
   ]
  },
  {
   "cell_type": "markdown",
   "metadata": {},
   "source": [
    "两个独立样本分布的k-s检验主要检验样本所来自的总体分布是否相同"
   ]
  },
  {
   "cell_type": "code",
   "execution_count": 174,
   "metadata": {},
   "outputs": [
    {
     "data": {
      "text/html": [
       "<div>\n",
       "<style scoped>\n",
       "    .dataframe tbody tr th:only-of-type {\n",
       "        vertical-align: middle;\n",
       "    }\n",
       "\n",
       "    .dataframe tbody tr th {\n",
       "        vertical-align: top;\n",
       "    }\n",
       "\n",
       "    .dataframe thead th {\n",
       "        text-align: right;\n",
       "    }\n",
       "</style>\n",
       "<table border=\"1\" class=\"dataframe\">\n",
       "  <thead>\n",
       "    <tr style=\"text-align: right;\">\n",
       "      <th></th>\n",
       "      <th>city</th>\n",
       "      <th>Cafe_No</th>\n",
       "      <th>Computers</th>\n",
       "    </tr>\n",
       "  </thead>\n",
       "  <tbody>\n",
       "    <tr>\n",
       "      <th>0</th>\n",
       "      <td>1</td>\n",
       "      <td>1</td>\n",
       "      <td>200</td>\n",
       "    </tr>\n",
       "    <tr>\n",
       "      <th>1</th>\n",
       "      <td>1</td>\n",
       "      <td>2</td>\n",
       "      <td>50</td>\n",
       "    </tr>\n",
       "    <tr>\n",
       "      <th>2</th>\n",
       "      <td>1</td>\n",
       "      <td>3</td>\n",
       "      <td>160</td>\n",
       "    </tr>\n",
       "    <tr>\n",
       "      <th>3</th>\n",
       "      <td>1</td>\n",
       "      <td>4</td>\n",
       "      <td>50</td>\n",
       "    </tr>\n",
       "    <tr>\n",
       "      <th>4</th>\n",
       "      <td>1</td>\n",
       "      <td>5</td>\n",
       "      <td>80</td>\n",
       "    </tr>\n",
       "  </tbody>\n",
       "</table>\n",
       "</div>"
      ],
      "text/plain": [
       "   city  Cafe_No  Computers\n",
       "0     1        1        200\n",
       "1     1        2         50\n",
       "2     1        3        160\n",
       "3     1        4         50\n",
       "4     1        5         80"
      ]
     },
     "execution_count": 174,
     "metadata": {},
     "output_type": "execute_result"
    }
   ],
   "source": [
    "path=\"D:/data/Python_data/ch7/cafe_scale.csv\"\n",
    "cafe_scale=pd.read_csv(path)\n",
    "cafe_scale.head()"
   ]
  },
  {
   "cell_type": "code",
   "execution_count": 175,
   "metadata": {},
   "outputs": [
    {
     "data": {
      "text/plain": [
       "Ks_2sampResult(statistic=0.19010989010989013, pvalue=0.43759043646877016)"
      ]
     },
     "execution_count": 175,
     "metadata": {},
     "output_type": "execute_result"
    }
   ],
   "source": [
    "stats.ks_2samp(cafe_scale[cafe_scale['city']==1]['Computers'],\n",
    "               cafe_scale[cafe_scale['city']==2]['Computers'])"
   ]
  },
  {
   "cell_type": "code",
   "execution_count": 176,
   "metadata": {},
   "outputs": [
    {
     "data": {
      "image/png": "[encoded data removed]",
      "text/plain": [
       "<matplotlib.figure.Figure at 0xdaa8e48>"
      ]
     },
     "metadata": {},
     "output_type": "display_data"
    }
   ],
   "source": [
    "cafe_scale[cafe_scale['city']==1]['Computers'].hist(bins=50,normed=True,histtype='step',cumulative=True)\n",
    "cafe_scale[cafe_scale['city']==2]['Computers'].hist(bins=50,normed=True,histtype='step',cumulative=True)\n",
    "plt.xlabel('computers')\n",
    "plt.ylabel('frequency')\n",
    "plt.title('empirical distribution for computer')\n",
    "plt.show()"
   ]
  },
  {
   "cell_type": "markdown",
   "metadata": {},
   "source": [
    "### 7.3.3 成对（匹配）样本中位数的检验"
   ]
  },
  {
   "cell_type": "code",
   "execution_count": 177,
   "metadata": {},
   "outputs": [
    {
     "data": {
      "text/plain": [
       "WilcoxonResult(statistic=9660.5, pvalue=0.6346041550198774)"
      ]
     },
     "execution_count": 177,
     "metadata": {},
     "output_type": "execute_result"
    }
   ],
   "source": [
    "stats.wilcoxon(happiness['Year2015'],happiness['Year2016'])  #样本点符号秩检验"
   ]
  },
  {
   "cell_type": "markdown",
   "metadata": {},
   "source": [
    "### 7.3.4 两样本的游程检验"
   ]
  },
  {
   "cell_type": "markdown",
   "metadata": {},
   "source": [
    "两样本数据的游程检验主要检验两个样本数据是否来自于同一个分部，主要使用wald-wolfowitz 游程检验方法"
   ]
  },
  {
   "cell_type": "code",
   "execution_count": 178,
   "metadata": {},
   "outputs": [
    {
     "ename": "SyntaxError",
     "evalue": "invalid syntax (<ipython-input-178-29db91e9faee>, line 2)",
     "output_type": "error",
     "traceback": [
      "\u001b[1;36m  File \u001b[1;32m\"<ipython-input-178-29db91e9faee>\"\u001b[1;36m, line \u001b[1;32m2\u001b[0m\n\u001b[1;33m    np.asarray(runs['statistics']).astype('float64'))\u001b[0m\n\u001b[1;37m     ^\u001b[0m\n\u001b[1;31mSyntaxError\u001b[0m\u001b[1;31m:\u001b[0m invalid syntax\n"
     ]
    }
   ],
   "source": [
    "sm.stats.runstest_2samp(np.asarray(runs['economics']).astype('float64')\n",
    "                        np.asarray(runs['statistics']).astype('float64'))"
   ]
  },
  {
   "cell_type": "code",
   "execution_count": 179,
   "metadata": {},
   "outputs": [
    {
     "data": {
      "text/html": [
       "<div>\n",
       "<style scoped>\n",
       "    .dataframe tbody tr th:only-of-type {\n",
       "        vertical-align: middle;\n",
       "    }\n",
       "\n",
       "    .dataframe tbody tr th {\n",
       "        vertical-align: top;\n",
       "    }\n",
       "\n",
       "    .dataframe thead th {\n",
       "        text-align: right;\n",
       "    }\n",
       "</style>\n",
       "<table border=\"1\" class=\"dataframe\">\n",
       "  <thead>\n",
       "    <tr style=\"text-align: right;\">\n",
       "      <th></th>\n",
       "      <th>score</th>\n",
       "      <th>group</th>\n",
       "    </tr>\n",
       "  </thead>\n",
       "  <tbody>\n",
       "    <tr>\n",
       "      <th>0</th>\n",
       "      <td>66</td>\n",
       "      <td>0</td>\n",
       "    </tr>\n",
       "    <tr>\n",
       "      <th>1</th>\n",
       "      <td>77</td>\n",
       "      <td>0</td>\n",
       "    </tr>\n",
       "    <tr>\n",
       "      <th>2</th>\n",
       "      <td>72</td>\n",
       "      <td>1</td>\n",
       "    </tr>\n",
       "    <tr>\n",
       "      <th>3</th>\n",
       "      <td>60</td>\n",
       "      <td>1</td>\n",
       "    </tr>\n",
       "    <tr>\n",
       "      <th>4</th>\n",
       "      <td>65</td>\n",
       "      <td>1</td>\n",
       "    </tr>\n",
       "  </tbody>\n",
       "</table>\n",
       "</div>"
      ],
      "text/plain": [
       "   score  group\n",
       "0     66      0\n",
       "1     77      0\n",
       "2     72      1\n",
       "3     60      1\n",
       "4     65      1"
      ]
     },
     "execution_count": 179,
     "metadata": {},
     "output_type": "execute_result"
    }
   ],
   "source": [
    "path=\"D:/data/Python_data/ch7/runs2.csv\"\n",
    "runs2=pd.read_csv(path)\n",
    "runs2.head()"
   ]
  },
  {
   "cell_type": "code",
   "execution_count": 180,
   "metadata": {},
   "outputs": [
    {
     "name": "stdout",
     "output_type": "stream",
     "text": [
      "ties detected\n"
     ]
    },
    {
     "data": {
      "text/plain": [
       "(-9.288960762896162, 1.558020813536555e-20)"
      ]
     },
     "execution_count": 180,
     "metadata": {},
     "output_type": "execute_result"
    }
   ],
   "source": [
    "sm.stats.runstest_2samp(np.asarray(runs2['score']).astype('float64'),\n",
    "                        groups=np.asarray(runs2['group']))"
   ]
  },
  {
   "cell_type": "markdown",
   "metadata": {},
   "source": [
    "## 7.4 多样本的非参数检验"
   ]
  },
  {
   "cell_type": "markdown",
   "metadata": {},
   "source": [
    "对于来自多个总体的样本数据，同样可以利用非参数检验的方法来检验他们之间的差异"
   ]
  },
  {
   "cell_type": "markdown",
   "metadata": {},
   "source": [
    "### 7.4.1 多个样本的分布检验"
   ]
  },
  {
   "cell_type": "code",
   "execution_count": 181,
   "metadata": {},
   "outputs": [
    {
     "data": {
      "text/html": [
       "<div>\n",
       "<style scoped>\n",
       "    .dataframe tbody tr th:only-of-type {\n",
       "        vertical-align: middle;\n",
       "    }\n",
       "\n",
       "    .dataframe tbody tr th {\n",
       "        vertical-align: top;\n",
       "    }\n",
       "\n",
       "    .dataframe thead th {\n",
       "        text-align: right;\n",
       "    }\n",
       "</style>\n",
       "<table border=\"1\" class=\"dataframe\">\n",
       "  <thead>\n",
       "    <tr style=\"text-align: right;\">\n",
       "      <th></th>\n",
       "      <th>statistics_score</th>\n",
       "      <th>class</th>\n",
       "    </tr>\n",
       "  </thead>\n",
       "  <tbody>\n",
       "    <tr>\n",
       "      <th>0</th>\n",
       "      <td>91</td>\n",
       "      <td>2</td>\n",
       "    </tr>\n",
       "    <tr>\n",
       "      <th>1</th>\n",
       "      <td>95</td>\n",
       "      <td>3</td>\n",
       "    </tr>\n",
       "    <tr>\n",
       "      <th>2</th>\n",
       "      <td>75</td>\n",
       "      <td>1</td>\n",
       "    </tr>\n",
       "    <tr>\n",
       "      <th>3</th>\n",
       "      <td>52</td>\n",
       "      <td>3</td>\n",
       "    </tr>\n",
       "    <tr>\n",
       "      <th>4</th>\n",
       "      <td>57</td>\n",
       "      <td>2</td>\n",
       "    </tr>\n",
       "  </tbody>\n",
       "</table>\n",
       "</div>"
      ],
      "text/plain": [
       "   statistics_score  class\n",
       "0                91      2\n",
       "1                95      3\n",
       "2                75      1\n",
       "3                52      3\n",
       "4                57      2"
      ]
     },
     "execution_count": 181,
     "metadata": {},
     "output_type": "execute_result"
    }
   ],
   "source": [
    "path=\"D:/data/Python_data/ch7/ksampledis.csv\"\n",
    "ksampledis=pd.read_csv(path)\n",
    "ksampledis.head()"
   ]
  },
  {
   "cell_type": "code",
   "execution_count": 182,
   "metadata": {},
   "outputs": [],
   "source": [
    "G=ksampledis['class'].unique()\n",
    "args=[]\n",
    "for i in list(G):\n",
    "    args.append(np.array(ksampledis[ksampledis['class']==i]['statistics_score']))"
   ]
  },
  {
   "cell_type": "code",
   "execution_count": 183,
   "metadata": {},
   "outputs": [
    {
     "data": {
      "text/plain": [
       "Anderson_ksampResult(statistic=0.5632008353358472, critical_values=array([0.44925884, 1.3052767 , 1.9434184 , 2.57696569, 3.41634856]), significance_level=0.22153444857207932)"
      ]
     },
     "execution_count": 183,
     "metadata": {},
     "output_type": "execute_result"
    }
   ],
   "source": [
    "stats.anderson_ksamp(args)"
   ]
  },
  {
   "cell_type": "markdown",
   "metadata": {},
   "source": [
    "### 7.4.2 独立样本位置的检验"
   ]
  },
  {
   "cell_type": "code",
   "execution_count": 184,
   "metadata": {},
   "outputs": [
    {
     "data": {
      "text/html": [
       "<div>\n",
       "<style scoped>\n",
       "    .dataframe tbody tr th:only-of-type {\n",
       "        vertical-align: middle;\n",
       "    }\n",
       "\n",
       "    .dataframe tbody tr th {\n",
       "        vertical-align: top;\n",
       "    }\n",
       "\n",
       "    .dataframe thead th {\n",
       "        text-align: right;\n",
       "    }\n",
       "</style>\n",
       "<table border=\"1\" class=\"dataframe\">\n",
       "  <thead>\n",
       "    <tr style=\"text-align: right;\">\n",
       "      <th></th>\n",
       "      <th>season</th>\n",
       "      <th>terminal_no</th>\n",
       "      <th>Sales</th>\n",
       "    </tr>\n",
       "  </thead>\n",
       "  <tbody>\n",
       "    <tr>\n",
       "      <th>0</th>\n",
       "      <td>1</td>\n",
       "      <td>1</td>\n",
       "      <td>98.96</td>\n",
       "    </tr>\n",
       "    <tr>\n",
       "      <th>1</th>\n",
       "      <td>2</td>\n",
       "      <td>1</td>\n",
       "      <td>88.97</td>\n",
       "    </tr>\n",
       "    <tr>\n",
       "      <th>2</th>\n",
       "      <td>3</td>\n",
       "      <td>1</td>\n",
       "      <td>88.55</td>\n",
       "    </tr>\n",
       "    <tr>\n",
       "      <th>3</th>\n",
       "      <td>4</td>\n",
       "      <td>1</td>\n",
       "      <td>84.34</td>\n",
       "    </tr>\n",
       "    <tr>\n",
       "      <th>4</th>\n",
       "      <td>1</td>\n",
       "      <td>2</td>\n",
       "      <td>94.43</td>\n",
       "    </tr>\n",
       "  </tbody>\n",
       "</table>\n",
       "</div>"
      ],
      "text/plain": [
       "   season  terminal_no  Sales\n",
       "0       1            1  98.96\n",
       "1       2            1  88.97\n",
       "2       3            1  88.55\n",
       "3       4            1  84.34\n",
       "4       1            2  94.43"
      ]
     },
     "execution_count": 184,
     "metadata": {},
     "output_type": "execute_result"
    }
   ],
   "source": [
    "path=\"D:/data/Python_data/ch7/drinks.csv\"\n",
    "drinks=pd.read_csv(path)\n",
    "drinks.head()"
   ]
  },
  {
   "cell_type": "code",
   "execution_count": 185,
   "metadata": {},
   "outputs": [],
   "source": [
    "drinks['season']=drinks['season'].astype('category')\n",
    "drinks['season'].cat.categories=['春','夏','秋','冬']\n",
    "drinks['season'].cat.set_categories=['春','夏','秋','冬']\n",
    "G=drinks['season'].unique()\n",
    "args=[]\n",
    "for i in list(G):\n",
    "    args.append(drinks[drinks['season']==i]['Sales'])"
   ]
  },
  {
   "cell_type": "code",
   "execution_count": 186,
   "metadata": {},
   "outputs": [
    {
     "data": {
      "text/plain": [
       "KruskalResult(statistic=23.95945806717496, pvalue=2.5471577250553795e-05)"
      ]
     },
     "execution_count": 186,
     "metadata": {},
     "output_type": "execute_result"
    }
   ],
   "source": [
    "stats.kruskal(*args)"
   ]
  },
  {
   "cell_type": "code",
   "execution_count": 187,
   "metadata": {},
   "outputs": [
    {
     "data": {
      "text/plain": [
       "(26.0, 9.537406942615968e-06, 90.82, array([[10, 14,  8,  0],\n",
       "        [ 6,  2,  8, 16]], dtype=int64))"
      ]
     },
     "execution_count": 187,
     "metadata": {},
     "output_type": "execute_result"
    }
   ],
   "source": [
    "stats.median_test(*args)"
   ]
  },
  {
   "cell_type": "code",
   "execution_count": 188,
   "metadata": {},
   "outputs": [
    {
     "data": {
      "text/plain": [
       "(Power_divergenceResult(statistic=26.0, pvalue=0.00022264244658763393),\n",
       " array([[16,  2,  6,  8],\n",
       "        [ 0, 14, 10,  8]]),\n",
       " array([[8., 8., 8., 8.],\n",
       "        [8., 8., 8., 8.]]))"
      ]
     },
     "execution_count": 188,
     "metadata": {},
     "output_type": "execute_result"
    }
   ],
   "source": [
    "from statsmodels.sandbox.stats.runs import median_test_ksample\n",
    "median_test_ksample(drinks['Sales'],drinks['season'])"
   ]
  },
  {
   "cell_type": "code",
   "execution_count": 189,
   "metadata": {},
   "outputs": [
    {
     "data": {
      "image/png": "[encoded data removed]",
      "text/plain": [
       "<matplotlib.figure.Figure at 0x4c7bdd8>"
      ]
     },
     "metadata": {},
     "output_type": "display_data"
    }
   ],
   "source": [
    "above_median=[]\n",
    "below_median=[]\n",
    "for i in list(G):\n",
    "    above_median.append((drinks[drinks['season']==i]['Sales']>drinks['Sales'].median()).sum())\n",
    "    below_median.append((drinks[drinks['season']==i]['Sales']>drinks['Sales'].median()).sum())\n",
    "plt.bar(range(4),below_median,color='b',alpha=.2,label='Not above the median',align='center')\n",
    "plt.bar(range(4),below_median,color='pink',alpha=.5,label='Not above the median',bottom=below_median)\n",
    "plt.legend(loc='lower center',frameon=False,bbox_to_anchor=(0.5,-0.3))\n",
    "plt.xticks(range(4),G)\n",
    "plt.show()  #可明显的展示出销售量到底在那个季度有差异，及之间有多大差异"
   ]
  },
  {
   "cell_type": "markdown",
   "metadata": {},
   "source": [
    "# 第八章 相关分析与关联分析"
   ]
  },
  {
   "cell_type": "markdown",
   "metadata": {},
   "source": [
    "## 8.1 相关分析"
   ]
  },
  {
   "cell_type": "markdown",
   "metadata": {},
   "source": [
    "相关分析主要分析两个变量之间的相互依存关系"
   ]
  },
  {
   "cell_type": "code",
   "execution_count": 190,
   "metadata": {
    "scrolled": true
   },
   "outputs": [
    {
     "data": {
      "text/html": [
       "<div>\n",
       "<style scoped>\n",
       "    .dataframe tbody tr th:only-of-type {\n",
       "        vertical-align: middle;\n",
       "    }\n",
       "\n",
       "    .dataframe tbody tr th {\n",
       "        vertical-align: top;\n",
       "    }\n",
       "\n",
       "    .dataframe thead th {\n",
       "        text-align: right;\n",
       "    }\n",
       "</style>\n",
       "<table border=\"1\" class=\"dataframe\">\n",
       "  <thead>\n",
       "    <tr style=\"text-align: right;\">\n",
       "      <th></th>\n",
       "      <th>Brand_Model</th>\n",
       "      <th>Weight</th>\n",
       "      <th>Circle</th>\n",
       "      <th>Max_Speed</th>\n",
       "      <th>Horsepower</th>\n",
       "    </tr>\n",
       "  </thead>\n",
       "  <tbody>\n",
       "    <tr>\n",
       "      <th>0</th>\n",
       "      <td>Acura Legend V6</td>\n",
       "      <td>3265</td>\n",
       "      <td>42</td>\n",
       "      <td>163</td>\n",
       "      <td>160</td>\n",
       "    </tr>\n",
       "    <tr>\n",
       "      <th>1</th>\n",
       "      <td>Audi 100</td>\n",
       "      <td>2935</td>\n",
       "      <td>39</td>\n",
       "      <td>141</td>\n",
       "      <td>130</td>\n",
       "    </tr>\n",
       "    <tr>\n",
       "      <th>2</th>\n",
       "      <td>BMW 535i</td>\n",
       "      <td>3640</td>\n",
       "      <td>39</td>\n",
       "      <td>209</td>\n",
       "      <td>208</td>\n",
       "    </tr>\n",
       "    <tr>\n",
       "      <th>3</th>\n",
       "      <td>Buick Century</td>\n",
       "      <td>2880</td>\n",
       "      <td>41</td>\n",
       "      <td>151</td>\n",
       "      <td>110</td>\n",
       "    </tr>\n",
       "    <tr>\n",
       "      <th>4</th>\n",
       "      <td>Buick Riviera V6</td>\n",
       "      <td>3465</td>\n",
       "      <td>41</td>\n",
       "      <td>231</td>\n",
       "      <td>165</td>\n",
       "    </tr>\n",
       "  </tbody>\n",
       "</table>\n",
       "</div>"
      ],
      "text/plain": [
       "        Brand_Model  Weight  Circle  Max_Speed  Horsepower\n",
       "0   Acura Legend V6    3265      42        163         160\n",
       "1          Audi 100    2935      39        141         130\n",
       "2          BMW 535i    3640      39        209         208\n",
       "3     Buick Century    2880      41        151         110\n",
       "4  Buick Riviera V6    3465      41        231         165"
      ]
     },
     "execution_count": 190,
     "metadata": {},
     "output_type": "execute_result"
    }
   ],
   "source": [
    "path=\"D:/data/Python_data/ch8/car_corr.csv\"\n",
    "car_corr=pd.read_csv(path)\n",
    "car_corr.head()"
   ]
  },
  {
   "cell_type": "markdown",
   "metadata": {},
   "source": [
    "用numpy中的corrcoef函数计算样本相关性分析"
   ]
  },
  {
   "cell_type": "code",
   "execution_count": 191,
   "metadata": {},
   "outputs": [
    {
     "data": {
      "text/plain": [
       "array([[ 1.        ,  0.07548513,  0.85458981,  0.82559164],\n",
       "       [ 0.07548513,  1.        ,  0.26369327, -0.02829931],\n",
       "       [ 0.85458981,  0.26369327,  1.        ,  0.75015192],\n",
       "       [ 0.82559164, -0.02829931,  0.75015192,  1.        ]])"
      ]
     },
     "execution_count": 191,
     "metadata": {},
     "output_type": "execute_result"
    }
   ],
   "source": [
    "np.corrcoef((car_corr['Weight'],car_corr['Circle'],car_corr['Max_Speed'],car_corr['Horsepower'])) "
   ]
  },
  {
   "cell_type": "code",
   "execution_count": 192,
   "metadata": {},
   "outputs": [
    {
     "data": {
      "text/html": [
       "<div>\n",
       "<style scoped>\n",
       "    .dataframe tbody tr th:only-of-type {\n",
       "        vertical-align: middle;\n",
       "    }\n",
       "\n",
       "    .dataframe tbody tr th {\n",
       "        vertical-align: top;\n",
       "    }\n",
       "\n",
       "    .dataframe thead th {\n",
       "        text-align: right;\n",
       "    }\n",
       "</style>\n",
       "<table border=\"1\" class=\"dataframe\">\n",
       "  <thead>\n",
       "    <tr style=\"text-align: right;\">\n",
       "      <th></th>\n",
       "      <th>Weight</th>\n",
       "      <th>Circle</th>\n",
       "      <th>Max_Speed</th>\n",
       "      <th>Horsepower</th>\n",
       "    </tr>\n",
       "  </thead>\n",
       "  <tbody>\n",
       "    <tr>\n",
       "      <th>Weight</th>\n",
       "      <td>1.000000</td>\n",
       "      <td>0.075485</td>\n",
       "      <td>0.854590</td>\n",
       "      <td>0.825592</td>\n",
       "    </tr>\n",
       "    <tr>\n",
       "      <th>Circle</th>\n",
       "      <td>0.075485</td>\n",
       "      <td>1.000000</td>\n",
       "      <td>0.263693</td>\n",
       "      <td>-0.028299</td>\n",
       "    </tr>\n",
       "    <tr>\n",
       "      <th>Max_Speed</th>\n",
       "      <td>0.854590</td>\n",
       "      <td>0.263693</td>\n",
       "      <td>1.000000</td>\n",
       "      <td>0.750152</td>\n",
       "    </tr>\n",
       "    <tr>\n",
       "      <th>Horsepower</th>\n",
       "      <td>0.825592</td>\n",
       "      <td>-0.028299</td>\n",
       "      <td>0.750152</td>\n",
       "      <td>1.000000</td>\n",
       "    </tr>\n",
       "  </tbody>\n",
       "</table>\n",
       "</div>"
      ],
      "text/plain": [
       "              Weight    Circle  Max_Speed  Horsepower\n",
       "Weight      1.000000  0.075485   0.854590    0.825592\n",
       "Circle      0.075485  1.000000   0.263693   -0.028299\n",
       "Max_Speed   0.854590  0.263693   1.000000    0.750152\n",
       "Horsepower  0.825592 -0.028299   0.750152    1.000000"
      ]
     },
     "execution_count": 192,
     "metadata": {},
     "output_type": "execute_result"
    }
   ],
   "source": [
    "car_corr.corr()  #corr方法可以自动识别DataFrame 对象中的数值型数据"
   ]
  },
  {
   "cell_type": "code",
   "execution_count": 193,
   "metadata": {},
   "outputs": [
    {
     "data": {
      "text/plain": [
       "(0.8545898074815489, 1.8591897095041325e-09)"
      ]
     },
     "execution_count": 193,
     "metadata": {},
     "output_type": "execute_result"
    }
   ],
   "source": [
    "stats.pearsonr(car_corr['Max_Speed'],car_corr['Weight'])  #使用scipy提供的相关系数函数，检验max_speed和weight之间的相关系数"
   ]
  },
  {
   "cell_type": "code",
   "execution_count": 194,
   "metadata": {},
   "outputs": [
    {
     "data": {
      "text/plain": [
       "[(0.8545898074815489, 1.8591897095041325e-09),\n",
       " (0.2636932690716119, 0.15913089371709196),\n",
       " (0.7501519209192844, 1.8164321769966701e-06)]"
      ]
     },
     "execution_count": 194,
     "metadata": {},
     "output_type": "execute_result"
    }
   ],
   "source": [
    "correlation=[]  \n",
    "for i in car_corr[['Weight','Circle','Horsepower']].columns:\n",
    "    correlation.append(stats.pearsonr(car_corr['Max_Speed'],car_corr[i]))\n",
    "    \n",
    "correlation  #stats.pearsonr 可以计算两组数据的相关系数及其显著性"
   ]
  },
  {
   "cell_type": "code",
   "execution_count": 195,
   "metadata": {},
   "outputs": [
    {
     "name": "stdout",
     "output_type": "stream",
     "text": [
      "[1.85918971e-09 1.59130894e-01 1.81643218e-06]\n"
     ]
    }
   ],
   "source": [
    "from sklearn.feature_selection import f_regression\n",
    "F,P_Value=f_regression(car_corr[['Weight','Circle','Horsepower']],car_corr['Max_Speed'])\n",
    "print P_Value     #主要用于机器学习的scikit-learn包提供的f_regrssion方法 可以直接计算出多个变量之间相关性检验的p值"
   ]
  },
  {
   "cell_type": "markdown",
   "metadata": {},
   "source": [
    "### 8.1.3 偏相关分析"
   ]
  },
  {
   "cell_type": "markdown",
   "metadata": {},
   "source": [
    "剔除其他变量之后再进行相关分析的方法"
   ]
  },
  {
   "cell_type": "code",
   "execution_count": 196,
   "metadata": {},
   "outputs": [],
   "source": [
    "def partial_corr(x,y,partial=[]):\n",
    "    #参数x和y分别为考察相关关系的变量，partial为控制变量\n",
    "    xy,xyp=stats.pearsonr(x,y)\n",
    "    xp,xpp=stats.pearsonr(x,partial)\n",
    "    yp,ypp=stats.pearsonr(y,partial)\n",
    "    n=len(x)\n",
    "    df=n-3\n",
    "    r=(xy-xp*yp)/(np.sqrt(1-xp*xp)*np.sqrt(1-yp*yp))\n",
    "    if abs(r)==1.0:\n",
    "        prob=0.0\n",
    "    else:\n",
    "        t=(r*np.sqrt(df))/np.sqrt(1-r*r)\n",
    "        prob=(1-stats.t.cdf(abs(t),df))*2\n",
    "    return r,prob"
   ]
  },
  {
   "cell_type": "code",
   "execution_count": 197,
   "metadata": {},
   "outputs": [
    {
     "data": {
      "text/plain": [
       "[(0.6305309485292881, 0.00024594990184656496),\n",
       " (0.43104653010728905, 0.019570366951637608)]"
      ]
     },
     "execution_count": 197,
     "metadata": {},
     "output_type": "execute_result"
    }
   ],
   "source": [
    "pcorrelation=[]  #用上述函数计算控制住马力变量之后其他变量之间的偏相关系数及其显著性水平\n",
    "for i in car_corr[['Weight','Circle']].columns:\n",
    "    pcorrelation.append(partial_corr(car_corr[i],car_corr['Max_Speed'],partial=car_corr['Horsepower']))\n",
    "\n",
    "pcorrelation"
   ]
  },
  {
   "cell_type": "markdown",
   "metadata": {},
   "source": [
    "### 8.1.4 点二列相关分析"
   ]
  },
  {
   "cell_type": "markdown",
   "metadata": {},
   "source": [
    "点二列相关分析适用于两个变量中一个是来自正态总体的定距或定比数据"
   ]
  },
  {
   "cell_type": "code",
   "execution_count": 198,
   "metadata": {},
   "outputs": [
    {
     "data": {
      "text/html": [
       "<div>\n",
       "<style scoped>\n",
       "    .dataframe tbody tr th:only-of-type {\n",
       "        vertical-align: middle;\n",
       "    }\n",
       "\n",
       "    .dataframe tbody tr th {\n",
       "        vertical-align: top;\n",
       "    }\n",
       "\n",
       "    .dataframe thead th {\n",
       "        text-align: right;\n",
       "    }\n",
       "</style>\n",
       "<table border=\"1\" class=\"dataframe\">\n",
       "  <thead>\n",
       "    <tr style=\"text-align: right;\">\n",
       "      <th></th>\n",
       "      <th>score</th>\n",
       "      <th>gender</th>\n",
       "    </tr>\n",
       "  </thead>\n",
       "  <tbody>\n",
       "    <tr>\n",
       "      <th>0</th>\n",
       "      <td>68</td>\n",
       "      <td>1</td>\n",
       "    </tr>\n",
       "    <tr>\n",
       "      <th>1</th>\n",
       "      <td>81</td>\n",
       "      <td>1</td>\n",
       "    </tr>\n",
       "    <tr>\n",
       "      <th>2</th>\n",
       "      <td>78</td>\n",
       "      <td>0</td>\n",
       "    </tr>\n",
       "    <tr>\n",
       "      <th>3</th>\n",
       "      <td>91</td>\n",
       "      <td>0</td>\n",
       "    </tr>\n",
       "    <tr>\n",
       "      <th>4</th>\n",
       "      <td>91</td>\n",
       "      <td>1</td>\n",
       "    </tr>\n",
       "  </tbody>\n",
       "</table>\n",
       "</div>"
      ],
      "text/plain": [
       "   score  gender\n",
       "0     68       1\n",
       "1     81       1\n",
       "2     78       0\n",
       "3     91       0\n",
       "4     91       1"
      ]
     },
     "execution_count": 198,
     "metadata": {},
     "output_type": "execute_result"
    }
   ],
   "source": [
    "path=\"D:/data/Python_data/ch8/scorebygender.csv\"\n",
    "scorebygender=pd.read_csv(path)\n",
    "scorebygender.head()"
   ]
  },
  {
   "cell_type": "code",
   "execution_count": 199,
   "metadata": {},
   "outputs": [
    {
     "data": {
      "text/plain": [
       "PointbiserialrResult(correlation=0.013517390176463265, pvalue=0.8777414982748971)"
      ]
     },
     "execution_count": 199,
     "metadata": {},
     "output_type": "execute_result"
    }
   ],
   "source": [
    "stats.pointbiserialr(scorebygender['gender'],scorebygender['score'])\n",
    "#计算该相关系数及其显著性水平"
   ]
  },
  {
   "cell_type": "markdown",
   "metadata": {},
   "source": [
    "### 8.1.5 非参数相关分析"
   ]
  },
  {
   "cell_type": "code",
   "execution_count": 200,
   "metadata": {},
   "outputs": [
    {
     "data": {
      "text/html": [
       "<div>\n",
       "<style scoped>\n",
       "    .dataframe tbody tr th:only-of-type {\n",
       "        vertical-align: middle;\n",
       "    }\n",
       "\n",
       "    .dataframe tbody tr th {\n",
       "        vertical-align: top;\n",
       "    }\n",
       "\n",
       "    .dataframe thead th {\n",
       "        text-align: right;\n",
       "    }\n",
       "</style>\n",
       "<table border=\"1\" class=\"dataframe\">\n",
       "  <thead>\n",
       "    <tr style=\"text-align: right;\">\n",
       "      <th></th>\n",
       "      <th>Interest</th>\n",
       "      <th>Major</th>\n",
       "      <th>Teaching</th>\n",
       "      <th>Tutor</th>\n",
       "    </tr>\n",
       "  </thead>\n",
       "  <tbody>\n",
       "    <tr>\n",
       "      <th>0</th>\n",
       "      <td>2</td>\n",
       "      <td>2</td>\n",
       "      <td>2</td>\n",
       "      <td>2</td>\n",
       "    </tr>\n",
       "    <tr>\n",
       "      <th>1</th>\n",
       "      <td>2</td>\n",
       "      <td>2</td>\n",
       "      <td>1</td>\n",
       "      <td>2</td>\n",
       "    </tr>\n",
       "    <tr>\n",
       "      <th>2</th>\n",
       "      <td>4</td>\n",
       "      <td>3</td>\n",
       "      <td>4</td>\n",
       "      <td>4</td>\n",
       "    </tr>\n",
       "    <tr>\n",
       "      <th>3</th>\n",
       "      <td>1</td>\n",
       "      <td>1</td>\n",
       "      <td>2</td>\n",
       "      <td>1</td>\n",
       "    </tr>\n",
       "    <tr>\n",
       "      <th>4</th>\n",
       "      <td>3</td>\n",
       "      <td>3</td>\n",
       "      <td>3</td>\n",
       "      <td>3</td>\n",
       "    </tr>\n",
       "  </tbody>\n",
       "</table>\n",
       "</div>"
      ],
      "text/plain": [
       "   Interest  Major  Teaching  Tutor\n",
       "0         2      2         2      2\n",
       "1         2      2         1      2\n",
       "2         4      3         4      4\n",
       "3         1      1         2      1\n",
       "4         3      3         3      3"
      ]
     },
     "execution_count": 200,
     "metadata": {},
     "output_type": "execute_result"
    }
   ],
   "source": [
    "path=\"D:/data/Python_data/ch8/graduate.csv\"\n",
    "graduate=pd.read_csv(path)\n",
    "graduate.head()"
   ]
  },
  {
   "cell_type": "code",
   "execution_count": 201,
   "metadata": {},
   "outputs": [
    {
     "name": "stdout",
     "output_type": "stream",
     "text": [
      "[[1.         0.72134588 0.27430442 0.8062982 ]\n",
      " [0.72134588 1.         0.28790361 0.73184305]\n",
      " [0.27430442 0.28790361 1.         0.28440269]\n",
      " [0.8062982  0.73184305 0.28440269 1.        ]]\n",
      "[[0.00000000e+000 2.58589179e-163 6.31375185e-019 1.49316919e-232]\n",
      " [2.58589179e-163 0.00000000e+000 9.09876371e-021 2.08047486e-170]\n",
      " [6.31375185e-019 9.09876371e-021 0.00000000e+000 2.77199934e-020]\n",
      " [1.49316919e-232 2.08047486e-170 2.77199934e-020 0.00000000e+000]]\n"
     ]
    }
   ],
   "source": [
    "rho,p=stats.spearmanr(graduate)  #该函数返回两个值，分别为相关系数和显著性检验p值\n",
    "print rho\n",
    "print p"
   ]
  },
  {
   "cell_type": "code",
   "execution_count": 202,
   "metadata": {},
   "outputs": [
    {
     "data": {
      "text/plain": [
       "[KendalltauResult(correlation=0.7764436113158888, pvalue=3.906585846189082e-182),\n",
       " KendalltauResult(correlation=0.679802586117344, pvalue=9.988471538085373e-140),\n",
       " KendalltauResult(correlation=0.2505554510047037, pvalue=3.3733693453210805e-20)]"
      ]
     },
     "execution_count": 202,
     "metadata": {},
     "output_type": "execute_result"
    }
   ],
   "source": [
    "kt=[]\n",
    "for i in graduate[['Interest','Major','Teaching']].columns:\n",
    "    kt.append(stats.kendalltau(graduate[i],graduate['Tutor']))\n",
    "kt"
   ]
  },
  {
   "cell_type": "markdown",
   "metadata": {},
   "source": [
    "## 8.2 关联分析"
   ]
  },
  {
   "cell_type": "markdown",
   "metadata": {},
   "source": [
    "关联分析常用于发现大量数据中有异议的联系，这种联系强调的是产生数据的行为之间的联系"
   ]
  },
  {
   "cell_type": "code",
   "execution_count": 203,
   "metadata": {},
   "outputs": [
    {
     "data": {
      "text/html": [
       "<div>\n",
       "<style scoped>\n",
       "    .dataframe tbody tr th:only-of-type {\n",
       "        vertical-align: middle;\n",
       "    }\n",
       "\n",
       "    .dataframe tbody tr th {\n",
       "        vertical-align: top;\n",
       "    }\n",
       "\n",
       "    .dataframe thead th {\n",
       "        text-align: right;\n",
       "    }\n",
       "</style>\n",
       "<table border=\"1\" class=\"dataframe\">\n",
       "  <thead>\n",
       "    <tr style=\"text-align: right;\">\n",
       "      <th></th>\n",
       "      <th>TID</th>\n",
       "      <th>项集</th>\n",
       "    </tr>\n",
       "  </thead>\n",
       "  <tbody>\n",
       "    <tr>\n",
       "      <th>1</th>\n",
       "      <td>1</td>\n",
       "      <td>{面包，牛奶}</td>\n",
       "    </tr>\n",
       "    <tr>\n",
       "      <th>2</th>\n",
       "      <td>2</td>\n",
       "      <td>{面包，尿布，啤酒，鸡蛋}</td>\n",
       "    </tr>\n",
       "    <tr>\n",
       "      <th>3</th>\n",
       "      <td>3</td>\n",
       "      <td>{牛奶，尿布，啤酒，可乐}</td>\n",
       "    </tr>\n",
       "    <tr>\n",
       "      <th>4</th>\n",
       "      <td>4</td>\n",
       "      <td>{面包，牛奶，尿布，啤酒}</td>\n",
       "    </tr>\n",
       "    <tr>\n",
       "      <th>5</th>\n",
       "      <td>5</td>\n",
       "      <td>{面包，牛奶，尿布，可乐}</td>\n",
       "    </tr>\n",
       "  </tbody>\n",
       "</table>\n",
       "</div>"
      ],
      "text/plain": [
       "   TID             项集\n",
       "1    1        {面包，牛奶}\n",
       "2    2  {面包，尿布，啤酒，鸡蛋}\n",
       "3    3  {牛奶，尿布，啤酒，可乐}\n",
       "4    4  {面包，牛奶，尿布，啤酒}\n",
       "5    5  {面包，牛奶，尿布，可乐}"
      ]
     },
     "execution_count": 203,
     "metadata": {},
     "output_type": "execute_result"
    }
   ],
   "source": [
    "path=\"D:/data/Python_data/ch8/Association.csv\"\n",
    "aa=pd.read_csv(path,encoding='gbk')\n",
    "aa.index=range(1,6)\n",
    "aa"
   ]
  },
  {
   "cell_type": "code",
   "execution_count": 204,
   "metadata": {},
   "outputs": [
    {
     "name": "stderr",
     "output_type": "stream",
     "text": [
      "D:\\study_apps\\Anaconda\\lib\\site-packages\\ipykernel_launcher.py:4: DeprecationWarning: \n",
      ".ix is deprecated. Please use\n",
      ".loc for label based indexing or\n",
      ".iloc for positional indexing\n",
      "\n",
      "See the documentation here:\n",
      "http://pandas.pydata.org/pandas-docs/stable/indexing.html#ix-indexer-is-deprecated\n",
      "  after removing the cwd from sys.path.\n"
     ]
    },
    {
     "data": {
      "text/html": [
       "<div>\n",
       "<style scoped>\n",
       "    .dataframe tbody tr th:only-of-type {\n",
       "        vertical-align: middle;\n",
       "    }\n",
       "\n",
       "    .dataframe tbody tr th {\n",
       "        vertical-align: top;\n",
       "    }\n",
       "\n",
       "    .dataframe thead th {\n",
       "        text-align: right;\n",
       "    }\n",
       "</style>\n",
       "<table border=\"1\" class=\"dataframe\">\n",
       "  <thead>\n",
       "    <tr style=\"text-align: right;\">\n",
       "      <th></th>\n",
       "      <th>news</th>\n",
       "      <th>email</th>\n",
       "      <th>callreminder</th>\n",
       "    </tr>\n",
       "  </thead>\n",
       "  <tbody>\n",
       "    <tr>\n",
       "      <th>19540</th>\n",
       "      <td>0</td>\n",
       "      <td>1</td>\n",
       "      <td>0</td>\n",
       "    </tr>\n",
       "    <tr>\n",
       "      <th>14515</th>\n",
       "      <td>0</td>\n",
       "      <td>1</td>\n",
       "      <td>0</td>\n",
       "    </tr>\n",
       "    <tr>\n",
       "      <th>31865</th>\n",
       "      <td>0</td>\n",
       "      <td>1</td>\n",
       "      <td>0</td>\n",
       "    </tr>\n",
       "    <tr>\n",
       "      <th>50883</th>\n",
       "      <td>0</td>\n",
       "      <td>1</td>\n",
       "      <td>0</td>\n",
       "    </tr>\n",
       "    <tr>\n",
       "      <th>56205</th>\n",
       "      <td>0</td>\n",
       "      <td>1</td>\n",
       "      <td>0</td>\n",
       "    </tr>\n",
       "    <tr>\n",
       "      <th>42627</th>\n",
       "      <td>1</td>\n",
       "      <td>1</td>\n",
       "      <td>0</td>\n",
       "    </tr>\n",
       "    <tr>\n",
       "      <th>80493</th>\n",
       "      <td>1</td>\n",
       "      <td>1</td>\n",
       "      <td>0</td>\n",
       "    </tr>\n",
       "    <tr>\n",
       "      <th>73887</th>\n",
       "      <td>1</td>\n",
       "      <td>1</td>\n",
       "      <td>0</td>\n",
       "    </tr>\n",
       "    <tr>\n",
       "      <th>71988</th>\n",
       "      <td>1</td>\n",
       "      <td>0</td>\n",
       "      <td>0</td>\n",
       "    </tr>\n",
       "    <tr>\n",
       "      <th>12040</th>\n",
       "      <td>1</td>\n",
       "      <td>1</td>\n",
       "      <td>0</td>\n",
       "    </tr>\n",
       "  </tbody>\n",
       "</table>\n",
       "</div>"
      ],
      "text/plain": [
       "       news  email  callreminder\n",
       "19540     0      1             0\n",
       "14515     0      1             0\n",
       "31865     0      1             0\n",
       "50883     0      1             0\n",
       "56205     0      1             0\n",
       "42627     1      1             0\n",
       "80493     1      1             0\n",
       "73887     1      1             0\n",
       "71988     1      0             0\n",
       "12040     1      1             0"
      ]
     },
     "execution_count": 204,
     "metadata": {},
     "output_type": "execute_result"
    }
   ],
   "source": [
    "from random import randint\n",
    "path=\"D:/data/Python_data/ch8/mpb.csv\"\n",
    "mpb=pd.read_csv(path)\n",
    "mpb.ix[[randint(0,98371) for _ in range(10)]]"
   ]
  },
  {
   "cell_type": "code",
   "execution_count": 205,
   "metadata": {},
   "outputs": [
    {
     "name": "stderr",
     "output_type": "stream",
     "text": [
      "D:\\study_apps\\Anaconda\\lib\\site-packages\\ipykernel_launcher.py:3: DeprecationWarning: \n",
      ".ix is deprecated. Please use\n",
      ".loc for label based indexing or\n",
      ".iloc for positional indexing\n",
      "\n",
      "See the documentation here:\n",
      "http://pandas.pydata.org/pandas-docs/stable/indexing.html#ix-indexer-is-deprecated\n",
      "  This is separate from the ipykernel package so we can avoid doing imports until\n"
     ]
    },
    {
     "data": {
      "text/html": [
       "<div>\n",
       "<style scoped>\n",
       "    .dataframe tbody tr th:only-of-type {\n",
       "        vertical-align: middle;\n",
       "    }\n",
       "\n",
       "    .dataframe tbody tr th {\n",
       "        vertical-align: top;\n",
       "    }\n",
       "\n",
       "    .dataframe thead th {\n",
       "        text-align: right;\n",
       "    }\n",
       "</style>\n",
       "<table border=\"1\" class=\"dataframe\">\n",
       "  <thead>\n",
       "    <tr style=\"text-align: right;\">\n",
       "      <th></th>\n",
       "      <th>news,email,callreminder</th>\n",
       "    </tr>\n",
       "  </thead>\n",
       "  <tbody>\n",
       "    <tr>\n",
       "      <th>66983</th>\n",
       "      <td>0,1,0</td>\n",
       "    </tr>\n",
       "    <tr>\n",
       "      <th>96675</th>\n",
       "      <td>1,1,0</td>\n",
       "    </tr>\n",
       "    <tr>\n",
       "      <th>66252</th>\n",
       "      <td>0,1,0</td>\n",
       "    </tr>\n",
       "    <tr>\n",
       "      <th>12387</th>\n",
       "      <td>0,1,0</td>\n",
       "    </tr>\n",
       "    <tr>\n",
       "      <th>19637</th>\n",
       "      <td>1,1,0</td>\n",
       "    </tr>\n",
       "    <tr>\n",
       "      <th>11525</th>\n",
       "      <td>0,1,0</td>\n",
       "    </tr>\n",
       "    <tr>\n",
       "      <th>68069</th>\n",
       "      <td>0,1,0</td>\n",
       "    </tr>\n",
       "    <tr>\n",
       "      <th>17943</th>\n",
       "      <td>0,1,0</td>\n",
       "    </tr>\n",
       "    <tr>\n",
       "      <th>57055</th>\n",
       "      <td>0,1,0</td>\n",
       "    </tr>\n",
       "    <tr>\n",
       "      <th>40435</th>\n",
       "      <td>0,1,0</td>\n",
       "    </tr>\n",
       "  </tbody>\n",
       "</table>\n",
       "</div>"
      ],
      "text/plain": [
       "      news,email,callreminder\n",
       "66983                   0,1,0\n",
       "96675                   1,1,0\n",
       "66252                   0,1,0\n",
       "12387                   0,1,0\n",
       "19637                   1,1,0\n",
       "11525                   0,1,0\n",
       "68069                   0,1,0\n",
       "17943                   0,1,0\n",
       "57055                   0,1,0\n",
       "40435                   0,1,0"
      ]
     },
     "execution_count": 205,
     "metadata": {},
     "output_type": "execute_result"
    }
   ],
   "source": [
    "path==\"D:/data/Python_data/ch8/mpb.basket\"\n",
    "a=pd.read_table(path)\n",
    "a.ix[[randint(0,98371) for _ in range(10)]]"
   ]
  },
  {
   "cell_type": "code",
   "execution_count": 206,
   "metadata": {},
   "outputs": [
    {
     "name": "stderr",
     "output_type": "stream",
     "text": [
      "D:\\study_apps\\Anaconda\\lib\\site-packages\\ipykernel_launcher.py:3: DeprecationWarning: \n",
      ".ix is deprecated. Please use\n",
      ".loc for label based indexing or\n",
      ".iloc for positional indexing\n",
      "\n",
      "See the documentation here:\n",
      "http://pandas.pydata.org/pandas-docs/stable/indexing.html#ix-indexer-is-deprecated\n",
      "  This is separate from the ipykernel package so we can avoid doing imports until\n"
     ]
    },
    {
     "data": {
      "text/html": [
       "<div>\n",
       "<style scoped>\n",
       "    .dataframe tbody tr th:only-of-type {\n",
       "        vertical-align: middle;\n",
       "    }\n",
       "\n",
       "    .dataframe tbody tr th {\n",
       "        vertical-align: top;\n",
       "    }\n",
       "\n",
       "    .dataframe thead th {\n",
       "        text-align: right;\n",
       "    }\n",
       "</style>\n",
       "<table border=\"1\" class=\"dataframe\">\n",
       "  <thead>\n",
       "    <tr style=\"text-align: right;\">\n",
       "      <th></th>\n",
       "      <th>new</th>\n",
       "      <th>email</th>\n",
       "      <th>callreminder</th>\n",
       "    </tr>\n",
       "  </thead>\n",
       "  <tbody>\n",
       "    <tr>\n",
       "      <th>30866</th>\n",
       "      <td>NaN</td>\n",
       "      <td>email</td>\n",
       "      <td>NaN</td>\n",
       "    </tr>\n",
       "    <tr>\n",
       "      <th>92320</th>\n",
       "      <td>new</td>\n",
       "      <td>email</td>\n",
       "      <td>NaN</td>\n",
       "    </tr>\n",
       "    <tr>\n",
       "      <th>77002</th>\n",
       "      <td>NaN</td>\n",
       "      <td>NaN</td>\n",
       "      <td>callreminder</td>\n",
       "    </tr>\n",
       "    <tr>\n",
       "      <th>4300</th>\n",
       "      <td>new</td>\n",
       "      <td>email</td>\n",
       "      <td>NaN</td>\n",
       "    </tr>\n",
       "    <tr>\n",
       "      <th>80684</th>\n",
       "      <td>new</td>\n",
       "      <td>NaN</td>\n",
       "      <td>callreminder</td>\n",
       "    </tr>\n",
       "    <tr>\n",
       "      <th>78782</th>\n",
       "      <td>NaN</td>\n",
       "      <td>email</td>\n",
       "      <td>NaN</td>\n",
       "    </tr>\n",
       "    <tr>\n",
       "      <th>27329</th>\n",
       "      <td>new</td>\n",
       "      <td>email</td>\n",
       "      <td>NaN</td>\n",
       "    </tr>\n",
       "    <tr>\n",
       "      <th>45471</th>\n",
       "      <td>new</td>\n",
       "      <td>email</td>\n",
       "      <td>NaN</td>\n",
       "    </tr>\n",
       "    <tr>\n",
       "      <th>75788</th>\n",
       "      <td>new</td>\n",
       "      <td>email</td>\n",
       "      <td>NaN</td>\n",
       "    </tr>\n",
       "    <tr>\n",
       "      <th>1217</th>\n",
       "      <td>new</td>\n",
       "      <td>NaN</td>\n",
       "      <td>NaN</td>\n",
       "    </tr>\n",
       "  </tbody>\n",
       "</table>\n",
       "</div>"
      ],
      "text/plain": [
       "       new  email  callreminder\n",
       "30866  NaN  email           NaN\n",
       "92320  new  email           NaN\n",
       "77002  NaN    NaN  callreminder\n",
       "4300   new  email           NaN\n",
       "80684  new    NaN  callreminder\n",
       "78782  NaN  email           NaN\n",
       "27329  new  email           NaN\n",
       "45471  new  email           NaN\n",
       "75788  new  email           NaN\n",
       "1217   new    NaN           NaN"
      ]
     },
     "execution_count": 206,
     "metadata": {},
     "output_type": "execute_result"
    }
   ],
   "source": [
    "path=\"D:/data/Python_data/ch8/mpb_fpgrowth.csv\"     #FP-growth算法\n",
    "mpb_fpg=pd.read_csv(path)\n",
    "mpb_fpg.ix[[randint(0,98371) for _ in range(10)]]"
   ]
  },
  {
   "cell_type": "code",
   "execution_count": 207,
   "metadata": {},
   "outputs": [],
   "source": [
    "#from fp_growth import find_frequent_itemsets as ffi"
   ]
  },
  {
   "cell_type": "markdown",
   "metadata": {},
   "source": [
    "# 第九章 回归分析"
   ]
  },
  {
   "cell_type": "markdown",
   "metadata": {},
   "source": [
    "## 9.1 线性回归"
   ]
  },
  {
   "cell_type": "code",
   "execution_count": 208,
   "metadata": {},
   "outputs": [
    {
     "data": {
      "text/html": [
       "<div>\n",
       "<style scoped>\n",
       "    .dataframe tbody tr th:only-of-type {\n",
       "        vertical-align: middle;\n",
       "    }\n",
       "\n",
       "    .dataframe tbody tr th {\n",
       "        vertical-align: top;\n",
       "    }\n",
       "\n",
       "    .dataframe thead th {\n",
       "        text-align: right;\n",
       "    }\n",
       "</style>\n",
       "<table border=\"1\" class=\"dataframe\">\n",
       "  <thead>\n",
       "    <tr style=\"text-align: right;\">\n",
       "      <th></th>\n",
       "      <th>region</th>\n",
       "      <th>illiteracy</th>\n",
       "      <th>murder</th>\n",
       "    </tr>\n",
       "  </thead>\n",
       "  <tbody>\n",
       "    <tr>\n",
       "      <th>0</th>\n",
       "      <td>4</td>\n",
       "      <td>0.5</td>\n",
       "      <td>11.5</td>\n",
       "    </tr>\n",
       "    <tr>\n",
       "      <th>1</th>\n",
       "      <td>8</td>\n",
       "      <td>0.5</td>\n",
       "      <td>2.3</td>\n",
       "    </tr>\n",
       "    <tr>\n",
       "      <th>2</th>\n",
       "      <td>8</td>\n",
       "      <td>0.5</td>\n",
       "      <td>1.7</td>\n",
       "    </tr>\n",
       "    <tr>\n",
       "      <th>3</th>\n",
       "      <td>4</td>\n",
       "      <td>0.6</td>\n",
       "      <td>5.3</td>\n",
       "    </tr>\n",
       "    <tr>\n",
       "      <th>4</th>\n",
       "      <td>4</td>\n",
       "      <td>0.6</td>\n",
       "      <td>5.0</td>\n",
       "    </tr>\n",
       "  </tbody>\n",
       "</table>\n",
       "</div>"
      ],
      "text/plain": [
       "   region  illiteracy  murder\n",
       "0       4         0.5    11.5\n",
       "1       8         0.5     2.3\n",
       "2       8         0.5     1.7\n",
       "3       4         0.6     5.3\n",
       "4       4         0.6     5.0"
      ]
     },
     "execution_count": 208,
     "metadata": {},
     "output_type": "execute_result"
    }
   ],
   "source": [
    "path=\"D:/data/Python_data/ch9/murder.csv\"\n",
    "murder=pd.read_csv(path)\n",
    "murder.head()"
   ]
  },
  {
   "cell_type": "code",
   "execution_count": 209,
   "metadata": {},
   "outputs": [],
   "source": [
    "murder['region']=murder['region'].astype('category')\n",
    "murder['region'].cat.categories=['East North Central','East South Central','Middle Atlantic','Mountain','New England','Pacific','South Atlantic',\n",
    "                                 'West North Central','West South Central']\n",
    "murder['region'].cat.set_categories=['East North Central','East South Central','Middle Atlantic','Mountain','New England','Pacific','South Atlantic',\n",
    "                                 'West North Central','West South Central']"
   ]
  },
  {
   "cell_type": "code",
   "execution_count": 210,
   "metadata": {},
   "outputs": [
    {
     "data": {
      "image/png": "[encoded data removed]",
      "text/plain": [
       "<matplotlib.figure.Figure at 0x10e53e48>"
      ]
     },
     "metadata": {},
     "output_type": "display_data"
    }
   ],
   "source": [
    "plt.scatter(murder['illiteracy'],murder['murder'],c='blue',alpha=0.75)\n",
    "plt.xlabel('illiteracy')\n",
    "plt.ylabel('murder')\n",
    "plt.show()  #绘制散点图"
   ]
  },
  {
   "cell_type": "code",
   "execution_count": 211,
   "metadata": {},
   "outputs": [
    {
     "name": "stdout",
     "output_type": "stream",
     "text": [
      "LinregressResult(slope=4.257456742653117, intercept=2.396775611095853, rvalue=0.7029751986841699, pvalue=1.2579116392501817e-08, stderr=0.6217132752343032)\n",
      "r_square: 0.49417\n"
     ]
    }
   ],
   "source": [
    "murder_model1=stats.linregress(murder['illiteracy'],murder['murder'])  #该函数自变量在前，因变量在后\n",
    "print murder_model1\n",
    "print 'r_square: %.5f' % murder_model1.rvalue**2"
   ]
  },
  {
   "cell_type": "code",
   "execution_count": 212,
   "metadata": {},
   "outputs": [
    {
     "data": {
      "text/html": [
       "<table class=\"simpletable\">\n",
       "<tr>\n",
       "        <td>Model:</td>               <td>OLS</td>         <td>Adj. R-squared:</td>     <td>0.484</td> \n",
       "</tr>\n",
       "<tr>\n",
       "  <td>Dependent Variable:</td>      <td>murder</td>             <td>AIC:</td>         <td>241.4099</td>\n",
       "</tr>\n",
       "<tr>\n",
       "         <td>Date:</td>        <td>2018-06-03 20:08</td>        <td>BIC:</td>         <td>245.2340</td>\n",
       "</tr>\n",
       "<tr>\n",
       "   <td>No. Observations:</td>         <td>50</td>          <td>Log-Likelihood:</td>    <td>-118.70</td>\n",
       "</tr>\n",
       "<tr>\n",
       "       <td>Df Model:</td>              <td>1</td>           <td>F-statistic:</td>       <td>46.89</td> \n",
       "</tr>\n",
       "<tr>\n",
       "     <td>Df Residuals:</td>           <td>48</td>        <td>Prob (F-statistic):</td> <td>1.26e-08</td>\n",
       "</tr>\n",
       "<tr>\n",
       "      <td>R-squared:</td>            <td>0.494</td>            <td>Scale:</td>         <td>7.0367</td> \n",
       "</tr>\n",
       "</table>\n",
       "<table class=\"simpletable\">\n",
       "<tr>\n",
       "       <td></td>       <th>Coef.</th> <th>Std.Err.</th>    <th>t</th>    <th>P>|t|</th> <th>[0.025</th> <th>0.975]</th>\n",
       "</tr>\n",
       "<tr>\n",
       "  <th>Intercept</th>  <td>2.3968</td>  <td>0.8184</td>  <td>2.9285</td> <td>0.0052</td> <td>0.7512</td> <td>4.0424</td>\n",
       "</tr>\n",
       "<tr>\n",
       "  <th>illiteracy</th> <td>4.2575</td>  <td>0.6217</td>  <td>6.8479</td> <td>0.0000</td> <td>3.0074</td> <td>5.5075</td>\n",
       "</tr>\n",
       "</table>\n",
       "<table class=\"simpletable\">\n",
       "<tr>\n",
       "     <td>Omnibus:</td>    <td>0.452</td>  <td>Durbin-Watson:</td>   <td>2.000</td>\n",
       "</tr>\n",
       "<tr>\n",
       "  <td>Prob(Omnibus):</td> <td>0.798</td> <td>Jarque-Bera (JB):</td> <td>0.452</td>\n",
       "</tr>\n",
       "<tr>\n",
       "       <td>Skew:</td>     <td>0.210</td>     <td>Prob(JB):</td>     <td>0.798</td>\n",
       "</tr>\n",
       "<tr>\n",
       "     <td>Kurtosis:</td>   <td>2.797</td>  <td>Condition No.:</td>     <td>4</td>  \n",
       "</tr>\n",
       "</table>"
      ],
      "text/plain": [
       "<class 'statsmodels.iolib.summary2.Summary'>\n",
       "\"\"\"\n",
       "                 Results: Ordinary least squares\n",
       "=================================================================\n",
       "Model:              OLS              Adj. R-squared:     0.484   \n",
       "Dependent Variable: murder           AIC:                241.4099\n",
       "Date:               2018-06-03 20:08 BIC:                245.2340\n",
       "No. Observations:   50               Log-Likelihood:     -118.70 \n",
       "Df Model:           1                F-statistic:        46.89   \n",
       "Df Residuals:       48               Prob (F-statistic): 1.26e-08\n",
       "R-squared:          0.494            Scale:              7.0367  \n",
       "-------------------------------------------------------------------\n",
       "              Coef.    Std.Err.     t      P>|t|    [0.025   0.975]\n",
       "-------------------------------------------------------------------\n",
       "Intercept     2.3968     0.8184   2.9285   0.0052   0.7512   4.0424\n",
       "illiteracy    4.2575     0.6217   6.8479   0.0000   3.0074   5.5075\n",
       "-----------------------------------------------------------------\n",
       "Omnibus:              0.452        Durbin-Watson:           2.000\n",
       "Prob(Omnibus):        0.798        Jarque-Bera (JB):        0.452\n",
       "Skew:                 0.210        Prob(JB):                0.798\n",
       "Kurtosis:             2.797        Condition No.:           4    \n",
       "=================================================================\n",
       "\n",
       "\"\"\""
      ]
     },
     "execution_count": 212,
     "metadata": {},
     "output_type": "execute_result"
    }
   ],
   "source": [
    "from statsmodels.formula.api import ols\n",
    "formula='murder~illiteracy'\n",
    "murder_model2=ols(formula,data=murder).fit()\n",
    "murder_model2.summary2()"
   ]
  },
  {
   "cell_type": "code",
   "execution_count": 213,
   "metadata": {},
   "outputs": [
    {
     "data": {
      "text/html": [
       "<table class=\"simpletable\">\n",
       "<tr>\n",
       "        <td>Model:</td>               <td>OLS</td>         <td>Adj. R-squared:</td>     <td>0.484</td> \n",
       "</tr>\n",
       "<tr>\n",
       "  <td>Dependent Variable:</td>      <td>murder</td>             <td>AIC:</td>         <td>241.4099</td>\n",
       "</tr>\n",
       "<tr>\n",
       "         <td>Date:</td>        <td>2018-06-03 20:08</td>        <td>BIC:</td>         <td>245.2340</td>\n",
       "</tr>\n",
       "<tr>\n",
       "   <td>No. Observations:</td>         <td>50</td>          <td>Log-Likelihood:</td>    <td>-118.70</td>\n",
       "</tr>\n",
       "<tr>\n",
       "       <td>Df Model:</td>              <td>1</td>           <td>F-statistic:</td>       <td>46.89</td> \n",
       "</tr>\n",
       "<tr>\n",
       "     <td>Df Residuals:</td>           <td>48</td>        <td>Prob (F-statistic):</td> <td>1.26e-08</td>\n",
       "</tr>\n",
       "<tr>\n",
       "      <td>R-squared:</td>            <td>0.494</td>            <td>Scale:</td>         <td>7.0367</td> \n",
       "</tr>\n",
       "</table>\n",
       "<table class=\"simpletable\">\n",
       "<tr>\n",
       "       <td></td>       <th>Coef.</th> <th>Std.Err.</th>    <th>t</th>    <th>P>|t|</th> <th>[0.025</th> <th>0.975]</th>\n",
       "</tr>\n",
       "<tr>\n",
       "  <th>const</th>      <td>2.3968</td>  <td>0.8184</td>  <td>2.9285</td> <td>0.0052</td> <td>0.7512</td> <td>4.0424</td>\n",
       "</tr>\n",
       "<tr>\n",
       "  <th>illiteracy</th> <td>4.2575</td>  <td>0.6217</td>  <td>6.8479</td> <td>0.0000</td> <td>3.0074</td> <td>5.5075</td>\n",
       "</tr>\n",
       "</table>\n",
       "<table class=\"simpletable\">\n",
       "<tr>\n",
       "     <td>Omnibus:</td>    <td>0.452</td>  <td>Durbin-Watson:</td>   <td>2.000</td>\n",
       "</tr>\n",
       "<tr>\n",
       "  <td>Prob(Omnibus):</td> <td>0.798</td> <td>Jarque-Bera (JB):</td> <td>0.452</td>\n",
       "</tr>\n",
       "<tr>\n",
       "       <td>Skew:</td>     <td>0.210</td>     <td>Prob(JB):</td>     <td>0.798</td>\n",
       "</tr>\n",
       "<tr>\n",
       "     <td>Kurtosis:</td>   <td>2.797</td>  <td>Condition No.:</td>     <td>4</td>  \n",
       "</tr>\n",
       "</table>"
      ],
      "text/plain": [
       "<class 'statsmodels.iolib.summary2.Summary'>\n",
       "\"\"\"\n",
       "                 Results: Ordinary least squares\n",
       "=================================================================\n",
       "Model:              OLS              Adj. R-squared:     0.484   \n",
       "Dependent Variable: murder           AIC:                241.4099\n",
       "Date:               2018-06-03 20:08 BIC:                245.2340\n",
       "No. Observations:   50               Log-Likelihood:     -118.70 \n",
       "Df Model:           1                F-statistic:        46.89   \n",
       "Df Residuals:       48               Prob (F-statistic): 1.26e-08\n",
       "R-squared:          0.494            Scale:              7.0367  \n",
       "-------------------------------------------------------------------\n",
       "              Coef.    Std.Err.     t      P>|t|    [0.025   0.975]\n",
       "-------------------------------------------------------------------\n",
       "const         2.3968     0.8184   2.9285   0.0052   0.7512   4.0424\n",
       "illiteracy    4.2575     0.6217   6.8479   0.0000   3.0074   5.5075\n",
       "-----------------------------------------------------------------\n",
       "Omnibus:              0.452        Durbin-Watson:           2.000\n",
       "Prob(Omnibus):        0.798        Jarque-Bera (JB):        0.452\n",
       "Skew:                 0.210        Prob(JB):                0.798\n",
       "Kurtosis:             2.797        Condition No.:           4    \n",
       "=================================================================\n",
       "\n",
       "\"\"\""
      ]
     },
     "execution_count": 213,
     "metadata": {},
     "output_type": "execute_result"
    }
   ],
   "source": [
    "from statsmodels.formula.api import OLS\n",
    "x=murder['illiteracy']\n",
    "x=sm.add_constant(x)\n",
    "'''\n",
    "构建模型的自变量数组，该数组包含截距\n",
    "'''\n",
    "y=murder['murder']\n",
    "murder_model3=OLS(y,x).fit()\n",
    "'''\n",
    "ols是一个类\n",
    "'''\n",
    "murder_model3.summary2()"
   ]
  },
  {
   "cell_type": "code",
   "execution_count": 214,
   "metadata": {},
   "outputs": [
    {
     "data": {
      "text/plain": [
       "(0.6152086826947937, 0.8811091720318107)"
      ]
     },
     "execution_count": 214,
     "metadata": {},
     "output_type": "execute_result"
    }
   ],
   "source": [
    "sm.stats.diagnostic.linear_rainbow(murder_model2)  #回归方程总体显著性检验"
   ]
  },
  {
   "cell_type": "code",
   "execution_count": 215,
   "metadata": {},
   "outputs": [
    {
     "data": {
      "image/png": "[encoded data removed]",
      "text/plain": [
       "<matplotlib.figure.Figure at 0xe07f828>"
      ]
     },
     "metadata": {},
     "output_type": "display_data"
    }
   ],
   "source": [
    "sm.qqplot(murder_model2.resid,fit=True,line='45')  #绘制残差Q-Q图\n",
    "plt.show()"
   ]
  },
  {
   "cell_type": "code",
   "execution_count": 228,
   "metadata": {},
   "outputs": [
    {
     "data": {
      "image/png": "[encoded data removed]",
      "text/plain": [
       "<matplotlib.figure.Figure at 0xd629320>"
      ]
     },
     "metadata": {},
     "output_type": "display_data"
    }
   ],
   "source": [
    "fig=plt.gcf()\n",
    "fig.set_size_inches(8,4)\n",
    "plt.subplot(121)\n",
    "plt.plot(murder['illiteracy'],murder_model2.resid,'o')\n",
    "plt.xlabel('illiteracy')\n",
    "plt.ylabel('residual')\n",
    "plt.subplot(122)\n",
    "plt.plot(murder_model2.fittedvalues,murder_model2.resid,'o')\n",
    "plt.xlabel('predicted_value')\n",
    "plt.ylabel('residual')\n",
    "plt.show()"
   ]
  },
  {
   "cell_type": "code",
   "execution_count": 232,
   "metadata": {},
   "outputs": [
    {
     "data": {
      "image/png": "[encoded data removed]",
      "text/plain": [
       "<matplotlib.figure.Figure at 0xd649978>"
      ]
     },
     "metadata": {},
     "output_type": "display_data"
    }
   ],
   "source": [
    "fig=plt.figure(figsize=(12,8))\n",
    "from statsmodels.graphics.regressionplots import plot_regress_exog\n",
    "plot_regress_exog(murder_model2,1,fig=fig)  #第二个参数是指模型中的第几个自变量，第三个参数fig表示指定的对象上绘图\n",
    "plt.show()"
   ]
  },
  {
   "cell_type": "code",
   "execution_count": 234,
   "metadata": {},
   "outputs": [
    {
     "data": {
      "image/png": "[encoded data removed]",
      "text/plain": [
       "<matplotlib.figure.Figure at 0x12f8aa90>"
      ]
     },
     "metadata": {},
     "output_type": "display_data"
    }
   ],
   "source": [
    "from statsmodels.graphics.regressionplots import plot_fit\n",
    "plot_fit(murder_model2,1)  #第二个参数是指模型中的第几个变量\n",
    "plt.show()"
   ]
  },
  {
   "cell_type": "code",
   "execution_count": 235,
   "metadata": {},
   "outputs": [
    {
     "data": {
      "image/png": "[encoded data removed]",
      "text/plain": [
       "<matplotlib.figure.Figure at 0xdac9a90>"
      ]
     },
     "metadata": {},
     "output_type": "display_data"
    }
   ],
   "source": [
    "from statsmodels.sandbox.regression.predstd import wls_prediction_std\n",
    "prstd,interval_l,interval_u=wls_prediction_std(murder_model2,alpha=0.05)\n",
    "fig=plt.subplots(figsize=(7,4))\n",
    "plt.plot(murder['illiteracy'],murder['murder'],'o',label='data')\n",
    "plt.plot(murder['illiteracy'],murder_model2.fittedvalues,'r--.',label='OLS')\n",
    "plt.plot(murder['illiteracy'],interval_u,'r--')\n",
    "plt.plot(murder['illiteracy'],interval_l,'r--')\n",
    "plt.legend(loc='best');\n",
    "plt.show()  #绘制集合区县和因变量预测置信区间"
   ]
  },
  {
   "cell_type": "code",
   "execution_count": 239,
   "metadata": {},
   "outputs": [
    {
     "data": {
      "text/html": [
       "<div>\n",
       "<style scoped>\n",
       "    .dataframe tbody tr th:only-of-type {\n",
       "        vertical-align: middle;\n",
       "    }\n",
       "\n",
       "    .dataframe tbody tr th {\n",
       "        vertical-align: top;\n",
       "    }\n",
       "\n",
       "    .dataframe thead th {\n",
       "        text-align: right;\n",
       "    }\n",
       "</style>\n",
       "<table border=\"1\" class=\"dataframe\">\n",
       "  <thead>\n",
       "    <tr style=\"text-align: right;\">\n",
       "      <th></th>\n",
       "      <th>position</th>\n",
       "      <th>ID</th>\n",
       "      <th>Gender</th>\n",
       "      <th>Education</th>\n",
       "      <th>Current_Salary</th>\n",
       "      <th>Begin_Salary</th>\n",
       "      <th>Experience</th>\n",
       "      <th>Age</th>\n",
       "    </tr>\n",
       "  </thead>\n",
       "  <tbody>\n",
       "    <tr>\n",
       "      <th>0</th>\n",
       "      <td>1</td>\n",
       "      <td>1</td>\n",
       "      <td>1</td>\n",
       "      <td>15</td>\n",
       "      <td>57000</td>\n",
       "      <td>27000</td>\n",
       "      <td>144.0</td>\n",
       "      <td>55.0</td>\n",
       "    </tr>\n",
       "    <tr>\n",
       "      <th>1</th>\n",
       "      <td>1</td>\n",
       "      <td>34</td>\n",
       "      <td>1</td>\n",
       "      <td>19</td>\n",
       "      <td>92000</td>\n",
       "      <td>39990</td>\n",
       "      <td>175.0</td>\n",
       "      <td>58.0</td>\n",
       "    </tr>\n",
       "    <tr>\n",
       "      <th>2</th>\n",
       "      <td>1</td>\n",
       "      <td>18</td>\n",
       "      <td>1</td>\n",
       "      <td>16</td>\n",
       "      <td>103750</td>\n",
       "      <td>27510</td>\n",
       "      <td>70.0</td>\n",
       "      <td>51.0</td>\n",
       "    </tr>\n",
       "    <tr>\n",
       "      <th>3</th>\n",
       "      <td>1</td>\n",
       "      <td>200</td>\n",
       "      <td>1</td>\n",
       "      <td>17</td>\n",
       "      <td>67500</td>\n",
       "      <td>34980</td>\n",
       "      <td>9.0</td>\n",
       "      <td>44.0</td>\n",
       "    </tr>\n",
       "    <tr>\n",
       "      <th>4</th>\n",
       "      <td>1</td>\n",
       "      <td>199</td>\n",
       "      <td>1</td>\n",
       "      <td>16</td>\n",
       "      <td>51250</td>\n",
       "      <td>27480</td>\n",
       "      <td>69.0</td>\n",
       "      <td>49.0</td>\n",
       "    </tr>\n",
       "  </tbody>\n",
       "</table>\n",
       "</div>"
      ],
      "text/plain": [
       "   position   ID  Gender  Education  Current_Salary  Begin_Salary  Experience  \\\n",
       "0         1    1       1         15           57000         27000       144.0   \n",
       "1         1   34       1         19           92000         39990       175.0   \n",
       "2         1   18       1         16          103750         27510        70.0   \n",
       "3         1  200       1         17           67500         34980         9.0   \n",
       "4         1  199       1         16           51250         27480        69.0   \n",
       "\n",
       "    Age  \n",
       "0  55.0  \n",
       "1  58.0  \n",
       "2  51.0  \n",
       "3  44.0  \n",
       "4  49.0  "
      ]
     },
     "execution_count": 239,
     "metadata": {},
     "output_type": "execute_result"
    }
   ],
   "source": [
    "path=\"D:/data/Python_data/ch9/salary_r.csv\"\n",
    "salary=pd.read_csv(path)\n",
    "salary=salary.dropna(axis=0)\n",
    "salary.head()"
   ]
  },
  {
   "cell_type": "code",
   "execution_count": 241,
   "metadata": {},
   "outputs": [],
   "source": [
    "salary['position_valueabel']=salary['position']\n",
    "salary['Gender_valueabel']=salary['Gender']\n",
    "salary['position_valueabel']=salary['position_valueabel'].astype('category')\n",
    "salary['position_valueabel'].cat.categories=['经理','主管','普通员工']\n",
    "salary['position_valueabel'].cat.set_categories=['经理','主管','普通员工']\n",
    "salary['Gender_valueabel']=salary['Gender_valueabel'].astype('category')\n",
    "salary['Gender_valueabel'].cat.categories=['女','男']\n",
    "salary['Gender_valueabel'].cat.set_categories=['女','男']"
   ]
  },
  {
   "cell_type": "code",
   "execution_count": 243,
   "metadata": {},
   "outputs": [
    {
     "data": {
      "text/html": [
       "<table class=\"simpletable\">\n",
       "<tr>\n",
       "        <td>Model:</td>               <td>OLS</td>         <td>Adj. R-squared:</td>      <td>0.781</td>  \n",
       "</tr>\n",
       "<tr>\n",
       "  <td>Dependent Variable:</td>  <td>Current_Salary</td>         <td>AIC:</td>          <td>9243.8648</td>\n",
       "</tr>\n",
       "<tr>\n",
       "         <td>Date:</td>        <td>2018-06-03 20:35</td>        <td>BIC:</td>          <td>9264.3664</td>\n",
       "</tr>\n",
       "<tr>\n",
       "   <td>No. Observations:</td>         <td>446</td>         <td>Log-Likelihood:</td>     <td>-4616.9</td> \n",
       "</tr>\n",
       "<tr>\n",
       "       <td>Df Model:</td>              <td>4</td>           <td>F-statistic:</td>        <td>398.8</td>  \n",
       "</tr>\n",
       "<tr>\n",
       "     <td>Df Residuals:</td>           <td>441</td>       <td>Prob (F-statistic):</td>  <td>5.53e-145</td>\n",
       "</tr>\n",
       "<tr>\n",
       "      <td>R-squared:</td>            <td>0.783</td>            <td>Scale:</td>        <td>5.8068e+07</td>\n",
       "</tr>\n",
       "</table>\n",
       "<table class=\"simpletable\">\n",
       "<tr>\n",
       "        <td></td>         <th>Coef.</th>  <th>Std.Err.</th>     <th>t</th>     <th>P>|t|</th>   <th>[0.025</th>    <th>0.975]</th>  \n",
       "</tr>\n",
       "<tr>\n",
       "  <th>Intercept</th>    <td>703.3118</td> <td>3147.8045</td> <td>0.2234</td>  <td>0.8233</td> <td>-5483.2503</td> <td>6889.8740</td>\n",
       "</tr>\n",
       "<tr>\n",
       "  <th>Education</th>    <td>490.5022</td> <td>180.7222</td>  <td>2.7141</td>  <td>0.0069</td>  <td>135.3185</td>  <td>845.6860</td> \n",
       "</tr>\n",
       "<tr>\n",
       "  <th>Begin_Salary</th>  <td>1.8936</td>   <td>0.0722</td>   <td>26.2203</td> <td>0.0000</td>   <td>1.7517</td>    <td>2.0356</td>  \n",
       "</tr>\n",
       "<tr>\n",
       "  <th>Experience</th>   <td>-11.6277</td>  <td>5.9764</td>   <td>-1.9456</td> <td>0.0523</td>  <td>-23.3735</td>   <td>0.1182</td>  \n",
       "</tr>\n",
       "<tr>\n",
       "  <th>Age</th>          <td>-74.9263</td>  <td>53.2311</td>  <td>-1.4076</td> <td>0.1600</td>  <td>-179.5445</td>  <td>29.6918</td> \n",
       "</tr>\n",
       "</table>\n",
       "<table class=\"simpletable\">\n",
       "<tr>\n",
       "     <td>Omnibus:</td>    <td>194.312</td>  <td>Durbin-Watson:</td>     <td>1.887</td> \n",
       "</tr>\n",
       "<tr>\n",
       "  <td>Prob(Omnibus):</td>  <td>0.000</td>  <td>Jarque-Bera (JB):</td> <td>1481.311</td>\n",
       "</tr>\n",
       "<tr>\n",
       "       <td>Skew:</td>      <td>1.695</td>      <td>Prob(JB):</td>       <td>0.000</td> \n",
       "</tr>\n",
       "<tr>\n",
       "     <td>Kurtosis:</td>   <td>11.259</td>   <td>Condition No.:</td>    <td>160242</td> \n",
       "</tr>\n",
       "</table>"
      ],
      "text/plain": [
       "<class 'statsmodels.iolib.summary2.Summary'>\n",
       "\"\"\"\n",
       "                  Results: Ordinary least squares\n",
       "===================================================================\n",
       "Model:              OLS              Adj. R-squared:     0.781     \n",
       "Dependent Variable: Current_Salary   AIC:                9243.8648 \n",
       "Date:               2018-06-03 20:35 BIC:                9264.3664 \n",
       "No. Observations:   446              Log-Likelihood:     -4616.9   \n",
       "Df Model:           4                F-statistic:        398.8     \n",
       "Df Residuals:       441              Prob (F-statistic): 5.53e-145 \n",
       "R-squared:          0.783            Scale:              5.8068e+07\n",
       "-------------------------------------------------------------------\n",
       "              Coef.    Std.Err.    t    P>|t|    [0.025     0.975] \n",
       "-------------------------------------------------------------------\n",
       "Intercept    703.3118 3147.8045  0.2234 0.8233 -5483.2503 6889.8740\n",
       "Education    490.5022  180.7222  2.7141 0.0069   135.3185  845.6860\n",
       "Begin_Salary   1.8936    0.0722 26.2203 0.0000     1.7517    2.0356\n",
       "Experience   -11.6277    5.9764 -1.9456 0.0523   -23.3735    0.1182\n",
       "Age          -74.9263   53.2311 -1.4076 0.1600  -179.5445   29.6918\n",
       "-------------------------------------------------------------------\n",
       "Omnibus:             194.312       Durbin-Watson:          1.887   \n",
       "Prob(Omnibus):       0.000         Jarque-Bera (JB):       1481.311\n",
       "Skew:                1.695         Prob(JB):               0.000   \n",
       "Kurtosis:            11.259        Condition No.:          160242  \n",
       "===================================================================\n",
       "* The condition number is large (2e+05). This might indicate\n",
       "strong multicollinearity or other numerical problems.\n",
       "\"\"\""
      ]
     },
     "execution_count": 243,
     "metadata": {},
     "output_type": "execute_result"
    }
   ],
   "source": [
    "formula='Current_Salary~Education+Begin_Salary+Experience+Age'  #使用statsmodels提供的ols进行建模\n",
    "salary_model1=ols(formula,data=salary).fit()\n",
    "salary_model1.summary2()"
   ]
  },
  {
   "cell_type": "code",
   "execution_count": 249,
   "metadata": {},
   "outputs": [
    {
     "name": "stdout",
     "output_type": "stream",
     "text": [
      "                   Results: Ordinary least squares\n",
      "=====================================================================\n",
      "Model:                OLS              Adj. R-squared:     0.781     \n",
      "Dependent Variable:   Current_Salary   AIC:                9243.8641 \n",
      "Date:                 2018-06-03 20:41 BIC:                9260.2653 \n",
      "No. Observations:     446              Log-Likelihood:     -4617.9   \n",
      "Df Model:             3                F-statistic:        529.9     \n",
      "Df Residuals:         442              Prob (F-statistic): 5.93e-146 \n",
      "R-squared:            0.782            Scale:              5.8197e+07\n",
      "---------------------------------------------------------------------\n",
      "               Coef.     Std.Err.    t    P>|t|    [0.025     0.975] \n",
      "---------------------------------------------------------------------\n",
      "Intercept    -2708.6776 2010.3943 -1.3473 0.1786 -6659.7972 1242.4419\n",
      "Education      512.4963  180.2451  2.8433 0.0047   158.2523  866.7403\n",
      "Begin_Salary     1.8939    0.0723 26.1949 0.0000     1.7518    2.0360\n",
      "Experience     -18.2230    3.7139 -4.9067 0.0000   -25.5221  -10.9239\n",
      "---------------------------------------------------------------------\n",
      "Omnibus:               191.615       Durbin-Watson:          1.876   \n",
      "Prob(Omnibus):         0.000         Jarque-Bera (JB):       1424.408\n",
      "Skew:                  1.675         Prob(JB):               0.000   \n",
      "Kurtosis:              11.088        Condition No.:          102459  \n",
      "=====================================================================\n",
      "* The condition number is large (1e+05). This might indicate\n",
      "strong multicollinearity or other numerical problems.\n"
     ]
    }
   ],
   "source": [
    "formula='Current_Salary~Education+Begin_Salary+Experience-Age'  #对于回归系数不显著的变量应当在模型中剔除\n",
    "salary_model2=ols(formula,data=salary).fit()\n",
    "print salary_model2.summary2()"
   ]
  },
  {
   "cell_type": "code",
   "execution_count": 252,
   "metadata": {},
   "outputs": [
    {
     "data": {
      "image/png": "[encoded data removed]",
      "text/plain": [
       "<matplotlib.figure.Figure at 0x12ed6588>"
      ]
     },
     "metadata": {},
     "output_type": "display_data"
    }
   ],
   "source": [
    "fig=plt.gcf()\n",
    "fig.suptitle('Residual by Regressors & Predicted for Current_Salary')\n",
    "fig.set_size_inches(6,6)\n",
    "plt.subplot(221)\n",
    "plt.plot(salary['Education'],salary_model2.resid,'o')\n",
    "plt.xlabel('Education')\n",
    "plt.ylabel('Residual')\n",
    "plt.subplot(222)\n",
    "plt.plot(salary['Begin_Salary'],salary_model2.resid,'o')\n",
    "plt.xlabel('Begin_Salary')\n",
    "plt.subplot(223)\n",
    "plt.plot(salary['Experience'],salary_model2.resid,'o')\n",
    "plt.xlabel('Exception')\n",
    "plt.ylabel('Residual')\n",
    "plt.subplot(224)\n",
    "plt.plot(salary_model2.fittedvalues,salary_model2.resid,'o')\n",
    "plt.xlabel('Predicted')\n",
    "plt.subplots_adjust(hspace=0.3,wspace=0.35)\n",
    "plt.show()"
   ]
  },
  {
   "cell_type": "code",
   "execution_count": 254,
   "metadata": {},
   "outputs": [
    {
     "data": {
      "text/plain": [
       "LinearRegression(copy_X=True, fit_intercept=True, n_jobs=1, normalize=False)"
      ]
     },
     "execution_count": 254,
     "metadata": {},
     "output_type": "execute_result"
    }
   ],
   "source": [
    "from sklearn import linear_model  #多元线性回归\n",
    "salary_model3=linear_model.LinearRegression()\n",
    "salary_model3.fit(salary[['Education','Begin_Salary','Experience']],salary['Current_Salary'])"
   ]
  },
  {
   "cell_type": "code",
   "execution_count": 255,
   "metadata": {},
   "outputs": [
    {
     "name": "stdout",
     "output_type": "stream",
     "text": [
      "intercept: -2708.677631,coefficients: [512.4962845    1.89389266 -18.22300788]\n"
     ]
    }
   ],
   "source": [
    "print 'intercept: %.6f,coefficients: %s'   %(salary_model3.intercept_,salary_model3.coef_)"
   ]
  },
  {
   "cell_type": "code",
   "execution_count": 256,
   "metadata": {},
   "outputs": [
    {
     "name": "stdout",
     "output_type": "stream",
     "text": [
      "ContrastMatrix(array([[1., 0.],\n",
      "                      [0., 1.],\n",
      "                      [0., 0.]]), ['[T.1]', '[T.2]'])\n"
     ]
    }
   ],
   "source": [
    "from patsy.contrasts import Treatment\n",
    "contrasts=Treatment(reference=3).code_without_intercept([1,2,3])\n",
    "# 列表中的数字是分类变量的属性以数字来对应表示\n",
    "print contrasts"
   ]
  },
  {
   "cell_type": "code",
   "execution_count": 259,
   "metadata": {},
   "outputs": [
    {
     "name": "stdout",
     "output_type": "stream",
     "text": [
      "                                  Results: Ordinary least squares\n",
      "==================================================================================================\n",
      "Model:                         OLS                        Adj. R-squared:               0.813     \n",
      "Dependent Variable:            Current_Salary             AIC:                          9175.9545 \n",
      "Date:                          2018-06-03 21:00           BIC:                          9204.6567 \n",
      "No. Observations:              446                        Log-Likelihood:               -4581.0   \n",
      "Df Model:                      6                          F-statistic:                  323.8     \n",
      "Df Residuals:                  439                        Prob (F-statistic):           1.02e-157 \n",
      "R-squared:                     0.816                      Scale:                        4.9647e+07\n",
      "--------------------------------------------------------------------------------------------------\n",
      "                                            Coef.     Std.Err.    t    P>|t|    [0.025    0.975]  \n",
      "--------------------------------------------------------------------------------------------------\n",
      "Intercept                                  3908.9330 2155.2003  1.8137 0.0704 -326.8598  8144.7258\n",
      "C(position, Treatment(reference=3))[T.1L] 11501.1261 1543.7087  7.4503 0.0000 8467.1481 14535.1041\n",
      "C(position, Treatment(reference=3))[T.2L]  6691.6927 1692.3071  3.9542 0.0001 3365.6621 10017.7234\n",
      "C(Gender)[T.1L]                            1970.6471  813.6961  2.4218 0.0158  371.4232  3569.8711\n",
      "Education                                   506.7274  172.5026  2.9375 0.0035  167.6939   845.7609\n",
      "Begin_Salary                                  1.3221    0.0988 13.3870 0.0000    1.1280     1.5162\n",
      "Experience                                  -22.5668    3.7782 -5.9728 0.0000  -29.9925   -15.1411\n",
      "--------------------------------------------------------------------------------------------------\n",
      "Omnibus:                        206.434                 Durbin-Watson:                    1.962   \n",
      "Prob(Omnibus):                  0.000                   Jarque-Bera (JB):                 1762.413\n",
      "Skew:                           1.786                   Prob(JB):                         0.000   \n",
      "Kurtosis:                       12.060                  Condition No.:                    130698  \n",
      "==================================================================================================\n",
      "* The condition number is large (1e+05). This might indicate             strong multicollinearity\n",
      "or other numerical problems.\n"
     ]
    }
   ],
   "source": [
    "formula='Current_Salary~Education+Begin_Salary+Experience-Age+C(position,Treatment(reference=3))+C(Gender)'\n",
    "salary_model4=ols(formula,data=salary).fit()\n",
    "print salary_model4.summary2()"
   ]
  },
  {
   "cell_type": "code",
   "execution_count": 269,
   "metadata": {},
   "outputs": [
    {
     "data": {
      "text/html": [
       "<div>\n",
       "<style scoped>\n",
       "    .dataframe tbody tr th:only-of-type {\n",
       "        vertical-align: middle;\n",
       "    }\n",
       "\n",
       "    .dataframe tbody tr th {\n",
       "        vertical-align: top;\n",
       "    }\n",
       "\n",
       "    .dataframe thead th {\n",
       "        text-align: right;\n",
       "    }\n",
       "</style>\n",
       "<table border=\"1\" class=\"dataframe\">\n",
       "  <thead>\n",
       "    <tr style=\"text-align: right;\">\n",
       "      <th></th>\n",
       "      <th>position</th>\n",
       "      <th>ID</th>\n",
       "      <th>Gender</th>\n",
       "      <th>Education</th>\n",
       "      <th>Current_Salary</th>\n",
       "      <th>Begin_Salary</th>\n",
       "      <th>Experience</th>\n",
       "      <th>Age</th>\n",
       "      <th>position_valueabel</th>\n",
       "      <th>Gender_valueabel</th>\n",
       "      <th>position1</th>\n",
       "      <th>position2</th>\n",
       "      <th>position__经理</th>\n",
       "      <th>position__主管</th>\n",
       "      <th>position__普通员工</th>\n",
       "    </tr>\n",
       "  </thead>\n",
       "  <tbody>\n",
       "    <tr>\n",
       "      <th>0</th>\n",
       "      <td>1</td>\n",
       "      <td>1</td>\n",
       "      <td>1</td>\n",
       "      <td>15</td>\n",
       "      <td>57000</td>\n",
       "      <td>27000</td>\n",
       "      <td>144.0</td>\n",
       "      <td>55.0</td>\n",
       "      <td>经理</td>\n",
       "      <td>男</td>\n",
       "      <td>1.0</td>\n",
       "      <td>0.0</td>\n",
       "      <td>1</td>\n",
       "      <td>0</td>\n",
       "      <td>0</td>\n",
       "    </tr>\n",
       "    <tr>\n",
       "      <th>1</th>\n",
       "      <td>1</td>\n",
       "      <td>34</td>\n",
       "      <td>1</td>\n",
       "      <td>19</td>\n",
       "      <td>92000</td>\n",
       "      <td>39990</td>\n",
       "      <td>175.0</td>\n",
       "      <td>58.0</td>\n",
       "      <td>经理</td>\n",
       "      <td>男</td>\n",
       "      <td>1.0</td>\n",
       "      <td>0.0</td>\n",
       "      <td>1</td>\n",
       "      <td>0</td>\n",
       "      <td>0</td>\n",
       "    </tr>\n",
       "    <tr>\n",
       "      <th>2</th>\n",
       "      <td>1</td>\n",
       "      <td>18</td>\n",
       "      <td>1</td>\n",
       "      <td>16</td>\n",
       "      <td>103750</td>\n",
       "      <td>27510</td>\n",
       "      <td>70.0</td>\n",
       "      <td>51.0</td>\n",
       "      <td>经理</td>\n",
       "      <td>男</td>\n",
       "      <td>1.0</td>\n",
       "      <td>0.0</td>\n",
       "      <td>1</td>\n",
       "      <td>0</td>\n",
       "      <td>0</td>\n",
       "    </tr>\n",
       "    <tr>\n",
       "      <th>3</th>\n",
       "      <td>1</td>\n",
       "      <td>200</td>\n",
       "      <td>1</td>\n",
       "      <td>17</td>\n",
       "      <td>67500</td>\n",
       "      <td>34980</td>\n",
       "      <td>9.0</td>\n",
       "      <td>44.0</td>\n",
       "      <td>经理</td>\n",
       "      <td>男</td>\n",
       "      <td>1.0</td>\n",
       "      <td>0.0</td>\n",
       "      <td>1</td>\n",
       "      <td>0</td>\n",
       "      <td>0</td>\n",
       "    </tr>\n",
       "    <tr>\n",
       "      <th>4</th>\n",
       "      <td>1</td>\n",
       "      <td>199</td>\n",
       "      <td>1</td>\n",
       "      <td>16</td>\n",
       "      <td>51250</td>\n",
       "      <td>27480</td>\n",
       "      <td>69.0</td>\n",
       "      <td>49.0</td>\n",
       "      <td>经理</td>\n",
       "      <td>男</td>\n",
       "      <td>1.0</td>\n",
       "      <td>0.0</td>\n",
       "      <td>1</td>\n",
       "      <td>0</td>\n",
       "      <td>0</td>\n",
       "    </tr>\n",
       "  </tbody>\n",
       "</table>\n",
       "</div>"
      ],
      "text/plain": [
       "   position   ID  Gender  Education  Current_Salary  Begin_Salary  Experience  \\\n",
       "0         1    1       1         15           57000         27000       144.0   \n",
       "1         1   34       1         19           92000         39990       175.0   \n",
       "2         1   18       1         16          103750         27510        70.0   \n",
       "3         1  200       1         17           67500         34980         9.0   \n",
       "4         1  199       1         16           51250         27480        69.0   \n",
       "\n",
       "    Age position_valueabel Gender_valueabel  position1  position2  \\\n",
       "0  55.0                 经理                男        1.0        0.0   \n",
       "1  58.0                 经理                男        1.0        0.0   \n",
       "2  51.0                 经理                男        1.0        0.0   \n",
       "3  44.0                 经理                男        1.0        0.0   \n",
       "4  49.0                 经理                男        1.0        0.0   \n",
       "\n",
       "   position__经理  position__主管  position__普通员工  \n",
       "0             1             0               0  \n",
       "1             1             0               0  \n",
       "2             1             0               0  \n",
       "3             1             0               0  \n",
       "4             1             0               0  "
      ]
     },
     "execution_count": 269,
     "metadata": {},
     "output_type": "execute_result"
    }
   ],
   "source": [
    "salary.loc[(salary.position_valueabel=='jl'),'position1']=1  #直接赋值\n",
    "salary.loc[(salary.position_valueabel=='jl'),'position2']=0\n",
    "salary.loc[(salary.position_valueabel=='zg'),'position1']=0\n",
    "salary.loc[(salary.position_valueabel=='zg'),'position2']=1\n",
    "salary.loc[(salary.position_valueabel=='yg'),'position1']=0\n",
    "salary.loc[(salary.position_valueabel=='yg'),'position2']=0\n",
    "salary.head()"
   ]
  },
  {
   "cell_type": "code",
   "execution_count": 267,
   "metadata": {},
   "outputs": [],
   "source": [
    "dm=pd.get_dummies(salary['position_valueabel'],prefix='position_')  #将指定变量处理为虚拟变量"
   ]
  },
  {
   "cell_type": "code",
   "execution_count": 270,
   "metadata": {},
   "outputs": [
    {
     "name": "stdout",
     "output_type": "stream",
     "text": [
      "                   Results: Ordinary least squares\n",
      "=====================================================================\n",
      "Model:                OLS              Adj. R-squared:     0.813     \n",
      "Dependent Variable:   Current_Salary   AIC:                9175.9545 \n",
      "Date:                 2018-06-03 21:12 BIC:                9204.6567 \n",
      "No. Observations:     446              Log-Likelihood:     -4581.0   \n",
      "Df Model:             6                F-statistic:        323.8     \n",
      "Df Residuals:         439              Prob (F-statistic): 1.02e-157 \n",
      "R-squared:            0.816            Scale:              4.9647e+07\n",
      "---------------------------------------------------------------------\n",
      "               Coef.     Std.Err.    t    P>|t|    [0.025    0.975]  \n",
      "---------------------------------------------------------------------\n",
      "Intercept     3908.9330 2155.2003  1.8137 0.0704 -326.8598  8144.7258\n",
      "Education      506.7274  172.5026  2.9375 0.0035  167.6939   845.7609\n",
      "Begin_Salary     1.3221    0.0988 13.3870 0.0000    1.1280     1.5162\n",
      "Experience     -22.5668    3.7782 -5.9728 0.0000  -29.9925   -15.1411\n",
      "position1    11501.1261 1543.7087  7.4503 0.0000 8467.1481 14535.1041\n",
      "position2     6691.6927 1692.3071  3.9542 0.0001 3365.6621 10017.7234\n",
      "Gender        1970.6471  813.6961  2.4218 0.0158  371.4232  3569.8711\n",
      "---------------------------------------------------------------------\n",
      "Omnibus:               206.434       Durbin-Watson:          1.962   \n",
      "Prob(Omnibus):         0.000         Jarque-Bera (JB):       1762.413\n",
      "Skew:                  1.786         Prob(JB):               0.000   \n",
      "Kurtosis:              12.060        Condition No.:          130698  \n",
      "=====================================================================\n",
      "* The condition number is large (1e+05). This might indicate\n",
      "strong multicollinearity or other numerical problems.\n"
     ]
    }
   ],
   "source": [
    "formula='Current_Salary~Education+Begin_Salary+Experience-Age+position1+position2+Gender'\n",
    "salary_model5=ols(formula,data=salary).fit()\n",
    "print salary_model5.summary2()"
   ]
  },
  {
   "cell_type": "markdown",
   "metadata": {},
   "source": [
    "## 9.2 非线性回归"
   ]
  },
  {
   "cell_type": "markdown",
   "metadata": {},
   "source": [
    "### 9.2.1 可线性化的非线性分析"
   ]
  },
  {
   "cell_type": "code",
   "execution_count": 271,
   "metadata": {},
   "outputs": [
    {
     "data": {
      "text/html": [
       "<div>\n",
       "<style scoped>\n",
       "    .dataframe tbody tr th:only-of-type {\n",
       "        vertical-align: middle;\n",
       "    }\n",
       "\n",
       "    .dataframe tbody tr th {\n",
       "        vertical-align: top;\n",
       "    }\n",
       "\n",
       "    .dataframe thead th {\n",
       "        text-align: right;\n",
       "    }\n",
       "</style>\n",
       "<table border=\"1\" class=\"dataframe\">\n",
       "  <thead>\n",
       "    <tr style=\"text-align: right;\">\n",
       "      <th></th>\n",
       "      <th>registration</th>\n",
       "      <th>sales</th>\n",
       "    </tr>\n",
       "  </thead>\n",
       "  <tbody>\n",
       "    <tr>\n",
       "      <th>0</th>\n",
       "      <td>16.9</td>\n",
       "      <td>67.5</td>\n",
       "    </tr>\n",
       "    <tr>\n",
       "      <th>1</th>\n",
       "      <td>15.3</td>\n",
       "      <td>88.3</td>\n",
       "    </tr>\n",
       "    <tr>\n",
       "      <th>2</th>\n",
       "      <td>4.5</td>\n",
       "      <td>77.4</td>\n",
       "    </tr>\n",
       "    <tr>\n",
       "      <th>3</th>\n",
       "      <td>14.7</td>\n",
       "      <td>84.6</td>\n",
       "    </tr>\n",
       "    <tr>\n",
       "      <th>4</th>\n",
       "      <td>4.0</td>\n",
       "      <td>77.2</td>\n",
       "    </tr>\n",
       "  </tbody>\n",
       "</table>\n",
       "</div>"
      ],
      "text/plain": [
       "   registration  sales\n",
       "0          16.9   67.5\n",
       "1          15.3   88.3\n",
       "2           4.5   77.4\n",
       "3          14.7   84.6\n",
       "4           4.0   77.2"
      ]
     },
     "execution_count": 271,
     "metadata": {},
     "output_type": "execute_result"
    }
   ],
   "source": [
    "path=\"D:/data/Python_data/ch9/electronic_business.csv\"\n",
    "eb=pd.read_csv(path)\n",
    "eb.head()"
   ]
  },
  {
   "cell_type": "code",
   "execution_count": 272,
   "metadata": {},
   "outputs": [
    {
     "data": {
      "image/png": "[encoded data removed]",
      "text/plain": [
       "<matplotlib.figure.Figure at 0x13073cf8>"
      ]
     },
     "metadata": {},
     "output_type": "display_data"
    }
   ],
   "source": [
    "plt.scatter(eb.registration,eb.sales,marker='o')\n",
    "plt.xlabel('registration')\n",
    "plt.ylabel('sales')\n",
    "plt.show()"
   ]
  },
  {
   "cell_type": "code",
   "execution_count": 277,
   "metadata": {},
   "outputs": [
    {
     "name": "stdout",
     "output_type": "stream",
     "text": [
      "                     Results: Ordinary least squares\n",
      "========================================================================\n",
      "Model:                 OLS                Adj. R-squared:       0.968   \n",
      "Dependent Variable:    sales              AIC:                  148.0375\n",
      "Date:                  2018-06-03 21:17   BIC:                  151.6942\n",
      "No. Observations:      25                 Log-Likelihood:       -71.019 \n",
      "Df Model:              2                  F-statistic:          360.7   \n",
      "Df Residuals:          22                 Prob (F-statistic):   1.53e-17\n",
      "R-squared:             0.970              Scale:                19.520  \n",
      "------------------------------------------------------------------------\n",
      "                         Coef.  Std.Err.    t     P>|t|   [0.025  0.975]\n",
      "------------------------------------------------------------------------\n",
      "Intercept                9.1189   3.4492   2.6437 0.0148  1.9656 16.2721\n",
      "registration            20.7981   0.8147  25.5296 0.0000 19.1086 22.4876\n",
      "np.square(registration) -1.0394   0.0390 -26.6602 0.0000 -1.1202 -0.9585\n",
      "------------------------------------------------------------------------\n",
      "Omnibus:                 0.921          Durbin-Watson:             1.490\n",
      "Prob(Omnibus):           0.631          Jarque-Bera (JB):          0.777\n",
      "Skew:                    0.095          Prob(JB):                  0.678\n",
      "Kurtosis:                2.157          Condition No.:             780  \n",
      "========================================================================\n",
      "\n"
     ]
    }
   ],
   "source": [
    "formula='sales~registration+np.square(registration)'  #对变量进行转换，并拟合出线性模型\n",
    "eb_model=ols(formula,data=eb).fit()\n",
    "print eb_model.summary2()"
   ]
  },
  {
   "cell_type": "code",
   "execution_count": 282,
   "metadata": {},
   "outputs": [
    {
     "data": {
      "image/png": "[encoded data removed]",
      "text/plain": [
       "<matplotlib.figure.Figure at 0x130f9e80>"
      ]
     },
     "metadata": {},
     "output_type": "display_data"
    }
   ],
   "source": [
    "plot_fit(eb_model,1)\n",
    "plt.show()"
   ]
  },
  {
   "cell_type": "markdown",
   "metadata": {},
   "source": [
    "### 9.2.2 非线性回归模型"
   ]
  },
  {
   "cell_type": "code",
   "execution_count": 283,
   "metadata": {},
   "outputs": [
    {
     "data": {
      "text/html": [
       "<div>\n",
       "<style scoped>\n",
       "    .dataframe tbody tr th:only-of-type {\n",
       "        vertical-align: middle;\n",
       "    }\n",
       "\n",
       "    .dataframe tbody tr th {\n",
       "        vertical-align: top;\n",
       "    }\n",
       "\n",
       "    .dataframe thead th {\n",
       "        text-align: right;\n",
       "    }\n",
       "</style>\n",
       "<table border=\"1\" class=\"dataframe\">\n",
       "  <thead>\n",
       "    <tr style=\"text-align: right;\">\n",
       "      <th></th>\n",
       "      <th>registration</th>\n",
       "      <th>sales</th>\n",
       "    </tr>\n",
       "  </thead>\n",
       "  <tbody>\n",
       "    <tr>\n",
       "      <th>0</th>\n",
       "      <td>16.9</td>\n",
       "      <td>67.5</td>\n",
       "    </tr>\n",
       "    <tr>\n",
       "      <th>1</th>\n",
       "      <td>15.3</td>\n",
       "      <td>88.3</td>\n",
       "    </tr>\n",
       "    <tr>\n",
       "      <th>2</th>\n",
       "      <td>4.5</td>\n",
       "      <td>77.4</td>\n",
       "    </tr>\n",
       "    <tr>\n",
       "      <th>3</th>\n",
       "      <td>14.7</td>\n",
       "      <td>84.6</td>\n",
       "    </tr>\n",
       "    <tr>\n",
       "      <th>4</th>\n",
       "      <td>4.0</td>\n",
       "      <td>77.2</td>\n",
       "    </tr>\n",
       "  </tbody>\n",
       "</table>\n",
       "</div>"
      ],
      "text/plain": [
       "   registration  sales\n",
       "0          16.9   67.5\n",
       "1          15.3   88.3\n",
       "2           4.5   77.4\n",
       "3          14.7   84.6\n",
       "4           4.0   77.2"
      ]
     },
     "execution_count": 283,
     "metadata": {},
     "output_type": "execute_result"
    }
   ],
   "source": [
    "path=\"D:/data/Python_data/ch9/eb_extended.csv\"\n",
    "eb_ex=pd.read_csv(path)\n",
    "eb_ex.head()"
   ]
  },
  {
   "cell_type": "code",
   "execution_count": 284,
   "metadata": {},
   "outputs": [
    {
     "data": {
      "image/png": "[encoded data removed]",
      "text/plain": [
       "<matplotlib.figure.Figure at 0x13580da0>"
      ]
     },
     "metadata": {},
     "output_type": "display_data"
    }
   ],
   "source": [
    "plt.scatter(eb_ex.registration,eb_ex.sales,marker='o')\n",
    "plt.xlabel('registration')\n",
    "plt.ylabel('sales')\n",
    "plt.show()"
   ]
  },
  {
   "cell_type": "code",
   "execution_count": 285,
   "metadata": {},
   "outputs": [],
   "source": [
    "from scipy.optimize import curve_fit\n",
    "def func1(x,alpha2,beta3,gamma):\n",
    "    return alpha2*(gamma**(beta3*x))\n",
    "def func2(x,alpha1,beta1,beta2):\n",
    "    return alpha1+beta1*x+beta2*np.square(x)"
   ]
  },
  {
   "cell_type": "code",
   "execution_count": 286,
   "metadata": {},
   "outputs": [],
   "source": [
    "m1=curve_fit(func1,eb_ex[eb_ex['registration']>20]['registration'],eb_ex[eb_ex['registration']>20]['sales'])\n",
    "m2=curve_fit(func2,eb_ex[eb_ex['registration']<=20]['registration'],eb_ex[eb_ex['registration']<=20]['sales'])"
   ]
  },
  {
   "cell_type": "code",
   "execution_count": 287,
   "metadata": {},
   "outputs": [
    {
     "data": {
      "text/plain": [
       "((array([3.34579554, 1.27953846, 1.0296989 ]),\n",
       "  array([[ 9.56193825e-01, -1.40949294e+05,  3.31962319e+03],\n",
       "         [-1.40949295e+05,  2.32282100e+10, -5.47068442e+08],\n",
       "         [ 3.31962321e+03, -5.47068442e+08,  1.28845003e+07]])),\n",
       " (array([ 9.11887122, 20.79806299, -1.03935516]),\n",
       "  array([[ 1.18971759e+01, -2.54291948e+00,  1.10578766e-01],\n",
       "         [-2.54291948e+00,  6.63677073e-01, -3.11621801e-02],\n",
       "         [ 1.10578766e-01, -3.11621801e-02,  1.51985540e-03]])))"
      ]
     },
     "execution_count": 287,
     "metadata": {},
     "output_type": "execute_result"
    }
   ],
   "source": [
    "m1,m2"
   ]
  },
  {
   "cell_type": "code",
   "execution_count": 288,
   "metadata": {},
   "outputs": [],
   "source": [
    "eb_ex.loc[eb_ex['registration']>20,'predicted']=func1(eb_ex[eb_ex['registration']>20]['registration'],m1[0][0],m1[0][1],m1[0][2])\n",
    "eb_ex.loc[eb_ex['registration']<=20,'predicted']=func2(eb_ex[eb_ex['registration']<=20]['registration'],m2[0][0],m2[0][1],m2[0][2])\n"
   ]
  },
  {
   "cell_type": "code",
   "execution_count": 290,
   "metadata": {},
   "outputs": [
    {
     "name": "stderr",
     "output_type": "stream",
     "text": [
      "D:\\study_apps\\Anaconda\\lib\\site-packages\\ipykernel_launcher.py:1: FutureWarning: by argument to sort_index is deprecated, please use .sort_values(by=...)\n",
      "  \"\"\"Entry point for launching an IPython kernel.\n"
     ]
    },
    {
     "data": {
      "image/png": "[encoded data removed]",
      "text/plain": [
       "<matplotlib.figure.Figure at 0x136b84a8>"
      ]
     },
     "metadata": {},
     "output_type": "display_data"
    }
   ],
   "source": [
    "eb_ex_sorted=eb_ex.sort_index(by='registration')\n",
    "plt.plot(eb_ex_sorted['registration'],eb_ex_sorted['sales'],'o',eb_ex_sorted['registration'],eb_ex_sorted['predicted'],'r-',lw=3)\n",
    "plt.show()"
   ]
  },
  {
   "cell_type": "markdown",
   "metadata": {},
   "source": [
    "## 9.3多项式回归"
   ]
  },
  {
   "cell_type": "code",
   "execution_count": 291,
   "metadata": {},
   "outputs": [
    {
     "data": {
      "text/html": [
       "<div>\n",
       "<style scoped>\n",
       "    .dataframe tbody tr th:only-of-type {\n",
       "        vertical-align: middle;\n",
       "    }\n",
       "\n",
       "    .dataframe tbody tr th {\n",
       "        vertical-align: top;\n",
       "    }\n",
       "\n",
       "    .dataframe thead th {\n",
       "        text-align: right;\n",
       "    }\n",
       "</style>\n",
       "<table border=\"1\" class=\"dataframe\">\n",
       "  <thead>\n",
       "    <tr style=\"text-align: right;\">\n",
       "      <th></th>\n",
       "      <th>cpop</th>\n",
       "      <th>cincome</th>\n",
       "    </tr>\n",
       "  </thead>\n",
       "  <tbody>\n",
       "    <tr>\n",
       "      <th>0</th>\n",
       "      <td>0.018</td>\n",
       "      <td>0.000000e+00</td>\n",
       "    </tr>\n",
       "    <tr>\n",
       "      <th>1</th>\n",
       "      <td>0.019</td>\n",
       "      <td>9.701260e-07</td>\n",
       "    </tr>\n",
       "    <tr>\n",
       "      <th>2</th>\n",
       "      <td>0.020</td>\n",
       "      <td>3.366135e-06</td>\n",
       "    </tr>\n",
       "    <tr>\n",
       "      <th>3</th>\n",
       "      <td>0.020</td>\n",
       "      <td>5.785387e-06</td>\n",
       "    </tr>\n",
       "    <tr>\n",
       "      <th>4</th>\n",
       "      <td>0.021</td>\n",
       "      <td>8.521446e-06</td>\n",
       "    </tr>\n",
       "  </tbody>\n",
       "</table>\n",
       "</div>"
      ],
      "text/plain": [
       "    cpop       cincome\n",
       "0  0.018  0.000000e+00\n",
       "1  0.019  9.701260e-07\n",
       "2  0.020  3.366135e-06\n",
       "3  0.020  5.785387e-06\n",
       "4  0.021  8.521446e-06"
      ]
     },
     "execution_count": 291,
     "metadata": {},
     "output_type": "execute_result"
    }
   ],
   "source": [
    "path=\"D:/data/Python_data/ch9/lorenz.csv\"\n",
    "lorenz=pd.read_csv(path)\n",
    "lorenz.head()"
   ]
  },
  {
   "cell_type": "code",
   "execution_count": 304,
   "metadata": {},
   "outputs": [
    {
     "data": {
      "text/plain": [
       "array([ 1.02722918, -0.20824691,  0.02550764])"
      ]
     },
     "execution_count": 304,
     "metadata": {},
     "output_type": "execute_result"
    }
   ],
   "source": [
    "lorenz_est=np.polyfit(lorenz['cpop'],lorenz['cincome'],2)  #三个参数分别是自变量 因变量 阶数\n",
    "lorenz_est"
   ]
  },
  {
   "cell_type": "code",
   "execution_count": 305,
   "metadata": {},
   "outputs": [
    {
     "name": "stdout",
     "output_type": "stream",
     "text": [
      "       2\n",
      "1.027 x - 0.2082 x + 0.02551\n"
     ]
    }
   ],
   "source": [
    "lorenz_poly=np.poly1d(lorenz_est)\n",
    "print lorenz_poly"
   ]
  },
  {
   "cell_type": "code",
   "execution_count": 307,
   "metadata": {},
   "outputs": [
    {
     "name": "stdout",
     "output_type": "stream",
     "text": [
      "                  Results: Ordinary least squares\n",
      "===================================================================\n",
      "Model:              OLS              Adj. R-squared:     0.994     \n",
      "Dependent Variable: cincome          AIC:                -6659.2479\n",
      "Date:               2018-06-03 21:45 BIC:                -6643.6872\n",
      "No. Observations:   1322             Log-Likelihood:     3332.6    \n",
      "Df Model:           2                F-statistic:        1.105e+05 \n",
      "Df Residuals:       1319             Prob (F-statistic): 0.00      \n",
      "R-squared:          0.994            Scale:              0.00037922\n",
      "-------------------------------------------------------------------\n",
      "                    Coef.  Std.Err.    t     P>|t|   [0.025  0.975]\n",
      "-------------------------------------------------------------------\n",
      "Intercept           0.0255   0.0017  14.9508 0.0000  0.0222  0.0289\n",
      "cpop               -0.2082   0.0077 -26.9092 0.0000 -0.2234 -0.1931\n",
      "np.square(cpop)     1.0272   0.0074 139.4493 0.0000  1.0128  1.0417\n",
      "-------------------------------------------------------------------\n",
      "Omnibus:             732.937       Durbin-Watson:          0.002   \n",
      "Prob(Omnibus):       0.000         Jarque-Bera (JB):       8902.124\n",
      "Skew:                2.320         Prob(JB):               0.000   \n",
      "Kurtosis:            14.835        Condition No.:          24      \n",
      "===================================================================\n",
      "\n"
     ]
    }
   ],
   "source": [
    "formula='cincome~cpop+np.square(cpop)'\n",
    "lorenz_model1=ols(formula,data=lorenz).fit()\n",
    "print lorenz_model1.summary2()"
   ]
  },
  {
   "cell_type": "code",
   "execution_count": 308,
   "metadata": {},
   "outputs": [
    {
     "data": {
      "image/png": "[encoded data removed]",
      "text/plain": [
       "<matplotlib.figure.Figure at 0x131e0780>"
      ]
     },
     "metadata": {},
     "output_type": "display_data"
    }
   ],
   "source": [
    "plot_fit(lorenz_model1,1)\n",
    "plt.show()"
   ]
  },
  {
   "cell_type": "code",
   "execution_count": 309,
   "metadata": {},
   "outputs": [
    {
     "data": {
      "text/plain": [
       "[<matplotlib.lines.Line2D at 0x12fa27f0>,\n",
       " <matplotlib.lines.Line2D at 0x12fa2470>]"
      ]
     },
     "execution_count": 309,
     "metadata": {},
     "output_type": "execute_result"
    },
    {
     "data": {
      "image/png": "[encoded data removed]",
      "text/plain": [
       "<matplotlib.figure.Figure at 0x136f05c0>"
      ]
     },
     "metadata": {},
     "output_type": "display_data"
    }
   ],
   "source": [
    "plt.plot(lorenz['cpop'],lorenz['cincome'],'ro',lorenz['cpop'],lorenz_model1.fittedvalues,linewidth=2)"
   ]
  },
  {
   "cell_type": "code",
   "execution_count": 310,
   "metadata": {},
   "outputs": [
    {
     "name": "stdout",
     "output_type": "stream",
     "text": [
      "                  Results: Ordinary least squares\n",
      "===================================================================\n",
      "Model:              OLS              Adj. R-squared:     0.998     \n",
      "Dependent Variable: cincome          AIC:                -7995.1774\n",
      "Date:               2018-06-03 21:49 BIC:                -7974.4298\n",
      "No. Observations:   1322             Log-Likelihood:     4001.6    \n",
      "Df Model:           3                F-statistic:        2.034e+05 \n",
      "Df Residuals:       1318             Prob (F-statistic): 0.00      \n",
      "R-squared:          0.998            Scale:              0.00013794\n",
      "-------------------------------------------------------------------\n",
      "                    Coef.  Std.Err.    t     P>|t|   [0.025  0.975]\n",
      "-------------------------------------------------------------------\n",
      "Intercept          -0.0238   0.0015 -16.4017 0.0000 -0.0267 -0.0210\n",
      "cpop                0.3350   0.0122  27.3831 0.0000  0.3110  0.3589\n",
      "np.square(cpop)    -0.2877   0.0277 -10.3769 0.0000 -0.3421 -0.2333\n",
      "cube(cpop)          0.8611   0.0179  48.0430 0.0000  0.8259  0.8963\n",
      "-------------------------------------------------------------------\n",
      "Omnibus:              943.668      Durbin-Watson:         0.005    \n",
      "Prob(Omnibus):        0.000        Jarque-Bera (JB):      23537.954\n",
      "Skew:                 2.997        Prob(JB):              0.000    \n",
      "Kurtosis:             22.784       Condition No.:         134      \n",
      "===================================================================\n",
      "\n"
     ]
    }
   ],
   "source": [
    "#ols函数建立模型时的变量不能使用表达式做变换，只能采用函数的方式进行变换\n",
    "def cube(x):\n",
    "    return x**3\n",
    "\n",
    "formula='cincome~cpop+np.square(cpop)+cube(cpop)'\n",
    "lorenz_model2=ols(formula,data=lorenz).fit()\n",
    "print lorenz_model2.summary2()"
   ]
  },
  {
   "cell_type": "markdown",
   "metadata": {},
   "source": [
    "## 9.4 分位数回归"
   ]
  },
  {
   "cell_type": "code",
   "execution_count": 311,
   "metadata": {},
   "outputs": [
    {
     "name": "stdout",
     "output_type": "stream",
     "text": [
      "                         QuantReg Regression Results                          \n",
      "==============================================================================\n",
      "Dep. Variable:         Current_Salary   Pseudo R-squared:               0.4469\n",
      "Model:                       QuantReg   Bandwidth:                       3076.\n",
      "Method:                 Least Squares   Sparsity:                    1.720e+04\n",
      "Date:                Sun, 03 Jun 2018   No. Observations:                  446\n",
      "Time:                        21:52:23   Df Residuals:                      442\n",
      "                                        Df Model:                            3\n",
      "================================================================================\n",
      "                   coef    std err          t      P>|t|      [0.025      0.975]\n",
      "--------------------------------------------------------------------------------\n",
      "Intercept       86.9399   1443.740      0.060      0.952   -2750.509    2924.388\n",
      "Begin_Salary     1.4572      0.056     25.875      0.000       1.347       1.568\n",
      "Education      298.0171    133.791      2.227      0.026      35.072     560.962\n",
      "Experience     -13.3543      2.287     -5.840      0.000     -17.848      -8.860\n",
      "================================================================================\n",
      "\n",
      "The condition number is large, 1.02e+05. This might indicate that there are\n",
      "strong multicollinearity or other numerical problems.\n"
     ]
    }
   ],
   "source": [
    "from statsmodels.formula.api import quantreg\n",
    "formula='Current_Salary~Begin_Salary+Education+Experience'\n",
    "salary_qt=quantreg(formula,data=salary)\n",
    "salary_qtmodel1=salary_qt.fit(q=0.1)  #参数q表示分位点，本程序给出10%分位点上的模型拟合结果\n",
    "print salary_qtmodel1.summary()"
   ]
  },
  {
   "cell_type": "code",
   "execution_count": 312,
   "metadata": {},
   "outputs": [
    {
     "name": "stdout",
     "output_type": "stream",
     "text": [
      "                         QuantReg Regression Results                          \n",
      "==============================================================================\n",
      "Dep. Variable:         Current_Salary   Pseudo R-squared:               0.6465\n",
      "Model:                       QuantReg   Bandwidth:                       3103.\n",
      "Method:                 Least Squares   Sparsity:                    2.767e+04\n",
      "Date:                Sun, 03 Jun 2018   No. Observations:                  446\n",
      "Time:                        22:04:52   Df Residuals:                      442\n",
      "                                        Df Model:                            3\n",
      "================================================================================\n",
      "                   coef    std err          t      P>|t|      [0.025      0.975]\n",
      "--------------------------------------------------------------------------------\n",
      "Intercept    -5684.6771   2716.874     -2.092      0.037    -1.1e+04    -345.082\n",
      "Begin_Salary     2.4948      0.082     30.530      0.000       2.334       2.655\n",
      "Education      440.0576    241.952      1.819      0.070     -35.461     915.576\n",
      "Experience     -12.9493      5.476     -2.365      0.018     -23.711      -2.188\n",
      "================================================================================\n",
      "\n",
      "The condition number is large, 1.02e+05. This might indicate that there are\n",
      "strong multicollinearity or other numerical problems.\n"
     ]
    }
   ],
   "source": [
    "salary_qtmodel2=salary_qt.fit(q=0.85)  #在0.85分位点下的模型估计\n",
    "print salary_qtmodel2.summary()"
   ]
  },
  {
   "cell_type": "code",
   "execution_count": 316,
   "metadata": {},
   "outputs": [],
   "source": [
    "import warnings\n",
    "warnings.filterwarnings('ignore')\n",
    "quantiles=np.arange(0.05,1,0.05)\n",
    "def fit_model(v,q):\n",
    "    res=salary_qt.fit(q=q)\n",
    "    return [q,res.params['Intercept'],res.params[v]]+res.conf_int(alpha=0.05).ix[v].tolist()\n",
    "\n",
    "names=locals()\n",
    "for i in ['Intercept','Begin_Salary','Education','Experience']:\n",
    "    names['params_%s' % i]=[fit_model(i,x) for x in quantiles]\n",
    "    names['params_%s' % i]=pd.DataFrame(names['params_%s' % i],columns=['quantile','Intercept','Beta','Beta_L','Beta_U'])"
   ]
  },
  {
   "cell_type": "code",
   "execution_count": 322,
   "metadata": {},
   "outputs": [
    {
     "data": {
      "image/png": "[encoded data removed]",
      "text/plain": [
       "<matplotlib.figure.Figure at 0x143e9f98>"
      ]
     },
     "metadata": {},
     "output_type": "display_data"
    }
   ],
   "source": [
    "fig,((ax1,ax2),(ax3,ax4))=plt.subplots(2,2,sharex=True)\n",
    "fig.set_size_inches(6,6)\n",
    "fig.suptitle('Estimated parameter by quantile for current_salary\\n with %95 confidence limits')\n",
    "ax1.plot(params_Intercept['quantile'],params_Intercept['Beta_L'],params_Intercept['Beta_U'],color='b',alpha=0.1)\n",
    "ax1.set_ylabel('Intercept')\n",
    "\n",
    "ax2.plot(params_Begin_Salary['quantile'],params_Begin_Salary['Beta'])\n",
    "ax2.fill_between(params_Begin_Salary['quantile'],params_Begin_Salary['Beta_L'],params_Begin_Salary['Beta_U'],color='b',alpha=0.1)\n",
    "ax2.set_ylabel('Begin_Salary')\n",
    "\n",
    "ax3.plot(params_Education['quantile'],params_Education['Beta'])\n",
    "ax3.fill_between(params_Education['quantile'],params_Education['Beta_L'],params_Education['Beta_U'],color='b',alpha=0.1)\n",
    "ax3.set_xlabel('quantiles')\n",
    "ax3.set_ylabel('Education')\n",
    "\n",
    "ax4.plot(params_Education['quantile'],params_Education['Beta'])\n",
    "ax4.fill_between(params_Experience['quantile'],params_Experience['Beta_L'],params_Experience['Beta_U'],color='b',alpha=0.1)\n",
    "ax4.set_xlabel('quantiles')\n",
    "ax4.set_ylabel('Experience')\n",
    "\n",
    "fig.subplots_adjust(wspace=0.3)\n",
    "plt.show()"
   ]
  }
 ],
 "metadata": {
  "kernelspec": {
   "display_name": "Python 2",
   "language": "python",
   "name": "python2"
  },
  "language_info": {
   "codemirror_mode": {
    "name": "ipython",
    "version": 2
   },
   "file_extension": ".py",
   "mimetype": "text/x-python",
   "name": "python",
   "nbconvert_exporter": "python",
   "pygments_lexer": "ipython2",
   "version": "2.7.14"
  }
 },
 "nbformat": 4,
 "nbformat_minor": 2
}

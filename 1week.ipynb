{
 "cells": [
  {
   "cell_type": "markdown",
   "metadata": {},
   "source": [
    "# 第一章python编程基础"
   ]
  },
  {
   "cell_type": "markdown",
   "metadata": {},
   "source": [
    "## 1.2 python基础知识"
   ]
  },
  {
   "cell_type": "code",
   "execution_count": 125,
   "metadata": {},
   "outputs": [
    {
     "name": "stdout",
     "output_type": "stream",
     "text": [
      "你好\n"
     ]
    }
   ],
   "source": [
    "print ('你好')"
   ]
  },
  {
   "cell_type": "code",
   "execution_count": 126,
   "metadata": {
    "scrolled": true
   },
   "outputs": [
    {
     "data": {
      "text/plain": [
       "2"
      ]
     },
     "execution_count": 126,
     "metadata": {},
     "output_type": "execute_result"
    }
   ],
   "source": [
    "1+1"
   ]
  },
  {
   "cell_type": "code",
   "execution_count": 127,
   "metadata": {},
   "outputs": [
    {
     "data": {
      "text/plain": [
       "0.5"
      ]
     },
     "execution_count": 127,
     "metadata": {},
     "output_type": "execute_result"
    }
   ],
   "source": [
    "1/2"
   ]
  },
  {
   "cell_type": "code",
   "execution_count": 128,
   "metadata": {},
   "outputs": [
    {
     "data": {
      "text/plain": [
       "0.5"
      ]
     },
     "execution_count": 128,
     "metadata": {},
     "output_type": "execute_result"
    }
   ],
   "source": [
    "1./2"
   ]
  },
  {
   "cell_type": "code",
   "execution_count": 129,
   "metadata": {},
   "outputs": [
    {
     "data": {
      "text/plain": [
       "18446744073709551616L"
      ]
     },
     "execution_count": 129,
     "metadata": {},
     "output_type": "execute_result"
    }
   ],
   "source": [
    "x=2\n",
    "x**64"
   ]
  },
  {
   "cell_type": "markdown",
   "metadata": {},
   "source": [
    "### 1.2.1 帮助"
   ]
  },
  {
   "cell_type": "code",
   "execution_count": 130,
   "metadata": {
    "collapsed": true
   },
   "outputs": [
    {
     "data": {
      "text/plain": [
       "['__add__',\n",
       " '__class__',\n",
       " '__contains__',\n",
       " '__delattr__',\n",
       " '__delitem__',\n",
       " '__delslice__',\n",
       " '__doc__',\n",
       " '__eq__',\n",
       " '__format__',\n",
       " '__ge__',\n",
       " '__getattribute__',\n",
       " '__getitem__',\n",
       " '__getslice__',\n",
       " '__gt__',\n",
       " '__hash__',\n",
       " '__iadd__',\n",
       " '__imul__',\n",
       " '__init__',\n",
       " '__iter__',\n",
       " '__le__',\n",
       " '__len__',\n",
       " '__lt__',\n",
       " '__mul__',\n",
       " '__ne__',\n",
       " '__new__',\n",
       " '__reduce__',\n",
       " '__reduce_ex__',\n",
       " '__repr__',\n",
       " '__reversed__',\n",
       " '__rmul__',\n",
       " '__setattr__',\n",
       " '__setitem__',\n",
       " '__setslice__',\n",
       " '__sizeof__',\n",
       " '__str__',\n",
       " '__subclasshook__',\n",
       " 'append',\n",
       " 'count',\n",
       " 'extend',\n",
       " 'index',\n",
       " 'insert',\n",
       " 'pop',\n",
       " 'remove',\n",
       " 'reverse',\n",
       " 'sort']"
      ]
     },
     "execution_count": 130,
     "metadata": {},
     "output_type": "execute_result"
    }
   ],
   "source": [
    "dir(list)"
   ]
  },
  {
   "cell_type": "code",
   "execution_count": 131,
   "metadata": {},
   "outputs": [],
   "source": [
    "a=[1,2,3]\n",
    "a.append?"
   ]
  },
  {
   "cell_type": "code",
   "execution_count": 132,
   "metadata": {
    "collapsed": true
   },
   "outputs": [
    {
     "name": "stdout",
     "output_type": "stream",
     "text": [
      "Help on list object:\n",
      "\n",
      "class list(object)\n",
      " |  list() -> new empty list\n",
      " |  list(iterable) -> new list initialized from iterable's items\n",
      " |  \n",
      " |  Methods defined here:\n",
      " |  \n",
      " |  __add__(...)\n",
      " |      x.__add__(y) <==> x+y\n",
      " |  \n",
      " |  __contains__(...)\n",
      " |      x.__contains__(y) <==> y in x\n",
      " |  \n",
      " |  __delitem__(...)\n",
      " |      x.__delitem__(y) <==> del x[y]\n",
      " |  \n",
      " |  __delslice__(...)\n",
      " |      x.__delslice__(i, j) <==> del x[i:j]\n",
      " |      \n",
      " |      Use of negative indices is not supported.\n",
      " |  \n",
      " |  __eq__(...)\n",
      " |      x.__eq__(y) <==> x==y\n",
      " |  \n",
      " |  __ge__(...)\n",
      " |      x.__ge__(y) <==> x>=y\n",
      " |  \n",
      " |  __getattribute__(...)\n",
      " |      x.__getattribute__('name') <==> x.name\n",
      " |  \n",
      " |  __getitem__(...)\n",
      " |      x.__getitem__(y) <==> x[y]\n",
      " |  \n",
      " |  __getslice__(...)\n",
      " |      x.__getslice__(i, j) <==> x[i:j]\n",
      " |      \n",
      " |      Use of negative indices is not supported.\n",
      " |  \n",
      " |  __gt__(...)\n",
      " |      x.__gt__(y) <==> x>y\n",
      " |  \n",
      " |  __iadd__(...)\n",
      " |      x.__iadd__(y) <==> x+=y\n",
      " |  \n",
      " |  __imul__(...)\n",
      " |      x.__imul__(y) <==> x*=y\n",
      " |  \n",
      " |  __init__(...)\n",
      " |      x.__init__(...) initializes x; see help(type(x)) for signature\n",
      " |  \n",
      " |  __iter__(...)\n",
      " |      x.__iter__() <==> iter(x)\n",
      " |  \n",
      " |  __le__(...)\n",
      " |      x.__le__(y) <==> x<=y\n",
      " |  \n",
      " |  __len__(...)\n",
      " |      x.__len__() <==> len(x)\n",
      " |  \n",
      " |  __lt__(...)\n",
      " |      x.__lt__(y) <==> x<y\n",
      " |  \n",
      " |  __mul__(...)\n",
      " |      x.__mul__(n) <==> x*n\n",
      " |  \n",
      " |  __ne__(...)\n",
      " |      x.__ne__(y) <==> x!=y\n",
      " |  \n",
      " |  __repr__(...)\n",
      " |      x.__repr__() <==> repr(x)\n",
      " |  \n",
      " |  __reversed__(...)\n",
      " |      L.__reversed__() -- return a reverse iterator over the list\n",
      " |  \n",
      " |  __rmul__(...)\n",
      " |      x.__rmul__(n) <==> n*x\n",
      " |  \n",
      " |  __setitem__(...)\n",
      " |      x.__setitem__(i, y) <==> x[i]=y\n",
      " |  \n",
      " |  __setslice__(...)\n",
      " |      x.__setslice__(i, j, y) <==> x[i:j]=y\n",
      " |      \n",
      " |      Use  of negative indices is not supported.\n",
      " |  \n",
      " |  __sizeof__(...)\n",
      " |      L.__sizeof__() -- size of L in memory, in bytes\n",
      " |  \n",
      " |  append(...)\n",
      " |      L.append(object) -- append object to end\n",
      " |  \n",
      " |  count(...)\n",
      " |      L.count(value) -> integer -- return number of occurrences of value\n",
      " |  \n",
      " |  extend(...)\n",
      " |      L.extend(iterable) -- extend list by appending elements from the iterable\n",
      " |  \n",
      " |  index(...)\n",
      " |      L.index(value, [start, [stop]]) -> integer -- return first index of value.\n",
      " |      Raises ValueError if the value is not present.\n",
      " |  \n",
      " |  insert(...)\n",
      " |      L.insert(index, object) -- insert object before index\n",
      " |  \n",
      " |  pop(...)\n",
      " |      L.pop([index]) -> item -- remove and return item at index (default last).\n",
      " |      Raises IndexError if list is empty or index is out of range.\n",
      " |  \n",
      " |  remove(...)\n",
      " |      L.remove(value) -- remove first occurrence of value.\n",
      " |      Raises ValueError if the value is not present.\n",
      " |  \n",
      " |  reverse(...)\n",
      " |      L.reverse() -- reverse *IN PLACE*\n",
      " |  \n",
      " |  sort(...)\n",
      " |      L.sort(cmp=None, key=None, reverse=False) -- stable sort *IN PLACE*;\n",
      " |      cmp(x, y) -> -1, 0, 1\n",
      " |  \n",
      " |  ----------------------------------------------------------------------\n",
      " |  Data and other attributes defined here:\n",
      " |  \n",
      " |  __hash__ = None\n",
      " |  \n",
      " |  __new__ = <built-in method __new__ of type object>\n",
      " |      T.__new__(S, ...) -> a new object with type S, a subtype of T\n",
      "\n"
     ]
    }
   ],
   "source": [
    "a=[1,2,3]\n",
    "help(a)"
   ]
  },
  {
   "cell_type": "markdown",
   "metadata": {},
   "source": [
    "### 1.2.3 行与缩进"
   ]
  },
  {
   "cell_type": "code",
   "execution_count": 133,
   "metadata": {},
   "outputs": [
    {
     "name": "stdout",
     "output_type": "stream",
     "text": [
      "110\n"
     ]
    }
   ],
   "source": [
    "a=10;b=100;print (a+b)"
   ]
  },
  {
   "cell_type": "code",
   "execution_count": 134,
   "metadata": {},
   "outputs": [
    {
     "name": "stdout",
     "output_type": "stream",
     "text": [
      "Generating squares from 1 to 100\n",
      "1\n"
     ]
    }
   ],
   "source": [
    "def squares(n=10):\n",
    "    print (\"Generating squares from 1 to %d\" % (n**2))\n",
    "    #循环代码块\n",
    "    for i in xrange(1,n+1):\n",
    "        return 1**2\n",
    "        #循环代码块结束\n",
    "    #函数代码块结束\n",
    "\n",
    "gen=squares()\n",
    "print (gen)"
   ]
  },
  {
   "cell_type": "markdown",
   "metadata": {},
   "source": [
    "### 1.2.4变量与对象"
   ]
  },
  {
   "cell_type": "code",
   "execution_count": 135,
   "metadata": {},
   "outputs": [
    {
     "name": "stdout",
     "output_type": "stream",
     "text": [
      "10\n"
     ]
    }
   ],
   "source": [
    "a=10\n",
    "print a"
   ]
  },
  {
   "cell_type": "code",
   "execution_count": 136,
   "metadata": {},
   "outputs": [
    {
     "data": {
      "text/plain": [
       "[1, 2, 3, 4]"
      ]
     },
     "execution_count": 136,
     "metadata": {},
     "output_type": "execute_result"
    }
   ],
   "source": [
    "a=[1,2,3]\n",
    "b=a\n",
    "a.append(4)    #append是列表对象的一个方法，在对象a引用的列表中增加一个元素\n",
    "b"
   ]
  },
  {
   "cell_type": "code",
   "execution_count": 137,
   "metadata": {},
   "outputs": [
    {
     "data": {
      "text/plain": [
       "(106525384L, 106525384L, True)"
      ]
     },
     "execution_count": 137,
     "metadata": {},
     "output_type": "execute_result"
    }
   ],
   "source": [
    "id(a),id(b),a is b  #创建了b对a的一个引用，二者id是一样的，a发生改变时b也发生改变，但如果对a重新赋值，则绑定解除"
   ]
  },
  {
   "cell_type": "code",
   "execution_count": 138,
   "metadata": {},
   "outputs": [
    {
     "data": {
      "text/plain": [
       "[1, 2, 3, 4]"
      ]
     },
     "execution_count": 138,
     "metadata": {},
     "output_type": "execute_result"
    }
   ],
   "source": [
    "a=[2,3,5]\n",
    "b"
   ]
  },
  {
   "cell_type": "code",
   "execution_count": 139,
   "metadata": {},
   "outputs": [
    {
     "data": {
      "text/plain": [
       "False"
      ]
     },
     "execution_count": 139,
     "metadata": {},
     "output_type": "execute_result"
    }
   ],
   "source": [
    "a is b"
   ]
  },
  {
   "cell_type": "code",
   "execution_count": 140,
   "metadata": {},
   "outputs": [],
   "source": [
    "a=[1,2,['str1','str2']]"
   ]
  },
  {
   "cell_type": "code",
   "execution_count": 141,
   "metadata": {},
   "outputs": [
    {
     "data": {
      "text/plain": [
       "False"
      ]
     },
     "execution_count": 141,
     "metadata": {},
     "output_type": "execute_result"
    }
   ],
   "source": [
    "from copy import copy\n",
    "'''\n",
    "调用模块\n",
    "'''\n",
    "b=copy(a)\n",
    "a is b"
   ]
  },
  {
   "cell_type": "markdown",
   "metadata": {},
   "source": [
    "浅复制是指复制了对象，对象的元素被复制，但对于对象中的子元素依然是引用"
   ]
  },
  {
   "cell_type": "code",
   "execution_count": 142,
   "metadata": {},
   "outputs": [
    {
     "data": {
      "text/plain": [
       "[1, 2, ['str1', 'str2']]"
      ]
     },
     "execution_count": 142,
     "metadata": {},
     "output_type": "execute_result"
    }
   ],
   "source": [
    "a.append(3)  \n",
    "b"
   ]
  },
  {
   "cell_type": "code",
   "execution_count": 143,
   "metadata": {},
   "outputs": [
    {
     "data": {
      "text/plain": [
       "[1, 2, ['str1', 'str2', 'str3']]"
      ]
     },
     "execution_count": 143,
     "metadata": {},
     "output_type": "execute_result"
    }
   ],
   "source": [
    "a[2].append('str3')\n",
    "b"
   ]
  },
  {
   "cell_type": "markdown",
   "metadata": {},
   "source": [
    "深复制是指完全的复制一个对象的所有元素及其子元素"
   ]
  },
  {
   "cell_type": "code",
   "execution_count": 144,
   "metadata": {},
   "outputs": [
    {
     "data": {
      "text/plain": [
       "False"
      ]
     },
     "execution_count": 144,
     "metadata": {},
     "output_type": "execute_result"
    }
   ],
   "source": [
    "from copy import deepcopy\n",
    "a=[1,2,['str1','str2']]\n",
    "b=deepcopy(a)\n",
    "a is b"
   ]
  },
  {
   "cell_type": "code",
   "execution_count": 145,
   "metadata": {},
   "outputs": [
    {
     "data": {
      "text/plain": [
       "[1, 2, ['str1', 'str2']]"
      ]
     },
     "execution_count": 145,
     "metadata": {},
     "output_type": "execute_result"
    }
   ],
   "source": [
    "a.append(3)\n",
    "b"
   ]
  },
  {
   "cell_type": "code",
   "execution_count": 146,
   "metadata": {},
   "outputs": [
    {
     "data": {
      "text/plain": [
       "[1, 2, ['str1', 'str2']]"
      ]
     },
     "execution_count": 146,
     "metadata": {},
     "output_type": "execute_result"
    }
   ],
   "source": [
    "a[2].append('str3')\n",
    "b"
   ]
  },
  {
   "cell_type": "markdown",
   "metadata": {},
   "source": [
    "### 1.2.5 数字与表达式"
   ]
  },
  {
   "cell_type": "code",
   "execution_count": 147,
   "metadata": {},
   "outputs": [
    {
     "data": {
      "text/plain": [
       "(10, int)"
      ]
     },
     "execution_count": 147,
     "metadata": {},
     "output_type": "execute_result"
    }
   ],
   "source": [
    "10,type(10)  #type是一个可以查看python对象类型的函数，返回对象类型"
   ]
  },
  {
   "cell_type": "code",
   "execution_count": 148,
   "metadata": {},
   "outputs": [
    {
     "data": {
      "text/plain": [
       "(18446744073709551616L, long)"
      ]
     },
     "execution_count": 148,
     "metadata": {},
     "output_type": "execute_result"
    }
   ],
   "source": [
    "2**64,type(2**64)"
   ]
  },
  {
   "cell_type": "code",
   "execution_count": 149,
   "metadata": {},
   "outputs": [
    {
     "data": {
      "text/plain": [
       "(1.2345, float)"
      ]
     },
     "execution_count": 149,
     "metadata": {},
     "output_type": "execute_result"
    }
   ],
   "source": [
    "1.2345,type(1.2345)"
   ]
  },
  {
   "cell_type": "code",
   "execution_count": 150,
   "metadata": {},
   "outputs": [
    {
     "data": {
      "text/plain": [
       "(1.022e-28j, complex)"
      ]
     },
     "execution_count": 150,
     "metadata": {},
     "output_type": "execute_result"
    }
   ],
   "source": [
    "1.022e-28j,type(1.022e-28j)"
   ]
  },
  {
   "cell_type": "code",
   "execution_count": 151,
   "metadata": {},
   "outputs": [
    {
     "data": {
      "text/plain": [
       "(3.3333333333333335, float)"
      ]
     },
     "execution_count": 151,
     "metadata": {},
     "output_type": "execute_result"
    }
   ],
   "source": [
    "10/3,type(10/3)"
   ]
  },
  {
   "cell_type": "code",
   "execution_count": 152,
   "metadata": {},
   "outputs": [
    {
     "data": {
      "text/plain": [
       "(3.3333333333333335, float)"
      ]
     },
     "execution_count": 152,
     "metadata": {},
     "output_type": "execute_result"
    }
   ],
   "source": [
    "10./3,type(10./3)"
   ]
  },
  {
   "cell_type": "code",
   "execution_count": 153,
   "metadata": {},
   "outputs": [
    {
     "data": {
      "text/plain": [
       "3.3333333333333335"
      ]
     },
     "execution_count": 153,
     "metadata": {},
     "output_type": "execute_result"
    }
   ],
   "source": [
    "from __future__ import division\n",
    "10/3"
   ]
  },
  {
   "cell_type": "code",
   "execution_count": 154,
   "metadata": {},
   "outputs": [
    {
     "name": "stdout",
     "output_type": "stream",
     "text": [
      "-92.6\n"
     ]
    }
   ],
   "source": [
    "print 1+2**3*4/5-100"
   ]
  },
  {
   "cell_type": "code",
   "execution_count": 155,
   "metadata": {},
   "outputs": [
    {
     "name": "stdout",
     "output_type": "stream",
     "text": [
      "-92.6\n"
     ]
    }
   ],
   "source": [
    "print 1+2**3*4/5-100"
   ]
  },
  {
   "cell_type": "code",
   "execution_count": 156,
   "metadata": {},
   "outputs": [
    {
     "name": "stdout",
     "output_type": "stream",
     "text": [
      "10\n"
     ]
    }
   ],
   "source": [
    "a=[1,2,3]\n",
    "print 10*(3 in a)   #in成员资格运算符，检查3是否在a中"
   ]
  },
  {
   "cell_type": "markdown",
   "metadata": {},
   "source": [
    "### 1.2.7 字符串"
   ]
  },
  {
   "cell_type": "code",
   "execution_count": 157,
   "metadata": {},
   "outputs": [
    {
     "name": "stdout",
     "output_type": "stream",
     "text": [
      "Let's go!\n"
     ]
    }
   ],
   "source": [
    "a=\"Let's go!\"\n",
    "print a"
   ]
  },
  {
   "cell_type": "code",
   "execution_count": 158,
   "metadata": {},
   "outputs": [
    {
     "name": "stdout",
     "output_type": "stream",
     "text": [
      "\"Hello world\" printing always is the first program\n"
     ]
    }
   ],
   "source": [
    "b='\"Hello world\" printing always is the first program'\n",
    "print b"
   ]
  },
  {
   "cell_type": "code",
   "execution_count": 159,
   "metadata": {},
   "outputs": [
    {
     "data": {
      "text/plain": [
       "'Hello,world!'"
      ]
     },
     "execution_count": 159,
     "metadata": {},
     "output_type": "execute_result"
    }
   ],
   "source": [
    "\"Hello,\" 'world!' #字符串可以自动拼接"
   ]
  },
  {
   "cell_type": "code",
   "execution_count": 160,
   "metadata": {},
   "outputs": [
    {
     "data": {
      "text/plain": [
       "'Hello,world!'"
      ]
     },
     "execution_count": 160,
     "metadata": {},
     "output_type": "execute_result"
    }
   ],
   "source": [
    "\"Hello,\"+'world!' #字符串可以使用“+”进行拼接"
   ]
  },
  {
   "cell_type": "code",
   "execution_count": 161,
   "metadata": {},
   "outputs": [
    {
     "data": {
      "text/plain": [
       "'Hello,world!..........'"
      ]
     },
     "execution_count": 161,
     "metadata": {},
     "output_type": "execute_result"
    }
   ],
   "source": [
    "\"Hello,\"+'world!'+'.'*10"
   ]
  },
  {
   "cell_type": "code",
   "execution_count": 162,
   "metadata": {},
   "outputs": [
    {
     "data": {
      "text/plain": [
       "'y'"
      ]
     },
     "execution_count": 162,
     "metadata": {},
     "output_type": "execute_result"
    }
   ],
   "source": [
    "a='python'\n",
    "a[1]"
   ]
  },
  {
   "cell_type": "code",
   "execution_count": 163,
   "metadata": {},
   "outputs": [
    {
     "data": {
      "text/plain": [
       "'o'"
      ]
     },
     "execution_count": 163,
     "metadata": {},
     "output_type": "execute_result"
    }
   ],
   "source": [
    "a[-2]"
   ]
  },
  {
   "cell_type": "code",
   "execution_count": 164,
   "metadata": {},
   "outputs": [
    {
     "data": {
      "text/plain": [
       "'tho'"
      ]
     },
     "execution_count": 164,
     "metadata": {},
     "output_type": "execute_result"
    }
   ],
   "source": [
    "a[2:5] #\":\"前后分别表示索引的起始位置和终止位置，终止位置不包括在内"
   ]
  },
  {
   "cell_type": "markdown",
   "metadata": {},
   "source": [
    "#### 1.2.7.1 转义字符"
   ]
  },
  {
   "cell_type": "code",
   "execution_count": 165,
   "metadata": {},
   "outputs": [
    {
     "name": "stdout",
     "output_type": "stream",
     "text": [
      "c:\\program files\n",
      "orton antivirus\\officeav.dll\n"
     ]
    }
   ],
   "source": [
    "ch=\"c:\\program files\\norton antivirus\\officeav.dll\"\n",
    "print ch"
   ]
  },
  {
   "cell_type": "code",
   "execution_count": 166,
   "metadata": {},
   "outputs": [
    {
     "name": "stdout",
     "output_type": "stream",
     "text": [
      "c:\\program files\\norton antivirus\\officeav.dll\n"
     ]
    }
   ],
   "source": [
    "ch1=\"c:\\program files\\\\norton antivirus\\officeav.dll\"\n",
    "print ch1"
   ]
  },
  {
   "cell_type": "code",
   "execution_count": 167,
   "metadata": {},
   "outputs": [
    {
     "name": "stdout",
     "output_type": "stream",
     "text": [
      "c:\\program files\\\\norton antivirus\\officeav.dll\n"
     ]
    }
   ],
   "source": [
    "ch2=r\"c:\\program files\\\\norton antivirus\\officeav.dll\"\n",
    "print ch2"
   ]
  },
  {
   "cell_type": "markdown",
   "metadata": {},
   "source": [
    "#### 1.2.7.2 字符串格式化"
   ]
  },
  {
   "cell_type": "code",
   "execution_count": 168,
   "metadata": {},
   "outputs": [
    {
     "data": {
      "text/plain": [
       "'Hello, world!'"
      ]
     },
     "execution_count": 168,
     "metadata": {},
     "output_type": "execute_result"
    }
   ],
   "source": [
    "'Hello, %s' % 'world!'"
   ]
  },
  {
   "cell_type": "code",
   "execution_count": 169,
   "metadata": {},
   "outputs": [
    {
     "data": {
      "text/plain": [
       "'Hello, world! this is Python'"
      ]
     },
     "execution_count": 169,
     "metadata": {},
     "output_type": "execute_result"
    }
   ],
   "source": [
    "'Hello, %s this is %s' % ('world!','Python')"
   ]
  },
  {
   "cell_type": "code",
   "execution_count": 170,
   "metadata": {},
   "outputs": [
    {
     "data": {
      "text/plain": [
       "'3.14'"
      ]
     },
     "execution_count": 170,
     "metadata": {},
     "output_type": "execute_result"
    }
   ],
   "source": [
    "'%.2f' % 3.1415926"
   ]
  },
  {
   "cell_type": "code",
   "execution_count": 171,
   "metadata": {},
   "outputs": [
    {
     "data": {
      "text/plain": [
       "'Age: 25. Gender: Male'"
      ]
     },
     "execution_count": 171,
     "metadata": {},
     "output_type": "execute_result"
    }
   ],
   "source": [
    "'Age: %s. Gender: %s' %(25,'Male')"
   ]
  },
  {
   "cell_type": "code",
   "execution_count": 172,
   "metadata": {},
   "outputs": [
    {
     "data": {
      "text/plain": [
       "'We must keep the growth rate at 7 %'"
      ]
     },
     "execution_count": 172,
     "metadata": {},
     "output_type": "execute_result"
    }
   ],
   "source": [
    "'We must keep the growth rate at %s %%' %7"
   ]
  },
  {
   "cell_type": "markdown",
   "metadata": {},
   "source": [
    "#### 1.2.7.3 字符串的内置方法"
   ]
  },
  {
   "cell_type": "code",
   "execution_count": 173,
   "metadata": {
    "scrolled": true
   },
   "outputs": [
    {
     "data": {
      "text/plain": [
       "['__add__',\n",
       " '__class__',\n",
       " '__contains__',\n",
       " '__delattr__',\n",
       " '__doc__',\n",
       " '__eq__',\n",
       " '__format__',\n",
       " '__ge__',\n",
       " '__getattribute__',\n",
       " '__getitem__',\n",
       " '__getnewargs__',\n",
       " '__getslice__',\n",
       " '__gt__',\n",
       " '__hash__',\n",
       " '__init__',\n",
       " '__le__',\n",
       " '__len__',\n",
       " '__lt__',\n",
       " '__mod__',\n",
       " '__mul__',\n",
       " '__ne__',\n",
       " '__new__',\n",
       " '__reduce__',\n",
       " '__reduce_ex__',\n",
       " '__repr__',\n",
       " '__rmod__',\n",
       " '__rmul__',\n",
       " '__setattr__',\n",
       " '__sizeof__',\n",
       " '__str__',\n",
       " '__subclasshook__',\n",
       " '_formatter_field_name_split',\n",
       " '_formatter_parser',\n",
       " 'capitalize',\n",
       " 'center',\n",
       " 'count',\n",
       " 'decode',\n",
       " 'encode',\n",
       " 'endswith',\n",
       " 'expandtabs',\n",
       " 'find',\n",
       " 'format',\n",
       " 'index',\n",
       " 'isalnum',\n",
       " 'isalpha',\n",
       " 'isdigit',\n",
       " 'islower',\n",
       " 'isspace',\n",
       " 'istitle',\n",
       " 'isupper',\n",
       " 'join',\n",
       " 'ljust',\n",
       " 'lower',\n",
       " 'lstrip',\n",
       " 'partition',\n",
       " 'replace',\n",
       " 'rfind',\n",
       " 'rindex',\n",
       " 'rjust',\n",
       " 'rpartition',\n",
       " 'rsplit',\n",
       " 'rstrip',\n",
       " 'split',\n",
       " 'splitlines',\n",
       " 'startswith',\n",
       " 'strip',\n",
       " 'swapcase',\n",
       " 'title',\n",
       " 'translate',\n",
       " 'upper',\n",
       " 'zfill']"
      ]
     },
     "execution_count": 173,
     "metadata": {},
     "output_type": "execute_result"
    }
   ],
   "source": [
    "dir(str)"
   ]
  },
  {
   "cell_type": "markdown",
   "metadata": {},
   "source": [
    "### 1.2.8 日期和时间"
   ]
  },
  {
   "cell_type": "code",
   "execution_count": 174,
   "metadata": {},
   "outputs": [
    {
     "data": {
      "text/plain": [
       "datetime.datetime(2017, 3, 20, 10, 8)"
      ]
     },
     "execution_count": 174,
     "metadata": {},
     "output_type": "execute_result"
    }
   ],
   "source": [
    "from datetime import datetime\n",
    "dt = datetime(2017,3,20,10,8,0)\n",
    "dt"
   ]
  },
  {
   "cell_type": "code",
   "execution_count": 175,
   "metadata": {},
   "outputs": [
    {
     "data": {
      "text/plain": [
       "datetime.timedelta(364, 85800)"
      ]
     },
     "execution_count": 175,
     "metadata": {},
     "output_type": "execute_result"
    }
   ],
   "source": [
    "dt1=datetime(2016,3,20,10,18)\n",
    "dt-dt1"
   ]
  },
  {
   "cell_type": "code",
   "execution_count": 176,
   "metadata": {},
   "outputs": [
    {
     "data": {
      "text/plain": [
       "'03/20/2017 10:08'"
      ]
     },
     "execution_count": 176,
     "metadata": {},
     "output_type": "execute_result"
    }
   ],
   "source": [
    "dt.strftime('%m/%d/%Y %H:%M')"
   ]
  },
  {
   "cell_type": "code",
   "execution_count": 177,
   "metadata": {},
   "outputs": [
    {
     "data": {
      "text/plain": [
       "datetime.datetime(2018, 3, 20, 12, 8)"
      ]
     },
     "execution_count": 177,
     "metadata": {},
     "output_type": "execute_result"
    }
   ],
   "source": [
    "dt.replace(year=2018,hour=12)"
   ]
  },
  {
   "cell_type": "code",
   "execution_count": 178,
   "metadata": {},
   "outputs": [
    {
     "data": {
      "text/plain": [
       "datetime.datetime(2017, 3, 20, 0, 0)"
      ]
     },
     "execution_count": 178,
     "metadata": {},
     "output_type": "execute_result"
    }
   ],
   "source": [
    "datetime.strptime('20170320','%Y%m%d')"
   ]
  },
  {
   "cell_type": "code",
   "execution_count": 179,
   "metadata": {},
   "outputs": [
    {
     "data": {
      "text/plain": [
       "'     March 2017\\nMo Tu We Th Fr Sa Su\\n       1  2  3  4  5\\n 6  7  8  9 10 11 12\\n13 14 15 16 17 18 19\\n20 21 22 23 24 25 26\\n27 28 29 30 31\\n'"
      ]
     },
     "execution_count": 179,
     "metadata": {},
     "output_type": "execute_result"
    }
   ],
   "source": [
    "import calendar\n",
    "c=calendar.month(2017,3)\n",
    "c"
   ]
  },
  {
   "cell_type": "code",
   "execution_count": 180,
   "metadata": {},
   "outputs": [
    {
     "name": "stdout",
     "output_type": "stream",
     "text": [
      "     March 2017\n",
      "Mo Tu We Th Fr Sa Su\n",
      "       1  2  3  4  5\n",
      " 6  7  8  9 10 11 12\n",
      "13 14 15 16 17 18 19\n",
      "20 21 22 23 24 25 26\n",
      "27 28 29 30 31\n",
      "\n"
     ]
    }
   ],
   "source": [
    "print c"
   ]
  },
  {
   "cell_type": "markdown",
   "metadata": {},
   "source": [
    "## 1.3 数据结构与序列"
   ]
  },
  {
   "cell_type": "markdown",
   "metadata": {},
   "source": [
    "### 1.3.1 列表"
   ]
  },
  {
   "cell_type": "code",
   "execution_count": 181,
   "metadata": {},
   "outputs": [
    {
     "data": {
      "text/plain": [
       "['David Nickson', 'Morgan Wang', 'John F.Kendey', 'Jun Zhang']"
      ]
     },
     "execution_count": 181,
     "metadata": {},
     "output_type": "execute_result"
    }
   ],
   "source": [
    "name=['David Nickson','Morgan Wang','John F.Kendey','Jun Zhang']\n",
    "name"
   ]
  },
  {
   "cell_type": "code",
   "execution_count": 182,
   "metadata": {},
   "outputs": [
    {
     "data": {
      "text/plain": [
       "['T', 'h', 'i', 's', ' ', 'i', 's', ' ', 'p', 'y', 't', 'h', 'o', 'n', '!']"
      ]
     },
     "execution_count": 182,
     "metadata": {},
     "output_type": "execute_result"
    }
   ],
   "source": [
    "list ('This is python!')"
   ]
  },
  {
   "cell_type": "markdown",
   "metadata": {},
   "source": [
    "#### 1.3.1.1 列表索引和切片"
   ]
  },
  {
   "cell_type": "code",
   "execution_count": 183,
   "metadata": {},
   "outputs": [
    {
     "data": {
      "text/plain": [
       "'Morgan Wang'"
      ]
     },
     "execution_count": 183,
     "metadata": {},
     "output_type": "execute_result"
    }
   ],
   "source": [
    "name[1]  #索引从左到右从0开始，从右到左从-1开始"
   ]
  },
  {
   "cell_type": "code",
   "execution_count": 184,
   "metadata": {},
   "outputs": [
    {
     "data": {
      "text/plain": [
       "'Jun Zhang'"
      ]
     },
     "execution_count": 184,
     "metadata": {},
     "output_type": "execute_result"
    }
   ],
   "source": [
    "name[-1]"
   ]
  },
  {
   "cell_type": "code",
   "execution_count": 185,
   "metadata": {},
   "outputs": [
    {
     "data": {
      "text/plain": [
       "['David Nickson', 'Morgan Wang', 'John F.Kendey', 'Jun Zhang']"
      ]
     },
     "execution_count": 185,
     "metadata": {},
     "output_type": "execute_result"
    }
   ],
   "source": [
    "name[:] #通过\":\"隔开两个索引实现列表切片，如果提供两个索引作为边界，左闭右开"
   ]
  },
  {
   "cell_type": "code",
   "execution_count": 186,
   "metadata": {},
   "outputs": [
    {
     "data": {
      "text/plain": [
       "['David Nickson', 'Morgan Wang']"
      ]
     },
     "execution_count": 186,
     "metadata": {},
     "output_type": "execute_result"
    }
   ],
   "source": [
    "name[:2]"
   ]
  },
  {
   "cell_type": "code",
   "execution_count": 187,
   "metadata": {},
   "outputs": [
    {
     "data": {
      "text/plain": [
       "['David Nickson']"
      ]
     },
     "execution_count": 187,
     "metadata": {},
     "output_type": "execute_result"
    }
   ],
   "source": [
    "name[0:1]"
   ]
  },
  {
   "cell_type": "code",
   "execution_count": 188,
   "metadata": {},
   "outputs": [
    {
     "data": {
      "text/plain": [
       "['David Nickson', 'Morgan Wang', 'John F.Kendey', 'Jun Zhang']"
      ]
     },
     "execution_count": 188,
     "metadata": {},
     "output_type": "execute_result"
    }
   ],
   "source": [
    "name[0:]"
   ]
  },
  {
   "cell_type": "code",
   "execution_count": 189,
   "metadata": {},
   "outputs": [
    {
     "data": {
      "text/plain": [
       "[1, 2, 3, 4, 5, 6, 7, 8, 9, 10]"
      ]
     },
     "execution_count": 189,
     "metadata": {},
     "output_type": "execute_result"
    }
   ],
   "source": [
    "n=[1,2,3,4,5,6,7,8,9,10]\n",
    "n[0:10:1]"
   ]
  },
  {
   "cell_type": "code",
   "execution_count": 190,
   "metadata": {},
   "outputs": [
    {
     "data": {
      "text/plain": [
       "[1, 3, 5, 7, 9]"
      ]
     },
     "execution_count": 190,
     "metadata": {},
     "output_type": "execute_result"
    }
   ],
   "source": [
    "n[0:10:2]"
   ]
  },
  {
   "cell_type": "code",
   "execution_count": 191,
   "metadata": {},
   "outputs": [
    {
     "data": {
      "text/plain": [
       "[10, 9, 8, 7, 6, 5, 4, 3, 2, 1]"
      ]
     },
     "execution_count": 191,
     "metadata": {},
     "output_type": "execute_result"
    }
   ],
   "source": [
    "n[::-1]  #列表元素倒序"
   ]
  },
  {
   "cell_type": "markdown",
   "metadata": {},
   "source": [
    "#### 1.3.1.2 列表操作"
   ]
  },
  {
   "cell_type": "markdown",
   "metadata": {},
   "source": [
    "\"+\"把不同列表合并为新列表 \" * \"表示重复列表元素的次数"
   ]
  },
  {
   "cell_type": "code",
   "execution_count": 192,
   "metadata": {},
   "outputs": [
    {
     "data": {
      "text/plain": [
       "[1, 2, 3, 4, 5, 6]"
      ]
     },
     "execution_count": 192,
     "metadata": {},
     "output_type": "execute_result"
    }
   ],
   "source": [
    "n1=[1,2,3]; n2=[4,5,6]\n",
    "n1+n2"
   ]
  },
  {
   "cell_type": "code",
   "execution_count": 193,
   "metadata": {},
   "outputs": [
    {
     "data": {
      "text/plain": [
       "[1, 2, 3, 'p', 'y', 't', 'h', 'o', 'n']"
      ]
     },
     "execution_count": 193,
     "metadata": {},
     "output_type": "execute_result"
    }
   ],
   "source": [
    "n3=list('python')\n",
    "n1+n3"
   ]
  },
  {
   "cell_type": "code",
   "execution_count": 194,
   "metadata": {},
   "outputs": [
    {
     "data": {
      "text/plain": [
       "[1, 2, 3, 1, 2, 3]"
      ]
     },
     "execution_count": 194,
     "metadata": {},
     "output_type": "execute_result"
    }
   ],
   "source": [
    "n1*2"
   ]
  },
  {
   "cell_type": "code",
   "execution_count": 195,
   "metadata": {},
   "outputs": [
    {
     "data": {
      "text/plain": [
       "False"
      ]
     },
     "execution_count": 195,
     "metadata": {},
     "output_type": "execute_result"
    }
   ],
   "source": [
    "\"Morgan\" in name  # in 成员运算符检查一个元素是否在列表中，判断列表的成员资格"
   ]
  },
  {
   "cell_type": "code",
   "execution_count": 196,
   "metadata": {},
   "outputs": [
    {
     "data": {
      "text/plain": [
       "False"
      ]
     },
     "execution_count": 196,
     "metadata": {},
     "output_type": "execute_result"
    }
   ],
   "source": [
    "\"morgan wang\" in name"
   ]
  },
  {
   "cell_type": "code",
   "execution_count": 197,
   "metadata": {},
   "outputs": [
    {
     "data": {
      "text/plain": [
       "True"
      ]
     },
     "execution_count": 197,
     "metadata": {},
     "output_type": "execute_result"
    }
   ],
   "source": [
    "\"Morgan Wang\" in name"
   ]
  },
  {
   "cell_type": "code",
   "execution_count": 198,
   "metadata": {},
   "outputs": [
    {
     "data": {
      "text/plain": [
       "['David Nickson']"
      ]
     },
     "execution_count": 198,
     "metadata": {},
     "output_type": "execute_result"
    }
   ],
   "source": [
    "del name[1:]    #删除元素和分片赋值\n",
    "name"
   ]
  },
  {
   "cell_type": "code",
   "execution_count": 199,
   "metadata": {},
   "outputs": [
    {
     "name": "stdout",
     "output_type": "stream",
     "text": [
      "['David Nickson', 'C', 'h', 'r', 'i', 's', 't', 'o', 'p', 'h', 'e', 'r', ' ', 'N', 'o', 'l', 'a', 'n']\n"
     ]
    }
   ],
   "source": [
    "name[1:]=list('Christopher Nolan')\n",
    "print name"
   ]
  },
  {
   "cell_type": "markdown",
   "metadata": {},
   "source": [
    "#### 1.3.1.3 内置列表函数"
   ]
  },
  {
   "cell_type": "code",
   "execution_count": 200,
   "metadata": {},
   "outputs": [],
   "source": [
    "n1=[1,2,3]\n",
    "n2=[4,5,6]\n",
    "n3=[0,1,5]\n",
    "country=['China','USA','UK']\n",
    "continent=['Asia','America','Euro','Asia']"
   ]
  },
  {
   "cell_type": "code",
   "execution_count": 201,
   "metadata": {},
   "outputs": [
    {
     "data": {
      "text/plain": [
       "-1"
      ]
     },
     "execution_count": 201,
     "metadata": {},
     "output_type": "execute_result"
    }
   ],
   "source": [
    "cmp(n1,n2)"
   ]
  },
  {
   "cell_type": "code",
   "execution_count": 202,
   "metadata": {},
   "outputs": [
    {
     "data": {
      "text/plain": [
       "0"
      ]
     },
     "execution_count": 202,
     "metadata": {},
     "output_type": "execute_result"
    }
   ],
   "source": [
    "cmp(n1,n1)"
   ]
  },
  {
   "cell_type": "code",
   "execution_count": 203,
   "metadata": {},
   "outputs": [
    {
     "data": {
      "text/plain": [
       "1"
      ]
     },
     "execution_count": 203,
     "metadata": {},
     "output_type": "execute_result"
    }
   ],
   "source": [
    "cmp(n1,n3)"
   ]
  },
  {
   "cell_type": "code",
   "execution_count": 204,
   "metadata": {},
   "outputs": [
    {
     "data": {
      "text/plain": [
       "3"
      ]
     },
     "execution_count": 204,
     "metadata": {},
     "output_type": "execute_result"
    }
   ],
   "source": [
    "len(n1)"
   ]
  },
  {
   "cell_type": "code",
   "execution_count": 205,
   "metadata": {},
   "outputs": [
    {
     "data": {
      "text/plain": [
       "3"
      ]
     },
     "execution_count": 205,
     "metadata": {},
     "output_type": "execute_result"
    }
   ],
   "source": [
    "len(country)"
   ]
  },
  {
   "cell_type": "code",
   "execution_count": 206,
   "metadata": {},
   "outputs": [
    {
     "name": "stdout",
     "output_type": "stream",
     "text": [
      "0 China\n",
      "1 USA\n",
      "2 UK\n"
     ]
    }
   ],
   "source": [
    "for i,j in enumerate(country):\n",
    "    print i,j"
   ]
  },
  {
   "cell_type": "code",
   "execution_count": 207,
   "metadata": {},
   "outputs": [
    {
     "data": {
      "text/plain": [
       "[9, 8, 6, 5, 3, 2, 1]"
      ]
     },
     "execution_count": 207,
     "metadata": {},
     "output_type": "execute_result"
    }
   ],
   "source": [
    "n4=[1,3,9,2,6,8,5]\n",
    "sorted(n4)\n",
    "sorted(n4,reverse=True)"
   ]
  },
  {
   "cell_type": "code",
   "execution_count": 208,
   "metadata": {},
   "outputs": [
    {
     "data": {
      "text/plain": [
       "[3, 2, 1]"
      ]
     },
     "execution_count": 208,
     "metadata": {},
     "output_type": "execute_result"
    }
   ],
   "source": [
    "list (reversed(n1))"
   ]
  },
  {
   "cell_type": "markdown",
   "metadata": {},
   "source": [
    "#### 1.3.1.4 列表方法"
   ]
  },
  {
   "cell_type": "code",
   "execution_count": 209,
   "metadata": {},
   "outputs": [
    {
     "data": {
      "text/plain": [
       "[1, 2, 3, 2]"
      ]
     },
     "execution_count": 209,
     "metadata": {},
     "output_type": "execute_result"
    }
   ],
   "source": [
    "n1.append(2)  #列表末尾添加新元素\n",
    "n1"
   ]
  },
  {
   "cell_type": "code",
   "execution_count": 210,
   "metadata": {},
   "outputs": [
    {
     "data": {
      "text/plain": [
       "2"
      ]
     },
     "execution_count": 210,
     "metadata": {},
     "output_type": "execute_result"
    }
   ],
   "source": [
    "n1.count(2)  #统计某个元素在列表中出现的次数，并返回值"
   ]
  },
  {
   "cell_type": "code",
   "execution_count": 211,
   "metadata": {},
   "outputs": [
    {
     "data": {
      "text/plain": [
       "[1, 2, 3, 2, 'w', 2]"
      ]
     },
     "execution_count": 211,
     "metadata": {},
     "output_type": "execute_result"
    }
   ],
   "source": [
    "n1.extend(['w',2])  #列表末尾一次添加多个值\n",
    "n1"
   ]
  },
  {
   "cell_type": "code",
   "execution_count": 212,
   "metadata": {},
   "outputs": [
    {
     "data": {
      "text/plain": [
       "1"
      ]
     },
     "execution_count": 212,
     "metadata": {},
     "output_type": "execute_result"
    }
   ],
   "source": [
    "n1.index(2) #列表中找出某个值的第一个匹配项的索引位置，并返回值"
   ]
  },
  {
   "cell_type": "code",
   "execution_count": 213,
   "metadata": {},
   "outputs": [
    {
     "data": {
      "text/plain": [
       "['wahaha', 1, 2, 3, 2, 'w', 2]"
      ]
     },
     "execution_count": 213,
     "metadata": {},
     "output_type": "execute_result"
    }
   ],
   "source": [
    "n1.insert(0,'wahaha') #将对象插入到列表中\n",
    "n1"
   ]
  },
  {
   "cell_type": "code",
   "execution_count": 214,
   "metadata": {},
   "outputs": [
    {
     "data": {
      "text/plain": [
       "2"
      ]
     },
     "execution_count": 214,
     "metadata": {},
     "output_type": "execute_result"
    }
   ],
   "source": [
    "n1.pop()"
   ]
  },
  {
   "cell_type": "markdown",
   "metadata": {},
   "source": [
    "### 1.3.2 元组"
   ]
  },
  {
   "cell_type": "markdown",
   "metadata": {},
   "source": [
    "元组和列表一样也是一种序列，但是元组是不可变的，不能被修改，用 ， 隔开，通常用（）括起来"
   ]
  },
  {
   "cell_type": "code",
   "execution_count": 215,
   "metadata": {},
   "outputs": [
    {
     "data": {
      "text/plain": [
       "(1, 2, 3)"
      ]
     },
     "execution_count": 215,
     "metadata": {},
     "output_type": "execute_result"
    }
   ],
   "source": [
    "(1,2,3)"
   ]
  },
  {
   "cell_type": "code",
   "execution_count": 216,
   "metadata": {},
   "outputs": [
    {
     "data": {
      "text/plain": [
       "(1, 2, 3)"
      ]
     },
     "execution_count": 216,
     "metadata": {},
     "output_type": "execute_result"
    }
   ],
   "source": [
    "1,2,3"
   ]
  },
  {
   "cell_type": "code",
   "execution_count": 217,
   "metadata": {},
   "outputs": [
    {
     "name": "stdout",
     "output_type": "stream",
     "text": [
      "('T', 'h', 'i', 's', ' ', 'i', 's', ' ', 'P', 'y', 't', 'h', 'o', 'n', '!', [1, 2])\n"
     ]
    }
   ],
   "source": [
    "t=tuple('This is Python!')\n",
    "t1=t+([1,2],)\n",
    "print(t1)"
   ]
  },
  {
   "cell_type": "code",
   "execution_count": 218,
   "metadata": {},
   "outputs": [
    {
     "name": "stdout",
     "output_type": "stream",
     "text": [
      "('T', 'h', 'i', 's', ' ', 'i', 's', ' ', 'P', 'y', 't', 'h', 'o', 'n', '!', [1, 2, 3])\n"
     ]
    }
   ],
   "source": [
    "t1[-1].append(3)\n",
    "print(t1)"
   ]
  },
  {
   "cell_type": "code",
   "execution_count": 219,
   "metadata": {},
   "outputs": [
    {
     "name": "stdout",
     "output_type": "stream",
     "text": [
      "('CHINA', 'USA')\n"
     ]
    }
   ],
   "source": [
    "country=('CHINA','USA','UK','JAPAN','GERMANY','FRANCE')\n",
    "a1,a2,a3,a4,a5,a6=country\n",
    "print(a1,a2)"
   ]
  },
  {
   "cell_type": "markdown",
   "metadata": {},
   "source": [
    "### 1.3.3 字典"
   ]
  },
  {
   "cell_type": "markdown",
   "metadata": {},
   "source": [
    "字典使用键值对存储，用{}将字典元素括起来，用：分割键和值并用，分隔项来定义，字典的值可以用键来引用 "
   ]
  },
  {
   "cell_type": "code",
   "execution_count": 220,
   "metadata": {},
   "outputs": [
    {
     "data": {
      "text/plain": [
       "'WQS'"
      ]
     },
     "execution_count": 220,
     "metadata": {},
     "output_type": "execute_result"
    }
   ],
   "source": [
    "d={'name':'WQS','Gender':'Male','Age':'20','Height':'68'}\n",
    "d['name']"
   ]
  },
  {
   "cell_type": "code",
   "execution_count": 221,
   "metadata": {},
   "outputs": [
    {
     "data": {
      "text/plain": [
       "{'Aage': '20', 'Gender': 'Male', 'Height': '68', 'name': 'wqs'}"
      ]
     },
     "execution_count": 221,
     "metadata": {},
     "output_type": "execute_result"
    }
   ],
   "source": [
    "items=[('name','wqs'),('Gender','Male'),('Aage','20'),('Height','68')]\n",
    "dict(items)    #dict函数根据序列创建字典"
   ]
  },
  {
   "cell_type": "code",
   "execution_count": 222,
   "metadata": {},
   "outputs": [
    {
     "data": {
      "text/plain": [
       "4"
      ]
     },
     "execution_count": 222,
     "metadata": {},
     "output_type": "execute_result"
    }
   ],
   "source": [
    "len(d)"
   ]
  },
  {
   "cell_type": "code",
   "execution_count": 223,
   "metadata": {},
   "outputs": [
    {
     "data": {
      "text/plain": [
       "{1: 'Hello!', 'Age': '20', 'Gender': 'Male', 'Height': '68', 'name': 'WQS'}"
      ]
     },
     "execution_count": 223,
     "metadata": {},
     "output_type": "execute_result"
    }
   ],
   "source": [
    "d[1]='Hello!'\n",
    "d"
   ]
  },
  {
   "cell_type": "code",
   "execution_count": 224,
   "metadata": {},
   "outputs": [
    {
     "data": {
      "text/plain": [
       "True"
      ]
     },
     "execution_count": 224,
     "metadata": {},
     "output_type": "execute_result"
    }
   ],
   "source": [
    "1 in d   # 成员资格查找的是键不是值"
   ]
  },
  {
   "cell_type": "code",
   "execution_count": 225,
   "metadata": {},
   "outputs": [
    {
     "data": {
      "text/plain": [
       "False"
      ]
     },
     "execution_count": 225,
     "metadata": {},
     "output_type": "execute_result"
    }
   ],
   "source": [
    "2 in d"
   ]
  },
  {
   "cell_type": "code",
   "execution_count": 226,
   "metadata": {},
   "outputs": [
    {
     "data": {
      "text/plain": [
       "{'Age': '20', 'Gender': 'Male', 'Height': '68', 'name': 'WQS'}"
      ]
     },
     "execution_count": 226,
     "metadata": {},
     "output_type": "execute_result"
    }
   ],
   "source": [
    "del d[1]\n",
    "d"
   ]
  },
  {
   "cell_type": "code",
   "execution_count": 227,
   "metadata": {},
   "outputs": [
    {
     "data": {
      "text/plain": [
       "{'name': 'wqs'}"
      ]
     },
     "execution_count": 227,
     "metadata": {},
     "output_type": "execute_result"
    }
   ],
   "source": [
    "d1={'name':'wqs'}\n",
    "d1"
   ]
  },
  {
   "cell_type": "code",
   "execution_count": 228,
   "metadata": {},
   "outputs": [
    {
     "data": {
      "text/plain": [
       "{}"
      ]
     },
     "execution_count": 228,
     "metadata": {},
     "output_type": "execute_result"
    }
   ],
   "source": [
    "d1.clear()  #q清除字典中的所有项，无返回值\n",
    "d1"
   ]
  },
  {
   "cell_type": "code",
   "execution_count": 229,
   "metadata": {},
   "outputs": [
    {
     "data": {
      "text/plain": [
       "{'name': 'wqs'}"
      ]
     },
     "execution_count": 229,
     "metadata": {},
     "output_type": "execute_result"
    }
   ],
   "source": [
    "d1={'name':'wqs'}  #浅复制\n",
    "d2=d1.copy()\n",
    "d2"
   ]
  },
  {
   "cell_type": "code",
   "execution_count": 230,
   "metadata": {},
   "outputs": [
    {
     "data": {
      "text/plain": [
       "'wqs'"
      ]
     },
     "execution_count": 230,
     "metadata": {},
     "output_type": "execute_result"
    }
   ],
   "source": [
    "d1.get('name')"
   ]
  },
  {
   "cell_type": "markdown",
   "metadata": {},
   "source": [
    "### 1.3.4集合"
   ]
  },
  {
   "cell_type": "code",
   "execution_count": 231,
   "metadata": {},
   "outputs": [
    {
     "name": "stdout",
     "output_type": "stream",
     "text": [
      "set([1, 2]) set([3, 4])\n"
     ]
    }
   ],
   "source": [
    "s1=set([1,2])    #集合可以通过set、forzenset等函数创建，也可以用{}创建\n",
    "s2={3,4,3}\n",
    "print s1,s2    "
   ]
  },
  {
   "cell_type": "code",
   "execution_count": 232,
   "metadata": {},
   "outputs": [
    {
     "data": {
      "text/plain": [
       "{'!', ',', 'H', 'd', 'e', 'l', 'o', 'r', 'w'}"
      ]
     },
     "execution_count": 232,
     "metadata": {},
     "output_type": "execute_result"
    }
   ],
   "source": [
    "set('Hello,world!')  #集合中的元素不能重复"
   ]
  },
  {
   "cell_type": "code",
   "execution_count": 233,
   "metadata": {},
   "outputs": [
    {
     "data": {
      "text/plain": [
       "set"
      ]
     },
     "execution_count": 233,
     "metadata": {},
     "output_type": "execute_result"
    }
   ],
   "source": [
    "sk=set()  #创建空集合只能用set和frozenset\n",
    "type(sk)"
   ]
  },
  {
   "cell_type": "code",
   "execution_count": 234,
   "metadata": {},
   "outputs": [
    {
     "data": {
      "text/plain": [
       "dict"
      ]
     },
     "execution_count": 234,
     "metadata": {},
     "output_type": "execute_result"
    }
   ],
   "source": [
    "sk={}\n",
    "type(sk)"
   ]
  },
  {
   "cell_type": "markdown",
   "metadata": {},
   "source": [
    "常用集合方法"
   ]
  },
  {
   "cell_type": "code",
   "execution_count": 235,
   "metadata": {},
   "outputs": [
    {
     "ename": "SyntaxError",
     "evalue": "invalid syntax (<ipython-input-235-998ae3b68bbc>, line 2)",
     "output_type": "error",
     "traceback": [
      "\u001b[1;36m  File \u001b[1;32m\"<ipython-input-235-998ae3b68bbc>\"\u001b[1;36m, line \u001b[1;32m2\u001b[0m\n\u001b[1;33m    s1.add(5)\u001b[0m\n\u001b[1;37m     ^\u001b[0m\n\u001b[1;31mSyntaxError\u001b[0m\u001b[1;31m:\u001b[0m invalid syntax\n"
     ]
    }
   ],
   "source": [
    "s1={1,2,3,4,5  #将元素添加到集合\n",
    "s1.add(5)\n",
    "s1"
   ]
  },
  {
   "cell_type": "code",
   "execution_count": null,
   "metadata": {},
   "outputs": [],
   "source": [
    "s2={6,7,8}\n",
    "s1.update(s2)  #用集合更新集合\n",
    "s1"
   ]
  },
  {
   "cell_type": "code",
   "execution_count": null,
   "metadata": {},
   "outputs": [],
   "source": [
    "s1.remove(1)  #从集合中删除元素，若不存在则报错\n",
    "s1"
   ]
  },
  {
   "cell_type": "code",
   "execution_count": null,
   "metadata": {},
   "outputs": [],
   "source": [
    "s1.discard(3)  #同remove 但不报错\n",
    "s1"
   ]
  },
  {
   "cell_type": "code",
   "execution_count": null,
   "metadata": {},
   "outputs": [],
   "source": [
    "s1.pop()  #删除集合中某一元素，并返回其值\n",
    "s1"
   ]
  },
  {
   "cell_type": "code",
   "execution_count": null,
   "metadata": {},
   "outputs": [],
   "source": [
    "s1.clear()"
   ]
  },
  {
   "cell_type": "code",
   "execution_count": null,
   "metadata": {},
   "outputs": [],
   "source": [
    "s1|s2"
   ]
  },
  {
   "cell_type": "markdown",
   "metadata": {},
   "source": [
    "### 1.3.5推导式"
   ]
  },
  {
   "cell_type": "markdown",
   "metadata": {},
   "source": [
    "推导式是一种将for循环，if表达式以及赋值语句放到单一语句中产生序列的一种方法。主要有列表推导式、集合推导式、字典推导式"
   ]
  },
  {
   "cell_type": "code",
   "execution_count": null,
   "metadata": {},
   "outputs": [],
   "source": [
    "string=['china','japan','usa','uk','france']  #根据一定条件成列表\n",
    "upper_string=[x.upper() for x in string if len(x)>4]  #从列表中找出长度大于4的字符，并将其转为大写\n",
    "upper_string "
   ]
  },
  {
   "cell_type": "code",
   "execution_count": null,
   "metadata": {},
   "outputs": [],
   "source": [
    "names=[['Abby','Angelia','Tammy','Barbara','Beata','Andrew','Carina'],['Hannah','Ishara','Heidi','Tiffany','Jessica','Joanna']]  \n",
    "morethan2e=[n1 for n2 in names for n1 in n2 if n1.count('a')>=2]  #嵌套列表推导式将名字带有两个以上a字母的名字放入一个新列表中\n",
    "morethan2e"
   ]
  },
  {
   "cell_type": "code",
   "execution_count": null,
   "metadata": {},
   "outputs": [],
   "source": [
    "string=['china','japan','usa','uk','france','german']\n",
    "string_len={len(x) for x in string if len(x)>3}  #集合推导式列表推导式的区别就是他用花括号\n",
    "string_len"
   ]
  },
  {
   "cell_type": "markdown",
   "metadata": {},
   "source": [
    "为字符串创建一个指向其列表位置的映射"
   ]
  },
  {
   "cell_type": "code",
   "execution_count": null,
   "metadata": {},
   "outputs": [],
   "source": [
    "mapping=dict((val,index) for index,val in enumerate(string))\n",
    "mapping"
   ]
  },
  {
   "cell_type": "code",
   "execution_count": null,
   "metadata": {},
   "outputs": [],
   "source": [
    "mapping={val:index for index,val in enumerate(string)}\n",
    "mapping"
   ]
  },
  {
   "cell_type": "markdown",
   "metadata": {},
   "source": [
    "## 语句与控制流"
   ]
  },
  {
   "cell_type": "markdown",
   "metadata": {},
   "source": [
    "### 1.4.1 条件语句"
   ]
  },
  {
   "cell_type": "raw",
   "metadata": {},
   "source": [
    "if 条件或表达式：\n",
    "   语句...\n",
    "elif 条件或表达式：\n",
    "    语句...\n",
    "else:\n",
    "    语句..."
   ]
  },
  {
   "cell_type": "code",
   "execution_count": null,
   "metadata": {},
   "outputs": [],
   "source": [
    "age=input('Please input your age:')  #条件语句体是以 ： 和缩进来进行识别的\n",
    "if age >= 18:\n",
    "    print 'adult'\n",
    "elif age>=13:\n",
    "    print 'teenager'\n",
    "else:\n",
    "    print 'kid'"
   ]
  },
  {
   "cell_type": "code",
   "execution_count": null,
   "metadata": {},
   "outputs": [],
   "source": [
    "a=500000\n",
    "if (a==500000):print \"Bingo! You've got Lotto!\"  #如果满足： 后面只有一行于巨，则可以写在同一行"
   ]
  },
  {
   "cell_type": "code",
   "execution_count": null,
   "metadata": {},
   "outputs": [],
   "source": [
    "givenname='Jing'  #三元表达式，将产生一个值的if.... else 语句写到一行或一个表达式中\n",
    "'Good man!' if givenname=='Jing' else 'Can not be evaluated!'"
   ]
  },
  {
   "cell_type": "code",
   "execution_count": null,
   "metadata": {},
   "outputs": [],
   "source": [
    "age=input('Please input your age:')\n",
    "'Adult' if age>=18 else 'Kids'"
   ]
  },
  {
   "cell_type": "code",
   "execution_count": null,
   "metadata": {},
   "outputs": [],
   "source": [
    "age=input('please input your age:')\n",
    "('Kids','Adult') [age>=18] #更简洁的表示形式"
   ]
  },
  {
   "cell_type": "markdown",
   "metadata": {},
   "source": [
    "### 1.4.2 循环语句"
   ]
  },
  {
   "cell_type": "markdown",
   "metadata": {},
   "source": [
    "#### 1.4.2.1 while循环"
   ]
  },
  {
   "cell_type": "raw",
   "metadata": {},
   "source": [
    "while 条件或表达式：\n",
    "     语句...\n",
    "else:\n",
    "    语句..."
   ]
  },
  {
   "cell_type": "code",
   "execution_count": null,
   "metadata": {},
   "outputs": [],
   "source": [
    "x=1;s=0\n",
    "while x<=100:  #计算100内自然数之和\n",
    "    s+=x\n",
    "    x+=1\n",
    "print s"
   ]
  },
  {
   "cell_type": "markdown",
   "metadata": {},
   "source": [
    "如果while循环中有else语句体，则else中的语句会在循环正常执行完（非break语句终止循环）的情况下执行"
   ]
  },
  {
   "cell_type": "code",
   "execution_count": null,
   "metadata": {},
   "outputs": [],
   "source": [
    "count=0\n",
    "while count<5:\n",
    "    print count,\"is less than 5\"\n",
    "    count+=1\n",
    "else:\n",
    "    print count,\"is not less than 5,stop!\""
   ]
  },
  {
   "cell_type": "markdown",
   "metadata": {},
   "source": [
    "#### 1.4.2.2 for循环"
   ]
  },
  {
   "cell_type": "raw",
   "metadata": {},
   "source": [
    "for value in 集合:\n",
    "    语句...  #一般都是对value进行处理"
   ]
  },
  {
   "cell_type": "code",
   "execution_count": null,
   "metadata": {},
   "outputs": [],
   "source": [
    "d={'name':'David','age':'35','gender':'male','department':'statistics'} #遍历字典键值对\n",
    "for key in d:\n",
    "    print key,'corresponds to',d[key]"
   ]
  },
  {
   "cell_type": "code",
   "execution_count": null,
   "metadata": {},
   "outputs": [],
   "source": [
    "s=0\n",
    "for i in range(1,101):  #range 函数主要用于产生一组间隔相等的整数序列，可以指定起始值、终止值以及步长\n",
    "    s+=i\n",
    "print s"
   ]
  },
  {
   "cell_type": "code",
   "execution_count": null,
   "metadata": {},
   "outputs": [],
   "source": [
    "from math import sqrt\n",
    "s=0\n",
    "for i in range(2,100):  #xrange() 函数用法和range一样 但其生成的不是一个序列，而是一个迭代器，用于生成很大数字的序列\n",
    "    k=0;j=2.\n",
    "    while j<=sqrt(i):\n",
    "        if i/j==int (i/j):\n",
    "            k=1\n",
    "            break\n",
    "        j+=1\n",
    "    if k==0:\n",
    "        s+=i\n",
    "        print i,\n",
    "print '\\nsum of prime numbers within 100:',s"
   ]
  },
  {
   "cell_type": "code",
   "execution_count": null,
   "metadata": {},
   "outputs": [],
   "source": [
    "[x*x for x in range(10)]"
   ]
  },
  {
   "cell_type": "code",
   "execution_count": null,
   "metadata": {},
   "outputs": [],
   "source": [
    "x=[]\n",
    "for val in range(10):\n",
    "    x.append(val**2)  #val**2 = val*val\n",
    "    print val\n",
    "x"
   ]
  },
  {
   "cell_type": "markdown",
   "metadata": {},
   "source": [
    "#### 1.4.2.3 循环控制"
   ]
  },
  {
   "cell_type": "code",
   "execution_count": null,
   "metadata": {},
   "outputs": [],
   "source": [
    "for a in 'This is Pyhon!':\n",
    "    if a=='P':\n",
    "        pass  #占位语句\n",
    "        print 'passed!'\n",
    "        break\n",
    "    print a,"
   ]
  },
  {
   "cell_type": "markdown",
   "metadata": {},
   "source": [
    "## 1.5 函数"
   ]
  },
  {
   "cell_type": "code",
   "execution_count": null,
   "metadata": {},
   "outputs": [],
   "source": [
    "pow(2,64) #求幂内置函数"
   ]
  },
  {
   "cell_type": "code",
   "execution_count": null,
   "metadata": {},
   "outputs": [],
   "source": [
    "pow.__doc__  #获得函数的功能说明 __doc__"
   ]
  },
  {
   "cell_type": "code",
   "execution_count": null,
   "metadata": {},
   "outputs": [],
   "source": [
    "help(pow)"
   ]
  },
  {
   "cell_type": "code",
   "execution_count": null,
   "metadata": {},
   "outputs": [],
   "source": [
    "pow?"
   ]
  },
  {
   "cell_type": "markdown",
   "metadata": {},
   "source": [
    "def 函数名称（函数参数）\n",
    "    “函数_文档字符串”\n",
    "    函数体\n",
    "    return [表达式]"
   ]
  },
  {
   "cell_type": "code",
   "execution_count": null,
   "metadata": {},
   "outputs": [],
   "source": [
    "def snn(n,beg=1): \n",
    "    'calculate the sum of natural numbers within [beg,n]'\n",
    "    s=0\n",
    "    for i in range(beg,n+1):\n",
    "        s+=i\n",
    "    return s"
   ]
  },
  {
   "cell_type": "code",
   "execution_count": null,
   "metadata": {},
   "outputs": [],
   "source": [
    "snn(100)"
   ]
  },
  {
   "cell_type": "code",
   "execution_count": null,
   "metadata": {},
   "outputs": [],
   "source": [
    "f=snn  #函数也是一个对象，可以赋值给变量，可以直接使用被赋值的变量调用函数\n",
    "f(100)"
   ]
  },
  {
   "cell_type": "markdown",
   "metadata": {},
   "source": [
    "### 1.5.1 函数的参数"
   ]
  },
  {
   "cell_type": "code",
   "execution_count": null,
   "metadata": {},
   "outputs": [],
   "source": [
    "snn(beg=1,n=100)  #命名参数，可以乱序传参"
   ]
  },
  {
   "cell_type": "markdown",
   "metadata": {},
   "source": [
    "不定参数前加了 * ， 会以元组的形式存放所有未命名的参数"
   ]
  },
  {
   "cell_type": "code",
   "execution_count": null,
   "metadata": {},
   "outputs": [],
   "source": [
    "def summation(*data):  #对任意数值求和\n",
    "    s=0\n",
    "    for val in data:\n",
    "        s+=val\n",
    "    return s"
   ]
  },
  {
   "cell_type": "code",
   "execution_count": null,
   "metadata": {},
   "outputs": [],
   "source": [
    "summation(1,2,3)"
   ]
  },
  {
   "cell_type": "markdown",
   "metadata": {},
   "source": [
    "### 1.5.2 全局变量与局部变量"
   ]
  },
  {
   "cell_type": "code",
   "execution_count": null,
   "metadata": {},
   "outputs": [],
   "source": [
    "total=0  #函数中可以用global语句声明全局变量\n",
    "def sum(paral1,paral2):\n",
    "    total=paral1+paral2\n",
    "    print 'Inside the function local total :',total\n",
    "    return total\n",
    "sum(10,20)\n",
    "print 'Outside the function global total:',total"
   ]
  },
  {
   "cell_type": "markdown",
   "metadata": {},
   "source": [
    "### 1.5.3 匿名函数"
   ]
  },
  {
   "cell_type": "markdown",
   "metadata": {},
   "source": [
    "匿名函数仅由单条语句组成，该语句执行的结果就是返回值，省略了用def定义的函数步骤，没有名称属性"
   ]
  },
  {
   "cell_type": "code",
   "execution_count": null,
   "metadata": {},
   "outputs": [],
   "source": [
    "def universal(some_list,func):\n",
    "    return [func(x) for x in some_list]"
   ]
  },
  {
   "cell_type": "code",
   "execution_count": null,
   "metadata": {},
   "outputs": [],
   "source": []
  },
  {
   "cell_type": "code",
   "execution_count": null,
   "metadata": {},
   "outputs": [],
   "source": [
    "a=[1,2,3,4,5]  #对指定列表元素求平方\n",
    "b=universal(a,lambda x:x**2)\n",
    "b"
   ]
  },
  {
   "cell_type": "code",
   "execution_count": null,
   "metadata": {},
   "outputs": [],
   "source": [
    "a=[1,2,3,4,5]\n",
    "b=universal(a,lambda x:x**3-2*x**2-x)\n",
    "b"
   ]
  },
  {
   "cell_type": "markdown",
   "metadata": {},
   "source": [
    "### 1.5.4 递归和闭包"
   ]
  },
  {
   "cell_type": "code",
   "execution_count": null,
   "metadata": {},
   "outputs": [],
   "source": [
    "def addn(n):\n",
    "    if n==1:\n",
    "        return 1\n",
    "    return n+addn(n-1)\n",
    "addn(100)"
   ]
  },
  {
   "cell_type": "code",
   "execution_count": null,
   "metadata": {},
   "outputs": [],
   "source": [
    "def adderx(x):\n",
    "    def addery(y):\n",
    "        return x+y\n",
    "    return addery\n",
    "s=adderx(1)\n",
    "print s"
   ]
  },
  {
   "cell_type": "code",
   "execution_count": null,
   "metadata": {},
   "outputs": [],
   "source": [
    "s(100)"
   ]
  },
  {
   "cell_type": "markdown",
   "metadata": {},
   "source": [
    "### 1.5.5 柯里化与反柯里化"
   ]
  },
  {
   "cell_type": "markdown",
   "metadata": {},
   "source": [
    "柯里化是指一个函数在参数传递时返回另一个函数，该函数的参数就是原函数没有进行参数传递的参数"
   ]
  },
  {
   "cell_type": "code",
   "execution_count": null,
   "metadata": {},
   "outputs": [],
   "source": [
    "def power(x,y):\n",
    "    return x**y\n",
    "\n",
    "print power(2,3)"
   ]
  },
  {
   "cell_type": "code",
   "execution_count": null,
   "metadata": {},
   "outputs": [],
   "source": [
    "powerof2=lambda y:power(2,y)  #将power函数参数y柯里化 powerof2就是泛化出来的一个函数"
   ]
  },
  {
   "cell_type": "code",
   "execution_count": null,
   "metadata": {},
   "outputs": [],
   "source": [
    "powerof2(5)"
   ]
  },
  {
   "cell_type": "code",
   "execution_count": null,
   "metadata": {},
   "outputs": [],
   "source": [
    "from functools import partial\n",
    "powerof_2=partial(power,2)\n",
    "powerof_2(5)"
   ]
  },
  {
   "cell_type": "code",
   "execution_count": null,
   "metadata": {},
   "outputs": [],
   "source": [
    "def power(x):  #反柯里化是柯里化的逆过程，将多个单参数函数模拟成一个多参数函数\n",
    "    def p(y):\n",
    "        return x**y\n",
    "    return p\n",
    "\n",
    "power(2)(5)"
   ]
  },
  {
   "cell_type": "markdown",
   "metadata": {},
   "source": [
    "### 1.5.6 常用的内置函数"
   ]
  },
  {
   "cell_type": "markdown",
   "metadata": {},
   "source": [
    "#### 1.5.6.1 filter函数"
   ]
  },
  {
   "cell_type": "code",
   "execution_count": null,
   "metadata": {},
   "outputs": [],
   "source": [
    "filter(lambda x:x%2==0,range(20))"
   ]
  },
  {
   "cell_type": "code",
   "execution_count": null,
   "metadata": {},
   "outputs": [],
   "source": [
    "print filter(lambda x:x[0]!='_',dir(list))"
   ]
  },
  {
   "cell_type": "markdown",
   "metadata": {},
   "source": [
    "#### 1.5.6.2 map函数"
   ]
  },
  {
   "cell_type": "markdown",
   "metadata": {},
   "source": [
    "将指定函数作用于给定序列的每个元素，并用一个列表来提供返回值"
   ]
  },
  {
   "cell_type": "code",
   "execution_count": null,
   "metadata": {},
   "outputs": [],
   "source": [
    "map(lambda x:x%2,range(20))"
   ]
  },
  {
   "cell_type": "code",
   "execution_count": null,
   "metadata": {},
   "outputs": [],
   "source": [
    "map(lambda x:x*2,[1,2,3,4,[5,6,7]])"
   ]
  },
  {
   "cell_type": "code",
   "execution_count": null,
   "metadata": {},
   "outputs": [],
   "source": [
    "map(None,[1,2,3],[4,5,6])"
   ]
  },
  {
   "cell_type": "code",
   "execution_count": null,
   "metadata": {},
   "outputs": [],
   "source": [
    "zip([1,2,3],[4,5,6])"
   ]
  },
  {
   "cell_type": "code",
   "execution_count": null,
   "metadata": {},
   "outputs": [],
   "source": [
    "map(lambda x,y:x*y,[1,2,3],[4,5,6])"
   ]
  },
  {
   "cell_type": "code",
   "execution_count": null,
   "metadata": {},
   "outputs": [],
   "source": [
    "map(lambda x,y:(x*y,x+y),[1,2,3],[4,5,6])"
   ]
  },
  {
   "cell_type": "markdown",
   "metadata": {},
   "source": [
    "#### 1.5.6.3 reduce函数"
   ]
  },
  {
   "cell_type": "code",
   "execution_count": null,
   "metadata": {},
   "outputs": [],
   "source": [
    "reduce (lambda x,y:x+y,[1,2,3,4])  #连续将现有结果和下一个元素作用在随后的结果上，最后将简化序列为一个单一返回值"
   ]
  },
  {
   "cell_type": "code",
   "execution_count": null,
   "metadata": {},
   "outputs": [],
   "source": [
    "reduce(lambda x,y:x+y,[10,10],1)"
   ]
  },
  {
   "cell_type": "code",
   "execution_count": null,
   "metadata": {},
   "outputs": [],
   "source": [
    "reduce(lambda x,y:x*y,range(1,6))"
   ]
  },
  {
   "cell_type": "code",
   "execution_count": null,
   "metadata": {},
   "outputs": [],
   "source": [
    "reduce(lambda x,y:x+y,range(1,101))"
   ]
  },
  {
   "cell_type": "markdown",
   "metadata": {},
   "source": [
    "## 1.6迭代器、生成器和装饰器"
   ]
  },
  {
   "cell_type": "markdown",
   "metadata": {},
   "source": [
    "### 1.6.1 迭代器"
   ]
  },
  {
   "cell_type": "code",
   "execution_count": null,
   "metadata": {},
   "outputs": [],
   "source": [
    "it={'a':101,'b':202,'c':303}\n",
    "for keys in it:\n",
    "    print keys,"
   ]
  },
  {
   "cell_type": "markdown",
   "metadata": {},
   "source": [
    "先从对象it中创建一个迭代器\n",
    "it_it=iter(it)\n",
    "it_it\n",
    "list(it)"
   ]
  },
  {
   "cell_type": "code",
   "execution_count": null,
   "metadata": {},
   "outputs": [],
   "source": [
    "it={'a':101,'b':202,'c':303}\n",
    "it_it=iter(it)\n",
    "it_it.next()"
   ]
  },
  {
   "cell_type": "code",
   "execution_count": null,
   "metadata": {},
   "outputs": [],
   "source": [
    "it_it.next()  #next 返回迭代器下一个元素  __iter__ 返回迭代器对象本身"
   ]
  },
  {
   "cell_type": "code",
   "execution_count": null,
   "metadata": {},
   "outputs": [],
   "source": [
    "it_it.next()"
   ]
  },
  {
   "cell_type": "code",
   "execution_count": null,
   "metadata": {},
   "outputs": [],
   "source": [
    "it_it.__iter__()"
   ]
  },
  {
   "cell_type": "markdown",
   "metadata": {},
   "source": [
    "### 1.6.2 生成器"
   ]
  },
  {
   "cell_type": "markdown",
   "metadata": {},
   "source": [
    "生成器以延迟的方式返回一个值序列，每返回一个值后暂停，直到下一个值被请求时再继续返回"
   ]
  },
  {
   "cell_type": "code",
   "execution_count": null,
   "metadata": {},
   "outputs": [],
   "source": [
    "def cube(n=10):  \n",
    "    print 'Generating cubes from 1 to %d' %(n**3)\n",
    "    for i in xrange(1,n+1):\n",
    "        yield i**3"
   ]
  },
  {
   "cell_type": "code",
   "execution_count": null,
   "metadata": {},
   "outputs": [],
   "source": [
    "gen=cube()\n",
    "gen"
   ]
  },
  {
   "cell_type": "code",
   "execution_count": null,
   "metadata": {},
   "outputs": [],
   "source": [
    "for x in gen:\n",
    "    print x,"
   ]
  },
  {
   "cell_type": "code",
   "execution_count": null,
   "metadata": {},
   "outputs": [],
   "source": [
    "from math import sqrt\n",
    "def primenumber(n):\n",
    "    for i in range(2,n+1):\n",
    "        k=0;j=2.\n",
    "        while j<sqrt(i):\n",
    "            if i/j==int(i/j):\n",
    "                k=1\n",
    "                break\n",
    "            j+=1\n",
    "        if k==0:\n",
    "            yield i\n",
    "            \n",
    "for i in primenumber(10):\n",
    "    print i,"
   ]
  },
  {
   "cell_type": "code",
   "execution_count": null,
   "metadata": {},
   "outputs": [],
   "source": [
    "pn10=primenumber(10)\n",
    "pn10.next(),pn10.next(),pn10.next()"
   ]
  },
  {
   "cell_type": "code",
   "execution_count": null,
   "metadata": {},
   "outputs": [],
   "source": [
    "gen=(x**3 for x in xrange(100))\n",
    "gen"
   ]
  },
  {
   "cell_type": "code",
   "execution_count": null,
   "metadata": {},
   "outputs": [],
   "source": [
    "gen.next(),gen.next(),gen.next(),gen.next()"
   ]
  },
  {
   "cell_type": "markdown",
   "metadata": {},
   "source": [
    "### 1.6.3 装饰器"
   ]
  },
  {
   "cell_type": "markdown",
   "metadata": {},
   "source": [
    "让已有的函数在不做任何改动情况下增加特定功能"
   ]
  },
  {
   "cell_type": "code",
   "execution_count": null,
   "metadata": {},
   "outputs": [],
   "source": [
    "import time\n",
    "def timecal(func):\n",
    "    def wrapper(*args,**kw):\n",
    "        start=time.time()\n",
    "        func(*args,**kw)\n",
    "        stop=time.time()\n",
    "        print 'run time is %s' %(stop-start)\n",
    "    return wrapper"
   ]
  },
  {
   "cell_type": "code",
   "execution_count": null,
   "metadata": {},
   "outputs": [],
   "source": [
    "@timecal\n",
    "def snn(n,beg=1):\n",
    "    'ca [beg,n]'\n",
    "    s=0\n",
    "    for i in range(beg,n+1):\n",
    "        s+=i\n",
    "    print 'sum of natural numbers within [%s,%s] is %s' %(beg,n,s)\n",
    "snn(10000)"
   ]
  },
  {
   "cell_type": "code",
   "execution_count": null,
   "metadata": {},
   "outputs": [],
   "source": [
    "def timecal(prompt):  \n",
    "    def decorator(func):\n",
    "        def wrapper(*args,**kw):\n",
    "            start=time.time()\n",
    "            func(*args,**kw)\n",
    "            stop=time.time()\n",
    "            print '%s run time is %s' %(prompt,(stop-start))\n",
    "        return wrapper\n",
    "    return decorator"
   ]
  },
  {
   "cell_type": "code",
   "execution_count": null,
   "metadata": {},
   "outputs": [],
   "source": [
    "@timecal('Notice:')  #在定义被装饰的函数时，可在@语法糖中加入需要传递的参数\n",
    "def snn(n,beg=1):\n",
    "    s=0\n",
    "    for i in range(beg,n+1):\n",
    "        s+=i\n",
    "    print 'sum of natural numbers within [%s,%s] is %s' %(beg,n,s)"
   ]
  },
  {
   "cell_type": "code",
   "execution_count": null,
   "metadata": {},
   "outputs": [],
   "source": [
    "snn(100)"
   ]
  },
  {
   "cell_type": "code",
   "execution_count": null,
   "metadata": {},
   "outputs": [],
   "source": [
    "timecal('Notice')(snn(100))"
   ]
  },
  {
   "cell_type": "code",
   "execution_count": null,
   "metadata": {},
   "outputs": [],
   "source": [
    "import functools  #重新使用装饰器来装饰所定义的snn函数\n",
    "\n",
    "def timecal(prompt):\n",
    "    def decorator(func):\n",
    "        @functools.wraps(func)\n",
    "        def wrapper(*args,**kw):\n",
    "            start=time.time()\n",
    "            func(*arg,**kw)\n",
    "            stop=time.time()\n",
    "            print '%s run time is %s' %(prompt,(stop-start))\n",
    "        return wrapper\n",
    "    return decorator"
   ]
  },
  {
   "cell_type": "code",
   "execution_count": null,
   "metadata": {},
   "outputs": [],
   "source": [
    "snn.__name__"
   ]
  },
  {
   "cell_type": "markdown",
   "metadata": {},
   "source": [
    "## 1.7 类"
   ]
  },
  {
   "cell_type": "markdown",
   "metadata": {},
   "source": [
    "### 1.7.1 声明类"
   ]
  },
  {
   "cell_type": "markdown",
   "metadata": {},
   "source": [
    "通过class来声明，类名称一般用首字母大写的方式来表示"
   ]
  },
  {
   "cell_type": "code",
   "execution_count": 238,
   "metadata": {},
   "outputs": [],
   "source": [
    "class Human(object):\n",
    "    \"\"\"\n",
    "    也可以使用class Human:来声明经典类\n",
    "    \"\"\"\n",
    "    phylum='chordata'\n",
    "    order='primates'\n",
    "    family='Human Bejing'"
   ]
  },
  {
   "cell_type": "code",
   "execution_count": 239,
   "metadata": {},
   "outputs": [],
   "source": [
    "zhangsan=Human()"
   ]
  },
  {
   "cell_type": "code",
   "execution_count": 240,
   "metadata": {},
   "outputs": [
    {
     "data": {
      "text/plain": [
       "'chordata'"
      ]
     },
     "execution_count": 240,
     "metadata": {},
     "output_type": "execute_result"
    }
   ],
   "source": [
    "zhangsan.phylum  #获取实例的属性值"
   ]
  },
  {
   "cell_type": "code",
   "execution_count": 241,
   "metadata": {},
   "outputs": [
    {
     "data": {
      "text/plain": [
       "'mankind'"
      ]
     },
     "execution_count": 241,
     "metadata": {},
     "output_type": "execute_result"
    }
   ],
   "source": [
    "zhangsan.family='mankind'  #实例的属性值可以修改\n",
    "zhangsan.family"
   ]
  },
  {
   "cell_type": "code",
   "execution_count": 242,
   "metadata": {},
   "outputs": [
    {
     "data": {
      "text/plain": [
       "'Human Bejing'"
      ]
     },
     "execution_count": 242,
     "metadata": {},
     "output_type": "execute_result"
    }
   ],
   "source": [
    "Lisi=Human()  #对于别的类创建的实例不会有修改效果\n",
    "Lisi.family"
   ]
  },
  {
   "cell_type": "code",
   "execution_count": 243,
   "metadata": {},
   "outputs": [
    {
     "name": "stdout",
     "output_type": "stream",
     "text": [
      "zhangsan.family: mankind\n",
      "Lisi.family:Homo\n",
      "wagwu.family: Homo\n"
     ]
    }
   ],
   "source": [
    "Human.family='Homo'  #zhangsan的属性没有改变，因为之前将该实例的属性值进行过重新定义，不会再受到此后类属性值变化的影响\n",
    "print 'zhangsan.family: %s' %zhangsan.family\n",
    "print 'Lisi.family:%s' %Lisi.family\n",
    "wangwu=Human()\n",
    "print 'wagwu.family: %s' %wangwu.family"
   ]
  },
  {
   "cell_type": "code",
   "execution_count": 244,
   "metadata": {},
   "outputs": [
    {
     "data": {
      "text/plain": [
       "'Animalia'"
      ]
     },
     "execution_count": 244,
     "metadata": {},
     "output_type": "execute_result"
    }
   ],
   "source": [
    "zhangsan.kingdom='Animalia'  #直接添加实例的属性\n",
    "zhangsan.kingdom"
   ]
  },
  {
   "cell_type": "code",
   "execution_count": 245,
   "metadata": {},
   "outputs": [
    {
     "data": {
      "text/plain": [
       "'Animalia'"
      ]
     },
     "execution_count": 245,
     "metadata": {},
     "output_type": "execute_result"
    }
   ],
   "source": [
    "Human.kingdom='Animalia'  #类的属性成员直接添加\n",
    "Lisi.kingdom"
   ]
  },
  {
   "cell_type": "markdown",
   "metadata": {},
   "source": [
    "### 1.7.3 实例方法"
   ]
  },
  {
   "cell_type": "code",
   "execution_count": 246,
   "metadata": {},
   "outputs": [],
   "source": [
    "class Human(object):\n",
    "    kingdom='animalia'  \n",
    "    phylum='chordata'\n",
    "    order='primates'\n",
    "    family='Human Bejing'\n",
    "    def typewrite(self):  #实例方法\n",
    "        print 'This is %s typing words!' %self.family\n",
    "    def add(self,n1,n2):\n",
    "        n=n1+n2\n",
    "        print str(n1)+'+'+str(n2)+'='+str(n)\n",
    "        print 'you see! %s can calculate!' %self.family"
   ]
  },
  {
   "cell_type": "code",
   "execution_count": 247,
   "metadata": {},
   "outputs": [
    {
     "name": "stdout",
     "output_type": "stream",
     "text": [
      "This is Human Bejing typing words!\n",
      "1+1=2\n",
      "you see! Human Bejing can calculate!\n"
     ]
    }
   ],
   "source": [
    "zhangsan=Human()\n",
    "zhangsan.typewrite()\n",
    "zhangsan.add(1,1)"
   ]
  },
  {
   "cell_type": "code",
   "execution_count": 248,
   "metadata": {},
   "outputs": [],
   "source": [
    "class Human(object):\n",
    "    domain='eukarya'  #__init()__ 在创建实例时，可以向这个实例传递参数\n",
    "    def __init__ (self,kingdom='animalia',phylum='chordata',order='Primates',family='Human Beijing'):\n",
    "        self.kingdom=kingdom \n",
    "        self.phylum=phylum\n",
    "        self.order=order\n",
    "        self.family=family\n",
    "    def typewrite(self):  #实例方法\n",
    "        print 'This is %s typing words!' %self.family\n",
    "    def add(self,n1,n2):\n",
    "        n=n1+n2\n",
    "        print str(n1)+'+'+str(n2)+'='+str(n)\n",
    "        print 'you see! %s can calculate!' %self.family"
   ]
  },
  {
   "cell_type": "markdown",
   "metadata": {},
   "source": [
    "zhangsan=Human()  \n",
    "lisi=Human(kingdom='animal',family='Homo')\n",
    "print lisi.kingdom\n",
    "print lisi.family\n",
    "print zhangsan.kingdom"
   ]
  },
  {
   "cell_type": "markdown",
   "metadata": {},
   "source": [
    "#### 1.7.2.2 类方法"
   ]
  },
  {
   "cell_type": "code",
   "execution_count": 249,
   "metadata": {},
   "outputs": [],
   "source": [
    "class Human(object):\n",
    "    domain='eukarya'\n",
    "    def __init__ (self,kingdom='animalia',phylum='chordata',order='Primates',family='Human Beijing'):\n",
    "        self.kingdom=kingdom \n",
    "        self.phylum=phylum\n",
    "        self.order=order\n",
    "        self.family=family    \n",
    "    def typewrite(self):  #实例方法\n",
    "        print 'This is %s typing words!' %self.family\n",
    "    def add(self,n1,n2):\n",
    "        n=n1+n2\n",
    "        print str(n1)+'+'+str(n2)+'='+str(n)\n",
    "        print 'you see! %s can calculate!' %self.family\n",
    "    @classmethod\n",
    "    def showclassmethodinfo(cls):\n",
    "        print cls.__name__ #__name属性，其值为类名\n",
    "        print dir(cls) #使用dir列示本类的所有方法"
   ]
  },
  {
   "cell_type": "code",
   "execution_count": 250,
   "metadata": {},
   "outputs": [
    {
     "name": "stdout",
     "output_type": "stream",
     "text": [
      "Human\n",
      "['__class__', '__delattr__', '__dict__', '__doc__', '__format__', '__getattribute__', '__hash__', '__init__', '__module__', '__new__', '__reduce__', '__reduce_ex__', '__repr__', '__setattr__', '__sizeof__', '__str__', '__subclasshook__', '__weakref__', 'add', 'domain', 'showclassmethodinfo', 'typewrite']\n",
      "None\n",
      "Human\n",
      "['__class__', '__delattr__', '__dict__', '__doc__', '__format__', '__getattribute__', '__hash__', '__init__', '__module__', '__new__', '__reduce__', '__reduce_ex__', '__repr__', '__setattr__', '__sizeof__', '__str__', '__subclasshook__', '__weakref__', 'add', 'domain', 'showclassmethodinfo', 'typewrite']\n",
      "None\n"
     ]
    }
   ],
   "source": [
    "zhangsan=Human()\n",
    "print zhangsan.showclassmethodinfo()\n",
    "print Human.showclassmethodinfo()"
   ]
  },
  {
   "cell_type": "markdown",
   "metadata": {},
   "source": [
    "#### 1.7.2.3 静态方法"
   ]
  },
  {
   "cell_type": "markdown",
   "metadata": {},
   "source": [
    "静态方法不需要实例参数，也不需要类参数"
   ]
  },
  {
   "cell_type": "code",
   "execution_count": 251,
   "metadata": {},
   "outputs": [],
   "source": [
    "class Human(object):\n",
    "    domain='eukarya'\n",
    "    def __init__ (self,kingdom='animalia',phylum='chordata',order='Primates',family='Human Beijing'):\n",
    "        self.kingdom=kingdom \n",
    "        self.phylum=phylum\n",
    "        self.order=order\n",
    "        self.family=family    \n",
    "    def typewrite(self):  #实例方法\n",
    "        print 'This is %s typing words!' %self.family\n",
    "    def add(self,n1,n2):\n",
    "        n=n1+n2\n",
    "        print str(n1)+'+'+str(n2)+'='+str(n)\n",
    "        print 'you see! %s can calculate!' %self.family\n",
    "    @classmethod\n",
    "    def showclassmethodinfo(cls):\n",
    "        print cls.__name__ #__name属性，其值为类名\n",
    "        print dir(cls) #使用dir列示本类的所有方法\n",
    "    @staticmethod\n",
    "    def showclassattributeinfo():\n",
    "        print Human.__dict__"
   ]
  },
  {
   "cell_type": "code",
   "execution_count": 252,
   "metadata": {},
   "outputs": [
    {
     "name": "stdout",
     "output_type": "stream",
     "text": [
      "{'__module__': '__main__', 'add': <function add at 0x0000000006599BA8>, 'typewrite': <function typewrite at 0x0000000006599B38>, '__doc__': None, '__dict__': <attribute '__dict__' of 'Human' objects>, 'showclassattributeinfo': <staticmethod object at 0x00000000065FF678>, '__weakref__': <attribute '__weakref__' of 'Human' objects>, 'domain': 'eukarya', '__init__': <function __init__ at 0x0000000006599A58>, 'showclassmethodinfo': <classmethod object at 0x00000000065FF138>}\n",
      "None\n",
      "{'__module__': '__main__', 'add': <function add at 0x0000000006599BA8>, 'typewrite': <function typewrite at 0x0000000006599B38>, '__doc__': None, '__dict__': <attribute '__dict__' of 'Human' objects>, 'showclassattributeinfo': <staticmethod object at 0x00000000065FF678>, '__weakref__': <attribute '__weakref__' of 'Human' objects>, 'domain': 'eukarya', '__init__': <function __init__ at 0x0000000006599A58>, 'showclassmethodinfo': <classmethod object at 0x00000000065FF138>}\n",
      "None\n"
     ]
    }
   ],
   "source": [
    "zhangsan=Human()\n",
    "print zhangsan.showclassattributeinfo()\n",
    "print zhangsan.showclassattributeinfo()"
   ]
  },
  {
   "cell_type": "markdown",
   "metadata": {},
   "source": [
    "### 1.7.3 属性"
   ]
  },
  {
   "cell_type": "markdown",
   "metadata": {},
   "source": [
    "#### 1.7.3.1 实例属性和类属性"
   ]
  },
  {
   "cell_type": "code",
   "execution_count": 253,
   "metadata": {},
   "outputs": [
    {
     "name": "stdout",
     "output_type": "stream",
     "text": [
      "eukarya\n",
      "eukarya\n"
     ]
    }
   ],
   "source": [
    "print Human.domain\n",
    "print zhangsan.domain"
   ]
  },
  {
   "cell_type": "markdown",
   "metadata": {},
   "source": [
    "#### 1.7.3.2 私有属性和共有属性"
   ]
  },
  {
   "cell_type": "markdown",
   "metadata": {},
   "source": [
    "在声明类的过程中定义属性时，带有 __前缀的属性称为私有属性，除此之外的其他属性称为公有属性"
   ]
  },
  {
   "cell_type": "code",
   "execution_count": 254,
   "metadata": {},
   "outputs": [],
   "source": [
    "class Human(object):\n",
    "    domain='eukarya'\n",
    "    def __init__ (self,kingdom='animalia',phylum='chordata',order='Primates',family='Human Beijing'):\n",
    "        self.kingdom=kingdom \n",
    "        self.phylum=phylum\n",
    "        self.__order=order  #该属性为私有属性\n",
    "        self.family=family    \n",
    "    def typewrite(self):  #实例方法\n",
    "        print 'This is %s typing words!' %self.family\n",
    "    def add(self,n1,n2):\n",
    "        n=n1+n2\n",
    "        print str(n1)+'+'+str(n2)+'='+str(n)\n",
    "        print 'you see! %s can calculate!' %self.family\n",
    "    @classmethod\n",
    "    def showclassmethodinfo(cls):\n",
    "        print cls.__name__ #__name属性，其值为类名\n",
    "        print dir(cls) #使用dir列示本类的所有方法\n",
    "    @staticmethod\n",
    "    def showclassattributeinfo():\n",
    "        print Human.__dict__"
   ]
  },
  {
   "cell_type": "code",
   "execution_count": 255,
   "metadata": {},
   "outputs": [
    {
     "data": {
      "text/plain": [
       "'Human Beijing'"
      ]
     },
     "execution_count": 255,
     "metadata": {},
     "output_type": "execute_result"
    }
   ],
   "source": [
    "zhangsan=Human()\n",
    "zhangsan.family"
   ]
  },
  {
   "cell_type": "code",
   "execution_count": 256,
   "metadata": {},
   "outputs": [
    {
     "data": {
      "text/plain": [
       "'Primates'"
      ]
     },
     "execution_count": 256,
     "metadata": {},
     "output_type": "execute_result"
    }
   ],
   "source": [
    "zhangsan._Human__order  #通过实例名._类名__私有属性名 访问私有属性"
   ]
  },
  {
   "cell_type": "markdown",
   "metadata": {},
   "source": [
    "### 1.7.4 继承"
   ]
  },
  {
   "cell_type": "markdown",
   "metadata": {},
   "source": [
    "#### 1.7.4.1 隐式继承"
   ]
  },
  {
   "cell_type": "code",
   "execution_count": 257,
   "metadata": {},
   "outputs": [],
   "source": [
    "class Male(Human): #隐式继承是子类从父类中完全继承了所有的成员\n",
    "    pass"
   ]
  },
  {
   "cell_type": "code",
   "execution_count": 258,
   "metadata": {},
   "outputs": [
    {
     "data": {
      "text/plain": [
       "'Human Beijing'"
      ]
     },
     "execution_count": 258,
     "metadata": {},
     "output_type": "execute_result"
    }
   ],
   "source": [
    "someoneismale=Male()\n",
    "someoneismale.family  #隐式继承中 父类私有成员不能继承"
   ]
  },
  {
   "cell_type": "code",
   "execution_count": 259,
   "metadata": {},
   "outputs": [
    {
     "name": "stdout",
     "output_type": "stream",
     "text": [
      "['_Human__order', '__class__', '__delattr__', '__dict__', '__doc__', '__format__', '__getattribute__', '__hash__', '__init__', '__module__', '__new__', '__reduce__', '__reduce_ex__', '__repr__', '__setattr__', '__sizeof__', '__str__', '__subclasshook__', '__weakref__', 'add', 'domain', 'family', 'kingdom', 'phylum', 'showclassattributeinfo', 'showclassmethodinfo', 'typewrite']\n"
     ]
    }
   ],
   "source": [
    "print dir(someoneismale)"
   ]
  },
  {
   "cell_type": "code",
   "execution_count": 260,
   "metadata": {},
   "outputs": [
    {
     "data": {
      "text/plain": [
       "'animalia'"
      ]
     },
     "execution_count": 260,
     "metadata": {},
     "output_type": "execute_result"
    }
   ],
   "source": [
    "class Male(Human):\n",
    "    def __init__(self,gender='male'):\n",
    "        super(Male,self).__init__()  #super 函数的第一个参数是父类的名字\n",
    "        self.gender=gender\n",
    "        \n",
    "    \n",
    "someoneismale=Male()\n",
    "someoneismale.kingdom"
   ]
  },
  {
   "cell_type": "markdown",
   "metadata": {},
   "source": [
    "#### 1.7.4.2 显示覆盖"
   ]
  },
  {
   "cell_type": "markdown",
   "metadata": {},
   "source": [
    "子类的方法名和父类的名称相同，但功能不同"
   ]
  },
  {
   "cell_type": "code",
   "execution_count": 261,
   "metadata": {},
   "outputs": [],
   "source": [
    "class Male(Human):\n",
    "    def __init__(self,gender='male'):\n",
    "        super(Male,self).__init__()  #super 函数的第一个参数是父类的名字\n",
    "        self.gender=gender\n",
    "    def less(self,n1,n2):\n",
    "        '''在子类中添加less方法'''\n",
    "        n=n1-n2\n",
    "        print str(n1)+'-'+str(n2)+'='+str(n)\n",
    "        print 'you see! %s can calculate!' %self.gender\n",
    "    def add(self,n1,n2):\n",
    "        '''在子类中重新定义add方法'''\n",
    "        n=n1-n2\n",
    "        print str(n1)+'-'+str(n2)+'='+str(n)\n",
    "        print 'you see! %s can calculate!' %self.gender"
   ]
  },
  {
   "cell_type": "code",
   "execution_count": 262,
   "metadata": {},
   "outputs": [
    {
     "name": "stdout",
     "output_type": "stream",
     "text": [
      "1-1=0\n",
      "you see! male can calculate!\n"
     ]
    }
   ],
   "source": [
    "someoneismale=Male()\n",
    "someoneismale.add(1,1)"
   ]
  },
  {
   "cell_type": "markdown",
   "metadata": {},
   "source": [
    "#### 1.7.4.3 super继承"
   ]
  },
  {
   "cell_type": "markdown",
   "metadata": {},
   "source": [
    "super继承 在子类中运用super函数可以达到调用子类成员名称相同的父类成员"
   ]
  },
  {
   "cell_type": "code",
   "execution_count": 263,
   "metadata": {},
   "outputs": [],
   "source": [
    "class Male(Human):\n",
    "    def __init__(self,gender='male'):\n",
    "        super(Male,self).__init__()  #super 函数的第一个参数是父类的名字\n",
    "        self.gender=gender\n",
    "    def less(self,n1,n2):\n",
    "        '''在子类中添加less方法'''\n",
    "        n=n1-n2\n",
    "        print str(n1)+'-'+str(n2)+'='+str(n)\n",
    "        print 'you see! %s can calculate!' %self.gender\n",
    "    def add(self,n1,n2):\n",
    "        '''在子类中重新定义add方法'''\n",
    "        n=n1-n2\n",
    "        print str(n1)+'-'+str(n2)+'='+str(n)\n",
    "        print 'you see! %s can NOT use addition!' %self.gender\n",
    "    def showclassmethodinfo(self):\n",
    "        print \"This is Male's class method info:\"\n",
    "        super(Male,self).showclassmethodinfo()\n",
    "        print \"\\nThis is Male's instance method info:\"\n",
    "        print dir(self)"
   ]
  },
  {
   "cell_type": "code",
   "execution_count": 264,
   "metadata": {},
   "outputs": [
    {
     "name": "stdout",
     "output_type": "stream",
     "text": [
      "This is Male's class method info:\n",
      "Male\n",
      "['__class__', '__delattr__', '__dict__', '__doc__', '__format__', '__getattribute__', '__hash__', '__init__', '__module__', '__new__', '__reduce__', '__reduce_ex__', '__repr__', '__setattr__', '__sizeof__', '__str__', '__subclasshook__', '__weakref__', 'add', 'domain', 'less', 'showclassattributeinfo', 'showclassmethodinfo', 'typewrite']\n",
      "\n",
      "This is Male's instance method info:\n",
      "['_Human__order', '__class__', '__delattr__', '__dict__', '__doc__', '__format__', '__getattribute__', '__hash__', '__init__', '__module__', '__new__', '__reduce__', '__reduce_ex__', '__repr__', '__setattr__', '__sizeof__', '__str__', '__subclasshook__', '__weakref__', 'add', 'domain', 'family', 'gender', 'kingdom', 'less', 'phylum', 'showclassattributeinfo', 'showclassmethodinfo', 'typewrite']\n"
     ]
    }
   ],
   "source": [
    "someoneismale=Male()\n",
    "someoneismale.showclassmethodinfo()"
   ]
  },
  {
   "cell_type": "markdown",
   "metadata": {},
   "source": [
    "#### 1.7.4.4 多态"
   ]
  },
  {
   "cell_type": "code",
   "execution_count": 265,
   "metadata": {},
   "outputs": [
    {
     "name": "stdout",
     "output_type": "stream",
     "text": [
      "True\n",
      "True\n"
     ]
    }
   ],
   "source": [
    "print isinstance(someoneismale,Male)  #用isinstance函数判断实例对象是否是某种类型\n",
    "print isinstance(someoneismale,Human)"
   ]
  },
  {
   "cell_type": "code",
   "execution_count": 266,
   "metadata": {},
   "outputs": [
    {
     "name": "stdout",
     "output_type": "stream",
     "text": [
      "False\n"
     ]
    }
   ],
   "source": [
    "wangwu=Human()\n",
    "print isinstance(wangwu,Male)"
   ]
  },
  {
   "cell_type": "code",
   "execution_count": 267,
   "metadata": {},
   "outputs": [],
   "source": [
    "from __future__ import division\n",
    "class Female(Human):\n",
    "    def __init__(self,gender='female'):\n",
    "        super(Female,self).__init__()  #super 函数的第一个参数是父类的名字\n",
    "        self.gender=gender\n",
    "    def less(self,n1,n2):\n",
    "        n=n1-n2\n",
    "        print str(n1)+'-'+str(n2)+'='+str(n)\n",
    "        print 'you see! %s can not use addition!' %self.gender\n",
    "    def div(self,n1,n2):\n",
    "        n=n1/n2\n",
    "        print str(n1)+'/'+str(n2)+'='+str(n)\n",
    "        print 'you see! %s can use division!' %self.gender"
   ]
  },
  {
   "cell_type": "code",
   "execution_count": 268,
   "metadata": {},
   "outputs": [
    {
     "name": "stdout",
     "output_type": "stream",
     "text": [
      "True\n",
      "True\n",
      "False\n"
     ]
    }
   ],
   "source": [
    "someoneisfemale=Female()\n",
    "print isinstance(someoneisfemale,Female)\n",
    "print isinstance(someoneisfemale,Human)\n",
    "print isinstance(someoneisfemale,Male)"
   ]
  },
  {
   "cell_type": "code",
   "execution_count": 269,
   "metadata": {},
   "outputs": [],
   "source": [
    "def addition(obj,n1,n2):\n",
    "    obj.add(n1,n2)"
   ]
  },
  {
   "cell_type": "code",
   "execution_count": 270,
   "metadata": {},
   "outputs": [
    {
     "name": "stdout",
     "output_type": "stream",
     "text": [
      "1-1=0\n",
      "you see! male can NOT use addition!\n"
     ]
    }
   ],
   "source": [
    "addition(someoneismale,1,1)"
   ]
  },
  {
   "cell_type": "code",
   "execution_count": 271,
   "metadata": {},
   "outputs": [
    {
     "name": "stdout",
     "output_type": "stream",
     "text": [
      "1+1=2\n",
      "you see! Human Beijing can calculate!\n"
     ]
    }
   ],
   "source": [
    "addition(someoneisfemale,1,1)"
   ]
  },
  {
   "cell_type": "code",
   "execution_count": 273,
   "metadata": {},
   "outputs": [
    {
     "name": "stdout",
     "output_type": "stream",
     "text": [
      "1+1=2\n",
      "you see! Human Beijing can calculate!\n"
     ]
    }
   ],
   "source": [
    "addition(wangwu,1,1)"
   ]
  },
  {
   "cell_type": "code",
   "execution_count": 275,
   "metadata": {},
   "outputs": [
    {
     "name": "stdout",
     "output_type": "stream",
     "text": [
      "1+1=2\n",
      "you see! Human Beijing can calculate!\n"
     ]
    }
   ],
   "source": [
    "addition(wangwu,1,1)"
   ]
  },
  {
   "cell_type": "code",
   "execution_count": 276,
   "metadata": {},
   "outputs": [
    {
     "name": "stdout",
     "output_type": "stream",
     "text": [
      "1+1=2\n",
      "you see! Human Beijing can calculate!\n"
     ]
    }
   ],
   "source": [
    "addition(Female(),1,1)"
   ]
  },
  {
   "cell_type": "code",
   "execution_count": 279,
   "metadata": {},
   "outputs": [
    {
     "name": "stdout",
     "output_type": "stream",
     "text": [
      "1+1=2\n",
      "you see! Human Beijing can calculate!\n"
     ]
    }
   ],
   "source": [
    "addition(Human(),1,1)"
   ]
  },
  {
   "cell_type": "markdown",
   "metadata": {},
   "source": [
    "#### 1.7.4.5 多重继承"
   ]
  },
  {
   "cell_type": "markdown",
   "metadata": {},
   "source": [
    "子类不仅可以从一个父类继承，也可以从多个父类继承"
   ]
  },
  {
   "cell_type": "code",
   "execution_count": 280,
   "metadata": {},
   "outputs": [],
   "source": [
    "class Somebody(Male,Female):\n",
    "    pass"
   ]
  },
  {
   "cell_type": "code",
   "execution_count": 281,
   "metadata": {},
   "outputs": [
    {
     "name": "stdout",
     "output_type": "stream",
     "text": [
      "['add', 'div', 'domain', 'family', 'gender', 'kingdom', 'less', 'phylum', 'showclassattributeinfo', 'showclassmethodinfo', 'typewrite']\n"
     ]
    }
   ],
   "source": [
    "print filter(lambda x:x[0]!='_',dir(Somebody()))  #子类由父类Male和Female继承得到"
   ]
  },
  {
   "cell_type": "markdown",
   "metadata": {},
   "source": [
    "## 1.8 模块"
   ]
  },
  {
   "cell_type": "raw",
   "metadata": {},
   "source": [
    "import module:直接导入module\n",
    "import module as xx:将导入的模块重命名为xx，使用xx.xx方式来实现模块部件的功能\n",
    "from module import xx:直接导入module中指定的部件\n",
    "from module import *:导入模块的全部部件"
   ]
  },
  {
   "cell_type": "markdown",
   "metadata": {},
   "source": [
    "## 1.10 文件"
   ]
  },
  {
   "cell_type": "code",
   "execution_count": 303,
   "metadata": {},
   "outputs": [
    {
     "data": {
      "text/plain": [
       "file"
      ]
     },
     "execution_count": 303,
     "metadata": {},
     "output_type": "execute_result"
    }
   ],
   "source": [
    "path=\"D:/data/Python_data/ch1/tips.csv\"\n",
    "f=open(path)\n",
    "type(f)"
   ]
  },
  {
   "cell_type": "code",
   "execution_count": 293,
   "metadata": {},
   "outputs": [
    {
     "data": {
      "text/plain": [
       "'r'"
      ]
     },
     "execution_count": 293,
     "metadata": {},
     "output_type": "execute_result"
    }
   ],
   "source": [
    "f.mode"
   ]
  },
  {
   "cell_type": "code",
   "execution_count": 294,
   "metadata": {},
   "outputs": [
    {
     "data": {
      "text/plain": [
       "'D:/data/Pythondata/ch1/tips.csv'"
      ]
     },
     "execution_count": 294,
     "metadata": {},
     "output_type": "execute_result"
    }
   ],
   "source": [
    "f.name"
   ]
  },
  {
   "cell_type": "code",
   "execution_count": 296,
   "metadata": {},
   "outputs": [
    {
     "data": {
      "text/plain": [
       "False"
      ]
     },
     "execution_count": 296,
     "metadata": {},
     "output_type": "execute_result"
    }
   ],
   "source": [
    "f.closed"
   ]
  },
  {
   "cell_type": "code",
   "execution_count": 297,
   "metadata": {},
   "outputs": [
    {
     "data": {
      "text/plain": [
       "'total_bill'"
      ]
     },
     "execution_count": 297,
     "metadata": {},
     "output_type": "execute_result"
    }
   ],
   "source": [
    "f.read(10)"
   ]
  },
  {
   "cell_type": "code",
   "execution_count": 298,
   "metadata": {},
   "outputs": [
    {
     "data": {
      "text/plain": [
       "',tip,sex,s'"
      ]
     },
     "execution_count": 298,
     "metadata": {},
     "output_type": "execute_result"
    }
   ],
   "source": [
    "f.read(10)"
   ]
  },
  {
   "cell_type": "code",
   "execution_count": 299,
   "metadata": {},
   "outputs": [
    {
     "data": {
      "text/plain": [
       "'moker,day,'"
      ]
     },
     "execution_count": 299,
     "metadata": {},
     "output_type": "execute_result"
    }
   ],
   "source": [
    "f.read(10)"
   ]
  },
  {
   "cell_type": "code",
   "execution_count": 300,
   "metadata": {
    "collapsed": true
   },
   "outputs": [
    {
     "data": {
      "text/plain": [
       "['total_bill,tip,sex,smoker,day,time,size\\n',\n",
       " '16.99,1.01,Female,No,Sun,Dinner,2\\n',\n",
       " '10.34,1.66,Male,No,Sun,Dinner,3\\n',\n",
       " '21.01,3.5,Male,No,Sun,Dinner,3\\n',\n",
       " '23.68,3.31,Male,No,Sun,Dinner,2\\n',\n",
       " '24.59,3.61,Female,No,Sun,Dinner,4\\n',\n",
       " '25.29,4.71,Male,No,Sun,Dinner,4\\n',\n",
       " '8.77,2.0,Male,No,Sun,Dinner,2\\n',\n",
       " '26.88,3.12,Male,No,Sun,Dinner,4\\n',\n",
       " '15.04,1.96,Male,No,Sun,Dinner,2\\n',\n",
       " '14.78,3.23,Male,No,Sun,Dinner,2\\n',\n",
       " '10.27,1.71,Male,No,Sun,Dinner,2\\n',\n",
       " '35.26,5.0,Female,No,Sun,Dinner,4\\n',\n",
       " '15.42,1.57,Male,No,Sun,Dinner,2\\n',\n",
       " '18.43,3.0,Male,No,Sun,Dinner,4\\n',\n",
       " '14.83,3.02,Female,No,Sun,Dinner,2\\n',\n",
       " '21.58,3.92,Male,No,Sun,Dinner,2\\n',\n",
       " '10.33,1.67,Female,No,Sun,Dinner,3\\n',\n",
       " '16.29,3.71,Male,No,Sun,Dinner,3\\n',\n",
       " '16.97,3.5,Female,No,Sun,Dinner,3\\n',\n",
       " '20.65,3.35,Male,No,Sat,Dinner,3\\n',\n",
       " '17.92,4.08,Male,No,Sat,Dinner,2\\n',\n",
       " '20.29,2.75,Female,No,Sat,Dinner,2\\n',\n",
       " '15.77,2.23,Female,No,Sat,Dinner,2\\n',\n",
       " '39.42,7.58,Male,No,Sat,Dinner,4\\n',\n",
       " '19.82,3.18,Male,No,Sat,Dinner,2\\n',\n",
       " '17.81,2.34,Male,No,Sat,Dinner,4\\n',\n",
       " '13.37,2.0,Male,No,Sat,Dinner,2\\n',\n",
       " '12.69,2.0,Male,No,Sat,Dinner,2\\n',\n",
       " '21.7,4.3,Male,No,Sat,Dinner,2\\n',\n",
       " '19.65,3.0,Female,No,Sat,Dinner,2\\n',\n",
       " '9.55,1.45,Male,No,Sat,Dinner,2\\n',\n",
       " '18.35,2.5,Male,No,Sat,Dinner,4\\n',\n",
       " '15.06,3.0,Female,No,Sat,Dinner,2\\n',\n",
       " '20.69,2.45,Female,No,Sat,Dinner,4\\n',\n",
       " '17.78,3.27,Male,No,Sat,Dinner,2\\n',\n",
       " '24.06,3.6,Male,No,Sat,Dinner,3\\n',\n",
       " '16.31,2.0,Male,No,Sat,Dinner,3\\n',\n",
       " '16.93,3.07,Female,No,Sat,Dinner,3\\n',\n",
       " '18.69,2.31,Male,No,Sat,Dinner,3\\n',\n",
       " '31.27,5.0,Male,No,Sat,Dinner,3\\n',\n",
       " '16.04,2.24,Male,No,Sat,Dinner,3\\n',\n",
       " '17.46,2.54,Male,No,Sun,Dinner,2\\n',\n",
       " '13.94,3.06,Male,No,Sun,Dinner,2\\n',\n",
       " '9.68,1.32,Male,No,Sun,Dinner,2\\n',\n",
       " '30.4,5.6,Male,No,Sun,Dinner,4\\n',\n",
       " '18.29,3.0,Male,No,Sun,Dinner,2\\n',\n",
       " '22.23,5.0,Male,No,Sun,Dinner,2\\n',\n",
       " '32.4,6.0,Male,No,Sun,Dinner,4\\n',\n",
       " '28.55,2.05,Male,No,Sun,Dinner,3\\n',\n",
       " '18.04,3.0,Male,No,Sun,Dinner,2\\n',\n",
       " '12.54,2.5,Male,No,Sun,Dinner,2\\n',\n",
       " '10.29,2.6,Female,No,Sun,Dinner,2\\n',\n",
       " '34.81,5.2,Female,No,Sun,Dinner,4\\n',\n",
       " '9.94,1.56,Male,No,Sun,Dinner,2\\n',\n",
       " '25.56,4.34,Male,No,Sun,Dinner,4\\n',\n",
       " '19.49,3.51,Male,No,Sun,Dinner,2\\n',\n",
       " '38.01,3.0,Male,Yes,Sat,Dinner,4\\n',\n",
       " '26.41,1.5,Female,No,Sat,Dinner,2\\n',\n",
       " '11.24,1.76,Male,Yes,Sat,Dinner,2\\n',\n",
       " '48.27,6.73,Male,No,Sat,Dinner,4\\n',\n",
       " '20.29,3.21,Male,Yes,Sat,Dinner,2\\n',\n",
       " '13.81,2.0,Male,Yes,Sat,Dinner,2\\n',\n",
       " '11.02,1.98,Male,Yes,Sat,Dinner,2\\n',\n",
       " '18.29,3.76,Male,Yes,Sat,Dinner,4\\n',\n",
       " '17.59,2.64,Male,No,Sat,Dinner,3\\n',\n",
       " '20.08,3.15,Male,No,Sat,Dinner,3\\n',\n",
       " '16.45,2.47,Female,No,Sat,Dinner,2\\n',\n",
       " '3.07,1.0,Female,Yes,Sat,Dinner,1\\n',\n",
       " '20.23,2.01,Male,No,Sat,Dinner,2\\n',\n",
       " '15.01,2.09,Male,Yes,Sat,Dinner,2\\n',\n",
       " '12.02,1.97,Male,No,Sat,Dinner,2\\n',\n",
       " '17.07,3.0,Female,No,Sat,Dinner,3\\n',\n",
       " '26.86,3.14,Female,Yes,Sat,Dinner,2\\n',\n",
       " '25.28,5.0,Female,Yes,Sat,Dinner,2\\n',\n",
       " '14.73,2.2,Female,No,Sat,Dinner,2\\n',\n",
       " '10.51,1.25,Male,No,Sat,Dinner,2\\n',\n",
       " '17.92,3.08,Male,Yes,Sat,Dinner,2\\n',\n",
       " '27.2,4.0,Male,No,Thur,Lunch,4\\n',\n",
       " '22.76,3.0,Male,No,Thur,Lunch,2\\n',\n",
       " '17.29,2.71,Male,No,Thur,Lunch,2\\n',\n",
       " '19.44,3.0,Male,Yes,Thur,Lunch,2\\n',\n",
       " '16.66,3.4,Male,No,Thur,Lunch,2\\n',\n",
       " '10.07,1.83,Female,No,Thur,Lunch,1\\n',\n",
       " '32.68,5.0,Male,Yes,Thur,Lunch,2\\n',\n",
       " '15.98,2.03,Male,No,Thur,Lunch,2\\n',\n",
       " '34.83,5.17,Female,No,Thur,Lunch,4\\n',\n",
       " '13.03,2.0,Male,No,Thur,Lunch,2\\n',\n",
       " '18.28,4.0,Male,No,Thur,Lunch,2\\n',\n",
       " '24.71,5.85,Male,No,Thur,Lunch,2\\n',\n",
       " '21.16,3.0,Male,No,Thur,Lunch,2\\n',\n",
       " '28.97,3.0,Male,Yes,Fri,Dinner,2\\n',\n",
       " '22.49,3.5,Male,No,Fri,Dinner,2\\n',\n",
       " '5.75,1.0,Female,Yes,Fri,Dinner,2\\n',\n",
       " '16.32,4.3,Female,Yes,Fri,Dinner,2\\n',\n",
       " '22.75,3.25,Female,No,Fri,Dinner,2\\n',\n",
       " '40.17,4.73,Male,Yes,Fri,Dinner,4\\n',\n",
       " '27.28,4.0,Male,Yes,Fri,Dinner,2\\n',\n",
       " '12.03,1.5,Male,Yes,Fri,Dinner,2\\n',\n",
       " '21.01,3.0,Male,Yes,Fri,Dinner,2\\n',\n",
       " '12.46,1.5,Male,No,Fri,Dinner,2\\n',\n",
       " '11.35,2.5,Female,Yes,Fri,Dinner,2\\n',\n",
       " '15.38,3.0,Female,Yes,Fri,Dinner,2\\n',\n",
       " '44.3,2.5,Female,Yes,Sat,Dinner,3\\n',\n",
       " '22.42,3.48,Female,Yes,Sat,Dinner,2\\n',\n",
       " '20.92,4.08,Female,No,Sat,Dinner,2\\n',\n",
       " '15.36,1.64,Male,Yes,Sat,Dinner,2\\n',\n",
       " '20.49,4.06,Male,Yes,Sat,Dinner,2\\n',\n",
       " '25.21,4.29,Male,Yes,Sat,Dinner,2\\n',\n",
       " '18.24,3.76,Male,No,Sat,Dinner,2\\n',\n",
       " '14.31,4.0,Female,Yes,Sat,Dinner,2\\n',\n",
       " '14.0,3.0,Male,No,Sat,Dinner,2\\n',\n",
       " '7.25,1.0,Female,No,Sat,Dinner,1\\n',\n",
       " '38.07,4.0,Male,No,Sun,Dinner,3\\n',\n",
       " '23.95,2.55,Male,No,Sun,Dinner,2\\n',\n",
       " '25.71,4.0,Female,No,Sun,Dinner,3\\n',\n",
       " '17.31,3.5,Female,No,Sun,Dinner,2\\n',\n",
       " '29.93,5.07,Male,No,Sun,Dinner,4\\n',\n",
       " '10.65,1.5,Female,No,Thur,Lunch,2\\n',\n",
       " '12.43,1.8,Female,No,Thur,Lunch,2\\n',\n",
       " '24.08,2.92,Female,No,Thur,Lunch,4\\n',\n",
       " '11.69,2.31,Male,No,Thur,Lunch,2\\n',\n",
       " '13.42,1.68,Female,No,Thur,Lunch,2\\n',\n",
       " '14.26,2.5,Male,No,Thur,Lunch,2\\n',\n",
       " '15.95,2.0,Male,No,Thur,Lunch,2\\n',\n",
       " '12.48,2.52,Female,No,Thur,Lunch,2\\n',\n",
       " '29.8,4.2,Female,No,Thur,Lunch,6\\n',\n",
       " '8.52,1.48,Male,No,Thur,Lunch,2\\n',\n",
       " '14.52,2.0,Female,No,Thur,Lunch,2\\n',\n",
       " '11.38,2.0,Female,No,Thur,Lunch,2\\n',\n",
       " '22.82,2.18,Male,No,Thur,Lunch,3\\n',\n",
       " '19.08,1.5,Male,No,Thur,Lunch,2\\n',\n",
       " '20.27,2.83,Female,No,Thur,Lunch,2\\n',\n",
       " '11.17,1.5,Female,No,Thur,Lunch,2\\n',\n",
       " '12.26,2.0,Female,No,Thur,Lunch,2\\n',\n",
       " '18.26,3.25,Female,No,Thur,Lunch,2\\n',\n",
       " '8.51,1.25,Female,No,Thur,Lunch,2\\n',\n",
       " '10.33,2.0,Female,No,Thur,Lunch,2\\n',\n",
       " '14.15,2.0,Female,No,Thur,Lunch,2\\n',\n",
       " '16.0,2.0,Male,Yes,Thur,Lunch,2\\n',\n",
       " '13.16,2.75,Female,No,Thur,Lunch,2\\n',\n",
       " '17.47,3.5,Female,No,Thur,Lunch,2\\n',\n",
       " '34.3,6.7,Male,No,Thur,Lunch,6\\n',\n",
       " '41.19,5.0,Male,No,Thur,Lunch,5\\n',\n",
       " '27.05,5.0,Female,No,Thur,Lunch,6\\n',\n",
       " '16.43,2.3,Female,No,Thur,Lunch,2\\n',\n",
       " '8.35,1.5,Female,No,Thur,Lunch,2\\n',\n",
       " '18.64,1.36,Female,No,Thur,Lunch,3\\n',\n",
       " '11.87,1.63,Female,No,Thur,Lunch,2\\n',\n",
       " '9.78,1.73,Male,No,Thur,Lunch,2\\n',\n",
       " '7.51,2.0,Male,No,Thur,Lunch,2\\n',\n",
       " '14.07,2.5,Male,No,Sun,Dinner,2\\n',\n",
       " '13.13,2.0,Male,No,Sun,Dinner,2\\n',\n",
       " '17.26,2.74,Male,No,Sun,Dinner,3\\n',\n",
       " '24.55,2.0,Male,No,Sun,Dinner,4\\n',\n",
       " '19.77,2.0,Male,No,Sun,Dinner,4\\n',\n",
       " '29.85,5.14,Female,No,Sun,Dinner,5\\n',\n",
       " '48.17,5.0,Male,No,Sun,Dinner,6\\n',\n",
       " '25.0,3.75,Female,No,Sun,Dinner,4\\n',\n",
       " '13.39,2.61,Female,No,Sun,Dinner,2\\n',\n",
       " '16.49,2.0,Male,No,Sun,Dinner,4\\n',\n",
       " '21.5,3.5,Male,No,Sun,Dinner,4\\n',\n",
       " '12.66,2.5,Male,No,Sun,Dinner,2\\n',\n",
       " '16.21,2.0,Female,No,Sun,Dinner,3\\n',\n",
       " '13.81,2.0,Male,No,Sun,Dinner,2\\n',\n",
       " '17.51,3.0,Female,Yes,Sun,Dinner,2\\n',\n",
       " '24.52,3.48,Male,No,Sun,Dinner,3\\n',\n",
       " '20.76,2.24,Male,No,Sun,Dinner,2\\n',\n",
       " '31.71,4.5,Male,No,Sun,Dinner,4\\n',\n",
       " '10.59,1.61,Female,Yes,Sat,Dinner,2\\n',\n",
       " '10.63,2.0,Female,Yes,Sat,Dinner,2\\n',\n",
       " '50.81,10.0,Male,Yes,Sat,Dinner,3\\n',\n",
       " '15.81,3.16,Male,Yes,Sat,Dinner,2\\n',\n",
       " '7.25,5.15,Male,Yes,Sun,Dinner,2\\n',\n",
       " '31.85,3.18,Male,Yes,Sun,Dinner,2\\n',\n",
       " '16.82,4.0,Male,Yes,Sun,Dinner,2\\n',\n",
       " '32.9,3.11,Male,Yes,Sun,Dinner,2\\n',\n",
       " '17.89,2.0,Male,Yes,Sun,Dinner,2\\n',\n",
       " '14.48,2.0,Male,Yes,Sun,Dinner,2\\n',\n",
       " '9.6,4.0,Female,Yes,Sun,Dinner,2\\n',\n",
       " '34.63,3.55,Male,Yes,Sun,Dinner,2\\n',\n",
       " '34.65,3.68,Male,Yes,Sun,Dinner,4\\n',\n",
       " '23.33,5.65,Male,Yes,Sun,Dinner,2\\n',\n",
       " '45.35,3.5,Male,Yes,Sun,Dinner,3\\n',\n",
       " '23.17,6.5,Male,Yes,Sun,Dinner,4\\n',\n",
       " '40.55,3.0,Male,Yes,Sun,Dinner,2\\n',\n",
       " '20.69,5.0,Male,No,Sun,Dinner,5\\n',\n",
       " '20.9,3.5,Female,Yes,Sun,Dinner,3\\n',\n",
       " '30.46,2.0,Male,Yes,Sun,Dinner,5\\n',\n",
       " '18.15,3.5,Female,Yes,Sun,Dinner,3\\n',\n",
       " '23.1,4.0,Male,Yes,Sun,Dinner,3\\n',\n",
       " '15.69,1.5,Male,Yes,Sun,Dinner,2\\n',\n",
       " '19.81,4.19,Female,Yes,Thur,Lunch,2\\n',\n",
       " '28.44,2.56,Male,Yes,Thur,Lunch,2\\n',\n",
       " '15.48,2.02,Male,Yes,Thur,Lunch,2\\n',\n",
       " '16.58,4.0,Male,Yes,Thur,Lunch,2\\n',\n",
       " '7.56,1.44,Male,No,Thur,Lunch,2\\n',\n",
       " '10.34,2.0,Male,Yes,Thur,Lunch,2\\n',\n",
       " '43.11,5.0,Female,Yes,Thur,Lunch,4\\n',\n",
       " '13.0,2.0,Female,Yes,Thur,Lunch,2\\n',\n",
       " '13.51,2.0,Male,Yes,Thur,Lunch,2\\n',\n",
       " '18.71,4.0,Male,Yes,Thur,Lunch,3\\n',\n",
       " '12.74,2.01,Female,Yes,Thur,Lunch,2\\n',\n",
       " '13.0,2.0,Female,Yes,Thur,Lunch,2\\n',\n",
       " '16.4,2.5,Female,Yes,Thur,Lunch,2\\n',\n",
       " '20.53,4.0,Male,Yes,Thur,Lunch,4\\n',\n",
       " '16.47,3.23,Female,Yes,Thur,Lunch,3\\n',\n",
       " '26.59,3.41,Male,Yes,Sat,Dinner,3\\n',\n",
       " '38.73,3.0,Male,Yes,Sat,Dinner,4\\n',\n",
       " '24.27,2.03,Male,Yes,Sat,Dinner,2\\n',\n",
       " '12.76,2.23,Female,Yes,Sat,Dinner,2\\n',\n",
       " '30.06,2.0,Male,Yes,Sat,Dinner,3\\n',\n",
       " '25.89,5.16,Male,Yes,Sat,Dinner,4\\n',\n",
       " '48.33,9.0,Male,No,Sat,Dinner,4\\n',\n",
       " '13.27,2.5,Female,Yes,Sat,Dinner,2\\n',\n",
       " '28.17,6.5,Female,Yes,Sat,Dinner,3\\n',\n",
       " '12.9,1.1,Female,Yes,Sat,Dinner,2\\n',\n",
       " '28.15,3.0,Male,Yes,Sat,Dinner,5\\n',\n",
       " '11.59,1.5,Male,Yes,Sat,Dinner,2\\n',\n",
       " '7.74,1.44,Male,Yes,Sat,Dinner,2\\n',\n",
       " '30.14,3.09,Female,Yes,Sat,Dinner,4\\n',\n",
       " '12.16,2.2,Male,Yes,Fri,Lunch,2\\n',\n",
       " '13.42,3.48,Female,Yes,Fri,Lunch,2\\n',\n",
       " '8.58,1.92,Male,Yes,Fri,Lunch,1\\n',\n",
       " '15.98,3.0,Female,No,Fri,Lunch,3\\n',\n",
       " '13.42,1.58,Male,Yes,Fri,Lunch,2\\n',\n",
       " '16.27,2.5,Female,Yes,Fri,Lunch,2\\n',\n",
       " '10.09,2.0,Female,Yes,Fri,Lunch,2\\n',\n",
       " '20.45,3.0,Male,No,Sat,Dinner,4\\n',\n",
       " '13.28,2.72,Male,No,Sat,Dinner,2\\n',\n",
       " '22.12,2.88,Female,Yes,Sat,Dinner,2\\n',\n",
       " '24.01,2.0,Male,Yes,Sat,Dinner,4\\n',\n",
       " '15.69,3.0,Male,Yes,Sat,Dinner,3\\n',\n",
       " '11.61,3.39,Male,No,Sat,Dinner,2\\n',\n",
       " '10.77,1.47,Male,No,Sat,Dinner,2\\n',\n",
       " '15.53,3.0,Male,Yes,Sat,Dinner,2\\n',\n",
       " '10.07,1.25,Male,No,Sat,Dinner,2\\n',\n",
       " '12.6,1.0,Male,Yes,Sat,Dinner,2\\n',\n",
       " '32.83,1.17,Male,Yes,Sat,Dinner,2\\n',\n",
       " '35.83,4.67,Female,No,Sat,Dinner,3\\n',\n",
       " '29.03,5.92,Male,No,Sat,Dinner,3\\n',\n",
       " '27.18,2.0,Female,Yes,Sat,Dinner,2\\n',\n",
       " '22.67,2.0,Male,Yes,Sat,Dinner,2\\n',\n",
       " '17.82,1.75,Male,No,Sat,Dinner,2\\n',\n",
       " '18.78,3.0,Female,No,Thur,Dinner,2\\n']"
      ]
     },
     "execution_count": 300,
     "metadata": {},
     "output_type": "execute_result"
    }
   ],
   "source": [
    "f.seek(-30,1)\n",
    "f.readlines()"
   ]
  },
  {
   "cell_type": "code",
   "execution_count": 304,
   "metadata": {},
   "outputs": [
    {
     "data": {
      "text/plain": [
       "True"
      ]
     },
     "execution_count": 304,
     "metadata": {},
     "output_type": "execute_result"
    }
   ],
   "source": [
    "f.close()\n",
    "f.closed"
   ]
  },
  {
   "cell_type": "markdown",
   "metadata": {},
   "source": [
    "# 第二章 数据预处理"
   ]
  },
  {
   "cell_type": "markdown",
   "metadata": {},
   "source": [
    "## 2.1 numpy基础"
   ]
  },
  {
   "cell_type": "markdown",
   "metadata": {},
   "source": [
    "numpy是python中进行数据分析最为流行的工具库之一，它能提供诸如向量、数据、矩阵等便于进行数据分析的数据结构"
   ]
  },
  {
   "cell_type": "code",
   "execution_count": 84,
   "metadata": {},
   "outputs": [],
   "source": [
    "from numpy import *\n",
    "%matplotlib inline\n",
    "import numpy as np"
   ]
  },
  {
   "cell_type": "code",
   "execution_count": 85,
   "metadata": {},
   "outputs": [],
   "source": [
    "def python_multi(n):\n",
    "    a=range(n)\n",
    "    b=range(n)\n",
    "    c=[]\n",
    "    for i in range(len(a)):\n",
    "        a[i]=i**2\n",
    "        b[i]=i**3\n",
    "        c.append(a[i]*b[i])\n",
    "    return c\n",
    "\n",
    "def numpy_multi(n):\n",
    "    c=np.arange(n)**2*np.arange(n)**3\n",
    "    return c"
   ]
  },
  {
   "cell_type": "code",
   "execution_count": 86,
   "metadata": {},
   "outputs": [
    {
     "name": "stdout",
     "output_type": "stream",
     "text": [
      "The slowest run took 4.71 times longer than the fastest. This could mean that an intermediate result is being cached.\n",
      "10 loops, best of 3: 12.5 ms per loop\n",
      "10000 loops, best of 3: 71.4 µs per loop\n"
     ]
    }
   ],
   "source": [
    "%timeit python_multi(10000)  #分别使用相同的参数调用 pythonsum 和 numpysum函数 并使用魔术命令%timeit对他们的运行时间进行预算\n",
    "%timeit numpy_multi(10000)"
   ]
  },
  {
   "cell_type": "markdown",
   "metadata": {},
   "source": [
    "### 2.1.1 向量"
   ]
  },
  {
   "cell_type": "markdown",
   "metadata": {},
   "source": [
    "向量即一维数组，用arange创建"
   ]
  },
  {
   "cell_type": "code",
   "execution_count": 87,
   "metadata": {},
   "outputs": [
    {
     "name": "stdout",
     "output_type": "stream",
     "text": [
      "[0 1 2 3 4 5 6 7 8 9]\n",
      "int32\n",
      "(10L,)\n"
     ]
    }
   ],
   "source": [
    "v=np.arange(10) \n",
    "print v\n",
    "print v.dtype\n",
    "print v.shape"
   ]
  },
  {
   "cell_type": "code",
   "execution_count": 88,
   "metadata": {},
   "outputs": [
    {
     "data": {
      "text/plain": [
       "array([0. , 0.5, 1. , 1.5, 2. , 2.5, 3. , 3.5, 4. , 4.5, 5. , 5.5, 6. ,\n",
       "       6.5, 7. , 7.5, 8. , 8.5, 9. , 9.5])"
      ]
     },
     "execution_count": 88,
     "metadata": {},
     "output_type": "execute_result"
    }
   ],
   "source": [
    "vstep=np.arange(0,10,0.5) #arange 可以通过指定初始值、终止值和步长来创建一维数组\n",
    "vstep"
   ]
  },
  {
   "cell_type": "code",
   "execution_count": 89,
   "metadata": {},
   "outputs": [
    {
     "data": {
      "text/plain": [
       "array([ 0.,  5., 10., 15., 20., 25., 30., 35., 40., 45., 50., 55., 60.,\n",
       "       65., 70., 75., 80., 85., 90., 95.])"
      ]
     },
     "execution_count": 89,
     "metadata": {},
     "output_type": "execute_result"
    }
   ],
   "source": [
    "vstep*10"
   ]
  },
  {
   "cell_type": "code",
   "execution_count": 90,
   "metadata": {},
   "outputs": [
    {
     "data": {
      "text/plain": [
       "array([ 1.,  3.,  5.,  7.,  9., 11., 13., 15., 17., 19.])"
      ]
     },
     "execution_count": 90,
     "metadata": {},
     "output_type": "execute_result"
    }
   ],
   "source": [
    "np.linspace(1,19,10) #初始值1 终止值19 元素个数10 的等差数列向量"
   ]
  },
  {
   "cell_type": "code",
   "execution_count": 91,
   "metadata": {},
   "outputs": [
    {
     "data": {
      "text/plain": [
       "array([ 1. ,  2.8,  4.6,  6.4,  8.2, 10. , 11.8, 13.6, 15.4, 17.2])"
      ]
     },
     "execution_count": 91,
     "metadata": {},
     "output_type": "execute_result"
    }
   ],
   "source": [
    "np.linspace(1,19,10,endpoint=False) #endpoint指定是否包括终止值"
   ]
  },
  {
   "cell_type": "code",
   "execution_count": 92,
   "metadata": {},
   "outputs": [
    {
     "data": {
      "text/plain": [
       "array([2.71828183e+00, 1.81741454e+01, 1.21510418e+02, 8.12405825e+02,\n",
       "       5.43165959e+03, 3.63155027e+04, 2.42801617e+05, 1.62334599e+06,\n",
       "       1.08535199e+07, 7.25654884e+07])"
      ]
     },
     "execution_count": 92,
     "metadata": {},
     "output_type": "execute_result"
    }
   ],
   "source": [
    "from math import e #导入自然数e\n",
    "np.logspace(1,20,10,endpoint=False,base=e) #创建一个等比数列"
   ]
  },
  {
   "cell_type": "code",
   "execution_count": 93,
   "metadata": {},
   "outputs": [
    {
     "data": {
      "text/plain": [
       "array([0, 0, 0, 0, 0, 0, 0, 0, 0, 0, 0, 0, 0, 0, 0, 0, 0, 0, 0, 0])"
      ]
     },
     "execution_count": 93,
     "metadata": {},
     "output_type": "execute_result"
    }
   ],
   "source": [
    "np.zeros(20,np.int)\n",
    "#array([0,0,0,0,0,0,0,0,0,0,0,0,0,0,0,0,0,0,0,0])"
   ]
  },
  {
   "cell_type": "code",
   "execution_count": 94,
   "metadata": {},
   "outputs": [
    {
     "data": {
      "text/plain": [
       "array([-1961601175,  1074118410,  -897940995,  1077030036, -1371696799,\n",
       "        1079926954,   558101479,  1082745663,  -621099851,  1085618088,\n",
       "         367545656,  1088535408,  -257755658,  1091412876,   -64388194,\n",
       "        1094239537,   -54189387,  1097118609, -1048755716,  1100041483])"
      ]
     },
     "execution_count": 94,
     "metadata": {},
     "output_type": "execute_result"
    }
   ],
   "source": [
    "np.empty(20,np.int)"
   ]
  },
  {
   "cell_type": "code",
   "execution_count": 95,
   "metadata": {},
   "outputs": [
    {
     "data": {
      "text/plain": [
       "array([-0.89072521,  0.21615406,  0.31041942, -0.40006511,  0.42377769,\n",
       "       -0.03590298, -0.07457439,  0.09409756, -1.33184848, -0.70044981])"
      ]
     },
     "execution_count": 95,
     "metadata": {},
     "output_type": "execute_result"
    }
   ],
   "source": [
    "np.random.randn(10)  #randn生成正态分布随机数据"
   ]
  },
  {
   "cell_type": "code",
   "execution_count": 96,
   "metadata": {},
   "outputs": [
    {
     "name": "stderr",
     "output_type": "stream",
     "text": [
      "D:\\study_apps\\Anaconda\\lib\\site-packages\\ipykernel_launcher.py:2: DeprecationWarning: The binary mode of fromstring is deprecated, as it behaves surprisingly on unicode inputs. Use frombuffer instead\n",
      "  \n"
     ]
    },
    {
     "data": {
      "text/plain": [
       "array([ 72, 101, 108, 108, 111,  44, 112, 121, 116, 104, 111, 110],\n",
       "      dtype=int8)"
      ]
     },
     "execution_count": 96,
     "metadata": {},
     "output_type": "execute_result"
    }
   ],
   "source": [
    "s=\"Hello,python\"\n",
    "np.fromstring(s,dtype=np.int8)"
   ]
  },
  {
   "cell_type": "code",
   "execution_count": 97,
   "metadata": {},
   "outputs": [
    {
     "data": {
      "text/plain": [
       "array([[ 1.,  2.,  3.,  4.,  5.,  6.,  7.,  8.,  9.],\n",
       "       [ 2.,  4.,  6.,  8., 10., 12., 14., 16., 18.],\n",
       "       [ 3.,  6.,  9., 12., 15., 18., 21., 24., 27.],\n",
       "       [ 4.,  8., 12., 16., 20., 24., 28., 32., 36.],\n",
       "       [ 5., 10., 15., 20., 25., 30., 35., 40., 45.],\n",
       "       [ 6., 12., 18., 24., 30., 36., 42., 48., 54.],\n",
       "       [ 7., 14., 21., 28., 35., 42., 49., 56., 63.],\n",
       "       [ 8., 16., 24., 32., 40., 48., 56., 64., 72.],\n",
       "       [ 9., 18., 27., 36., 45., 54., 63., 72., 81.]])"
      ]
     },
     "execution_count": 97,
     "metadata": {},
     "output_type": "execute_result"
    }
   ],
   "source": [
    "def multiply99(i,j):\n",
    "    return (i+1)*(j+1) #用fromfunction创建数组或向量 第一个参数为没个数组元素和函数名称 第二个参数指定数组的形状\n",
    "np.fromfunction(multiply99,(9,9))"
   ]
  },
  {
   "cell_type": "markdown",
   "metadata": {},
   "source": [
    "### 2.1.2 数组"
   ]
  },
  {
   "cell_type": "markdown",
   "metadata": {},
   "source": [
    "数组 ndarray 由实际数据和描述这些数据的元数据组成"
   ]
  },
  {
   "cell_type": "code",
   "execution_count": 98,
   "metadata": {},
   "outputs": [
    {
     "name": "stdout",
     "output_type": "stream",
     "text": [
      "[[0 1 2]\n",
      " [0 1 2]]\n",
      "(2L, 3L)\n",
      "2\n"
     ]
    }
   ],
   "source": [
    "a=np.array([np.arange(3),np.arange(3)])\n",
    "print a\n",
    "print a.shape  #shape表示数组的形状\n",
    "print a.ndim   #ndim表示数组的维数"
   ]
  },
  {
   "cell_type": "code",
   "execution_count": 99,
   "metadata": {},
   "outputs": [
    {
     "data": {
      "text/plain": [
       "array([[1, 0, 0, 0, 0, 0, 0, 0, 0],\n",
       "       [0, 1, 0, 0, 0, 0, 0, 0, 0],\n",
       "       [0, 0, 1, 0, 0, 0, 0, 0, 0],\n",
       "       [0, 0, 0, 1, 0, 0, 0, 0, 0],\n",
       "       [0, 0, 0, 0, 1, 0, 0, 0, 0],\n",
       "       [0, 0, 0, 0, 0, 1, 0, 0, 0],\n",
       "       [0, 0, 0, 0, 0, 0, 1, 0, 0],\n",
       "       [0, 0, 0, 0, 0, 0, 0, 1, 0],\n",
       "       [0, 0, 0, 0, 0, 0, 0, 0, 1]], dtype=int8)"
      ]
     },
     "execution_count": 99,
     "metadata": {},
     "output_type": "execute_result"
    }
   ],
   "source": [
    "np.identity(9).astype(np.int8)"
   ]
  },
  {
   "cell_type": "code",
   "execution_count": 100,
   "metadata": {},
   "outputs": [
    {
     "data": {
      "text/plain": [
       "[[0, 1, 2], [0, 1, 2]]"
      ]
     },
     "execution_count": 100,
     "metadata": {},
     "output_type": "execute_result"
    }
   ],
   "source": [
    "a.tolist() #也可以通过tolist方法转换为列表"
   ]
  },
  {
   "cell_type": "code",
   "execution_count": 101,
   "metadata": {},
   "outputs": [
    {
     "data": {
      "text/plain": [
       "list"
      ]
     },
     "execution_count": 101,
     "metadata": {},
     "output_type": "execute_result"
    }
   ],
   "source": [
    "type(a.tolist())"
   ]
  },
  {
   "cell_type": "markdown",
   "metadata": {},
   "source": [
    "#### 2.1.2.1 数据类型与结构数组"
   ]
  },
  {
   "cell_type": "code",
   "execution_count": 102,
   "metadata": {},
   "outputs": [
    {
     "name": "stdout",
     "output_type": "stream",
     "text": [
      "set([<type 'numpy.int8'>, <type 'numpy.uint8'>, <type 'numpy.float16'>, <type 'numpy.timedelta64'>, <type 'numpy.bool_'>, <type 'numpy.object_'>, <type 'numpy.int16'>, <type 'numpy.uint16'>, <type 'numpy.float32'>, <type 'numpy.complex64'>, <type 'numpy.string_'>, <type 'numpy.int32'>, <type 'numpy.uint32'>, <type 'numpy.float64'>, <type 'numpy.complex128'>, <type 'numpy.unicode_'>, <type 'numpy.int32'>, <type 'numpy.uint32'>, <type 'numpy.float64'>, <type 'numpy.complex128'>, <type 'numpy.void'>, <type 'numpy.int64'>, <type 'numpy.uint64'>, <type 'numpy.datetime64'>])\n"
     ]
    }
   ],
   "source": [
    "print set(np.typeDict.values())  #查看完整的ndarry数据类型"
   ]
  },
  {
   "cell_type": "code",
   "execution_count": 103,
   "metadata": {},
   "outputs": [
    {
     "data": {
      "text/plain": [
       "dtype([('name', 'S50'), ('location', 'S30'), ('price', '<f2'), ('volume', '<i4')])"
      ]
     },
     "execution_count": 103,
     "metadata": {},
     "output_type": "execute_result"
    }
   ],
   "source": [
    "goodslist=np.dtype([('name',np.str_,50),('location',np.str_,30),('price',np.float16),('volume',np.int32)]) #用dtype函数自定义字段类型\n",
    "goodslist"
   ]
  },
  {
   "cell_type": "code",
   "execution_count": 120,
   "metadata": {},
   "outputs": [
    {
     "data": {
      "text/plain": [
       "array([('Gree Airconditioner', 'JD.com',  6244., 1),\n",
       "       ('Sony Blueray Player', 'Amazon.com',  3210., 2),\n",
       "       ('Apple Macbook Pro 13', 'Tmall', 12380., 5),\n",
       "       ('Iphonese', 'JD.com',  4588., 2)],\n",
       "      dtype=[('name', 'S50'), ('location', 'S30'), ('price', '<f2'), ('volume', '<i4')])"
      ]
     },
     "execution_count": 120,
     "metadata": {},
     "output_type": "execute_result"
    }
   ],
   "source": [
    "goods=np.array([('Gree Airconditioner','JD.com',6245,1),   #构造结构数组\n",
    "                ('Sony Blueray Player','Amazon.com',3210,2),\n",
    "                ('Apple Macbook Pro 13','Tmall',12388,5),\n",
    "                ('Iphonese','JD.com',4588,2)],dtype=goodslist)\n",
    "goods"
   ]
  },
  {
   "cell_type": "code",
   "execution_count": 121,
   "metadata": {},
   "outputs": [
    {
     "data": {
      "text/plain": [
       "\"goodsdict=np.dtype({'name':['name','location','price','volume'],\\n                   'formates':['s50','s30','d','i']})\\ngoods_new=np.array([('Gree Airconditioner','JD.com',6245,1),\\n                    ('Sony Blueray Player','Amazon.com',3210,2),\\n                    ('Apple Macbook Pro 13','Tmall',12388,5),\\n                    ('Iphonese','JD.com',4588,2)],dtype=goodsdict)\\ngoods_new\\n\""
      ]
     },
     "execution_count": 121,
     "metadata": {},
     "output_type": "execute_result"
    }
   ],
   "source": [
    "'''goodsdict=np.dtype({'name':['name','location','price','volume'],\n",
    "                   'formates':['s50','s30','d','i']})\n",
    "goods_new=np.array([('Gree Airconditioner','JD.com',6245,1),\n",
    "                    ('Sony Blueray Player','Amazon.com',3210,2),\n",
    "                    ('Apple Macbook Pro 13','Tmall',12388,5),\n",
    "                    ('Iphonese','JD.com',4588,2)],dtype=goodsdict)\n",
    "goods_new\n",
    "'''"
   ]
  },
  {
   "cell_type": "markdown",
   "metadata": {},
   "source": [
    "#### 2.1.2.2 索引与切片"
   ]
  },
  {
   "cell_type": "markdown",
   "metadata": {},
   "source": [
    "1.基本索引与切片"
   ]
  },
  {
   "cell_type": "code",
   "execution_count": 122,
   "metadata": {},
   "outputs": [
    {
     "data": {
      "text/plain": [
       "array([ 1,  3,  5,  7,  9, 11, 13, 15, 17, 19])"
      ]
     },
     "execution_count": 122,
     "metadata": {},
     "output_type": "execute_result"
    }
   ],
   "source": [
    "a=np.arange(1,20,2)\n",
    "a"
   ]
  },
  {
   "cell_type": "code",
   "execution_count": 123,
   "metadata": {},
   "outputs": [
    {
     "name": "stdout",
     "output_type": "stream",
     "text": [
      "7\n",
      "[3 5 7]\n",
      "[1 3]\n",
      "17\n",
      "[19 17 15 13 11  9  7  5  3  1]\n"
     ]
    }
   ],
   "source": [
    "print a[3]\n",
    "print a[1:4]\n",
    "print a[:2]\n",
    "print a[-2]\n",
    "print a[::-1]"
   ]
  },
  {
   "cell_type": "code",
   "execution_count": 124,
   "metadata": {},
   "outputs": [
    {
     "data": {
      "text/plain": [
       "array([[[ 0,  1,  2,  3],\n",
       "        [ 4,  5,  6,  7],\n",
       "        [ 8,  9, 10, 11]],\n",
       "\n",
       "       [[12, 13, 14, 15],\n",
       "        [16, 17, 18, 19],\n",
       "        [20, 21, 22, 23]]])"
      ]
     },
     "execution_count": 124,
     "metadata": {},
     "output_type": "execute_result"
    }
   ],
   "source": [
    "b=np.arange(24).reshape(2,3,4) #多维数组的索引与切片类似\n",
    "b"
   ]
  },
  {
   "cell_type": "code",
   "execution_count": 125,
   "metadata": {},
   "outputs": [
    {
     "data": {
      "text/plain": [
       "(2L, 3L, 4L)"
      ]
     },
     "execution_count": 125,
     "metadata": {},
     "output_type": "execute_result"
    }
   ],
   "source": [
    "b.shape"
   ]
  },
  {
   "cell_type": "code",
   "execution_count": 126,
   "metadata": {},
   "outputs": [
    {
     "data": {
      "text/plain": [
       "18"
      ]
     },
     "execution_count": 126,
     "metadata": {},
     "output_type": "execute_result"
    }
   ],
   "source": [
    "b[1,1,2]"
   ]
  },
  {
   "cell_type": "code",
   "execution_count": 127,
   "metadata": {},
   "outputs": [
    {
     "data": {
      "text/plain": [
       "array([ 8,  9, 10, 11])"
      ]
     },
     "execution_count": 127,
     "metadata": {},
     "output_type": "execute_result"
    }
   ],
   "source": [
    "b[0,2,...]  #选取第0层第三行的数据"
   ]
  },
  {
   "cell_type": "code",
   "execution_count": 128,
   "metadata": {},
   "outputs": [
    {
     "data": {
      "text/plain": [
       "array([ 8,  9, 10, 11])"
      ]
     },
     "execution_count": 128,
     "metadata": {},
     "output_type": "execute_result"
    }
   ],
   "source": [
    "b[0,2] "
   ]
  },
  {
   "cell_type": "code",
   "execution_count": 129,
   "metadata": {},
   "outputs": [
    {
     "data": {
      "text/plain": [
       "array([[ 0,  1,  2,  3],\n",
       "       [ 4,  5,  6,  7],\n",
       "       [ 8,  9, 10, 11]])"
      ]
     },
     "execution_count": 129,
     "metadata": {},
     "output_type": "execute_result"
    }
   ],
   "source": [
    "b[0,...]  #多个冒号可以用...来代替"
   ]
  },
  {
   "cell_type": "code",
   "execution_count": 130,
   "metadata": {},
   "outputs": [
    {
     "data": {
      "text/plain": [
       "array([[ 0,  1,  2,  3],\n",
       "       [ 4,  5,  6,  7],\n",
       "       [ 8,  9, 10, 11]])"
      ]
     },
     "execution_count": 130,
     "metadata": {},
     "output_type": "execute_result"
    }
   ],
   "source": [
    "b[0]"
   ]
  },
  {
   "cell_type": "code",
   "execution_count": 131,
   "metadata": {},
   "outputs": [
    {
     "data": {
      "text/plain": [
       "array([[ 4,  5,  6,  7],\n",
       "       [16, 17, 18, 19]])"
      ]
     },
     "execution_count": 131,
     "metadata": {},
     "output_type": "execute_result"
    }
   ],
   "source": [
    "b[:,1]  #选取各层2行的数据"
   ]
  },
  {
   "cell_type": "code",
   "execution_count": 132,
   "metadata": {},
   "outputs": [
    {
     "data": {
      "text/plain": [
       "array([[ 1,  5,  9],\n",
       "       [13, 17, 21]])"
      ]
     },
     "execution_count": 132,
     "metadata": {},
     "output_type": "execute_result"
    }
   ],
   "source": [
    "b[:,:,1]  #选取各层2列的数据"
   ]
  },
  {
   "cell_type": "code",
   "execution_count": 133,
   "metadata": {},
   "outputs": [
    {
     "data": {
      "text/plain": [
       "array([[ 1,  5,  9],\n",
       "       [13, 17, 21]])"
      ]
     },
     "execution_count": 133,
     "metadata": {},
     "output_type": "execute_result"
    }
   ],
   "source": [
    "b[...,1]  #在第0层中每隔1行选取该行倒数第二个数"
   ]
  },
  {
   "cell_type": "code",
   "execution_count": 134,
   "metadata": {},
   "outputs": [
    {
     "data": {
      "text/plain": [
       "array([ 2, 10])"
      ]
     },
     "execution_count": 134,
     "metadata": {},
     "output_type": "execute_result"
    }
   ],
   "source": [
    "b[0,::2,-2]"
   ]
  },
  {
   "cell_type": "code",
   "execution_count": 135,
   "metadata": {},
   "outputs": [
    {
     "data": {
      "text/plain": [
       "array(['Gree Airconditioner', 'Sony Blueray Player',\n",
       "       'Apple Macbook Pro 13', 'Iphonese'], dtype='|S50')"
      ]
     },
     "execution_count": 135,
     "metadata": {},
     "output_type": "execute_result"
    }
   ],
   "source": [
    "goods['name']"
   ]
  },
  {
   "cell_type": "code",
   "execution_count": 136,
   "metadata": {},
   "outputs": [
    {
     "data": {
      "text/plain": [
       "('Iphonese', 'JD.com', 4588., 2)"
      ]
     },
     "execution_count": 136,
     "metadata": {},
     "output_type": "execute_result"
    }
   ],
   "source": [
    "goods[3]"
   ]
  },
  {
   "cell_type": "code",
   "execution_count": 137,
   "metadata": {},
   "outputs": [
    {
     "data": {
      "text/plain": [
       "'Iphonese'"
      ]
     },
     "execution_count": 137,
     "metadata": {},
     "output_type": "execute_result"
    }
   ],
   "source": [
    "goods[3]['name']"
   ]
  },
  {
   "cell_type": "code",
   "execution_count": 138,
   "metadata": {},
   "outputs": [
    {
     "data": {
      "text/plain": [
       "10"
      ]
     },
     "execution_count": 138,
     "metadata": {},
     "output_type": "execute_result"
    }
   ],
   "source": [
    "sum(goods['volume'])"
   ]
  },
  {
   "cell_type": "markdown",
   "metadata": {},
   "source": [
    "2.逻辑索引"
   ]
  },
  {
   "cell_type": "markdown",
   "metadata": {},
   "source": [
    "逻辑索引就是布尔型索引、条件索引，可以通过制定布尔数组或者条件进行索引"
   ]
  },
  {
   "cell_type": "code",
   "execution_count": 139,
   "metadata": {},
   "outputs": [
    {
     "data": {
      "text/plain": [
       "array([15, 16, 17, 18, 19, 20, 21, 22, 23])"
      ]
     },
     "execution_count": 139,
     "metadata": {},
     "output_type": "execute_result"
    }
   ],
   "source": [
    "b[b>=15]"
   ]
  },
  {
   "cell_type": "code",
   "execution_count": 140,
   "metadata": {},
   "outputs": [
    {
     "data": {
      "text/plain": [
       "array([ 0,  1,  2,  3,  4,  5,  6,  7,  8,  9, 10, 11, 12, 13, 14])"
      ]
     },
     "execution_count": 140,
     "metadata": {},
     "output_type": "execute_result"
    }
   ],
   "source": [
    "b[~(b>=15)]"
   ]
  },
  {
   "cell_type": "code",
   "execution_count": 141,
   "metadata": {},
   "outputs": [
    {
     "data": {
      "text/plain": [
       "array([ 5,  6,  7,  8,  9, 10, 11, 12, 13, 14, 15])"
      ]
     },
     "execution_count": 141,
     "metadata": {},
     "output_type": "execute_result"
    }
   ],
   "source": [
    "b[(b>=5)&(b<=15)]"
   ]
  },
  {
   "cell_type": "code",
   "execution_count": 143,
   "metadata": {},
   "outputs": [
    {
     "data": {
      "text/plain": [
       "array([[[12, 13, 14, 15],\n",
       "        [16, 17, 18, 19],\n",
       "        [20, 21, 22, 23]]])"
      ]
     },
     "execution_count": 143,
     "metadata": {},
     "output_type": "execute_result"
    }
   ],
   "source": [
    "b_bool1=np.array([False,True],dtype=bool)\n",
    "b[b_bool1]"
   ]
  },
  {
   "cell_type": "code",
   "execution_count": 144,
   "metadata": {},
   "outputs": [
    {
     "data": {
      "text/plain": [
       "array([[16, 17, 18, 19],\n",
       "       [20, 21, 22, 23]])"
      ]
     },
     "execution_count": 144,
     "metadata": {},
     "output_type": "execute_result"
    }
   ],
   "source": [
    "b_bool2=np.array([False,True,True],dtype=bool)\n",
    "b_bool3=np.array([False,True,True,False],dtype=bool)\n",
    "b[b_bool1,b_bool2]"
   ]
  },
  {
   "cell_type": "code",
   "execution_count": 145,
   "metadata": {},
   "outputs": [
    {
     "data": {
      "text/plain": [
       "array([17, 22])"
      ]
     },
     "execution_count": 145,
     "metadata": {},
     "output_type": "execute_result"
    }
   ],
   "source": [
    "b[b_bool1,b_bool2,b_bool3]"
   ]
  },
  {
   "cell_type": "markdown",
   "metadata": {},
   "source": [
    "3.花式索引"
   ]
  },
  {
   "cell_type": "markdown",
   "metadata": {},
   "source": [
    "花式索引即利用整数数组进行索引，其可以使用指定顺序对数组提取子集"
   ]
  },
  {
   "cell_type": "code",
   "execution_count": 146,
   "metadata": {},
   "outputs": [
    {
     "data": {
      "text/plain": [
       "array([ 6, 11])"
      ]
     },
     "execution_count": 146,
     "metadata": {},
     "output_type": "execute_result"
    }
   ],
   "source": [
    "b[[[0],[1,2],[2,3]]]"
   ]
  },
  {
   "cell_type": "code",
   "execution_count": 147,
   "metadata": {},
   "outputs": [
    {
     "data": {
      "text/plain": [
       "array([[[20, 23, 22],\n",
       "        [16, 19, 18]],\n",
       "\n",
       "       [[ 8, 11, 10],\n",
       "        [ 4,  7,  6]]])"
      ]
     },
     "execution_count": 147,
     "metadata": {},
     "output_type": "execute_result"
    }
   ],
   "source": [
    "b[np.ix_([1,0],[2,1],[0,3,2])]"
   ]
  },
  {
   "cell_type": "code",
   "execution_count": 149,
   "metadata": {},
   "outputs": [
    {
     "data": {
      "text/plain": [
       "array([5, 6])"
      ]
     },
     "execution_count": 149,
     "metadata": {},
     "output_type": "execute_result"
    }
   ],
   "source": [
    "b_slice=b[0,1,1:3]  #如果数组切片是一个副本不是视图，可以利用copy进行浅复制\n",
    "b_copy=b[0,1,1:3].copy()\n",
    "b_slice"
   ]
  },
  {
   "cell_type": "code",
   "execution_count": 150,
   "metadata": {},
   "outputs": [
    {
     "data": {
      "text/plain": [
       "array([5, 6])"
      ]
     },
     "execution_count": 150,
     "metadata": {},
     "output_type": "execute_result"
    }
   ],
   "source": [
    "b_copy"
   ]
  },
  {
   "cell_type": "code",
   "execution_count": 152,
   "metadata": {},
   "outputs": [
    {
     "data": {
      "text/plain": [
       "array([  5, 666])"
      ]
     },
     "execution_count": 152,
     "metadata": {},
     "output_type": "execute_result"
    }
   ],
   "source": [
    "b_slice[1]=666\n",
    "b_slice"
   ]
  },
  {
   "cell_type": "code",
   "execution_count": 153,
   "metadata": {},
   "outputs": [
    {
     "data": {
      "text/plain": [
       "array([[[  0,   1,   2,   3],\n",
       "        [  4,   5, 666,   7],\n",
       "        [  8,   9,  10,  11]],\n",
       "\n",
       "       [[ 12,  13,  14,  15],\n",
       "        [ 16,  17,  18,  19],\n",
       "        [ 20,  21,  22,  23]]])"
      ]
     },
     "execution_count": 153,
     "metadata": {},
     "output_type": "execute_result"
    }
   ],
   "source": [
    "b"
   ]
  },
  {
   "cell_type": "code",
   "execution_count": 154,
   "metadata": {},
   "outputs": [
    {
     "data": {
      "text/plain": [
       "array([  5, 999])"
      ]
     },
     "execution_count": 154,
     "metadata": {},
     "output_type": "execute_result"
    }
   ],
   "source": [
    "b_copy[1]=999\n",
    "b_copy"
   ]
  },
  {
   "cell_type": "code",
   "execution_count": 155,
   "metadata": {},
   "outputs": [
    {
     "data": {
      "text/plain": [
       "array([[[  0,   1,   2,   3],\n",
       "        [  4,   5, 666,   7],\n",
       "        [  8,   9,  10,  11]],\n",
       "\n",
       "       [[ 12,  13,  14,  15],\n",
       "        [ 16,  17,  18,  19],\n",
       "        [ 20,  21,  22,  23]]])"
      ]
     },
     "execution_count": 155,
     "metadata": {},
     "output_type": "execute_result"
    }
   ],
   "source": [
    "b"
   ]
  },
  {
   "cell_type": "markdown",
   "metadata": {},
   "source": [
    "#### 2.1.2.3 数组的属性"
   ]
  },
  {
   "cell_type": "code",
   "execution_count": 156,
   "metadata": {},
   "outputs": [
    {
     "data": {
      "text/plain": [
       "array([[[ 0,  1,  2],\n",
       "        [ 3,  4,  5]],\n",
       "\n",
       "       [[ 6,  7,  8],\n",
       "        [ 9, 10, 11]]])"
      ]
     },
     "execution_count": 156,
     "metadata": {},
     "output_type": "execute_result"
    }
   ],
   "source": [
    "ac=np.arange(12) #数组维度、大小、数据类型等\n",
    "ac.shape=(2,2,3);ac"
   ]
  },
  {
   "cell_type": "markdown",
   "metadata": {},
   "source": [
    "#### 2.1.2.4 数组排序"
   ]
  },
  {
   "cell_type": "code",
   "execution_count": 157,
   "metadata": {},
   "outputs": [
    {
     "data": {
      "text/plain": [
       "array([1, 1, 2, 2, 2, 2, 3, 4, 4, 4, 4, 5, 6, 7, 8])"
      ]
     },
     "execution_count": 157,
     "metadata": {},
     "output_type": "execute_result"
    }
   ],
   "source": [
    "s=np.array([1,2,3,4,1,2,2,4,6,7,2,4,8,4,5])\n",
    "np.sort(s) #返回排序后的数组"
   ]
  },
  {
   "cell_type": "code",
   "execution_count": 158,
   "metadata": {},
   "outputs": [
    {
     "data": {
      "text/plain": [
       "array([ 0,  4,  1,  5,  6, 10,  2,  3,  7, 11, 13, 14,  8,  9, 12],\n",
       "      dtype=int64)"
      ]
     },
     "execution_count": 158,
     "metadata": {},
     "output_type": "execute_result"
    }
   ],
   "source": [
    "np.argsort(s) #返回排序后的数组下标"
   ]
  },
  {
   "cell_type": "code",
   "execution_count": 159,
   "metadata": {},
   "outputs": [
    {
     "data": {
      "text/plain": [
       "array([8, 7, 6, 5, 4, 4, 4, 4, 3, 2, 2, 2, 2, 1, 1])"
      ]
     },
     "execution_count": 159,
     "metadata": {},
     "output_type": "execute_result"
    }
   ],
   "source": [
    "s[np.argsort(-s)] "
   ]
  },
  {
   "cell_type": "code",
   "execution_count": 160,
   "metadata": {},
   "outputs": [
    {
     "name": "stdout",
     "output_type": "stream",
     "text": [
      "[1 1 2 2 2 2 3 4 4 4 4 5 6 7 8]\n"
     ]
    }
   ],
   "source": [
    "s.sort()\n",
    "print s"
   ]
  },
  {
   "cell_type": "code",
   "execution_count": 162,
   "metadata": {},
   "outputs": [
    {
     "data": {
      "text/plain": [
       "array([[  3,  23],\n",
       "       [ 52,  34],\n",
       "       [ 52,   3],\n",
       "       [  6, 645],\n",
       "       [ 34,   7],\n",
       "       [ 85,  23]])"
      ]
     },
     "execution_count": 162,
     "metadata": {},
     "output_type": "execute_result"
    }
   ],
   "source": [
    "s_r=np.array([3,23,52,34,52,3,6,645,34,7,85,23]).reshape(6,2)\n",
    "s_r"
   ]
  },
  {
   "cell_type": "code",
   "execution_count": 164,
   "metadata": {},
   "outputs": [
    {
     "data": {
      "text/plain": [
       "array([[  3,  23],\n",
       "       [ 34,  52],\n",
       "       [  3,  52],\n",
       "       [  6, 645],\n",
       "       [  7,  34],\n",
       "       [ 23,  85]])"
      ]
     },
     "execution_count": 164,
     "metadata": {},
     "output_type": "execute_result"
    }
   ],
   "source": [
    "s_r.sort(axis=1)\n",
    "s_r"
   ]
  },
  {
   "cell_type": "code",
   "execution_count": 165,
   "metadata": {},
   "outputs": [
    {
     "data": {
      "text/plain": [
       "array([[  3,  23],\n",
       "       [  3,  34],\n",
       "       [  6,  52],\n",
       "       [  7,  52],\n",
       "       [ 23,  85],\n",
       "       [ 34, 645]])"
      ]
     },
     "execution_count": 165,
     "metadata": {},
     "output_type": "execute_result"
    }
   ],
   "source": [
    "s_r.sort(axis=0)\n",
    "s_r"
   ]
  },
  {
   "cell_type": "code",
   "execution_count": 166,
   "metadata": {},
   "outputs": [
    {
     "data": {
      "text/plain": [
       "array([[  3,  23],\n",
       "       [  3,  34],\n",
       "       [  6,  52],\n",
       "       [  7,  52],\n",
       "       [ 23,  85],\n",
       "       [ 34, 645]])"
      ]
     },
     "execution_count": 166,
     "metadata": {},
     "output_type": "execute_result"
    }
   ],
   "source": [
    "s_r.sort(axis=-1)\n",
    "s_r"
   ]
  },
  {
   "cell_type": "code",
   "execution_count": 167,
   "metadata": {},
   "outputs": [
    {
     "data": {
      "text/plain": [
       "[(1, 0), (1, 9), (3, 0), (4, 1), (4, 2), (4, 4), (5, 4)]"
      ]
     },
     "execution_count": 167,
     "metadata": {},
     "output_type": "execute_result"
    }
   ],
   "source": [
    "a=[1,5,1,4,3,4,4]\n",
    "b=[9,4,0,4,0,2,1]\n",
    "ind=np.lexsort((b,a)) #先按a排序，再按b排序\n",
    "[(a[i],b[i]) for i in ind]"
   ]
  },
  {
   "cell_type": "markdown",
   "metadata": {},
   "source": [
    "#### 2.1.2.5 数组维度"
   ]
  },
  {
   "cell_type": "markdown",
   "metadata": {},
   "source": [
    "1. 展平\n",
    "即把多维数组降成一维数组"
   ]
  },
  {
   "cell_type": "code",
   "execution_count": 168,
   "metadata": {},
   "outputs": [
    {
     "data": {
      "text/plain": [
       "array([[[ 0,  1,  2,  3],\n",
       "        [ 4,  5,  6,  7],\n",
       "        [ 8,  9, 10, 11]],\n",
       "\n",
       "       [[12, 13, 14, 15],\n",
       "        [16, 17, 18, 19],\n",
       "        [20, 21, 22, 23]]])"
      ]
     },
     "execution_count": 168,
     "metadata": {},
     "output_type": "execute_result"
    }
   ],
   "source": [
    "b=np.arange(24).reshape(2,3,4)\n",
    "b"
   ]
  },
  {
   "cell_type": "code",
   "execution_count": 169,
   "metadata": {},
   "outputs": [
    {
     "data": {
      "text/plain": [
       "3"
      ]
     },
     "execution_count": 169,
     "metadata": {},
     "output_type": "execute_result"
    }
   ],
   "source": [
    "b.ndim"
   ]
  },
  {
   "cell_type": "code",
   "execution_count": 170,
   "metadata": {},
   "outputs": [
    {
     "data": {
      "text/plain": [
       "array([ 0,  1,  2,  3,  4,  5,  6,  7,  8,  9, 10, 11, 12, 13, 14, 15, 16,\n",
       "       17, 18, 19, 20, 21, 22, 23])"
      ]
     },
     "execution_count": 170,
     "metadata": {},
     "output_type": "execute_result"
    }
   ],
   "source": [
    "br=np.ravel(b)\n",
    "br"
   ]
  },
  {
   "cell_type": "code",
   "execution_count": 171,
   "metadata": {},
   "outputs": [
    {
     "data": {
      "text/plain": [
       "1"
      ]
     },
     "execution_count": 171,
     "metadata": {},
     "output_type": "execute_result"
    }
   ],
   "source": [
    "br.ndim"
   ]
  },
  {
   "cell_type": "code",
   "execution_count": 172,
   "metadata": {},
   "outputs": [
    {
     "data": {
      "text/plain": [
       "array([[[ 0,  1,  2,  3,  4,  5,  6,  7,  8,  9, 10, 11, 12, 13, 14, 15,\n",
       "         16, 17, 18, 19, 20, 21, 22, 23]]])"
      ]
     },
     "execution_count": 172,
     "metadata": {},
     "output_type": "execute_result"
    }
   ],
   "source": [
    "brsh=b.reshape(1,1,24)\n",
    "brsh"
   ]
  },
  {
   "cell_type": "code",
   "execution_count": 173,
   "metadata": {},
   "outputs": [
    {
     "data": {
      "text/plain": [
       "3"
      ]
     },
     "execution_count": 173,
     "metadata": {},
     "output_type": "execute_result"
    }
   ],
   "source": [
    "brsh.ndim"
   ]
  },
  {
   "cell_type": "code",
   "execution_count": 174,
   "metadata": {},
   "outputs": [
    {
     "data": {
      "text/plain": [
       "array([ 0,  1,  2,  3,  4,  5,  6,  7,  8,  9, 10, 11, 12, 13, 14, 15, 16,\n",
       "       17, 18, 19, 20, 21, 22, 23])"
      ]
     },
     "execution_count": 174,
     "metadata": {},
     "output_type": "execute_result"
    }
   ],
   "source": [
    "b.flatten()"
   ]
  },
  {
   "cell_type": "markdown",
   "metadata": {},
   "source": [
    "2.维度改变"
   ]
  },
  {
   "cell_type": "markdown",
   "metadata": {},
   "source": [
    "数组的reshape方法和resize方法均可以改变数组的维度和尺寸大小"
   ]
  },
  {
   "cell_type": "code",
   "execution_count": 175,
   "metadata": {},
   "outputs": [
    {
     "data": {
      "text/plain": [
       "array([[ 0,  1,  2,  3,  4,  5],\n",
       "       [ 6,  7,  8,  9, 10, 11],\n",
       "       [12, 13, 14, 15, 16, 17],\n",
       "       [18, 19, 20, 21, 22, 23]])"
      ]
     },
     "execution_count": 175,
     "metadata": {},
     "output_type": "execute_result"
    }
   ],
   "source": [
    "bd=b.reshape(4,6)\n",
    "bd"
   ]
  },
  {
   "cell_type": "code",
   "execution_count": 176,
   "metadata": {},
   "outputs": [
    {
     "data": {
      "text/plain": [
       "array([[[ 0,  1,  2,  3,  4,  5,  6,  7,  8,  9, 10, 11, 12, 13, 14, 15,\n",
       "         16, 17, 18, 19, 20, 21, 22, 23]]])"
      ]
     },
     "execution_count": 176,
     "metadata": {},
     "output_type": "execute_result"
    }
   ],
   "source": [
    "b.shape=(1,1,24)\n",
    "b"
   ]
  },
  {
   "cell_type": "code",
   "execution_count": 177,
   "metadata": {},
   "outputs": [
    {
     "data": {
      "text/plain": [
       "array([[[ 0,  1,  2,  3,  4,  5,  6,  7,  8,  9, 10, 11, 12, 13, 14, 15,\n",
       "         16, 17, 18, 19, 20, 21, 22, 23]]])"
      ]
     },
     "execution_count": 177,
     "metadata": {},
     "output_type": "execute_result"
    }
   ],
   "source": [
    "b.resize(1,1,24)\n",
    "b"
   ]
  },
  {
   "cell_type": "markdown",
   "metadata": {},
   "source": [
    "3.转置"
   ]
  },
  {
   "cell_type": "markdown",
   "metadata": {},
   "source": [
    "把数组的尺寸大小互换"
   ]
  },
  {
   "cell_type": "code",
   "execution_count": 179,
   "metadata": {},
   "outputs": [
    {
     "data": {
      "text/plain": [
       "array([[[ 0,  1],\n",
       "        [ 2,  3],\n",
       "        [ 4,  5],\n",
       "        [ 6,  7]],\n",
       "\n",
       "       [[ 8,  9],\n",
       "        [10, 11],\n",
       "        [12, 13],\n",
       "        [14, 15]],\n",
       "\n",
       "       [[16, 17],\n",
       "        [18, 19],\n",
       "        [20, 21],\n",
       "        [22, 23]]])"
      ]
     },
     "execution_count": 179,
     "metadata": {},
     "output_type": "execute_result"
    }
   ],
   "source": [
    "b.shape=(3,4,2)\n",
    "b"
   ]
  },
  {
   "cell_type": "code",
   "execution_count": 180,
   "metadata": {},
   "outputs": [
    {
     "data": {
      "text/plain": [
       "array([[[ 0,  8, 16],\n",
       "        [ 2, 10, 18],\n",
       "        [ 4, 12, 20],\n",
       "        [ 6, 14, 22]],\n",
       "\n",
       "       [[ 1,  9, 17],\n",
       "        [ 3, 11, 19],\n",
       "        [ 5, 13, 21],\n",
       "        [ 7, 15, 23]]])"
      ]
     },
     "execution_count": 180,
     "metadata": {},
     "output_type": "execute_result"
    }
   ],
   "source": [
    "np.transpose(b)  #该语句等价于：b.T"
   ]
  },
  {
   "cell_type": "code",
   "execution_count": 181,
   "metadata": {},
   "outputs": [
    {
     "data": {
      "text/plain": [
       "array([[[ 0,  8, 16],\n",
       "        [ 2, 10, 18],\n",
       "        [ 4, 12, 20],\n",
       "        [ 6, 14, 22]],\n",
       "\n",
       "       [[ 1,  9, 17],\n",
       "        [ 3, 11, 19],\n",
       "        [ 5, 13, 21],\n",
       "        [ 7, 15, 23]]])"
      ]
     },
     "execution_count": 181,
     "metadata": {},
     "output_type": "execute_result"
    }
   ],
   "source": [
    "b.T  #数组T的属性进行转置"
   ]
  },
  {
   "cell_type": "code",
   "execution_count": null,
   "metadata": {},
   "outputs": [],
   "source": []
  }
 ],
 "metadata": {
  "kernelspec": {
   "display_name": "Python 2",
   "language": "python",
   "name": "python2"
  },
  "language_info": {
   "codemirror_mode": {
    "name": "ipython",
    "version": 2
   },
   "file_extension": ".py",
   "mimetype": "text/x-python",
   "name": "python",
   "nbconvert_exporter": "python",
   "pygments_lexer": "ipython2",
   "version": "2.7.14"
  }
 },
 "nbformat": 4,
 "nbformat_minor": 2
}

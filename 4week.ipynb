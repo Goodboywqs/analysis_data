{
 "cells": [
  {
   "cell_type": "markdown",
   "metadata": {},
   "source": [
    "# 第十章 离散因变量模型"
   ]
  },
  {
   "cell_type": "markdown",
   "metadata": {},
   "source": [
    "## 10.2 二元选择模型"
   ]
  },
  {
   "cell_type": "markdown",
   "metadata": {},
   "source": [
    "二元选择模型具体是指离散因变量具有两个选项或两种属性，二元离散因变量的属性往往是对立或互斥的"
   ]
  },
  {
   "cell_type": "code",
   "execution_count": 149,
   "metadata": {},
   "outputs": [
    {
     "data": {
      "text/html": [
       "<div>\n",
       "<style scoped>\n",
       "    .dataframe tbody tr th:only-of-type {\n",
       "        vertical-align: middle;\n",
       "    }\n",
       "\n",
       "    .dataframe tbody tr th {\n",
       "        vertical-align: top;\n",
       "    }\n",
       "\n",
       "    .dataframe thead th {\n",
       "        text-align: right;\n",
       "    }\n",
       "</style>\n",
       "<table border=\"1\" class=\"dataframe\">\n",
       "  <thead>\n",
       "    <tr style=\"text-align: right;\">\n",
       "      <th></th>\n",
       "      <th>CSI</th>\n",
       "      <th>Complaint</th>\n",
       "      <th>Loyalty</th>\n",
       "      <th>Attitude</th>\n",
       "    </tr>\n",
       "  </thead>\n",
       "  <tbody>\n",
       "    <tr>\n",
       "      <th>0</th>\n",
       "      <td>8</td>\n",
       "      <td>3</td>\n",
       "      <td>8</td>\n",
       "      <td>1</td>\n",
       "    </tr>\n",
       "    <tr>\n",
       "      <th>1</th>\n",
       "      <td>9</td>\n",
       "      <td>4</td>\n",
       "      <td>10</td>\n",
       "      <td>1</td>\n",
       "    </tr>\n",
       "    <tr>\n",
       "      <th>2</th>\n",
       "      <td>6</td>\n",
       "      <td>1</td>\n",
       "      <td>10</td>\n",
       "      <td>1</td>\n",
       "    </tr>\n",
       "    <tr>\n",
       "      <th>3</th>\n",
       "      <td>8</td>\n",
       "      <td>4</td>\n",
       "      <td>7</td>\n",
       "      <td>1</td>\n",
       "    </tr>\n",
       "    <tr>\n",
       "      <th>4</th>\n",
       "      <td>8</td>\n",
       "      <td>7</td>\n",
       "      <td>7</td>\n",
       "      <td>1</td>\n",
       "    </tr>\n",
       "  </tbody>\n",
       "</table>\n",
       "</div>"
      ],
      "text/plain": [
       "   CSI  Complaint  Loyalty  Attitude\n",
       "0    8          3        8         1\n",
       "1    9          4       10         1\n",
       "2    6          1       10         1\n",
       "3    8          4        7         1\n",
       "4    8          7        7         1"
      ]
     },
     "execution_count": 149,
     "metadata": {},
     "output_type": "execute_result"
    }
   ],
   "source": [
    "import statsmodels.api as sm\n",
    "import numpy as np\n",
    "import pandas as pd\n",
    "path=\"D:/data/Python_data/ch10/product_usage.csv\"\n",
    "product=pd.read_csv(path)\n",
    "product.head()"
   ]
  },
  {
   "cell_type": "code",
   "execution_count": 150,
   "metadata": {},
   "outputs": [],
   "source": [
    "from statsmodels.formula.api import glm  #构建probit模型，选择Binomial分布簇并使用Probit链接函数\n",
    "formula='Attitude~CSI+Complaint+Loyalty'\n",
    "product_m=glm(formula,data=product,family=sm.families.Binomial(sm.families.links.probit)).fit()\n",
    "print product_m.summary()"
   ]
  },
  {
   "cell_type": "code",
   "execution_count": 151,
   "metadata": {},
   "outputs": [
    {
     "data": {
      "text/plain": [
       "0    0.8528\n",
       "dtype: float64"
      ]
     },
     "execution_count": 151,
     "metadata": {},
     "output_type": "execute_result"
    }
   ],
   "source": [
    "product_m.predict(pd.DataFrame({'CSI':[8],'Complaint':[4],'Loyalty':[7]}))  #求响应概率"
   ]
  },
  {
   "cell_type": "code",
   "execution_count": 152,
   "metadata": {},
   "outputs": [
    {
     "data": {
      "text/html": [
       "<div>\n",
       "<style scoped>\n",
       "    .dataframe tbody tr th:only-of-type {\n",
       "        vertical-align: middle;\n",
       "    }\n",
       "\n",
       "    .dataframe tbody tr th {\n",
       "        vertical-align: top;\n",
       "    }\n",
       "\n",
       "    .dataframe thead th {\n",
       "        text-align: right;\n",
       "    }\n",
       "</style>\n",
       "<table border=\"1\" class=\"dataframe\">\n",
       "  <thead>\n",
       "    <tr style=\"text-align: right;\">\n",
       "      <th></th>\n",
       "      <th>Gender</th>\n",
       "      <th>Age</th>\n",
       "      <th>Purchase</th>\n",
       "    </tr>\n",
       "  </thead>\n",
       "  <tbody>\n",
       "    <tr>\n",
       "      <th>0</th>\n",
       "      <td>1</td>\n",
       "      <td>35</td>\n",
       "      <td>0</td>\n",
       "    </tr>\n",
       "    <tr>\n",
       "      <th>1</th>\n",
       "      <td>1</td>\n",
       "      <td>59</td>\n",
       "      <td>1</td>\n",
       "    </tr>\n",
       "    <tr>\n",
       "      <th>2</th>\n",
       "      <td>1</td>\n",
       "      <td>56</td>\n",
       "      <td>1</td>\n",
       "    </tr>\n",
       "    <tr>\n",
       "      <th>3</th>\n",
       "      <td>1</td>\n",
       "      <td>46</td>\n",
       "      <td>1</td>\n",
       "    </tr>\n",
       "    <tr>\n",
       "      <th>4</th>\n",
       "      <td>1</td>\n",
       "      <td>39</td>\n",
       "      <td>0</td>\n",
       "    </tr>\n",
       "  </tbody>\n",
       "</table>\n",
       "</div>"
      ],
      "text/plain": [
       "   Gender  Age  Purchase\n",
       "0       1   35         0\n",
       "1       1   59         1\n",
       "2       1   56         1\n",
       "3       1   46         1\n",
       "4       1   39         0"
      ]
     },
     "execution_count": 152,
     "metadata": {},
     "output_type": "execute_result"
    }
   ],
   "source": [
    "path=\"D:/data/Python_data/ch10/threeg.csv\"\n",
    "G3=pd.read_csv(path)\n",
    "G3.head()"
   ]
  },
  {
   "cell_type": "code",
   "execution_count": 153,
   "metadata": {},
   "outputs": [],
   "source": [
    "G3['Gender']=G3['Gender'].astype('category')\n",
    "G3['Gender'].cat.categories=['女','男']\n",
    "G3['Gender'].cat.set_categories=['女','男']"
   ]
  },
  {
   "cell_type": "code",
   "execution_count": 154,
   "metadata": {},
   "outputs": [],
   "source": [
    "formula='Purchase~C(Gender)+Age'\n",
    "G3_model1=glm(formula,data=G3,family=sm.families.Binomial(sm.families.links.probit)).fit()\n",
    "print G3_model1.summary()  #使用glm建模"
   ]
  },
  {
   "cell_type": "code",
   "execution_count": 155,
   "metadata": {},
   "outputs": [
    {
     "data": {
      "text/plain": [
       "0    0.688636\n",
       "1    0.379574\n",
       "dtype: float64"
      ]
     },
     "execution_count": 155,
     "metadata": {},
     "output_type": "execute_result"
    }
   ],
   "source": [
    "G3_model1.predict(pd.DataFrame({'Gender':['男','女'],'Age':[45,45]}))  #同样可以使用predict实现"
   ]
  },
  {
   "cell_type": "code",
   "execution_count": 156,
   "metadata": {},
   "outputs": [],
   "source": [
    "from statsmodels.formula.api import probit\n",
    "G3_model2=probit(formula,data=G3).fit()\n",
    "print G3_model2.summary2()"
   ]
  },
  {
   "cell_type": "code",
   "execution_count": 157,
   "metadata": {},
   "outputs": [],
   "source": [
    "print G3_model2.get_margeff().summary()  #得到模型自变量对因变量的边际影响"
   ]
  },
  {
   "cell_type": "markdown",
   "metadata": {},
   "source": [
    "### 10.2.4 BINARY LOGIT模型"
   ]
  },
  {
   "cell_type": "markdown",
   "metadata": {},
   "source": [
    "二元Logit模型对隐变量随机误差项假定服从标准正态分布"
   ]
  },
  {
   "cell_type": "code",
   "execution_count": 158,
   "metadata": {},
   "outputs": [],
   "source": [
    "G3_model3=glm(formula,data=G3,family=sm.families.Binomial(sm.families.links.logit)).fit()\n",
    "print G3_model3.summary()    "
   ]
  },
  {
   "cell_type": "code",
   "execution_count": 159,
   "metadata": {},
   "outputs": [
    {
     "data": {
      "text/plain": [
       "0    0.702411\n",
       "1    0.360706\n",
       "dtype: float64"
      ]
     },
     "execution_count": 159,
     "metadata": {},
     "output_type": "execute_result"
    }
   ],
   "source": [
    "G3_model3.predict(pd.DataFrame({'Gender':['男','女'],'Age':[45,45]}))"
   ]
  },
  {
   "cell_type": "code",
   "execution_count": 160,
   "metadata": {},
   "outputs": [],
   "source": [
    "from statsmodels.formula.api import logit\n",
    "G3_model4=logit(formula,data=G3).fit()\n",
    "print G3_model4.summary2()"
   ]
  },
  {
   "cell_type": "code",
   "execution_count": 161,
   "metadata": {},
   "outputs": [],
   "source": [
    "print G3_model4.get_margeff().summary()  #使用logit得到的模型对象还可以使用get_mrgeff 方法得到模型自变量对因变量的边际影响"
   ]
  },
  {
   "cell_type": "markdown",
   "metadata": {},
   "source": [
    "## 10.3 多重选择模型"
   ]
  },
  {
   "cell_type": "markdown",
   "metadata": {},
   "source": [
    "多重选择模型中，不同选项或者选择结果之间的关系有两种情况：一种是各项选择是有顺序之分，另一种是选项之间没有次序或顺序之分"
   ]
  },
  {
   "cell_type": "code",
   "execution_count": 162,
   "metadata": {},
   "outputs": [
    {
     "data": {
      "text/html": [
       "<div>\n",
       "<style scoped>\n",
       "    .dataframe tbody tr th:only-of-type {\n",
       "        vertical-align: middle;\n",
       "    }\n",
       "\n",
       "    .dataframe tbody tr th {\n",
       "        vertical-align: top;\n",
       "    }\n",
       "\n",
       "    .dataframe thead th {\n",
       "        text-align: right;\n",
       "    }\n",
       "</style>\n",
       "<table border=\"1\" class=\"dataframe\">\n",
       "  <thead>\n",
       "    <tr style=\"text-align: right;\">\n",
       "      <th></th>\n",
       "      <th>gender</th>\n",
       "      <th>age</th>\n",
       "      <th>purchase</th>\n",
       "    </tr>\n",
       "  </thead>\n",
       "  <tbody>\n",
       "    <tr>\n",
       "      <th>0</th>\n",
       "      <td>2</td>\n",
       "      <td>54</td>\n",
       "      <td>1</td>\n",
       "    </tr>\n",
       "    <tr>\n",
       "      <th>1</th>\n",
       "      <td>1</td>\n",
       "      <td>59</td>\n",
       "      <td>1</td>\n",
       "    </tr>\n",
       "    <tr>\n",
       "      <th>28</th>\n",
       "      <td>2</td>\n",
       "      <td>31</td>\n",
       "      <td>2</td>\n",
       "    </tr>\n",
       "    <tr>\n",
       "      <th>38</th>\n",
       "      <td>1</td>\n",
       "      <td>39</td>\n",
       "      <td>2</td>\n",
       "    </tr>\n",
       "    <tr>\n",
       "      <th>58</th>\n",
       "      <td>2</td>\n",
       "      <td>42</td>\n",
       "      <td>3</td>\n",
       "    </tr>\n",
       "  </tbody>\n",
       "</table>\n",
       "</div>"
      ],
      "text/plain": [
       "    gender  age  purchase\n",
       "0        2   54         1\n",
       "1        1   59         1\n",
       "28       2   31         2\n",
       "38       1   39         2\n",
       "58       2   42         3"
      ]
     },
     "execution_count": 162,
     "metadata": {},
     "output_type": "execute_result"
    }
   ],
   "source": [
    "path=\"D:/data/Python_data/ch10/threeg_multi.csv\"\n",
    "G3_m=pd.read_csv(path)\n",
    "G3_m.ix[[0,1,28,38,58]]"
   ]
  },
  {
   "cell_type": "code",
   "execution_count": 163,
   "metadata": {},
   "outputs": [],
   "source": [
    "G3_m['gender']=G3_m['gender'].astype('category')\n",
    "G3_m['gender'].cat.categories=['女','男']\n",
    "G3_m['gender'].cat.set_categories=['女','男']\n",
    "G3_m['purchase']=G3_m['purchase'].astype('category')\n",
    "G3_m['purchase'].cat.categories=['不买','无所谓','买']\n",
    "G3_m['purchase'].cat.set_categories=['不买','无所谓','买']"
   ]
  },
  {
   "cell_type": "markdown",
   "metadata": {},
   "source": [
    "## 10.4 计数模型"
   ]
  },
  {
   "cell_type": "markdown",
   "metadata": {},
   "source": [
    "分析离散计数因变量的模型即为计数模型"
   ]
  },
  {
   "cell_type": "code",
   "execution_count": 164,
   "metadata": {},
   "outputs": [
    {
     "data": {
      "text/html": [
       "<div>\n",
       "<style scoped>\n",
       "    .dataframe tbody tr th:only-of-type {\n",
       "        vertical-align: middle;\n",
       "    }\n",
       "\n",
       "    .dataframe tbody tr th {\n",
       "        vertical-align: top;\n",
       "    }\n",
       "\n",
       "    .dataframe thead th {\n",
       "        text-align: right;\n",
       "    }\n",
       "</style>\n",
       "<table border=\"1\" class=\"dataframe\">\n",
       "  <thead>\n",
       "    <tr style=\"text-align: right;\">\n",
       "      <th></th>\n",
       "      <th>cartridge</th>\n",
       "      <th>Counts</th>\n",
       "      <th>Pages</th>\n",
       "      <th>Length</th>\n",
       "    </tr>\n",
       "  </thead>\n",
       "  <tbody>\n",
       "    <tr>\n",
       "      <th>0</th>\n",
       "      <td>2</td>\n",
       "      <td>5</td>\n",
       "      <td>87.8</td>\n",
       "      <td>44.194</td>\n",
       "    </tr>\n",
       "    <tr>\n",
       "      <th>1</th>\n",
       "      <td>1</td>\n",
       "      <td>1</td>\n",
       "      <td>52.2</td>\n",
       "      <td>3.663</td>\n",
       "    </tr>\n",
       "    <tr>\n",
       "      <th>2</th>\n",
       "      <td>2</td>\n",
       "      <td>0</td>\n",
       "      <td>0.7</td>\n",
       "      <td>0.331</td>\n",
       "    </tr>\n",
       "    <tr>\n",
       "      <th>3</th>\n",
       "      <td>2</td>\n",
       "      <td>1</td>\n",
       "      <td>81.7</td>\n",
       "      <td>18.422</td>\n",
       "    </tr>\n",
       "    <tr>\n",
       "      <th>4</th>\n",
       "      <td>2</td>\n",
       "      <td>4</td>\n",
       "      <td>89.9</td>\n",
       "      <td>45.003</td>\n",
       "    </tr>\n",
       "  </tbody>\n",
       "</table>\n",
       "</div>"
      ],
      "text/plain": [
       "   cartridge  Counts  Pages  Length\n",
       "0          2       5   87.8  44.194\n",
       "1          1       1   52.2   3.663\n",
       "2          2       0    0.7   0.331\n",
       "3          2       1   81.7  18.422\n",
       "4          2       4   89.9  45.003"
      ]
     },
     "execution_count": 164,
     "metadata": {},
     "output_type": "execute_result"
    }
   ],
   "source": [
    "path=\"D:/data/Python_data/ch10/printer.csv\"\n",
    "printer=pd.read_csv(path)\n",
    "printer.head()"
   ]
  },
  {
   "cell_type": "code",
   "execution_count": 165,
   "metadata": {},
   "outputs": [],
   "source": [
    "printer['cartridge']=printer['cartridge'].astype('category')\n",
    "printer['cartridge'].cat.categories=['原装','兼容']\n",
    "printer['cartridge'].cat.set_categories=['原装','兼容']"
   ]
  },
  {
   "cell_type": "code",
   "execution_count": 166,
   "metadata": {},
   "outputs": [],
   "source": [
    "from statsmodels.formula.api import poisson\n",
    "formula='Counts~C(cartridge)+Pages+Length'\n",
    "printer_model=poisson(formula,data=printer).fit()\n",
    "print printer_model.summary2()"
   ]
  },
  {
   "cell_type": "code",
   "execution_count": 167,
   "metadata": {},
   "outputs": [
    {
     "data": {
      "text/plain": [
       "0    2.299743\n",
       "dtype: float64"
      ]
     },
     "execution_count": 167,
     "metadata": {},
     "output_type": "execute_result"
    }
   ],
   "source": [
    "printer_model.predict(pd.DataFrame({'cartridge':['原装'],'Pages':[92],'Length':[46.228]}))  "
   ]
  },
  {
   "cell_type": "markdown",
   "metadata": {},
   "source": [
    "# 第十一章 主成分与因子分析"
   ]
  },
  {
   "cell_type": "markdown",
   "metadata": {},
   "source": [
    "## 11.2 主成分分析"
   ]
  },
  {
   "cell_type": "markdown",
   "metadata": {},
   "source": [
    "主成分分析是数据降维的基本方法之一"
   ]
  },
  {
   "cell_type": "code",
   "execution_count": 168,
   "metadata": {},
   "outputs": [
    {
     "data": {
      "text/html": [
       "<div>\n",
       "<style scoped>\n",
       "    .dataframe tbody tr th:only-of-type {\n",
       "        vertical-align: middle;\n",
       "    }\n",
       "\n",
       "    .dataframe tbody tr th {\n",
       "        vertical-align: top;\n",
       "    }\n",
       "\n",
       "    .dataframe thead th {\n",
       "        text-align: right;\n",
       "    }\n",
       "</style>\n",
       "<table border=\"1\" class=\"dataframe\">\n",
       "  <thead>\n",
       "    <tr style=\"text-align: right;\">\n",
       "      <th></th>\n",
       "      <th>District</th>\n",
       "      <th>GDP</th>\n",
       "      <th>Income</th>\n",
       "      <th>Consumption</th>\n",
       "      <th>Employment</th>\n",
       "      <th>Education</th>\n",
       "      <th>Health</th>\n",
       "      <th>Life</th>\n",
       "    </tr>\n",
       "  </thead>\n",
       "  <tbody>\n",
       "    <tr>\n",
       "      <th>0</th>\n",
       "      <td>北京</td>\n",
       "      <td>45444</td>\n",
       "      <td>17652.95</td>\n",
       "      <td>13244.20</td>\n",
       "      <td>0.3937</td>\n",
       "      <td>584.43</td>\n",
       "      <td>1295.76</td>\n",
       "      <td>76.10</td>\n",
       "    </tr>\n",
       "    <tr>\n",
       "      <th>1</th>\n",
       "      <td>山西</td>\n",
       "      <td>12495</td>\n",
       "      <td>8913.91</td>\n",
       "      <td>6342.63</td>\n",
       "      <td>0.2554</td>\n",
       "      <td>548.83</td>\n",
       "      <td>538.70</td>\n",
       "      <td>71.65</td>\n",
       "    </tr>\n",
       "    <tr>\n",
       "      <th>2</th>\n",
       "      <td>内蒙古</td>\n",
       "      <td>16331</td>\n",
       "      <td>9136.79</td>\n",
       "      <td>6928.60</td>\n",
       "      <td>0.2158</td>\n",
       "      <td>504.77</td>\n",
       "      <td>533.36</td>\n",
       "      <td>69.87</td>\n",
       "    </tr>\n",
       "    <tr>\n",
       "      <th>3</th>\n",
       "      <td>吉林</td>\n",
       "      <td>13348</td>\n",
       "      <td>8690.62</td>\n",
       "      <td>6794.71</td>\n",
       "      <td>0.1836</td>\n",
       "      <td>502.08</td>\n",
       "      <td>675.77</td>\n",
       "      <td>73.10</td>\n",
       "    </tr>\n",
       "    <tr>\n",
       "      <th>4</th>\n",
       "      <td>黑龙江</td>\n",
       "      <td>14434</td>\n",
       "      <td>8272.51</td>\n",
       "      <td>6178.01</td>\n",
       "      <td>0.2418</td>\n",
       "      <td>479.85</td>\n",
       "      <td>613.15</td>\n",
       "      <td>72.37</td>\n",
       "    </tr>\n",
       "  </tbody>\n",
       "</table>\n",
       "</div>"
      ],
      "text/plain": [
       "  District    GDP    Income  Consumption  Employment  Education   Health  \\\n",
       "0       鍖椾含  45444  17652.95     13244.20      0.3937     584.43  1295.76   \n",
       "1       灞辫タ  12495   8913.91      6342.63      0.2554     548.83   538.70   \n",
       "2      鍐呰挋鍙� 16331   9136.79      6928.60      0.2158     504.77   533.36   \n",
       "3       鍚夋灄  13348   8690.62      6794.71      0.1836     502.08   675.77   \n",
       "4      榛戦緳姹� 14434   8272.51      6178.01      0.2418     479.85   613.15   \n",
       "\n",
       "    Life  \n",
       "0  76.10  \n",
       "1  71.65  \n",
       "2  69.87  \n",
       "3  73.10  \n",
       "4  72.37  "
      ]
     },
     "execution_count": 168,
     "metadata": {},
     "output_type": "execute_result"
    }
   ],
   "source": [
    "path=\"D:/data/Python_data/ch11/live.csv\"\n",
    "live=pd.read_csv(path,encoding=\"gb2312\")  #含有中文编码，用encoding参数指定编码格式读入\n",
    "live.head()"
   ]
  },
  {
   "cell_type": "code",
   "execution_count": 169,
   "metadata": {},
   "outputs": [],
   "source": [
    "from matplotlib.mlab import PCA as mlabPCA\n",
    "x=live.iloc[:,1:8]  #构造原始变量\n",
    "live_pcal=mlabPCA(x,standardize=True)  #standardize表示是否将原始数据标准化"
   ]
  },
  {
   "cell_type": "markdown",
   "metadata": {},
   "source": [
    "mlab的PCA实例对象的fracs属性表示每个特征值占特征值综合的百分比"
   ]
  },
  {
   "cell_type": "code",
   "execution_count": 170,
   "metadata": {},
   "outputs": [
    {
     "data": {
      "text/html": [
       "<div>\n",
       "<style scoped>\n",
       "    .dataframe tbody tr th:only-of-type {\n",
       "        vertical-align: middle;\n",
       "    }\n",
       "\n",
       "    .dataframe tbody tr th {\n",
       "        vertical-align: top;\n",
       "    }\n",
       "\n",
       "    .dataframe thead th {\n",
       "        text-align: right;\n",
       "    }\n",
       "</style>\n",
       "<table border=\"1\" class=\"dataframe\">\n",
       "  <thead>\n",
       "    <tr style=\"text-align: right;\">\n",
       "      <th></th>\n",
       "      <th>Eigenvalue</th>\n",
       "      <th>Proportion</th>\n",
       "      <th>Cumulative</th>\n",
       "    </tr>\n",
       "  </thead>\n",
       "  <tbody>\n",
       "    <tr>\n",
       "      <th>1</th>\n",
       "      <td>4.725499</td>\n",
       "      <td>0.675071</td>\n",
       "      <td>0.675071</td>\n",
       "    </tr>\n",
       "    <tr>\n",
       "      <th>2</th>\n",
       "      <td>1.234341</td>\n",
       "      <td>0.176334</td>\n",
       "      <td>0.851406</td>\n",
       "    </tr>\n",
       "    <tr>\n",
       "      <th>3</th>\n",
       "      <td>0.448662</td>\n",
       "      <td>0.064095</td>\n",
       "      <td>0.915500</td>\n",
       "    </tr>\n",
       "    <tr>\n",
       "      <th>4</th>\n",
       "      <td>0.306114</td>\n",
       "      <td>0.043731</td>\n",
       "      <td>0.959231</td>\n",
       "    </tr>\n",
       "    <tr>\n",
       "      <th>5</th>\n",
       "      <td>0.213755</td>\n",
       "      <td>0.030536</td>\n",
       "      <td>0.989767</td>\n",
       "    </tr>\n",
       "    <tr>\n",
       "      <th>6</th>\n",
       "      <td>0.060574</td>\n",
       "      <td>0.008653</td>\n",
       "      <td>0.998421</td>\n",
       "    </tr>\n",
       "    <tr>\n",
       "      <th>7</th>\n",
       "      <td>0.011054</td>\n",
       "      <td>0.001579</td>\n",
       "      <td>1.000000</td>\n",
       "    </tr>\n",
       "  </tbody>\n",
       "</table>\n",
       "</div>"
      ],
      "text/plain": [
       "   Eigenvalue  Proportion  Cumulative\n",
       "1    4.725499    0.675071    0.675071\n",
       "2    1.234341    0.176334    0.851406\n",
       "3    0.448662    0.064095    0.915500\n",
       "4    0.306114    0.043731    0.959231\n",
       "5    0.213755    0.030536    0.989767\n",
       "6    0.060574    0.008653    0.998421\n",
       "7    0.011054    0.001579    1.000000"
      ]
     },
     "execution_count": 170,
     "metadata": {},
     "output_type": "execute_result"
    }
   ],
   "source": [
    "live_var=pd.DataFrame((live_pcal.s)/np.mean(live_pcal.s),columns=['Eigenvalue'],index=list(range(1,8)))  #PCA实例对象的fracs属性表示每个特征值占特征值总和的百分比\n",
    "s=0\n",
    "p,c=[],[]\n",
    "for i in range(0,len(live_pcal.fracs)):\n",
    "    s+=live_pcal.fracs[i]\n",
    "    p.append(live_pcal.fracs[i])\n",
    "    c.append(s)\n",
    "live_var['Proportion']=p\n",
    "live_var['Cumulative']=c\n",
    "live_var\n"
   ]
  },
  {
   "cell_type": "code",
   "execution_count": 171,
   "metadata": {},
   "outputs": [
    {
     "data": {
      "image/png": "[encoded data removed]",
      "text/plain": [
       "<matplotlib.figure.Figure at 0xdcb9940>"
      ]
     },
     "metadata": {},
     "output_type": "display_data"
    }
   ],
   "source": [
    "import matplotlib.pyplot as plt\n",
    "fig,(ax1,ax2)=plt.subplots(1,2)\n",
    "fig.set_size_inches(6.8,3)\n",
    "fig.subplots_adjust(wspace=0.4)\n",
    "\n",
    "ax1.plot(range(1,8),live_var['Eigenvalue'],'o-')\n",
    "ax1.set_title('Scree Plot')\n",
    "ax1.set_xlabel('principal explained')\n",
    "ax1.set_ylabel('eigenvalue')\n",
    "ax1.grid()\n",
    "\n",
    "ax2.plot(range(1,8),live_var['Proportion'],'o-')\n",
    "ax2.plot(range(1,8),live_var['Cumulative'],'bo-.')\n",
    "ax2.set_xlabel('principal explained')\n",
    "ax2.set_ylabel('Proportion')\n",
    "ax2.grid()\n",
    "plt.show()"
   ]
  },
  {
   "cell_type": "code",
   "execution_count": 172,
   "metadata": {},
   "outputs": [
    {
     "data": {
      "text/html": [
       "<div>\n",
       "<style scoped>\n",
       "    .dataframe tbody tr th:only-of-type {\n",
       "        vertical-align: middle;\n",
       "    }\n",
       "\n",
       "    .dataframe tbody tr th {\n",
       "        vertical-align: top;\n",
       "    }\n",
       "\n",
       "    .dataframe thead th {\n",
       "        text-align: right;\n",
       "    }\n",
       "</style>\n",
       "<table border=\"1\" class=\"dataframe\">\n",
       "  <thead>\n",
       "    <tr style=\"text-align: right;\">\n",
       "      <th></th>\n",
       "      <th>GDP</th>\n",
       "      <th>Income</th>\n",
       "      <th>Consumption</th>\n",
       "      <th>Employment</th>\n",
       "      <th>Education</th>\n",
       "      <th>Health</th>\n",
       "      <th>Life</th>\n",
       "    </tr>\n",
       "  </thead>\n",
       "  <tbody>\n",
       "    <tr>\n",
       "      <th>Prin1</th>\n",
       "      <td>-0.441618</td>\n",
       "      <td>-0.447192</td>\n",
       "      <td>-0.435590</td>\n",
       "      <td>-0.122961</td>\n",
       "      <td>-0.365034</td>\n",
       "      <td>-0.374018</td>\n",
       "      <td>-0.356365</td>\n",
       "    </tr>\n",
       "    <tr>\n",
       "      <th>Prin2</th>\n",
       "      <td>0.073883</td>\n",
       "      <td>-0.029164</td>\n",
       "      <td>-0.016302</td>\n",
       "      <td>0.827743</td>\n",
       "      <td>-0.397744</td>\n",
       "      <td>0.307351</td>\n",
       "      <td>-0.235799</td>\n",
       "    </tr>\n",
       "    <tr>\n",
       "      <th>Prin3</th>\n",
       "      <td>-0.083499</td>\n",
       "      <td>0.193227</td>\n",
       "      <td>0.394963</td>\n",
       "      <td>-0.098366</td>\n",
       "      <td>0.255464</td>\n",
       "      <td>0.001732</td>\n",
       "      <td>-0.851325</td>\n",
       "    </tr>\n",
       "    <tr>\n",
       "      <th>Prin4</th>\n",
       "      <td>0.153700</td>\n",
       "      <td>0.036980</td>\n",
       "      <td>0.035468</td>\n",
       "      <td>0.463616</td>\n",
       "      <td>0.336966</td>\n",
       "      <td>-0.801352</td>\n",
       "      <td>0.055691</td>\n",
       "    </tr>\n",
       "    <tr>\n",
       "      <th>Prin5</th>\n",
       "      <td>-0.325047</td>\n",
       "      <td>-0.358861</td>\n",
       "      <td>-0.276029</td>\n",
       "      <td>0.231263</td>\n",
       "      <td>0.718524</td>\n",
       "      <td>0.345642</td>\n",
       "      <td>0.011964</td>\n",
       "    </tr>\n",
       "    <tr>\n",
       "      <th>Prin6</th>\n",
       "      <td>0.796130</td>\n",
       "      <td>-0.213764</td>\n",
       "      <td>-0.450039</td>\n",
       "      <td>-0.143879</td>\n",
       "      <td>0.101607</td>\n",
       "      <td>0.062374</td>\n",
       "      <td>-0.288153</td>\n",
       "    </tr>\n",
       "    <tr>\n",
       "      <th>Prin7</th>\n",
       "      <td>0.171583</td>\n",
       "      <td>-0.765499</td>\n",
       "      <td>0.611568</td>\n",
       "      <td>-0.030374</td>\n",
       "      <td>-0.056051</td>\n",
       "      <td>-0.010942</td>\n",
       "      <td>0.079822</td>\n",
       "    </tr>\n",
       "  </tbody>\n",
       "</table>\n",
       "</div>"
      ],
      "text/plain": [
       "            GDP    Income  Consumption  Employment  Education    Health  \\\n",
       "Prin1 -0.441618 -0.447192    -0.435590   -0.122961  -0.365034 -0.374018   \n",
       "Prin2  0.073883 -0.029164    -0.016302    0.827743  -0.397744  0.307351   \n",
       "Prin3 -0.083499  0.193227     0.394963   -0.098366   0.255464  0.001732   \n",
       "Prin4  0.153700  0.036980     0.035468    0.463616   0.336966 -0.801352   \n",
       "Prin5 -0.325047 -0.358861    -0.276029    0.231263   0.718524  0.345642   \n",
       "Prin6  0.796130 -0.213764    -0.450039   -0.143879   0.101607  0.062374   \n",
       "Prin7  0.171583 -0.765499     0.611568   -0.030374  -0.056051 -0.010942   \n",
       "\n",
       "           Life  \n",
       "Prin1 -0.356365  \n",
       "Prin2 -0.235799  \n",
       "Prin3 -0.851325  \n",
       "Prin4  0.055691  \n",
       "Prin5  0.011964  \n",
       "Prin6 -0.288153  \n",
       "Prin7  0.079822  "
      ]
     },
     "execution_count": 172,
     "metadata": {},
     "output_type": "execute_result"
    }
   ],
   "source": [
    "live_eigenvectors=pd.DataFrame(live_pcal.Wt,index=['Prin1','Prin2','Prin3','Prin4','Prin5','Prin6','Prin7'],  #wt属性可以给出基于原始特征根计算的对应特征向量\n",
    "                              columns=(live.columns)[1:8].T)\n",
    "live_eigenvectors"
   ]
  },
  {
   "cell_type": "code",
   "execution_count": 173,
   "metadata": {},
   "outputs": [
    {
     "data": {
      "text/plain": [
       "array([ 1.50330439,  0.60019111,  0.55010765,  0.32100101,  0.40545839,\n",
       "       -0.01128084, -0.03155784])"
      ]
     },
     "execution_count": 173,
     "metadata": {},
     "output_type": "execute_result"
    }
   ],
   "source": [
    "live.iloc[20:21,:]\n",
    "live_pcal.Y[20]"
   ]
  },
  {
   "cell_type": "code",
   "execution_count": 174,
   "metadata": {},
   "outputs": [
    {
     "data": {
      "text/plain": [
       "array([ 1.50330439,  0.60019111,  0.55010765,  0.32100101,  0.40545839,\n",
       "       -0.01128084, -0.03155784])"
      ]
     },
     "execution_count": 174,
     "metadata": {},
     "output_type": "execute_result"
    }
   ],
   "source": [
    "live_pcal.project([7477,8086.82,6529.2,0.2496,505.9,492.23,67.47])"
   ]
  },
  {
   "cell_type": "markdown",
   "metadata": {},
   "source": [
    " 完成主成分分析，能够得到和SAS、SPSS等常用统计分析软件一直的结果"
   ]
  },
  {
   "cell_type": "code",
   "execution_count": 175,
   "metadata": {},
   "outputs": [],
   "source": [
    "def PCA(x,components=None):\n",
    "    if components==None:\n",
    "        components=x.size/len(x)\n",
    "    average=np.mean(x,axis=0)\n",
    "    sigma=np.std(x,axis=0,ddof=1)\n",
    "    r,c=np.shape(x)\n",
    "    dara_standardized=[]\n",
    "    mu=np.tile(average,(r,1))\n",
    "    data_standardized=(x-mu)/sigma\n",
    "    cov_matrix=np.cov(data_standardized.T)\n",
    "    EigenValue,EigenVector=np.linalg.eig(cov_matrix)\n",
    "    index=np.argsort(-EigenValue)\n",
    "    Score=[]\n",
    "    Selected_Vector=EigenVector.T[index[:components]]\n",
    "    Score=data_standardized*np.matrix(Selected_Vector.T)\n",
    "    return EigenValue[index],Selected_Vector,np.array(Score)"
   ]
  },
  {
   "cell_type": "code",
   "execution_count": 176,
   "metadata": {},
   "outputs": [
    {
     "data": {
      "text/html": [
       "<div>\n",
       "<style scoped>\n",
       "    .dataframe tbody tr th:only-of-type {\n",
       "        vertical-align: middle;\n",
       "    }\n",
       "\n",
       "    .dataframe tbody tr th {\n",
       "        vertical-align: top;\n",
       "    }\n",
       "\n",
       "    .dataframe thead th {\n",
       "        text-align: right;\n",
       "    }\n",
       "</style>\n",
       "<table border=\"1\" class=\"dataframe\">\n",
       "  <thead>\n",
       "    <tr style=\"text-align: right;\">\n",
       "      <th></th>\n",
       "      <th>Eigenvalue</th>\n",
       "      <th>Proportion</th>\n",
       "      <th>Cumulative</th>\n",
       "    </tr>\n",
       "  </thead>\n",
       "  <tbody>\n",
       "    <tr>\n",
       "      <th>1</th>\n",
       "      <td>7.953348</td>\n",
       "      <td>0.568096</td>\n",
       "      <td>0.568096</td>\n",
       "    </tr>\n",
       "    <tr>\n",
       "      <th>2</th>\n",
       "      <td>2.443283</td>\n",
       "      <td>0.174520</td>\n",
       "      <td>0.742617</td>\n",
       "    </tr>\n",
       "    <tr>\n",
       "      <th>3</th>\n",
       "      <td>0.785253</td>\n",
       "      <td>0.056090</td>\n",
       "      <td>0.798706</td>\n",
       "    </tr>\n",
       "    <tr>\n",
       "      <th>4</th>\n",
       "      <td>0.652081</td>\n",
       "      <td>0.046577</td>\n",
       "      <td>0.845283</td>\n",
       "    </tr>\n",
       "    <tr>\n",
       "      <th>5</th>\n",
       "      <td>0.495501</td>\n",
       "      <td>0.035393</td>\n",
       "      <td>0.880676</td>\n",
       "    </tr>\n",
       "    <tr>\n",
       "      <th>6</th>\n",
       "      <td>0.427167</td>\n",
       "      <td>0.030512</td>\n",
       "      <td>0.911188</td>\n",
       "    </tr>\n",
       "    <tr>\n",
       "      <th>7</th>\n",
       "      <td>0.332092</td>\n",
       "      <td>0.023721</td>\n",
       "      <td>0.934909</td>\n",
       "    </tr>\n",
       "    <tr>\n",
       "      <th>8</th>\n",
       "      <td>0.243358</td>\n",
       "      <td>0.017383</td>\n",
       "      <td>0.952292</td>\n",
       "    </tr>\n",
       "    <tr>\n",
       "      <th>9</th>\n",
       "      <td>0.182532</td>\n",
       "      <td>0.013038</td>\n",
       "      <td>0.965330</td>\n",
       "    </tr>\n",
       "    <tr>\n",
       "      <th>10</th>\n",
       "      <td>0.143056</td>\n",
       "      <td>0.010218</td>\n",
       "      <td>0.975548</td>\n",
       "    </tr>\n",
       "    <tr>\n",
       "      <th>11</th>\n",
       "      <td>0.126175</td>\n",
       "      <td>0.009013</td>\n",
       "      <td>0.984560</td>\n",
       "    </tr>\n",
       "    <tr>\n",
       "      <th>12</th>\n",
       "      <td>0.104105</td>\n",
       "      <td>0.007436</td>\n",
       "      <td>0.991996</td>\n",
       "    </tr>\n",
       "    <tr>\n",
       "      <th>13</th>\n",
       "      <td>0.059469</td>\n",
       "      <td>0.004248</td>\n",
       "      <td>0.996244</td>\n",
       "    </tr>\n",
       "    <tr>\n",
       "      <th>14</th>\n",
       "      <td>0.052581</td>\n",
       "      <td>0.003756</td>\n",
       "      <td>1.000000</td>\n",
       "    </tr>\n",
       "  </tbody>\n",
       "</table>\n",
       "</div>"
      ],
      "text/plain": [
       "    Eigenvalue  Proportion  Cumulative\n",
       "1     7.953348    0.568096    0.568096\n",
       "2     2.443283    0.174520    0.742617\n",
       "3     0.785253    0.056090    0.798706\n",
       "4     0.652081    0.046577    0.845283\n",
       "5     0.495501    0.035393    0.880676\n",
       "6     0.427167    0.030512    0.911188\n",
       "7     0.332092    0.023721    0.934909\n",
       "8     0.243358    0.017383    0.952292\n",
       "9     0.182532    0.013038    0.965330\n",
       "10    0.143056    0.010218    0.975548\n",
       "11    0.126175    0.009013    0.984560\n",
       "12    0.104105    0.007436    0.991996\n",
       "13    0.059469    0.004248    0.996244\n",
       "14    0.052581    0.003756    1.000000"
      ]
     },
     "execution_count": 176,
     "metadata": {},
     "output_type": "execute_result"
    }
   ],
   "source": [
    "EigenValue,Vector,Score=PCA(np.asarray(X))\n",
    "live_ev=pd.DataFrame((EigenValue),columns=['Eigenvalue'],index=list(range(1,15)))\n",
    "prop=live_ev['Eigenvalue']/live_ev['Eigenvalue'].sum()\n",
    "s=0\n",
    "p,c=[],[]\n",
    "for i in range(1,len(prop)+1):\n",
    "    s+=prop[i]\n",
    "    p.append(prop[i])\n",
    "    c.append(s)\n",
    "live_ev['Proportion']=p\n",
    "live_ev['Cumulative']=c\n",
    "live_ev"
   ]
  },
  {
   "cell_type": "code",
   "execution_count": 178,
   "metadata": {},
   "outputs": [],
   "source": [
    "fig,ax=plt.subplots(1)\n",
    "ax.plot(live_S['prin1_Score'],live_S['prin2_Score'],'o')\n",
    "ax.set_xlabel('component 1')\n",
    "ax.set_ylabel('component 2')\n",
    "ax.axvline(live_S['prin1_Score'].mean(),color='k',ls='--')\n",
    "ax.axhline(live_S['prin2_Score'].mean(),color='k',ls='--')\n",
    "dotxy=tuple(zip(live_S['prin1_Score']-0.2,live_S['prin2_Score']+0.15))\n",
    "i=-1\n",
    "for dot in dotxy:\n",
    "    i+=1\n",
    "    ax.annotate(live_S.ix[i]['District'],xy=dot)"
   ]
  },
  {
   "cell_type": "markdown",
   "metadata": {},
   "source": [
    "## 11.3 因子分析"
   ]
  },
  {
   "cell_type": "markdown",
   "metadata": {},
   "source": [
    "因子分析是主成份分析的推广发展，也是多元统计分析中降维分析的一种方法"
   ]
  },
  {
   "cell_type": "code",
   "execution_count": 179,
   "metadata": {},
   "outputs": [
    {
     "data": {
      "text/html": [
       "<div>\n",
       "<style scoped>\n",
       "    .dataframe tbody tr th:only-of-type {\n",
       "        vertical-align: middle;\n",
       "    }\n",
       "\n",
       "    .dataframe tbody tr th {\n",
       "        vertical-align: top;\n",
       "    }\n",
       "\n",
       "    .dataframe thead th {\n",
       "        text-align: right;\n",
       "    }\n",
       "</style>\n",
       "<table border=\"1\" class=\"dataframe\">\n",
       "  <thead>\n",
       "    <tr style=\"text-align: right;\">\n",
       "      <th></th>\n",
       "      <th>No</th>\n",
       "      <th>Switch</th>\n",
       "      <th>Connection</th>\n",
       "      <th>Speed</th>\n",
       "      <th>Transformation</th>\n",
       "      <th>Offline</th>\n",
       "      <th>Timeliness</th>\n",
       "      <th>Initiative</th>\n",
       "      <th>Attitude</th>\n",
       "      <th>Skill</th>\n",
       "      <th>Consideration</th>\n",
       "      <th>Standard</th>\n",
       "      <th>Settlement</th>\n",
       "      <th>Success</th>\n",
       "      <th>Efficiency</th>\n",
       "    </tr>\n",
       "  </thead>\n",
       "  <tbody>\n",
       "    <tr>\n",
       "      <th>0</th>\n",
       "      <td>24</td>\n",
       "      <td>8</td>\n",
       "      <td>8</td>\n",
       "      <td>8</td>\n",
       "      <td>8</td>\n",
       "      <td>8</td>\n",
       "      <td>1</td>\n",
       "      <td>1</td>\n",
       "      <td>2</td>\n",
       "      <td>2</td>\n",
       "      <td>2</td>\n",
       "      <td>2</td>\n",
       "      <td>2</td>\n",
       "      <td>2</td>\n",
       "      <td>2</td>\n",
       "    </tr>\n",
       "    <tr>\n",
       "      <th>1</th>\n",
       "      <td>14</td>\n",
       "      <td>3</td>\n",
       "      <td>10</td>\n",
       "      <td>4</td>\n",
       "      <td>3</td>\n",
       "      <td>2</td>\n",
       "      <td>7</td>\n",
       "      <td>1</td>\n",
       "      <td>10</td>\n",
       "      <td>6</td>\n",
       "      <td>9</td>\n",
       "      <td>6</td>\n",
       "      <td>5</td>\n",
       "      <td>6</td>\n",
       "      <td>5</td>\n",
       "    </tr>\n",
       "    <tr>\n",
       "      <th>2</th>\n",
       "      <td>40</td>\n",
       "      <td>7</td>\n",
       "      <td>6</td>\n",
       "      <td>5</td>\n",
       "      <td>6</td>\n",
       "      <td>6</td>\n",
       "      <td>6</td>\n",
       "      <td>6</td>\n",
       "      <td>6</td>\n",
       "      <td>6</td>\n",
       "      <td>5</td>\n",
       "      <td>5</td>\n",
       "      <td>6</td>\n",
       "      <td>5</td>\n",
       "      <td>5</td>\n",
       "    </tr>\n",
       "    <tr>\n",
       "      <th>3</th>\n",
       "      <td>25</td>\n",
       "      <td>4</td>\n",
       "      <td>5</td>\n",
       "      <td>2</td>\n",
       "      <td>4</td>\n",
       "      <td>6</td>\n",
       "      <td>5</td>\n",
       "      <td>5</td>\n",
       "      <td>8</td>\n",
       "      <td>5</td>\n",
       "      <td>5</td>\n",
       "      <td>2</td>\n",
       "      <td>4</td>\n",
       "      <td>6</td>\n",
       "      <td>5</td>\n",
       "    </tr>\n",
       "    <tr>\n",
       "      <th>4</th>\n",
       "      <td>64</td>\n",
       "      <td>3</td>\n",
       "      <td>5</td>\n",
       "      <td>3</td>\n",
       "      <td>3</td>\n",
       "      <td>3</td>\n",
       "      <td>5</td>\n",
       "      <td>8</td>\n",
       "      <td>5</td>\n",
       "      <td>9</td>\n",
       "      <td>8</td>\n",
       "      <td>8</td>\n",
       "      <td>8</td>\n",
       "      <td>5</td>\n",
       "      <td>6</td>\n",
       "    </tr>\n",
       "  </tbody>\n",
       "</table>\n",
       "</div>"
      ],
      "text/plain": [
       "   No  Switch  Connection  Speed  Transformation  Offline  Timeliness  \\\n",
       "0  24       8           8      8               8        8           1   \n",
       "1  14       3          10      4               3        2           7   \n",
       "2  40       7           6      5               6        6           6   \n",
       "3  25       4           5      2               4        6           5   \n",
       "4  64       3           5      3               3        3           5   \n",
       "\n",
       "   Initiative  Attitude  Skill  Consideration  Standard  Settlement  Success  \\\n",
       "0           1         2      2              2         2           2        2   \n",
       "1           1        10      6              9         6           5        6   \n",
       "2           6         6      6              5         5           6        5   \n",
       "3           5         8      5              5         2           4        6   \n",
       "4           8         5      9              8         8           8        5   \n",
       "\n",
       "   Efficiency  \n",
       "0           2  \n",
       "1           5  \n",
       "2           5  \n",
       "3           5  \n",
       "4           6  "
      ]
     },
     "execution_count": 179,
     "metadata": {},
     "output_type": "execute_result"
    }
   ],
   "source": [
    "path=\"D:/data/Python_data/ch11/internet_cafe.csv\"\n",
    "ic=pd.read_csv(path)\n",
    "ic.head()"
   ]
  },
  {
   "cell_type": "code",
   "execution_count": 180,
   "metadata": {},
   "outputs": [],
   "source": [
    "X=ic.iloc[:,1:len(ic.columns)]  #构造一个由变量switch到efficiency组成的分析对象"
   ]
  },
  {
   "cell_type": "code",
   "execution_count": 181,
   "metadata": {},
   "outputs": [],
   "source": [
    "from sklearn.decomposition import  FactorAnalysis as skFA\n",
    "x1=(X-X.mean())/X.std(ddof=1)  #对数据进行标准化\n",
    "ic_fa=skFA(n_components=2).fit(x1)"
   ]
  },
  {
   "cell_type": "code",
   "execution_count": 182,
   "metadata": {},
   "outputs": [
    {
     "data": {
      "text/html": [
       "<div>\n",
       "<style scoped>\n",
       "    .dataframe tbody tr th:only-of-type {\n",
       "        vertical-align: middle;\n",
       "    }\n",
       "\n",
       "    .dataframe tbody tr th {\n",
       "        vertical-align: top;\n",
       "    }\n",
       "\n",
       "    .dataframe thead th {\n",
       "        text-align: right;\n",
       "    }\n",
       "</style>\n",
       "<table border=\"1\" class=\"dataframe\">\n",
       "  <thead>\n",
       "    <tr style=\"text-align: right;\">\n",
       "      <th></th>\n",
       "      <th>Factor1</th>\n",
       "      <th>Factor2</th>\n",
       "    </tr>\n",
       "  </thead>\n",
       "  <tbody>\n",
       "    <tr>\n",
       "      <th>Switch</th>\n",
       "      <td>-0.582475</td>\n",
       "      <td>0.528556</td>\n",
       "    </tr>\n",
       "    <tr>\n",
       "      <th>Connection</th>\n",
       "      <td>-0.429028</td>\n",
       "      <td>0.454938</td>\n",
       "    </tr>\n",
       "    <tr>\n",
       "      <th>Speed</th>\n",
       "      <td>-0.485041</td>\n",
       "      <td>0.692095</td>\n",
       "    </tr>\n",
       "    <tr>\n",
       "      <th>Transformation</th>\n",
       "      <td>-0.597188</td>\n",
       "      <td>0.726102</td>\n",
       "    </tr>\n",
       "    <tr>\n",
       "      <th>Offline</th>\n",
       "      <td>-0.446861</td>\n",
       "      <td>0.350302</td>\n",
       "    </tr>\n",
       "    <tr>\n",
       "      <th>Timeliness</th>\n",
       "      <td>-0.774073</td>\n",
       "      <td>-0.195317</td>\n",
       "    </tr>\n",
       "    <tr>\n",
       "      <th>Initiative</th>\n",
       "      <td>-0.720337</td>\n",
       "      <td>-0.341741</td>\n",
       "    </tr>\n",
       "    <tr>\n",
       "      <th>Attitude</th>\n",
       "      <td>-0.800199</td>\n",
       "      <td>-0.191607</td>\n",
       "    </tr>\n",
       "    <tr>\n",
       "      <th>Skill</th>\n",
       "      <td>-0.877507</td>\n",
       "      <td>-0.134740</td>\n",
       "    </tr>\n",
       "    <tr>\n",
       "      <th>Consideration</th>\n",
       "      <td>-0.713259</td>\n",
       "      <td>-0.313348</td>\n",
       "    </tr>\n",
       "    <tr>\n",
       "      <th>Standard</th>\n",
       "      <td>-0.818312</td>\n",
       "      <td>-0.336150</td>\n",
       "    </tr>\n",
       "    <tr>\n",
       "      <th>Settlement</th>\n",
       "      <td>-0.938716</td>\n",
       "      <td>-0.153299</td>\n",
       "    </tr>\n",
       "    <tr>\n",
       "      <th>Success</th>\n",
       "      <td>-0.912337</td>\n",
       "      <td>-0.095773</td>\n",
       "    </tr>\n",
       "    <tr>\n",
       "      <th>Efficiency</th>\n",
       "      <td>-0.903344</td>\n",
       "      <td>-0.052725</td>\n",
       "    </tr>\n",
       "  </tbody>\n",
       "</table>\n",
       "</div>"
      ],
      "text/plain": [
       "                 Factor1   Factor2\n",
       "Switch         -0.582475  0.528556\n",
       "Connection     -0.429028  0.454938\n",
       "Speed          -0.485041  0.692095\n",
       "Transformation -0.597188  0.726102\n",
       "Offline        -0.446861  0.350302\n",
       "Timeliness     -0.774073 -0.195317\n",
       "Initiative     -0.720337 -0.341741\n",
       "Attitude       -0.800199 -0.191607\n",
       "Skill          -0.877507 -0.134740\n",
       "Consideration  -0.713259 -0.313348\n",
       "Standard       -0.818312 -0.336150\n",
       "Settlement     -0.938716 -0.153299\n",
       "Success        -0.912337 -0.095773\n",
       "Efficiency     -0.903344 -0.052725"
      ]
     },
     "execution_count": 182,
     "metadata": {},
     "output_type": "execute_result"
    }
   ],
   "source": [
    "ic_ev=pd.DataFrame(ic_fa.components_,index=['Factor1','Factor2'],columns=(ic.columns)[1:len(ic.columns)]).T\n",
    "ic_ev"
   ]
  },
  {
   "cell_type": "code",
   "execution_count": 183,
   "metadata": {},
   "outputs": [
    {
     "data": {
      "text/html": [
       "<div>\n",
       "<style scoped>\n",
       "    .dataframe tbody tr th:only-of-type {\n",
       "        vertical-align: middle;\n",
       "    }\n",
       "\n",
       "    .dataframe tbody tr th {\n",
       "        vertical-align: top;\n",
       "    }\n",
       "\n",
       "    .dataframe thead th {\n",
       "        text-align: right;\n",
       "    }\n",
       "</style>\n",
       "<table border=\"1\" class=\"dataframe\">\n",
       "  <thead>\n",
       "    <tr style=\"text-align: right;\">\n",
       "      <th></th>\n",
       "      <th>EigenValue</th>\n",
       "      <th>Proportion</th>\n",
       "      <th>Cumulative</th>\n",
       "    </tr>\n",
       "  </thead>\n",
       "  <tbody>\n",
       "    <tr>\n",
       "      <th>1</th>\n",
       "      <td>7.953348</td>\n",
       "      <td>0.568096</td>\n",
       "      <td>0.568096</td>\n",
       "    </tr>\n",
       "    <tr>\n",
       "      <th>2</th>\n",
       "      <td>2.443283</td>\n",
       "      <td>0.174520</td>\n",
       "      <td>0.742617</td>\n",
       "    </tr>\n",
       "    <tr>\n",
       "      <th>3</th>\n",
       "      <td>0.785253</td>\n",
       "      <td>0.056090</td>\n",
       "      <td>0.798706</td>\n",
       "    </tr>\n",
       "    <tr>\n",
       "      <th>4</th>\n",
       "      <td>0.652081</td>\n",
       "      <td>0.046577</td>\n",
       "      <td>0.845283</td>\n",
       "    </tr>\n",
       "    <tr>\n",
       "      <th>5</th>\n",
       "      <td>0.495501</td>\n",
       "      <td>0.035393</td>\n",
       "      <td>0.880676</td>\n",
       "    </tr>\n",
       "    <tr>\n",
       "      <th>6</th>\n",
       "      <td>0.427167</td>\n",
       "      <td>0.030512</td>\n",
       "      <td>0.911188</td>\n",
       "    </tr>\n",
       "    <tr>\n",
       "      <th>7</th>\n",
       "      <td>0.332092</td>\n",
       "      <td>0.023721</td>\n",
       "      <td>0.934909</td>\n",
       "    </tr>\n",
       "    <tr>\n",
       "      <th>8</th>\n",
       "      <td>0.243358</td>\n",
       "      <td>0.017383</td>\n",
       "      <td>0.952292</td>\n",
       "    </tr>\n",
       "    <tr>\n",
       "      <th>9</th>\n",
       "      <td>0.182532</td>\n",
       "      <td>0.013038</td>\n",
       "      <td>0.965330</td>\n",
       "    </tr>\n",
       "    <tr>\n",
       "      <th>10</th>\n",
       "      <td>0.143056</td>\n",
       "      <td>0.010218</td>\n",
       "      <td>0.975548</td>\n",
       "    </tr>\n",
       "    <tr>\n",
       "      <th>11</th>\n",
       "      <td>0.126175</td>\n",
       "      <td>0.009013</td>\n",
       "      <td>0.984560</td>\n",
       "    </tr>\n",
       "    <tr>\n",
       "      <th>12</th>\n",
       "      <td>0.104105</td>\n",
       "      <td>0.007436</td>\n",
       "      <td>0.991996</td>\n",
       "    </tr>\n",
       "    <tr>\n",
       "      <th>13</th>\n",
       "      <td>0.059469</td>\n",
       "      <td>0.004248</td>\n",
       "      <td>0.996244</td>\n",
       "    </tr>\n",
       "    <tr>\n",
       "      <th>14</th>\n",
       "      <td>0.052581</td>\n",
       "      <td>0.003756</td>\n",
       "      <td>1.000000</td>\n",
       "    </tr>\n",
       "  </tbody>\n",
       "</table>\n",
       "</div>"
      ],
      "text/plain": [
       "    EigenValue  Proportion  Cumulative\n",
       "1     7.953348    0.568096    0.568096\n",
       "2     2.443283    0.174520    0.742617\n",
       "3     0.785253    0.056090    0.798706\n",
       "4     0.652081    0.046577    0.845283\n",
       "5     0.495501    0.035393    0.880676\n",
       "6     0.427167    0.030512    0.911188\n",
       "7     0.332092    0.023721    0.934909\n",
       "8     0.243358    0.017383    0.952292\n",
       "9     0.182532    0.013038    0.965330\n",
       "10    0.143056    0.010218    0.975548\n",
       "11    0.126175    0.009013    0.984560\n",
       "12    0.104105    0.007436    0.991996\n",
       "13    0.059469    0.004248    0.996244\n",
       "14    0.052581    0.003756    1.000000"
      ]
     },
     "execution_count": 183,
     "metadata": {},
     "output_type": "execute_result"
    }
   ],
   "source": [
    "EigenValue,Vector,Score=PCA(np.asarray(x1))  #展示特征根及其对应贡献\n",
    "x1_ev=pd.DataFrame((EigenValue),columns=['EigenValue'],index=list(range(1,15)))\n",
    "prop=x1_ev['EigenValue']/x1_ev['EigenValue'].sum()\n",
    "s=0\n",
    "p,c=[],[]\n",
    "for i in range(1,len(prop)+1):\n",
    "    s+=prop[i]\n",
    "    p.append(prop[i])\n",
    "    c.append(s)\n",
    "x1_ev['Proportion']=p\n",
    "x1_ev['Cumulative']=c\n",
    "x1_ev"
   ]
  },
  {
   "cell_type": "code",
   "execution_count": 184,
   "metadata": {},
   "outputs": [],
   "source": [
    "ic['Factor1']=ic_fa.transform(x1)[:,0]\n",
    "ic['Factor1']=ic_fa.transform(x1)[:,1]"
   ]
  },
  {
   "cell_type": "markdown",
   "metadata": {},
   "source": [
    "# 第十二章 列联分析与对应分析"
   ]
  },
  {
   "cell_type": "markdown",
   "metadata": {},
   "source": [
    "## 12.1 列联分析"
   ]
  },
  {
   "cell_type": "markdown",
   "metadata": {},
   "source": [
    "对于定类或者定序等定性数据的描述和分析，通常可以使用列联表进行分析"
   ]
  },
  {
   "cell_type": "code",
   "execution_count": 185,
   "metadata": {},
   "outputs": [
    {
     "data": {
      "text/html": [
       "<div>\n",
       "<style scoped>\n",
       "    .dataframe tbody tr th:only-of-type {\n",
       "        vertical-align: middle;\n",
       "    }\n",
       "\n",
       "    .dataframe tbody tr th {\n",
       "        vertical-align: top;\n",
       "    }\n",
       "\n",
       "    .dataframe thead th {\n",
       "        text-align: right;\n",
       "    }\n",
       "</style>\n",
       "<table border=\"1\" class=\"dataframe\">\n",
       "  <thead>\n",
       "    <tr style=\"text-align: right;\">\n",
       "      <th></th>\n",
       "      <th>department</th>\n",
       "      <th>attitude</th>\n",
       "      <th>ID</th>\n",
       "    </tr>\n",
       "  </thead>\n",
       "  <tbody>\n",
       "    <tr>\n",
       "      <th>0</th>\n",
       "      <td>3</td>\n",
       "      <td>2</td>\n",
       "      <td>1</td>\n",
       "    </tr>\n",
       "    <tr>\n",
       "      <th>1</th>\n",
       "      <td>5</td>\n",
       "      <td>2</td>\n",
       "      <td>2</td>\n",
       "    </tr>\n",
       "    <tr>\n",
       "      <th>2</th>\n",
       "      <td>5</td>\n",
       "      <td>2</td>\n",
       "      <td>3</td>\n",
       "    </tr>\n",
       "    <tr>\n",
       "      <th>3</th>\n",
       "      <td>4</td>\n",
       "      <td>2</td>\n",
       "      <td>4</td>\n",
       "    </tr>\n",
       "    <tr>\n",
       "      <th>4</th>\n",
       "      <td>1</td>\n",
       "      <td>1</td>\n",
       "      <td>5</td>\n",
       "    </tr>\n",
       "  </tbody>\n",
       "</table>\n",
       "</div>"
      ],
      "text/plain": [
       "   department  attitude  ID\n",
       "0           3         2   1\n",
       "1           5         2   2\n",
       "2           5         2   3\n",
       "3           4         2   4\n",
       "4           1         1   5"
      ]
     },
     "execution_count": 185,
     "metadata": {},
     "output_type": "execute_result"
    }
   ],
   "source": [
    "path=\"D:/data/Python_data/ch12/salary_reform.csv\"\n",
    "sc=pd.read_csv(path)\n",
    "sc.head()"
   ]
  },
  {
   "cell_type": "code",
   "execution_count": 186,
   "metadata": {},
   "outputs": [],
   "source": [
    "sc['department']=sc['department'].astype('category')  #变量标签\n",
    "sc['department'].cat.categories=['发展战略部','客户服务部','市场部','研发中心','综合部']\n",
    "sc['department'].cat.set_categories=['发展战略部','客户服务部','市场部','研发中心','综合部']\n",
    "\n",
    "sc['attitude']=sc['attitude'].astype('category')\n",
    "sc['attitude'].cat.categories=['支持','反对']\n",
    "sc['attitude'].cat.set_categories=['支持','反对']"
   ]
  },
  {
   "cell_type": "code",
   "execution_count": 187,
   "metadata": {},
   "outputs": [
    {
     "data": {
      "text/html": [
       "<div>\n",
       "<style scoped>\n",
       "    .dataframe tbody tr th:only-of-type {\n",
       "        vertical-align: middle;\n",
       "    }\n",
       "\n",
       "    .dataframe tbody tr th {\n",
       "        vertical-align: top;\n",
       "    }\n",
       "\n",
       "    .dataframe thead th {\n",
       "        text-align: right;\n",
       "    }\n",
       "</style>\n",
       "<table border=\"1\" class=\"dataframe\">\n",
       "  <thead>\n",
       "    <tr style=\"text-align: right;\">\n",
       "      <th>department</th>\n",
       "      <th>发展战略部</th>\n",
       "      <th>客户服务部</th>\n",
       "      <th>市场部</th>\n",
       "      <th>研发中心</th>\n",
       "      <th>综合部</th>\n",
       "      <th>All</th>\n",
       "    </tr>\n",
       "    <tr>\n",
       "      <th>attitude</th>\n",
       "      <th></th>\n",
       "      <th></th>\n",
       "      <th></th>\n",
       "      <th></th>\n",
       "      <th></th>\n",
       "      <th></th>\n",
       "    </tr>\n",
       "  </thead>\n",
       "  <tbody>\n",
       "    <tr>\n",
       "      <th>支持</th>\n",
       "      <td>16</td>\n",
       "      <td>21</td>\n",
       "      <td>23</td>\n",
       "      <td>22</td>\n",
       "      <td>22</td>\n",
       "      <td>104</td>\n",
       "    </tr>\n",
       "    <tr>\n",
       "      <th>反对</th>\n",
       "      <td>25</td>\n",
       "      <td>15</td>\n",
       "      <td>20</td>\n",
       "      <td>27</td>\n",
       "      <td>29</td>\n",
       "      <td>116</td>\n",
       "    </tr>\n",
       "    <tr>\n",
       "      <th>All</th>\n",
       "      <td>41</td>\n",
       "      <td>36</td>\n",
       "      <td>43</td>\n",
       "      <td>49</td>\n",
       "      <td>51</td>\n",
       "      <td>220</td>\n",
       "    </tr>\n",
       "  </tbody>\n",
       "</table>\n",
       "</div>"
      ],
      "text/plain": [
       "department  鍙戝睍鎴樼暐閮� 瀹㈡埛鏈嶅姟閮� 甯傚満閮� 鐮斿彂涓�績  缁煎悎閮� All\n",
       "attitude                                     \n",
       "鏀�寔             16     21   23    22   22  104\n",
       "鍙嶅�             25     15   20    27   29  116\n",
       "All            41     36   43    49   51  220"
      ]
     },
     "execution_count": 187,
     "metadata": {},
     "output_type": "execute_result"
    }
   ],
   "source": [
    "import sys\n",
    "defaultencoding = 'utf-8'\n",
    "if sys.getdefaultencoding() != defaultencoding:\n",
    "    reload(sys)\n",
    "    sys.setdefaultencoding(defaultencoding)\n",
    "    \n",
    "sc_contingencytable=pd.crosstab(sc['attitude'],sc['department'],margins=True)\n",
    "sc_contingencytable"
   ]
  },
  {
   "cell_type": "code",
   "execution_count": 188,
   "metadata": {},
   "outputs": [
    {
     "data": {
      "text/html": [
       "<div>\n",
       "<style scoped>\n",
       "    .dataframe tbody tr th:only-of-type {\n",
       "        vertical-align: middle;\n",
       "    }\n",
       "\n",
       "    .dataframe tbody tr th {\n",
       "        vertical-align: top;\n",
       "    }\n",
       "\n",
       "    .dataframe thead th {\n",
       "        text-align: right;\n",
       "    }\n",
       "</style>\n",
       "<table border=\"1\" class=\"dataframe\">\n",
       "  <thead>\n",
       "    <tr style=\"text-align: right;\">\n",
       "      <th>department</th>\n",
       "      <th>发展战略部</th>\n",
       "      <th>客户服务部</th>\n",
       "      <th>市场部</th>\n",
       "      <th>研发中心</th>\n",
       "      <th>综合部</th>\n",
       "      <th>All</th>\n",
       "    </tr>\n",
       "    <tr>\n",
       "      <th>attitude</th>\n",
       "      <th></th>\n",
       "      <th></th>\n",
       "      <th></th>\n",
       "      <th></th>\n",
       "      <th></th>\n",
       "      <th></th>\n",
       "    </tr>\n",
       "  </thead>\n",
       "  <tbody>\n",
       "    <tr>\n",
       "      <th>支持</th>\n",
       "      <td>0.072727</td>\n",
       "      <td>0.095455</td>\n",
       "      <td>0.104545</td>\n",
       "      <td>0.100000</td>\n",
       "      <td>0.100000</td>\n",
       "      <td>0.472727</td>\n",
       "    </tr>\n",
       "    <tr>\n",
       "      <th>反对</th>\n",
       "      <td>0.113636</td>\n",
       "      <td>0.068182</td>\n",
       "      <td>0.090909</td>\n",
       "      <td>0.122727</td>\n",
       "      <td>0.131818</td>\n",
       "      <td>0.527273</td>\n",
       "    </tr>\n",
       "    <tr>\n",
       "      <th>All</th>\n",
       "      <td>0.186364</td>\n",
       "      <td>0.163636</td>\n",
       "      <td>0.195455</td>\n",
       "      <td>0.222727</td>\n",
       "      <td>0.231818</td>\n",
       "      <td>1.000000</td>\n",
       "    </tr>\n",
       "  </tbody>\n",
       "</table>\n",
       "</div>"
      ],
      "text/plain": [
       "department     鍙戝睍鎴樼暐閮�    瀹㈡埛鏈嶅姟閮�      甯傚満閮�     鐮斿彂涓�績       缁煎悎閮�      All\n",
       "attitude                                                              \n",
       "鏀�寔          0.072727  0.095455  0.104545  0.100000  0.100000  0.472727\n",
       "鍙嶅�          0.113636  0.068182  0.090909  0.122727  0.131818  0.527273\n",
       "All         0.186364  0.163636  0.195455  0.222727  0.231818  1.000000"
      ]
     },
     "execution_count": 188,
     "metadata": {},
     "output_type": "execute_result"
    }
   ],
   "source": [
    "sc_contingencytable/sc_contingencytable.ix['All']['All']"
   ]
  },
  {
   "cell_type": "code",
   "execution_count": 189,
   "metadata": {},
   "outputs": [
    {
     "data": {
      "text/html": [
       "<div>\n",
       "<style scoped>\n",
       "    .dataframe tbody tr th:only-of-type {\n",
       "        vertical-align: middle;\n",
       "    }\n",
       "\n",
       "    .dataframe tbody tr th {\n",
       "        vertical-align: top;\n",
       "    }\n",
       "\n",
       "    .dataframe thead th {\n",
       "        text-align: right;\n",
       "    }\n",
       "</style>\n",
       "<table border=\"1\" class=\"dataframe\">\n",
       "  <thead>\n",
       "    <tr style=\"text-align: right;\">\n",
       "      <th>department</th>\n",
       "      <th>发展战略部</th>\n",
       "      <th>客户服务部</th>\n",
       "      <th>市场部</th>\n",
       "      <th>研发中心</th>\n",
       "      <th>综合部</th>\n",
       "      <th>All</th>\n",
       "    </tr>\n",
       "    <tr>\n",
       "      <th>attitude</th>\n",
       "      <th></th>\n",
       "      <th></th>\n",
       "      <th></th>\n",
       "      <th></th>\n",
       "      <th></th>\n",
       "      <th></th>\n",
       "    </tr>\n",
       "  </thead>\n",
       "  <tbody>\n",
       "    <tr>\n",
       "      <th>支持</th>\n",
       "      <td>0.153846</td>\n",
       "      <td>0.201923</td>\n",
       "      <td>0.221154</td>\n",
       "      <td>0.211538</td>\n",
       "      <td>0.211538</td>\n",
       "      <td>1.0</td>\n",
       "    </tr>\n",
       "    <tr>\n",
       "      <th>反对</th>\n",
       "      <td>0.215517</td>\n",
       "      <td>0.129310</td>\n",
       "      <td>0.172414</td>\n",
       "      <td>0.232759</td>\n",
       "      <td>0.250000</td>\n",
       "      <td>1.0</td>\n",
       "    </tr>\n",
       "    <tr>\n",
       "      <th>All</th>\n",
       "      <td>0.186364</td>\n",
       "      <td>0.163636</td>\n",
       "      <td>0.195455</td>\n",
       "      <td>0.222727</td>\n",
       "      <td>0.231818</td>\n",
       "      <td>1.0</td>\n",
       "    </tr>\n",
       "  </tbody>\n",
       "</table>\n",
       "</div>"
      ],
      "text/plain": [
       "department     鍙戝睍鎴樼暐閮�    瀹㈡埛鏈嶅姟閮�      甯傚満閮�     鐮斿彂涓�績       缁煎悎閮� All\n",
       "attitude                                                         \n",
       "鏀�寔          0.153846  0.201923  0.221154  0.211538  0.211538  1.0\n",
       "鍙嶅�          0.215517  0.129310  0.172414  0.232759  0.250000  1.0\n",
       "All         0.186364  0.163636  0.195455  0.222727  0.231818  1.0"
      ]
     },
     "execution_count": 189,
     "metadata": {},
     "output_type": "execute_result"
    }
   ],
   "source": [
    "import sys\n",
    "defaultencoding = 'utf-8'\n",
    "if sys.getdefaultencoding() != defaultencoding:\n",
    "    reload(sys)\n",
    "    sys.setdefaultencoding(defaultencoding)\n",
    "    \n",
    "def percent_observed(data):\n",
    "    return data/data[-1]\n",
    "\n",
    "pd.crosstab(sc['attitude'],sc['department'],margins=True).apply(percent_observed,axis=1)"
   ]
  },
  {
   "cell_type": "code",
   "execution_count": 190,
   "metadata": {},
   "outputs": [
    {
     "data": {
      "text/html": [
       "<div>\n",
       "<style scoped>\n",
       "    .dataframe tbody tr th:only-of-type {\n",
       "        vertical-align: middle;\n",
       "    }\n",
       "\n",
       "    .dataframe tbody tr th {\n",
       "        vertical-align: top;\n",
       "    }\n",
       "\n",
       "    .dataframe thead th {\n",
       "        text-align: right;\n",
       "    }\n",
       "</style>\n",
       "<table border=\"1\" class=\"dataframe\">\n",
       "  <thead>\n",
       "    <tr style=\"text-align: right;\">\n",
       "      <th>department</th>\n",
       "      <th>发展战略部</th>\n",
       "      <th>客户服务部</th>\n",
       "      <th>市场部</th>\n",
       "      <th>研发中心</th>\n",
       "      <th>综合部</th>\n",
       "      <th>All</th>\n",
       "    </tr>\n",
       "    <tr>\n",
       "      <th>attitude</th>\n",
       "      <th></th>\n",
       "      <th></th>\n",
       "      <th></th>\n",
       "      <th></th>\n",
       "      <th></th>\n",
       "      <th></th>\n",
       "    </tr>\n",
       "  </thead>\n",
       "  <tbody>\n",
       "    <tr>\n",
       "      <th>支持</th>\n",
       "      <td>0.390244</td>\n",
       "      <td>0.583333</td>\n",
       "      <td>0.534884</td>\n",
       "      <td>0.44898</td>\n",
       "      <td>0.431373</td>\n",
       "      <td>0.472727</td>\n",
       "    </tr>\n",
       "    <tr>\n",
       "      <th>反对</th>\n",
       "      <td>0.609756</td>\n",
       "      <td>0.416667</td>\n",
       "      <td>0.465116</td>\n",
       "      <td>0.55102</td>\n",
       "      <td>0.568627</td>\n",
       "      <td>0.527273</td>\n",
       "    </tr>\n",
       "    <tr>\n",
       "      <th>All</th>\n",
       "      <td>1.000000</td>\n",
       "      <td>1.000000</td>\n",
       "      <td>1.000000</td>\n",
       "      <td>1.00000</td>\n",
       "      <td>1.000000</td>\n",
       "      <td>1.000000</td>\n",
       "    </tr>\n",
       "  </tbody>\n",
       "</table>\n",
       "</div>"
      ],
      "text/plain": [
       "department     鍙戝睍鎴樼暐閮�    瀹㈡埛鏈嶅姟閮�      甯傚満閮�    鐮斿彂涓�績       缁煎悎閮�      All\n",
       "attitude                                                             \n",
       "鏀�寔          0.390244  0.583333  0.534884  0.44898  0.431373  0.472727\n",
       "鍙嶅�          0.609756  0.416667  0.465116  0.55102  0.568627  0.527273\n",
       "All         1.000000  1.000000  1.000000  1.00000  1.000000  1.000000"
      ]
     },
     "execution_count": 190,
     "metadata": {},
     "output_type": "execute_result"
    }
   ],
   "source": [
    "pd.crosstab(sc['attitude'],sc['department'],margins=True).apply(percent_observed,axis=0)"
   ]
  },
  {
   "cell_type": "code",
   "execution_count": 191,
   "metadata": {},
   "outputs": [
    {
     "data": {
      "text/html": [
       "<div>\n",
       "<style scoped>\n",
       "    .dataframe tbody tr th:only-of-type {\n",
       "        vertical-align: middle;\n",
       "    }\n",
       "\n",
       "    .dataframe tbody tr th {\n",
       "        vertical-align: top;\n",
       "    }\n",
       "\n",
       "    .dataframe thead th {\n",
       "        text-align: right;\n",
       "    }\n",
       "</style>\n",
       "<table border=\"1\" class=\"dataframe\">\n",
       "  <thead>\n",
       "    <tr style=\"text-align: right;\">\n",
       "      <th>department</th>\n",
       "      <th>发展战略部</th>\n",
       "      <th>客户服务部</th>\n",
       "      <th>市场部</th>\n",
       "      <th>研发中心</th>\n",
       "      <th>综合部</th>\n",
       "      <th>All</th>\n",
       "    </tr>\n",
       "    <tr>\n",
       "      <th>attitude</th>\n",
       "      <th></th>\n",
       "      <th></th>\n",
       "      <th></th>\n",
       "      <th></th>\n",
       "      <th></th>\n",
       "      <th></th>\n",
       "    </tr>\n",
       "  </thead>\n",
       "  <tbody>\n",
       "    <tr>\n",
       "      <th>支持</th>\n",
       "      <td>19.381818</td>\n",
       "      <td>17.018182</td>\n",
       "      <td>20.327273</td>\n",
       "      <td>23.163636</td>\n",
       "      <td>24.109091</td>\n",
       "      <td>104.0</td>\n",
       "    </tr>\n",
       "    <tr>\n",
       "      <th>反对</th>\n",
       "      <td>21.618182</td>\n",
       "      <td>18.981818</td>\n",
       "      <td>22.672727</td>\n",
       "      <td>25.836364</td>\n",
       "      <td>26.890909</td>\n",
       "      <td>116.0</td>\n",
       "    </tr>\n",
       "    <tr>\n",
       "      <th>All</th>\n",
       "      <td>41.000000</td>\n",
       "      <td>36.000000</td>\n",
       "      <td>43.000000</td>\n",
       "      <td>49.000000</td>\n",
       "      <td>51.000000</td>\n",
       "      <td>220.0</td>\n",
       "    </tr>\n",
       "  </tbody>\n",
       "</table>\n",
       "</div>"
      ],
      "text/plain": [
       "department      鍙戝睍鎴樼暐閮�     瀹㈡埛鏈嶅姟閮�       甯傚満閮�      鐮斿彂涓�績        缁煎悎閮�   All\n",
       "attitude                                                                \n",
       "鏀�寔          19.381818  17.018182  20.327273  23.163636  24.109091  104.0\n",
       "鍙嶅�          21.618182  18.981818  22.672727  25.836364  26.890909  116.0\n",
       "All         41.000000  36.000000  43.000000  49.000000  51.000000  220.0"
      ]
     },
     "execution_count": 191,
     "metadata": {},
     "output_type": "execute_result"
    }
   ],
   "source": [
    "from scipy.stats import contingency  #scipy.stats.contingency 提供了expencted_freq方法可以直接计算列联表的期望值分布\n",
    "pd.DataFrame(contingency.expected_freq(sc_contingencytable),columns=sc_contingencytable.columns,index=sc_contingencytable.index)"
   ]
  },
  {
   "cell_type": "code",
   "execution_count": 192,
   "metadata": {},
   "outputs": [
    {
     "data": {
      "text/html": [
       "<div>\n",
       "<style scoped>\n",
       "    .dataframe tbody tr th:only-of-type {\n",
       "        vertical-align: middle;\n",
       "    }\n",
       "\n",
       "    .dataframe tbody tr th {\n",
       "        vertical-align: top;\n",
       "    }\n",
       "\n",
       "    .dataframe thead th {\n",
       "        text-align: right;\n",
       "    }\n",
       "</style>\n",
       "<table border=\"1\" class=\"dataframe\">\n",
       "  <thead>\n",
       "    <tr style=\"text-align: right;\">\n",
       "      <th></th>\n",
       "      <th>Element</th>\n",
       "      <th>Income</th>\n",
       "      <th>Count</th>\n",
       "    </tr>\n",
       "  </thead>\n",
       "  <tbody>\n",
       "    <tr>\n",
       "      <th>63</th>\n",
       "      <td>11</td>\n",
       "      <td>4</td>\n",
       "      <td>10</td>\n",
       "    </tr>\n",
       "    <tr>\n",
       "      <th>26</th>\n",
       "      <td>5</td>\n",
       "      <td>3</td>\n",
       "      <td>9</td>\n",
       "    </tr>\n",
       "    <tr>\n",
       "      <th>34</th>\n",
       "      <td>6</td>\n",
       "      <td>5</td>\n",
       "      <td>9</td>\n",
       "    </tr>\n",
       "    <tr>\n",
       "      <th>46</th>\n",
       "      <td>8</td>\n",
       "      <td>5</td>\n",
       "      <td>12</td>\n",
       "    </tr>\n",
       "    <tr>\n",
       "      <th>40</th>\n",
       "      <td>7</td>\n",
       "      <td>5</td>\n",
       "      <td>8</td>\n",
       "    </tr>\n",
       "    <tr>\n",
       "      <th>50</th>\n",
       "      <td>9</td>\n",
       "      <td>3</td>\n",
       "      <td>26</td>\n",
       "    </tr>\n",
       "    <tr>\n",
       "      <th>54</th>\n",
       "      <td>10</td>\n",
       "      <td>1</td>\n",
       "      <td>626</td>\n",
       "    </tr>\n",
       "    <tr>\n",
       "      <th>48</th>\n",
       "      <td>9</td>\n",
       "      <td>1</td>\n",
       "      <td>90</td>\n",
       "    </tr>\n",
       "    <tr>\n",
       "      <th>45</th>\n",
       "      <td>8</td>\n",
       "      <td>4</td>\n",
       "      <td>20</td>\n",
       "    </tr>\n",
       "    <tr>\n",
       "      <th>39</th>\n",
       "      <td>7</td>\n",
       "      <td>4</td>\n",
       "      <td>5</td>\n",
       "    </tr>\n",
       "  </tbody>\n",
       "</table>\n",
       "</div>"
      ],
      "text/plain": [
       "    Element  Income  Count\n",
       "63       11       4     10\n",
       "26        5       3      9\n",
       "34        6       5      9\n",
       "46        8       5     12\n",
       "40        7       5      8\n",
       "50        9       3     26\n",
       "54       10       1    626\n",
       "48        9       1     90\n",
       "45        8       4     20\n",
       "39        7       4      5"
      ]
     },
     "execution_count": 192,
     "metadata": {},
     "output_type": "execute_result"
    }
   ],
   "source": [
    "from random import randint\n",
    "path=\"D:/data/Python_data/ch12/CellPhone.csv\"\n",
    "cp=pd.read_csv(path)\n",
    "cp.ix[[randint(0,65) for _ in range(10)]]"
   ]
  },
  {
   "cell_type": "code",
   "execution_count": 193,
   "metadata": {},
   "outputs": [],
   "source": [
    "import traceback\n",
    "def transform_crosstbale(data):\n",
    "    if data.shape[1]!=3:\n",
    "        raise Exception('Program can only do ca with 2 variable data.')\n",
    "    else:\n",
    "        data=data\n",
    "    n=sum(data.iloc[:,2])\n",
    "    p=data.iloc[:,2]/float(n)\n",
    "    v1_len=len(data.iloc[:,0].value_counts())\n",
    "    v2_len=len(data.iloc[:,1].value_counts())\n",
    "    v1_name=list(data.iloc[:,0].unique())\n",
    "    v2_name=list(data.iloc[:,1].unique())\n",
    "    cross_table=pd.DataFrame(columns=v1_name,index=v2_name) \n",
    "    cross_table_array=np.array(cross_table)\n",
    "    for i in v2_name:\n",
    "        i_index=v2_name.index(i)\n",
    "        cross_table_array[i_index]=list(data[data.iloc[:,1]==v2_name[i_index]].iloc[:,2])\n",
    "    cross_table_f=pd.DataFrame(cross_table_array,index=v2_name,columns=v1_name)\n",
    "    \n",
    "    total_r=[]\n",
    "    total_c=[]\n",
    "    for i in range(cross_table_f.shape[0]):\n",
    "        total_r.append(sum(cross_table_f.loc[v2_name[i]]))\n",
    "    for j in range(cross_table_f.shape[1]):\n",
    "        total_c.append(sum(cross_table_f[v1_name[j]]))\n",
    "        \n",
    "    total=sum(total_r)\n",
    "    total_r=pd.DataFrame(total_r)\n",
    "    total_c=pd.DataFrame(total_c)\n",
    "    return cross_table_f"
   ]
  },
  {
   "cell_type": "code",
   "execution_count": 194,
   "metadata": {},
   "outputs": [
    {
     "data": {
      "text/html": [
       "<div>\n",
       "<style scoped>\n",
       "    .dataframe tbody tr th:only-of-type {\n",
       "        vertical-align: middle;\n",
       "    }\n",
       "\n",
       "    .dataframe tbody tr th {\n",
       "        vertical-align: top;\n",
       "    }\n",
       "\n",
       "    .dataframe thead th {\n",
       "        text-align: right;\n",
       "    }\n",
       "</style>\n",
       "<table border=\"1\" class=\"dataframe\">\n",
       "  <thead>\n",
       "    <tr style=\"text-align: right;\">\n",
       "      <th></th>\n",
       "      <th>1</th>\n",
       "      <th>2</th>\n",
       "      <th>3</th>\n",
       "      <th>4</th>\n",
       "      <th>5</th>\n",
       "      <th>6</th>\n",
       "      <th>7</th>\n",
       "      <th>8</th>\n",
       "      <th>9</th>\n",
       "      <th>10</th>\n",
       "      <th>11</th>\n",
       "    </tr>\n",
       "  </thead>\n",
       "  <tbody>\n",
       "    <tr>\n",
       "      <th>1</th>\n",
       "      <td>658</td>\n",
       "      <td>374</td>\n",
       "      <td>528</td>\n",
       "      <td>332</td>\n",
       "      <td>50</td>\n",
       "      <td>104</td>\n",
       "      <td>143</td>\n",
       "      <td>363</td>\n",
       "      <td>90</td>\n",
       "      <td>626</td>\n",
       "      <td>52</td>\n",
       "    </tr>\n",
       "    <tr>\n",
       "      <th>2</th>\n",
       "      <td>665</td>\n",
       "      <td>406</td>\n",
       "      <td>522</td>\n",
       "      <td>323</td>\n",
       "      <td>36</td>\n",
       "      <td>86</td>\n",
       "      <td>165</td>\n",
       "      <td>387</td>\n",
       "      <td>110</td>\n",
       "      <td>637</td>\n",
       "      <td>46</td>\n",
       "    </tr>\n",
       "    <tr>\n",
       "      <th>3</th>\n",
       "      <td>139</td>\n",
       "      <td>108</td>\n",
       "      <td>119</td>\n",
       "      <td>76</td>\n",
       "      <td>9</td>\n",
       "      <td>24</td>\n",
       "      <td>46</td>\n",
       "      <td>93</td>\n",
       "      <td>26</td>\n",
       "      <td>147</td>\n",
       "      <td>19</td>\n",
       "    </tr>\n",
       "    <tr>\n",
       "      <th>4</th>\n",
       "      <td>26</td>\n",
       "      <td>19</td>\n",
       "      <td>26</td>\n",
       "      <td>13</td>\n",
       "      <td>8</td>\n",
       "      <td>10</td>\n",
       "      <td>5</td>\n",
       "      <td>20</td>\n",
       "      <td>16</td>\n",
       "      <td>27</td>\n",
       "      <td>10</td>\n",
       "    </tr>\n",
       "    <tr>\n",
       "      <th>5</th>\n",
       "      <td>13</td>\n",
       "      <td>10</td>\n",
       "      <td>14</td>\n",
       "      <td>11</td>\n",
       "      <td>9</td>\n",
       "      <td>9</td>\n",
       "      <td>8</td>\n",
       "      <td>12</td>\n",
       "      <td>13</td>\n",
       "      <td>15</td>\n",
       "      <td>12</td>\n",
       "    </tr>\n",
       "    <tr>\n",
       "      <th>6</th>\n",
       "      <td>13</td>\n",
       "      <td>14</td>\n",
       "      <td>11</td>\n",
       "      <td>6</td>\n",
       "      <td>11</td>\n",
       "      <td>15</td>\n",
       "      <td>7</td>\n",
       "      <td>11</td>\n",
       "      <td>6</td>\n",
       "      <td>18</td>\n",
       "      <td>7</td>\n",
       "    </tr>\n",
       "  </tbody>\n",
       "</table>\n",
       "</div>"
      ],
      "text/plain": [
       "    1    2    3    4   5    6    7    8    9    10  11\n",
       "1  658  374  528  332  50  104  143  363   90  626  52\n",
       "2  665  406  522  323  36   86  165  387  110  637  46\n",
       "3  139  108  119   76   9   24   46   93   26  147  19\n",
       "4   26   19   26   13   8   10    5   20   16   27  10\n",
       "5   13   10   14   11   9    9    8   12   13   15  12\n",
       "6   13   14   11    6  11   15    7   11    6   18   7"
      ]
     },
     "execution_count": 194,
     "metadata": {},
     "output_type": "execute_result"
    }
   ],
   "source": [
    "cp=transform_crosstbale(cp)\n",
    "cp"
   ]
  },
  {
   "cell_type": "markdown",
   "metadata": {},
   "source": [
    "# 第十三章 聚类"
   ]
  },
  {
   "cell_type": "markdown",
   "metadata": {},
   "source": [
    "## 13.1 聚类的基本原理"
   ]
  },
  {
   "cell_type": "code",
   "execution_count": 195,
   "metadata": {},
   "outputs": [],
   "source": [
    "import scipy.cluster.hierarchy as hc"
   ]
  },
  {
   "cell_type": "code",
   "execution_count": 196,
   "metadata": {},
   "outputs": [
    {
     "data": {
      "text/plain": [
       "array([[ 2.        ,  3.        ,  0.70710678,  2.        ],\n",
       "       [ 0.        ,  9.        ,  0.8660254 ,  2.        ],\n",
       "       [ 6.        ,  7.        ,  1.        ,  2.        ],\n",
       "       [ 8.        , 11.        ,  1.        ,  2.        ],\n",
       "       [ 5.        , 16.        ,  1.32287566,  3.        ],\n",
       "       [14.        , 15.        ,  1.43328552,  4.        ],\n",
       "       [10.        , 17.        ,  1.55409255,  4.        ],\n",
       "       [12.        , 18.        ,  1.64860349,  5.        ],\n",
       "       [ 4.        , 19.        ,  2.28324551,  5.        ],\n",
       "       [13.        , 20.        ,  2.48994247,  7.        ],\n",
       "       [ 1.        , 22.        ,  2.81192434,  8.        ],\n",
       "       [21.        , 23.        ,  3.34347471, 13.        ]])"
      ]
     },
     "execution_count": 196,
     "metadata": {},
     "output_type": "execute_result"
    }
   ],
   "source": [
    "path=\"D:/data/Python_data/ch13/mouse_cluster.csv\"\n",
    "mc=pd.read_csv(path)\n",
    "mc.head()\n",
    "z=hc.linkage(mc.ix[:,1:],method='average')\n",
    "z"
   ]
  },
  {
   "cell_type": "code",
   "execution_count": 197,
   "metadata": {},
   "outputs": [
    {
     "data": {
      "image/png": "[encoded data removed]",
      "text/plain": [
       "<matplotlib.figure.Figure at 0x11426c88>"
      ]
     },
     "metadata": {},
     "output_type": "display_data"
    }
   ],
   "source": [
    "dd=hc.dendrogram(z,orientation='right',labels=list(mc.ix[:,0]))\n",
    "#orientation 可以选top bottom left right分别表示对应方向的谱系图"
   ]
  },
  {
   "cell_type": "code",
   "execution_count": 198,
   "metadata": {},
   "outputs": [
    {
     "data": {
      "text/plain": [
       "array([2, 3, 2, 2, 1, 1, 2, 2, 1, 2, 1, 1, 2])"
      ]
     },
     "execution_count": 198,
     "metadata": {},
     "output_type": "execute_result"
    }
   ],
   "source": [
    "hc.fcluster(z,2.6,criterion='distance')"
   ]
  },
  {
   "cell_type": "code",
   "execution_count": 199,
   "metadata": {},
   "outputs": [
    {
     "data": {
      "text/plain": [
       "array([2, 3, 2, 2, 1, 1, 2, 2, 1, 2, 1, 1, 2])"
      ]
     },
     "execution_count": 199,
     "metadata": {},
     "output_type": "execute_result"
    }
   ],
   "source": [
    "hc.fclusterdata(mc.ix[:,1:],2.6,criterion='distance',metric='euclidean',method='average')\n",
    "#scipy层次聚类要求指定一个并类的终止条件，即并类阈值t，表示两个距离最近的类间距的最小距离"
   ]
  },
  {
   "cell_type": "code",
   "execution_count": 200,
   "metadata": {},
   "outputs": [
    {
     "data": {
      "text/plain": [
       "array([0, 2, 0, 0, 1, 1, 0, 0, 1, 0, 1, 1, 0], dtype=int64)"
      ]
     },
     "execution_count": 200,
     "metadata": {},
     "output_type": "execute_result"
    }
   ],
   "source": [
    "from sklearn.cluster import AgglomerativeClustering as AC\n",
    "cm=AC(n_clusters=3,linkage='average',affinity='euclidean')\n",
    "cl=cm.fit(mc.ix[:,1:])\n",
    "cl.labels_"
   ]
  },
  {
   "cell_type": "code",
   "execution_count": 201,
   "metadata": {},
   "outputs": [
    {
     "data": {
      "image/png": "[encoded data removed]",
      "text/plain": [
       "<matplotlib.figure.Figure at 0x116244a8>"
      ]
     },
     "metadata": {},
     "output_type": "display_data"
    }
   ],
   "source": [
    "dd_ward=hc.dendrogram((hc.linkage(mc.ix[:,1:],method='ward')),orientation='right',labels=list(mc.ix[:,0]))"
   ]
  },
  {
   "cell_type": "code",
   "execution_count": 202,
   "metadata": {},
   "outputs": [
    {
     "data": {
      "text/plain": [
       "(array([[ 7.2  , 15.6  ,  6.3  ,  7.5  ,  7.3  ],\n",
       "        [ 7.5  , 17.125,  7.625,  7.75 ,  7.75 ],\n",
       "        [ 8.25 , 18.375,  8.125,  7.625,  9.125]]),\n",
       " array([1, 2, 2, 2, 0, 0, 1, 2, 0, 1, 0, 0, 1]))"
      ]
     },
     "execution_count": 202,
     "metadata": {},
     "output_type": "execute_result"
    }
   ],
   "source": [
    "from scipy.cluster.vq import kmeans2\n",
    "kmeans2(mc.ix[:,1:],3)  #k=3类"
   ]
  },
  {
   "cell_type": "code",
   "execution_count": 203,
   "metadata": {},
   "outputs": [
    {
     "data": {
      "text/plain": [
       "(array([[14.74663471, 13.59604435,  9.32232235, 16.44384383, 10.83166654],\n",
       "        [12.78041675, 13.0993852 ,  8.40836918, 15.58739363,  9.21641802],\n",
       "        [12.1343737 , 11.62182421,  6.90948598, 15.41610359,  8.3232806 ]]),\n",
       " 1.2971252532629467)"
      ]
     },
     "execution_count": 203,
     "metadata": {},
     "output_type": "execute_result"
    }
   ],
   "source": [
    "from scipy.cluster.vq import kmeans,whiten\n",
    "kmeans(whiten(mc.ix[:,1:]),3)"
   ]
  },
  {
   "cell_type": "code",
   "execution_count": 204,
   "metadata": {},
   "outputs": [
    {
     "data": {
      "text/plain": [
       "array([2, 0, 0, 0, 1, 1, 2, 2, 1, 2, 1, 1, 2])"
      ]
     },
     "execution_count": 204,
     "metadata": {},
     "output_type": "execute_result"
    }
   ],
   "source": [
    "from sklearn.cluster import KMeans\n",
    "mc_km=KMeans(n_clusters=3).fit(mc.ix[:,1:])\n",
    "mc_km.labels_"
   ]
  },
  {
   "cell_type": "code",
   "execution_count": 205,
   "metadata": {},
   "outputs": [
    {
     "data": {
      "text/html": [
       "<div>\n",
       "<style scoped>\n",
       "    .dataframe tbody tr th:only-of-type {\n",
       "        vertical-align: middle;\n",
       "    }\n",
       "\n",
       "    .dataframe tbody tr th {\n",
       "        vertical-align: top;\n",
       "    }\n",
       "\n",
       "    .dataframe thead th {\n",
       "        text-align: right;\n",
       "    }\n",
       "</style>\n",
       "<table border=\"1\" class=\"dataframe\">\n",
       "  <thead>\n",
       "    <tr style=\"text-align: right;\">\n",
       "      <th></th>\n",
       "      <th>0</th>\n",
       "      <th>1</th>\n",
       "      <th>2</th>\n",
       "      <th>3</th>\n",
       "      <th>4</th>\n",
       "      <th>5</th>\n",
       "      <th>6</th>\n",
       "      <th>7</th>\n",
       "      <th>8</th>\n",
       "      <th>9</th>\n",
       "      <th>10</th>\n",
       "      <th>11</th>\n",
       "      <th>12</th>\n",
       "    </tr>\n",
       "  </thead>\n",
       "  <tbody>\n",
       "    <tr>\n",
       "      <th>brand</th>\n",
       "      <td>Brand1</td>\n",
       "      <td>Brand2</td>\n",
       "      <td>Brand3</td>\n",
       "      <td>Brand4</td>\n",
       "      <td>Brand5</td>\n",
       "      <td>Brand6</td>\n",
       "      <td>Brand7</td>\n",
       "      <td>Brand8</td>\n",
       "      <td>Brand9</td>\n",
       "      <td>Brand10</td>\n",
       "      <td>Brand11</td>\n",
       "      <td>Brand12</td>\n",
       "      <td>Brand13</td>\n",
       "    </tr>\n",
       "    <tr>\n",
       "      <th>cluster</th>\n",
       "      <td>2</td>\n",
       "      <td>0</td>\n",
       "      <td>0</td>\n",
       "      <td>0</td>\n",
       "      <td>1</td>\n",
       "      <td>1</td>\n",
       "      <td>2</td>\n",
       "      <td>2</td>\n",
       "      <td>1</td>\n",
       "      <td>2</td>\n",
       "      <td>1</td>\n",
       "      <td>1</td>\n",
       "      <td>2</td>\n",
       "    </tr>\n",
       "  </tbody>\n",
       "</table>\n",
       "</div>"
      ],
      "text/plain": [
       "             0       1       2       3       4       5       6       7   \\\n",
       "brand    Brand1  Brand2  Brand3  Brand4  Brand5  Brand6  Brand7  Brand8   \n",
       "cluster       2       0       0       0       1       1       2       2   \n",
       "\n",
       "             8        9        10       11       12  \n",
       "brand    Brand9  Brand10  Brand11  Brand12  Brand13  \n",
       "cluster       1        2        1        1        2  "
      ]
     },
     "execution_count": 205,
     "metadata": {},
     "output_type": "execute_result"
    }
   ],
   "source": [
    "cluster_by_Kmeans=pd.concat([mc['brand'],pd.DataFrame(mc_km.labels_,columns=['cluster'])],axis=1)\n",
    "cluster_by_Kmeans.T"
   ]
  },
  {
   "cell_type": "code",
   "execution_count": 206,
   "metadata": {},
   "outputs": [
    {
     "data": {
      "text/plain": [
       "array([2, 0, 0, 0, 1, 1, 2, 2, 1, 2, 1, 1, 2])"
      ]
     },
     "execution_count": 206,
     "metadata": {},
     "output_type": "execute_result"
    }
   ],
   "source": [
    "mc_km.labels_"
   ]
  },
  {
   "cell_type": "code",
   "execution_count": 207,
   "metadata": {},
   "outputs": [
    {
     "data": {
      "text/html": [
       "<div>\n",
       "<style scoped>\n",
       "    .dataframe tbody tr th:only-of-type {\n",
       "        vertical-align: middle;\n",
       "    }\n",
       "\n",
       "    .dataframe tbody tr th {\n",
       "        vertical-align: top;\n",
       "    }\n",
       "\n",
       "    .dataframe thead th {\n",
       "        text-align: right;\n",
       "    }\n",
       "</style>\n",
       "<table border=\"1\" class=\"dataframe\">\n",
       "  <thead>\n",
       "    <tr style=\"text-align: right;\">\n",
       "      <th></th>\n",
       "      <th>0</th>\n",
       "      <th>1</th>\n",
       "      <th>2</th>\n",
       "      <th>3</th>\n",
       "      <th>4</th>\n",
       "      <th>5</th>\n",
       "      <th>6</th>\n",
       "      <th>7</th>\n",
       "      <th>8</th>\n",
       "      <th>9</th>\n",
       "      <th>10</th>\n",
       "      <th>11</th>\n",
       "      <th>12</th>\n",
       "    </tr>\n",
       "  </thead>\n",
       "  <tbody>\n",
       "    <tr>\n",
       "      <th>brand</th>\n",
       "      <td>Brand1</td>\n",
       "      <td>Brand2</td>\n",
       "      <td>Brand3</td>\n",
       "      <td>Brand4</td>\n",
       "      <td>Brand5</td>\n",
       "      <td>Brand6</td>\n",
       "      <td>Brand7</td>\n",
       "      <td>Brand8</td>\n",
       "      <td>Brand9</td>\n",
       "      <td>Brand10</td>\n",
       "      <td>Brand11</td>\n",
       "      <td>Brand12</td>\n",
       "      <td>Brand13</td>\n",
       "    </tr>\n",
       "    <tr>\n",
       "      <th>cluster</th>\n",
       "      <td>0</td>\n",
       "      <td>1</td>\n",
       "      <td>0</td>\n",
       "      <td>0</td>\n",
       "      <td>2</td>\n",
       "      <td>3</td>\n",
       "      <td>0</td>\n",
       "      <td>0</td>\n",
       "      <td>3</td>\n",
       "      <td>0</td>\n",
       "      <td>3</td>\n",
       "      <td>3</td>\n",
       "      <td>0</td>\n",
       "    </tr>\n",
       "  </tbody>\n",
       "</table>\n",
       "</div>"
      ],
      "text/plain": [
       "             0       1       2       3       4       5       6       7   \\\n",
       "brand    Brand1  Brand2  Brand3  Brand4  Brand5  Brand6  Brand7  Brand8   \n",
       "cluster       0       1       0       0       2       3       0       0   \n",
       "\n",
       "             8        9        10       11       12  \n",
       "brand    Brand9  Brand10  Brand11  Brand12  Brand13  \n",
       "cluster       3        0        3        3        0  "
      ]
     },
     "execution_count": 207,
     "metadata": {},
     "output_type": "execute_result"
    }
   ],
   "source": [
    "from sklearn.cluster import DBSCAN\n",
    "mc_DB=DBSCAN(eps=1.5,min_samples=1).fit(mc.ix[:,1:])\n",
    "cluster_by_DBSCAN=pd.concat([mc['brand'],pd.DataFrame(mc_DB.labels_,columns=['cluster'])],axis=1)\n",
    "cluster_by_DBSCAN.T"
   ]
  },
  {
   "cell_type": "markdown",
   "metadata": {},
   "source": [
    "# 第十四章 判别和分类"
   ]
  },
  {
   "cell_type": "markdown",
   "metadata": {},
   "source": [
    "## 14.2常用判别方法和分类算法"
   ]
  },
  {
   "cell_type": "code",
   "execution_count": 208,
   "metadata": {},
   "outputs": [
    {
     "data": {
      "text/html": [
       "<div>\n",
       "<style scoped>\n",
       "    .dataframe tbody tr th:only-of-type {\n",
       "        vertical-align: middle;\n",
       "    }\n",
       "\n",
       "    .dataframe tbody tr th {\n",
       "        vertical-align: top;\n",
       "    }\n",
       "\n",
       "    .dataframe thead th {\n",
       "        text-align: right;\n",
       "    }\n",
       "</style>\n",
       "<table border=\"1\" class=\"dataframe\">\n",
       "  <thead>\n",
       "    <tr style=\"text-align: right;\">\n",
       "      <th></th>\n",
       "      <th>Brand</th>\n",
       "      <th>Touch</th>\n",
       "      <th>Chips</th>\n",
       "      <th>Driver</th>\n",
       "      <th>Compatibility</th>\n",
       "      <th>Game</th>\n",
       "      <th>Type</th>\n",
       "    </tr>\n",
       "  </thead>\n",
       "  <tbody>\n",
       "    <tr>\n",
       "      <th>0</th>\n",
       "      <td>Brand1</td>\n",
       "      <td>7.5</td>\n",
       "      <td>17.5</td>\n",
       "      <td>7.0</td>\n",
       "      <td>8.0</td>\n",
       "      <td>8.0</td>\n",
       "      <td>A</td>\n",
       "    </tr>\n",
       "    <tr>\n",
       "      <th>1</th>\n",
       "      <td>Brand2</td>\n",
       "      <td>7.5</td>\n",
       "      <td>19.5</td>\n",
       "      <td>7.0</td>\n",
       "      <td>7.0</td>\n",
       "      <td>9.0</td>\n",
       "      <td>B</td>\n",
       "    </tr>\n",
       "    <tr>\n",
       "      <th>2</th>\n",
       "      <td>Brand3</td>\n",
       "      <td>8.5</td>\n",
       "      <td>18.0</td>\n",
       "      <td>8.5</td>\n",
       "      <td>8.0</td>\n",
       "      <td>9.5</td>\n",
       "      <td>B</td>\n",
       "    </tr>\n",
       "    <tr>\n",
       "      <th>3</th>\n",
       "      <td>Brand4</td>\n",
       "      <td>9.0</td>\n",
       "      <td>18.5</td>\n",
       "      <td>8.5</td>\n",
       "      <td>8.0</td>\n",
       "      <td>9.5</td>\n",
       "      <td>B</td>\n",
       "    </tr>\n",
       "    <tr>\n",
       "      <th>4</th>\n",
       "      <td>Brand5</td>\n",
       "      <td>7.0</td>\n",
       "      <td>14.0</td>\n",
       "      <td>6.5</td>\n",
       "      <td>7.0</td>\n",
       "      <td>7.5</td>\n",
       "      <td>C</td>\n",
       "    </tr>\n",
       "    <tr>\n",
       "      <th>5</th>\n",
       "      <td>Brand6</td>\n",
       "      <td>7.0</td>\n",
       "      <td>16.0</td>\n",
       "      <td>6.5</td>\n",
       "      <td>7.5</td>\n",
       "      <td>8.0</td>\n",
       "      <td>C</td>\n",
       "    </tr>\n",
       "    <tr>\n",
       "      <th>6</th>\n",
       "      <td>Brand7</td>\n",
       "      <td>7.5</td>\n",
       "      <td>17.0</td>\n",
       "      <td>8.0</td>\n",
       "      <td>7.5</td>\n",
       "      <td>8.0</td>\n",
       "      <td>A</td>\n",
       "    </tr>\n",
       "    <tr>\n",
       "      <th>7</th>\n",
       "      <td>Brand8</td>\n",
       "      <td>8.0</td>\n",
       "      <td>17.5</td>\n",
       "      <td>8.5</td>\n",
       "      <td>7.5</td>\n",
       "      <td>8.5</td>\n",
       "      <td>A</td>\n",
       "    </tr>\n",
       "    <tr>\n",
       "      <th>8</th>\n",
       "      <td>Brand9</td>\n",
       "      <td>7.0</td>\n",
       "      <td>16.5</td>\n",
       "      <td>6.0</td>\n",
       "      <td>8.0</td>\n",
       "      <td>7.0</td>\n",
       "      <td>C</td>\n",
       "    </tr>\n",
       "    <tr>\n",
       "      <th>9</th>\n",
       "      <td>Brand10</td>\n",
       "      <td>7.5</td>\n",
       "      <td>17.0</td>\n",
       "      <td>7.5</td>\n",
       "      <td>8.5</td>\n",
       "      <td>8.0</td>\n",
       "      <td>A</td>\n",
       "    </tr>\n",
       "    <tr>\n",
       "      <th>10</th>\n",
       "      <td>Brand11</td>\n",
       "      <td>8.0</td>\n",
       "      <td>16.0</td>\n",
       "      <td>6.5</td>\n",
       "      <td>7.0</td>\n",
       "      <td>7.0</td>\n",
       "      <td>C</td>\n",
       "    </tr>\n",
       "    <tr>\n",
       "      <th>11</th>\n",
       "      <td>Brand12</td>\n",
       "      <td>7.0</td>\n",
       "      <td>15.5</td>\n",
       "      <td>6.0</td>\n",
       "      <td>8.0</td>\n",
       "      <td>7.0</td>\n",
       "      <td>C</td>\n",
       "    </tr>\n",
       "    <tr>\n",
       "      <th>12</th>\n",
       "      <td>Brand13</td>\n",
       "      <td>7.5</td>\n",
       "      <td>17.0</td>\n",
       "      <td>8.0</td>\n",
       "      <td>7.0</td>\n",
       "      <td>7.0</td>\n",
       "      <td>A</td>\n",
       "    </tr>\n",
       "    <tr>\n",
       "      <th>13</th>\n",
       "      <td>Brand14</td>\n",
       "      <td>7.0</td>\n",
       "      <td>16.5</td>\n",
       "      <td>6.0</td>\n",
       "      <td>7.5</td>\n",
       "      <td>7.0</td>\n",
       "      <td>NaN</td>\n",
       "    </tr>\n",
       "    <tr>\n",
       "      <th>14</th>\n",
       "      <td>Brand15</td>\n",
       "      <td>7.5</td>\n",
       "      <td>18.0</td>\n",
       "      <td>7.5</td>\n",
       "      <td>7.5</td>\n",
       "      <td>8.5</td>\n",
       "      <td>NaN</td>\n",
       "    </tr>\n",
       "  </tbody>\n",
       "</table>\n",
       "</div>"
      ],
      "text/plain": [
       "      Brand  Touch  Chips  Driver  Compatibility  Game Type\n",
       "0    Brand1    7.5   17.5     7.0            8.0   8.0    A\n",
       "1    Brand2    7.5   19.5     7.0            7.0   9.0    B\n",
       "2    Brand3    8.5   18.0     8.5            8.0   9.5    B\n",
       "3    Brand4    9.0   18.5     8.5            8.0   9.5    B\n",
       "4    Brand5    7.0   14.0     6.5            7.0   7.5    C\n",
       "5    Brand6    7.0   16.0     6.5            7.5   8.0    C\n",
       "6    Brand7    7.5   17.0     8.0            7.5   8.0    A\n",
       "7    Brand8    8.0   17.5     8.5            7.5   8.5    A\n",
       "8    Brand9    7.0   16.5     6.0            8.0   7.0    C\n",
       "9   Brand10    7.5   17.0     7.5            8.5   8.0    A\n",
       "10  Brand11    8.0   16.0     6.5            7.0   7.0    C\n",
       "11  Brand12    7.0   15.5     6.0            8.0   7.0    C\n",
       "12  Brand13    7.5   17.0     8.0            7.0   7.0    A\n",
       "13  Brand14    7.0   16.5     6.0            7.5   7.0  NaN\n",
       "14  Brand15    7.5   18.0     7.5            7.5   8.5  NaN"
      ]
     },
     "execution_count": 208,
     "metadata": {},
     "output_type": "execute_result"
    }
   ],
   "source": [
    "path=\"D:/data/Python_data/ch14/mouse_discrim.csv\"\n",
    "mouse_d=pd.read_csv(path)\n",
    "mouse_d"
   ]
  },
  {
   "cell_type": "code",
   "execution_count": 209,
   "metadata": {},
   "outputs": [],
   "source": [
    "def getminindex(lis):\n",
    "    lis_copy=lis[:]\n",
    "    lis_copy.sort()\n",
    "    minvalue=lis_copy[0]\n",
    "    minindex=lis.index(minvalue)\n",
    "    return minindex"
   ]
  },
  {
   "cell_type": "code",
   "execution_count": 210,
   "metadata": {},
   "outputs": [],
   "source": [
    "from sklearn.preprocessing import scale\n",
    "from scipy.spatial.distance import mahalanobis\n",
    "\n",
    "def mahalanobis_discrim(x_test,x_train,train_label):\n",
    "    final_result=[]\n",
    "    colname=x_train.columns\n",
    "    test_n=x_test.shape[0]\n",
    "    train_n=x_train.shape[0]\n",
    "    m=x_train.shape[1]\n",
    "    n=test_n+train_n\n",
    "    data_x=x_train.append(x_test)\n",
    "    data_x_scale=scale(data_x)\n",
    "    x_train_scale=pd.DataFrame(data_x_scale[:train_n])\n",
    "    x_test_scale=pd.DataFrame(data_x_scale[train_n:])\n",
    "    data_train=x_train_scale.join(train_label)\n",
    "    label_name=data_train.columns[-1]\n",
    "    miu=data_train.groupby(label_name).mean()\n",
    "    miu=np.array(miu)\n",
    "    print \"类中心\"\n",
    "    print pd.DataFrame(miu)\n",
    "    print\n",
    "    label=train_label.drop_duplicates()\n",
    "    label=label.iloc[:,0]\n",
    "    label=list(label)\n",
    "    label_len=len(label)\n",
    "    x_test_array=np.array(x_test_scale)\n",
    "    x_train_array=np.array(x_train_scale)\n",
    "    data_x_scale_array=np.array(data_x_scale)\n",
    "    cov=np.cov(data_x_scale_array.T)\n",
    "    for i in range(n):\n",
    "        dist=[]\n",
    "        for j in range(label_len):\n",
    "            d=float(mahalanobis(data_x_scale[i],miu[j],np.mat(cov).I))\n",
    "            dist.append(d)\n",
    "        min_dist_index=getminindex(dist)\n",
    "        result=label[min_dist_index]\n",
    "        final_result.append(result)\n",
    "    print \"分类结果\"\n",
    "    return final_result"
   ]
  },
  {
   "cell_type": "code",
   "execution_count": 211,
   "metadata": {},
   "outputs": [],
   "source": [
    "X_train=mouse_d.iloc[0:13,1:6]\n",
    "X_test=mouse_d.iloc[13:15,1:6]\n",
    "Y_train=mouse_d.iloc[0:13,1:6]"
   ]
  },
  {
   "cell_type": "code",
   "execution_count": 212,
   "metadata": {},
   "outputs": [],
   "source": [
    "Y_test=mouse_d.iloc[13:15,6:7]\n",
    "X=mouse_d.iloc[0:15,1:6]"
   ]
  },
  {
   "cell_type": "markdown",
   "metadata": {},
   "source": [
    "### 14.2.3 k-近邻"
   ]
  },
  {
   "cell_type": "code",
   "execution_count": 213,
   "metadata": {},
   "outputs": [
    {
     "data": {
      "text/html": [
       "<div>\n",
       "<style scoped>\n",
       "    .dataframe tbody tr th:only-of-type {\n",
       "        vertical-align: middle;\n",
       "    }\n",
       "\n",
       "    .dataframe tbody tr th {\n",
       "        vertical-align: top;\n",
       "    }\n",
       "\n",
       "    .dataframe thead th {\n",
       "        text-align: right;\n",
       "    }\n",
       "</style>\n",
       "<table border=\"1\" class=\"dataframe\">\n",
       "  <thead>\n",
       "    <tr style=\"text-align: right;\">\n",
       "      <th></th>\n",
       "      <th>Sepal.Length</th>\n",
       "      <th>Sepal.Width</th>\n",
       "      <th>Petal.Length</th>\n",
       "      <th>Petal.Width</th>\n",
       "      <th>Species</th>\n",
       "    </tr>\n",
       "  </thead>\n",
       "  <tbody>\n",
       "    <tr>\n",
       "      <th>1</th>\n",
       "      <td>4.9</td>\n",
       "      <td>3.0</td>\n",
       "      <td>1.4</td>\n",
       "      <td>0.2</td>\n",
       "      <td>setosa</td>\n",
       "    </tr>\n",
       "    <tr>\n",
       "      <th>51</th>\n",
       "      <td>6.4</td>\n",
       "      <td>3.2</td>\n",
       "      <td>4.5</td>\n",
       "      <td>1.5</td>\n",
       "      <td>versicolor</td>\n",
       "    </tr>\n",
       "    <tr>\n",
       "      <th>101</th>\n",
       "      <td>5.8</td>\n",
       "      <td>2.7</td>\n",
       "      <td>5.1</td>\n",
       "      <td>1.9</td>\n",
       "      <td>virginica</td>\n",
       "    </tr>\n",
       "  </tbody>\n",
       "</table>\n",
       "</div>"
      ],
      "text/plain": [
       "     Sepal.Length  Sepal.Width  Petal.Length  Petal.Width     Species\n",
       "1             4.9          3.0           1.4          0.2      setosa\n",
       "51            6.4          3.2           4.5          1.5  versicolor\n",
       "101           5.8          2.7           5.1          1.9   virginica"
      ]
     },
     "execution_count": 213,
     "metadata": {},
     "output_type": "execute_result"
    }
   ],
   "source": [
    "path=\"D:/data/Python_data/ch14/iris.csv\"\n",
    "iris=pd.read_csv(path)\n",
    "iris.ix[[1,51,101]]"
   ]
  },
  {
   "cell_type": "code",
   "execution_count": 214,
   "metadata": {},
   "outputs": [
    {
     "data": {
      "text/plain": [
       "KNeighborsClassifier(algorithm='kd_tree', leaf_size=30, metric='minkowski',\n",
       "           metric_params=None, n_jobs=1, n_neighbors=5, p=2,\n",
       "           weights='uniform')"
      ]
     },
     "execution_count": 214,
     "metadata": {},
     "output_type": "execute_result"
    }
   ],
   "source": [
    "from sklearn.neighbors import KNeighborsClassifier\n",
    "from sklearn.cross_validation import train_test_split,cross_val_score\n",
    "x=iris.iloc[:,0:4]\n",
    "y=iris.iloc[:,4]\n",
    "x_train,x_test,y_train,y_test=train_test_split(x,y,test_size=0.2)\n",
    "iris_knn=KNeighborsClassifier(algorithm='kd_tree')\n",
    "iris_knn.fit(x_train,y_train)"
   ]
  },
  {
   "cell_type": "code",
   "execution_count": 215,
   "metadata": {},
   "outputs": [
    {
     "data": {
      "text/html": [
       "<div>\n",
       "<style scoped>\n",
       "    .dataframe tbody tr th:only-of-type {\n",
       "        vertical-align: middle;\n",
       "    }\n",
       "\n",
       "    .dataframe tbody tr th {\n",
       "        vertical-align: top;\n",
       "    }\n",
       "\n",
       "    .dataframe thead th {\n",
       "        text-align: right;\n",
       "    }\n",
       "</style>\n",
       "<table border=\"1\" class=\"dataframe\">\n",
       "  <thead>\n",
       "    <tr style=\"text-align: right;\">\n",
       "      <th></th>\n",
       "      <th>真实类别</th>\n",
       "      <th>预测类别</th>\n",
       "    </tr>\n",
       "  </thead>\n",
       "  <tbody>\n",
       "    <tr>\n",
       "      <th>1</th>\n",
       "      <td>setosa</td>\n",
       "      <td>setosa</td>\n",
       "    </tr>\n",
       "    <tr>\n",
       "      <th>51</th>\n",
       "      <td>versicolor</td>\n",
       "      <td>versicolor</td>\n",
       "    </tr>\n",
       "    <tr>\n",
       "      <th>101</th>\n",
       "      <td>virginica</td>\n",
       "      <td>virginica</td>\n",
       "    </tr>\n",
       "  </tbody>\n",
       "</table>\n",
       "</div>"
      ],
      "text/plain": [
       "           鐪熷疄绫诲埆        棰勬祴绫诲埆\n",
       "1        setosa      setosa\n",
       "51   versicolor  versicolor\n",
       "101   virginica   virginica"
      ]
     },
     "execution_count": 215,
     "metadata": {},
     "output_type": "execute_result"
    }
   ],
   "source": [
    "answer=iris_knn.predict(x)\n",
    "answer_array=np.array([y,answer])\n",
    "answer_mat=np.matrix(answer_array).T\n",
    "result=pd.DataFrame(answer_mat)\n",
    "result.columns=[\"真实类别\",\"预测类别\"]\n",
    "result.ix[[1,51,101]]"
   ]
  },
  {
   "cell_type": "code",
   "execution_count": 216,
   "metadata": {},
   "outputs": [],
   "source": [
    "from sklearn.metrics import classification_report\n",
    "print \"KNN算法对测试集数据判别结果：\"\n",
    "print classification_report(y_test,iris_knn.predict(x_test))\n",
    "print 53*\"-\"\n",
    "print \"KNN算法对全部数据判别结果：\"\n",
    "print classification_report(y,iris_knn.predict(x))"
   ]
  },
  {
   "cell_type": "code",
   "execution_count": 217,
   "metadata": {},
   "outputs": [
    {
     "data": {
      "text/html": [
       "<div>\n",
       "<style scoped>\n",
       "    .dataframe tbody tr th:only-of-type {\n",
       "        vertical-align: middle;\n",
       "    }\n",
       "\n",
       "    .dataframe tbody tr th {\n",
       "        vertical-align: top;\n",
       "    }\n",
       "\n",
       "    .dataframe thead th {\n",
       "        text-align: right;\n",
       "    }\n",
       "</style>\n",
       "<table border=\"1\" class=\"dataframe\">\n",
       "  <thead>\n",
       "    <tr style=\"text-align: right;\">\n",
       "      <th></th>\n",
       "      <th>0</th>\n",
       "      <th>1</th>\n",
       "      <th>2</th>\n",
       "      <th>3</th>\n",
       "      <th>4</th>\n",
       "    </tr>\n",
       "  </thead>\n",
       "  <tbody>\n",
       "    <tr>\n",
       "      <th>5折交叉验证结果</th>\n",
       "      <td>0.966667</td>\n",
       "      <td>1.0</td>\n",
       "      <td>0.933333</td>\n",
       "      <td>0.966667</td>\n",
       "      <td>1.0</td>\n",
       "    </tr>\n",
       "  </tbody>\n",
       "</table>\n",
       "</div>"
      ],
      "text/plain": [
       "                 0    1         2         3    4\n",
       "5鎶樹氦鍙夐獙璇佺粨鏋� 0.966667  1.0  0.933333  0.966667  1.0"
      ]
     },
     "execution_count": 217,
     "metadata": {},
     "output_type": "execute_result"
    }
   ],
   "source": [
    "scores=cross_val_score(iris_knn,x,y,cv=5)\n",
    "cross=pd.DataFrame(scores)\n",
    "cross.columns=['5折交叉验证结果']\n",
    "cross.T"
   ]
  },
  {
   "cell_type": "markdown",
   "metadata": {},
   "source": [
    "### 14.2.4 决策树"
   ]
  },
  {
   "cell_type": "code",
   "execution_count": 218,
   "metadata": {},
   "outputs": [
    {
     "data": {
      "text/html": [
       "<div>\n",
       "<style scoped>\n",
       "    .dataframe tbody tr th:only-of-type {\n",
       "        vertical-align: middle;\n",
       "    }\n",
       "\n",
       "    .dataframe tbody tr th {\n",
       "        vertical-align: top;\n",
       "    }\n",
       "\n",
       "    .dataframe thead th {\n",
       "        text-align: right;\n",
       "    }\n",
       "</style>\n",
       "<table border=\"1\" class=\"dataframe\">\n",
       "  <thead>\n",
       "    <tr style=\"text-align: right;\">\n",
       "      <th></th>\n",
       "      <th>真实类别</th>\n",
       "      <th>预测类别</th>\n",
       "    </tr>\n",
       "  </thead>\n",
       "  <tbody>\n",
       "    <tr>\n",
       "      <th>1</th>\n",
       "      <td>setosa</td>\n",
       "      <td>setosa</td>\n",
       "    </tr>\n",
       "    <tr>\n",
       "      <th>5</th>\n",
       "      <td>setosa</td>\n",
       "      <td>setosa</td>\n",
       "    </tr>\n",
       "    <tr>\n",
       "      <th>101</th>\n",
       "      <td>virginica</td>\n",
       "      <td>virginica</td>\n",
       "    </tr>\n",
       "  </tbody>\n",
       "</table>\n",
       "</div>"
      ],
      "text/plain": [
       "          鐪熷疄绫诲埆       棰勬祴绫诲埆\n",
       "1       setosa     setosa\n",
       "5       setosa     setosa\n",
       "101  virginica  virginica"
      ]
     },
     "execution_count": 218,
     "metadata": {},
     "output_type": "execute_result"
    }
   ],
   "source": [
    "from sklearn.tree import DecisionTreeClassifier\n",
    "\n",
    "iris_tree=DecisionTreeClassifier(criterion='entropy')\n",
    "iris_tree.fit(x_train,y_train)\n",
    "answer=iris_tree.predict(x)\n",
    "amswer_array=np.array([y,answer])\n",
    "answer_mat=np.matrix(answer_array).T\n",
    "result=pd.DataFrame(answer_mat)\n",
    "result.columns=[\"真实类别\",\"预测类别\"]\n",
    "result.ix[[1,5,101]]"
   ]
  },
  {
   "cell_type": "markdown",
   "metadata": {},
   "source": [
    "### 14.2.5 随机森林"
   ]
  },
  {
   "cell_type": "code",
   "execution_count": 219,
   "metadata": {},
   "outputs": [
    {
     "data": {
      "text/html": [
       "<div>\n",
       "<style scoped>\n",
       "    .dataframe tbody tr th:only-of-type {\n",
       "        vertical-align: middle;\n",
       "    }\n",
       "\n",
       "    .dataframe tbody tr th {\n",
       "        vertical-align: top;\n",
       "    }\n",
       "\n",
       "    .dataframe thead th {\n",
       "        text-align: right;\n",
       "    }\n",
       "</style>\n",
       "<table border=\"1\" class=\"dataframe\">\n",
       "  <thead>\n",
       "    <tr style=\"text-align: right;\">\n",
       "      <th></th>\n",
       "      <th>真实类别</th>\n",
       "      <th>预测类别</th>\n",
       "    </tr>\n",
       "  </thead>\n",
       "  <tbody>\n",
       "    <tr>\n",
       "      <th>1</th>\n",
       "      <td>setosa</td>\n",
       "      <td>setosa</td>\n",
       "    </tr>\n",
       "    <tr>\n",
       "      <th>51</th>\n",
       "      <td>versicolor</td>\n",
       "      <td>versicolor</td>\n",
       "    </tr>\n",
       "    <tr>\n",
       "      <th>101</th>\n",
       "      <td>virginica</td>\n",
       "      <td>virginica</td>\n",
       "    </tr>\n",
       "  </tbody>\n",
       "</table>\n",
       "</div>"
      ],
      "text/plain": [
       "           鐪熷疄绫诲埆        棰勬祴绫诲埆\n",
       "1        setosa      setosa\n",
       "51   versicolor  versicolor\n",
       "101   virginica   virginica"
      ]
     },
     "execution_count": 219,
     "metadata": {},
     "output_type": "execute_result"
    }
   ],
   "source": [
    "from sklearn.ensemble import RandomForestClassifier\n",
    "iris_rf=RandomForestClassifier(n_estimators=100)\n",
    "iris_rf.fit(x_train,y_train)\n",
    "answer=iris_rf.predict(x)\n",
    "answer_array=np.array([y,answer])\n",
    "answer_mat=np.matrix(answer_array).T\n",
    "result=pd.DataFrame(answer_mat)\n",
    "result.columns=[\"真实类别\",\"预测类别\"]\n",
    "result.ix[[1,51,101]]"
   ]
  },
  {
   "cell_type": "code",
   "execution_count": 220,
   "metadata": {},
   "outputs": [],
   "source": [
    "print \"随机森林对测试集数据判别结果：\"\n",
    "print classification_report(y_test,iris_rf.predict(x_test))\n",
    "print 53*\"-\"\n",
    "print \"随机森林对全部数据判别结果\"\n",
    "print classification_report(y,iris_rf.predict(x))"
   ]
  },
  {
   "cell_type": "code",
   "execution_count": 221,
   "metadata": {},
   "outputs": [
    {
     "data": {
      "text/html": [
       "<div>\n",
       "<style scoped>\n",
       "    .dataframe tbody tr th:only-of-type {\n",
       "        vertical-align: middle;\n",
       "    }\n",
       "\n",
       "    .dataframe tbody tr th {\n",
       "        vertical-align: top;\n",
       "    }\n",
       "\n",
       "    .dataframe thead th {\n",
       "        text-align: right;\n",
       "    }\n",
       "</style>\n",
       "<table border=\"1\" class=\"dataframe\">\n",
       "  <thead>\n",
       "    <tr style=\"text-align: right;\">\n",
       "      <th></th>\n",
       "      <th>0</th>\n",
       "      <th>1</th>\n",
       "      <th>2</th>\n",
       "      <th>3</th>\n",
       "      <th>4</th>\n",
       "    </tr>\n",
       "  </thead>\n",
       "  <tbody>\n",
       "    <tr>\n",
       "      <th>5折交叉验证结果</th>\n",
       "      <td>0.966667</td>\n",
       "      <td>0.966667</td>\n",
       "      <td>0.933333</td>\n",
       "      <td>0.966667</td>\n",
       "      <td>1.0</td>\n",
       "    </tr>\n",
       "  </tbody>\n",
       "</table>\n",
       "</div>"
      ],
      "text/plain": [
       "                 0         1         2         3    4\n",
       "5鎶樹氦鍙夐獙璇佺粨鏋� 0.966667  0.966667  0.933333  0.966667  1.0"
      ]
     },
     "execution_count": 221,
     "metadata": {},
     "output_type": "execute_result"
    }
   ],
   "source": [
    "scores=cross_val_score(iris_rf,x,y,cv=5)\n",
    "cross=pd.DataFrame(scores)\n",
    "cross.columns=['5折交叉验证结果']\n",
    "cross.T"
   ]
  },
  {
   "cell_type": "markdown",
   "metadata": {},
   "source": [
    "### 14.2.6 支持向量机"
   ]
  },
  {
   "cell_type": "code",
   "execution_count": 222,
   "metadata": {},
   "outputs": [
    {
     "data": {
      "text/html": [
       "<div>\n",
       "<style scoped>\n",
       "    .dataframe tbody tr th:only-of-type {\n",
       "        vertical-align: middle;\n",
       "    }\n",
       "\n",
       "    .dataframe tbody tr th {\n",
       "        vertical-align: top;\n",
       "    }\n",
       "\n",
       "    .dataframe thead th {\n",
       "        text-align: right;\n",
       "    }\n",
       "</style>\n",
       "<table border=\"1\" class=\"dataframe\">\n",
       "  <thead>\n",
       "    <tr style=\"text-align: right;\">\n",
       "      <th></th>\n",
       "      <th>真实类别</th>\n",
       "      <th>预测类别</th>\n",
       "    </tr>\n",
       "  </thead>\n",
       "  <tbody>\n",
       "    <tr>\n",
       "      <th>1</th>\n",
       "      <td>setosa</td>\n",
       "      <td>setosa</td>\n",
       "    </tr>\n",
       "    <tr>\n",
       "      <th>51</th>\n",
       "      <td>versicolor</td>\n",
       "      <td>versicolor</td>\n",
       "    </tr>\n",
       "    <tr>\n",
       "      <th>101</th>\n",
       "      <td>virginica</td>\n",
       "      <td>virginica</td>\n",
       "    </tr>\n",
       "  </tbody>\n",
       "</table>\n",
       "</div>"
      ],
      "text/plain": [
       "           鐪熷疄绫诲埆        棰勬祴绫诲埆\n",
       "1        setosa      setosa\n",
       "51   versicolor  versicolor\n",
       "101   virginica   virginica"
      ]
     },
     "execution_count": 222,
     "metadata": {},
     "output_type": "execute_result"
    }
   ],
   "source": [
    "from sklearn import svm\n",
    "iris_svm=svm.SVC()\n",
    "iris_svm.fit(x_train,y_train)\n",
    "answer=iris_svm.predict(x)\n",
    "answer_array=np.array([y,answer])\n",
    "answer_mat=np.matrix(answer_mat)\n",
    "result.columns=[\"真实类别\",\"预测类别\"]\n",
    "result.ix[[1,51,101]]\n"
   ]
  },
  {
   "cell_type": "code",
   "execution_count": 223,
   "metadata": {},
   "outputs": [],
   "source": [
    "print \"SVN对测试集数据判别结果：\"\n",
    "print classification_report(y_test,iris_svm.predict(x_test))\n",
    "print 53*\"-\"\n",
    "print \"SVN对全部数据判别结果：\"\n",
    "print classification_report(y,iris_svm.predict(x))"
   ]
  },
  {
   "cell_type": "markdown",
   "metadata": {},
   "source": [
    "# 第十五章 时间序列分析"
   ]
  },
  {
   "cell_type": "markdown",
   "metadata": {},
   "source": [
    "## 15.1 时间序列的基本问题"
   ]
  },
  {
   "cell_type": "code",
   "execution_count": 224,
   "metadata": {},
   "outputs": [
    {
     "data": {
      "text/html": [
       "<div>\n",
       "<style scoped>\n",
       "    .dataframe tbody tr th:only-of-type {\n",
       "        vertical-align: middle;\n",
       "    }\n",
       "\n",
       "    .dataframe tbody tr th {\n",
       "        vertical-align: top;\n",
       "    }\n",
       "\n",
       "    .dataframe thead th {\n",
       "        text-align: right;\n",
       "    }\n",
       "</style>\n",
       "<table border=\"1\" class=\"dataframe\">\n",
       "  <thead>\n",
       "    <tr style=\"text-align: right;\">\n",
       "      <th></th>\n",
       "      <th>DATE</th>\n",
       "      <th>Month</th>\n",
       "      <th>Sales</th>\n",
       "    </tr>\n",
       "  </thead>\n",
       "  <tbody>\n",
       "    <tr>\n",
       "      <th>0</th>\n",
       "      <td>2001-01-01</td>\n",
       "      <td>2001Jan</td>\n",
       "      <td>814.0</td>\n",
       "    </tr>\n",
       "    <tr>\n",
       "      <th>1</th>\n",
       "      <td>2001-02-01</td>\n",
       "      <td>2001Feb</td>\n",
       "      <td>774.8</td>\n",
       "    </tr>\n",
       "    <tr>\n",
       "      <th>2</th>\n",
       "      <td>2001-03-01</td>\n",
       "      <td>2001Mar</td>\n",
       "      <td>782.8</td>\n",
       "    </tr>\n",
       "    <tr>\n",
       "      <th>3</th>\n",
       "      <td>2001-04-01</td>\n",
       "      <td>2001Apr</td>\n",
       "      <td>772.0</td>\n",
       "    </tr>\n",
       "    <tr>\n",
       "      <th>4</th>\n",
       "      <td>2001-05-01</td>\n",
       "      <td>2001May</td>\n",
       "      <td>817.6</td>\n",
       "    </tr>\n",
       "  </tbody>\n",
       "</table>\n",
       "</div>"
      ],
      "text/plain": [
       "        DATE    Month  Sales\n",
       "0 2001-01-01  2001Jan  814.0\n",
       "1 2001-02-01  2001Feb  774.8\n",
       "2 2001-03-01  2001Mar  782.8\n",
       "3 2001-04-01  2001Apr  772.0\n",
       "4 2001-05-01  2001May  817.6"
      ]
     },
     "execution_count": 224,
     "metadata": {},
     "output_type": "execute_result"
    }
   ],
   "source": [
    "path=\"D:/data/Python_data/ch15/sales_monthly.sas7bdat\"\n",
    "sales=pd.read_sas(path)\n",
    "sales.head()"
   ]
  },
  {
   "cell_type": "code",
   "execution_count": 225,
   "metadata": {},
   "outputs": [
    {
     "data": {
      "text/plain": [
       "<matplotlib.axes._subplots.AxesSubplot at 0x11d11710>"
      ]
     },
     "execution_count": 225,
     "metadata": {},
     "output_type": "execute_result"
    },
    {
     "data": {
      "image/png": "[encoded data removed]",
      "text/plain": [
       "<matplotlib.figure.Figure at 0x11d11d68>"
      ]
     },
     "metadata": {},
     "output_type": "display_data"
    }
   ],
   "source": [
    "sales.index=pd.Index(pd.date_range('1/2001','9/2008',freq='1M'))\n",
    "#设置日期索引\n",
    "sales['Sales'].plot()"
   ]
  },
  {
   "cell_type": "code",
   "execution_count": 226,
   "metadata": {},
   "outputs": [
    {
     "data": {
      "text/plain": [
       "<matplotlib.axes._subplots.AxesSubplot at 0x11f5dcc0>"
      ]
     },
     "execution_count": 226,
     "metadata": {},
     "output_type": "execute_result"
    },
    {
     "data": {
      "image/png": "[encoded data removed]",
      "text/plain": [
       "<matplotlib.figure.Figure at 0x11f72390>"
      ]
     },
     "metadata": {},
     "output_type": "display_data"
    }
   ],
   "source": [
    "sales['Sales'].diff(1).plot()  #diff方法表示按照给定阶数进行差分"
   ]
  },
  {
   "cell_type": "code",
   "execution_count": 227,
   "metadata": {},
   "outputs": [
    {
     "data": {
      "text/html": [
       "<div>\n",
       "<style scoped>\n",
       "    .dataframe tbody tr th:only-of-type {\n",
       "        vertical-align: middle;\n",
       "    }\n",
       "\n",
       "    .dataframe tbody tr th {\n",
       "        vertical-align: top;\n",
       "    }\n",
       "\n",
       "    .dataframe thead th {\n",
       "        text-align: right;\n",
       "    }\n",
       "</style>\n",
       "<table border=\"1\" class=\"dataframe\">\n",
       "  <thead>\n",
       "    <tr style=\"text-align: right;\">\n",
       "      <th></th>\n",
       "      <th>0</th>\n",
       "      <th>1</th>\n",
       "      <th>2</th>\n",
       "      <th>3</th>\n",
       "      <th>4</th>\n",
       "      <th>5</th>\n",
       "      <th>6</th>\n",
       "      <th>7</th>\n",
       "      <th>8</th>\n",
       "      <th>9</th>\n",
       "    </tr>\n",
       "  </thead>\n",
       "  <tbody>\n",
       "    <tr>\n",
       "      <th>ACF</th>\n",
       "      <td>1.0</td>\n",
       "      <td>-0.213246</td>\n",
       "      <td>-0.267816</td>\n",
       "      <td>0.045357</td>\n",
       "      <td>-0.019005</td>\n",
       "      <td>-0.042911</td>\n",
       "      <td>-0.099197</td>\n",
       "      <td>0.131948</td>\n",
       "      <td>-0.020434</td>\n",
       "      <td>-0.047949</td>\n",
       "    </tr>\n",
       "    <tr>\n",
       "      <th>PACF</th>\n",
       "      <td>1.0</td>\n",
       "      <td>-0.215615</td>\n",
       "      <td>-0.335942</td>\n",
       "      <td>-0.123429</td>\n",
       "      <td>-0.159380</td>\n",
       "      <td>-0.141271</td>\n",
       "      <td>-0.262224</td>\n",
       "      <td>-0.048721</td>\n",
       "      <td>-0.154343</td>\n",
       "      <td>-0.126597</td>\n",
       "    </tr>\n",
       "  </tbody>\n",
       "</table>\n",
       "</div>"
      ],
      "text/plain": [
       "        0         1         2         3         4         5         6  \\\n",
       "ACF   1.0 -0.213246 -0.267816  0.045357 -0.019005 -0.042911 -0.099197   \n",
       "PACF  1.0 -0.215615 -0.335942 -0.123429 -0.159380 -0.141271 -0.262224   \n",
       "\n",
       "             7         8         9  \n",
       "ACF   0.131948 -0.020434 -0.047949  \n",
       "PACF -0.048721 -0.154343 -0.126597  "
      ]
     },
     "execution_count": 227,
     "metadata": {},
     "output_type": "execute_result"
    }
   ],
   "source": [
    "from statsmodels.tsa.stattools import acf,pacf\n",
    "ts_d1_ACF=pd.DataFrame(acf(sales['Sales'].diff(1).ix[1:92]),columns=['ACF'])\n",
    "ts_d1_ACF['PACF']=pd.DataFrame(pacf(sales['Sales'].diff(1).ix[1:92]))\n",
    "ts_d1_ACF.head(10).T"
   ]
  },
  {
   "cell_type": "code",
   "execution_count": 228,
   "metadata": {},
   "outputs": [
    {
     "data": {
      "image/png": "[encoded data removed]",
      "text/plain": [
       "<matplotlib.figure.Figure at 0x115b6710>"
      ]
     },
     "metadata": {},
     "output_type": "display_data"
    }
   ],
   "source": [
    "fig=plt.figure(figsize=(10,6))\n",
    "ax1=fig.add_subplot(211)\n",
    "fig=sm.graphics.tsa.plot_acf(sales['Sales'].diff(1).ix[1:92],lags=24,ax=ax1)\n"
   ]
  },
  {
   "cell_type": "code",
   "execution_count": 229,
   "metadata": {},
   "outputs": [],
   "source": [
    "r,q,p=sm.tsa.acf(sales['Sales'].diff(1).ix[1:92].values.squeeze(),qstat=True)\n",
    "mat=np.c_[range(1,41),r[1:],q,p]\n",
    "table=pd.DataFrame(mat,columns=['lag','AC','Q','Prob(>Q)'])\n",
    "LB_result=table.loc[[5,11,17]]\n",
    "LB_result.set_index('lag',inplace=True)\n",
    "print LB_result"
   ]
  },
  {
   "cell_type": "code",
   "execution_count": 230,
   "metadata": {},
   "outputs": [],
   "source": [
    "from statsmodels.tsa.stattools import adfuller\n",
    "def DFTest(sales,regression,maxlag,autolag='AIC'):\n",
    "    print \"ADF-Test Result\"\n",
    "    dftest=adfuller(sales,regression=regression,maxlag=maxlag,autolag=autolag)\n",
    "    dfoutput=pd.Series(dftest[0:4],index=['Test Statistic','p-value','Lags Used','nobs'])\n",
    "    for key,value in dftest[4].items():\n",
    "        dfoutput['Critical Value at %s' %key]=value\n",
    "    print dfoutput\n",
    "    \n",
    "DFTest (sales['Sales'],regression='nc',maxlag=6,autolag='AIC')\n",
    "print 37*'-'\n",
    "DFTest(sales['Sales'].diff(1).ix[1:92],regression='nc',maxlag=5,autolag='AIC')\n",
    "#对原始数据的一阶差分数据进行单位根检验"
   ]
  },
  {
   "cell_type": "markdown",
   "metadata": {},
   "source": [
    "## 15.2 ARIMA模型的分析过程"
   ]
  },
  {
   "cell_type": "markdown",
   "metadata": {},
   "source": [
    "#### 1 利用自相关系数图、偏自相相关系数图进行模型识别"
   ]
  },
  {
   "cell_type": "code",
   "execution_count": 231,
   "metadata": {},
   "outputs": [
    {
     "data": {
      "image/png": "[encoded data removed]",
      "text/plain": [
       "<matplotlib.figure.Figure at 0x122e8048>"
      ]
     },
     "metadata": {},
     "output_type": "display_data"
    }
   ],
   "source": [
    "fig=plt.figure(figsize=(10,6))\n",
    "ax1=fig.add_subplot(211)\n",
    "fig=sm.graphics.tsa.plot_acf(sales['Sales'].diff(1).ix[1:92].dropna(),lags=24,ax=ax1)\n",
    "ax2=fig.add_subplot(212)\n",
    "fig=sm.graphics.tsa.plot_pacf(sales['Sales'].diff(1).ix[1:92].dropna(),lags=24,ax=ax2)"
   ]
  },
  {
   "cell_type": "markdown",
   "metadata": {},
   "source": [
    "#### 2 利用最小信息准则进行模型识别"
   ]
  },
  {
   "cell_type": "code",
   "execution_count": 232,
   "metadata": {},
   "outputs": [],
   "source": [
    "order_p,order_q,bic=[],[],[]\n",
    "model_order=pd.DataFrame()\n",
    "for p in range(4):\n",
    "    for q in range(4):\n",
    "        arma_model=sm.tsa.ARMA(sales['Sales'].diff(1).ix[1:92].dropna(),(p,q)).fit()\n",
    "        order_p.append(p)\n",
    "        order_q.append(q)\n",
    "        bic.append(arma_model.bic)\n",
    "        print 'The BIC of ARMA(%s,%s) is %s' %(p,q,arma_model.bic)\n",
    "        \n",
    "model_order['p']=order_p\n",
    "model_order['q']=order_q\n",
    "model_order['BIC']=bic\n",
    "P=list(model_order['p'][model_order['BIC']==model_order['BIC'].min()])\n",
    "Q=list(model_order['q'][model_order['BIC']==model_order['BIC'].min()])\n",
    "print '\\nThe best model is ARMA(%s,%s)' %(P[0],Q[0])"
   ]
  },
  {
   "cell_type": "code",
   "execution_count": 233,
   "metadata": {},
   "outputs": [
    {
     "data": {
      "text/html": [
       "<div>\n",
       "<style scoped>\n",
       "    .dataframe tbody tr th:only-of-type {\n",
       "        vertical-align: middle;\n",
       "    }\n",
       "\n",
       "    .dataframe tbody tr th {\n",
       "        vertical-align: top;\n",
       "    }\n",
       "\n",
       "    .dataframe thead th {\n",
       "        text-align: right;\n",
       "    }\n",
       "</style>\n",
       "<table border=\"1\" class=\"dataframe\">\n",
       "  <thead>\n",
       "    <tr style=\"text-align: right;\">\n",
       "      <th></th>\n",
       "      <th>Estimate</th>\n",
       "      <th>pvalues</th>\n",
       "      <th>t-values</th>\n",
       "    </tr>\n",
       "  </thead>\n",
       "  <tbody>\n",
       "    <tr>\n",
       "      <th>const</th>\n",
       "      <td>1.725814</td>\n",
       "      <td>0.174759</td>\n",
       "      <td>1.368116</td>\n",
       "    </tr>\n",
       "    <tr>\n",
       "      <th>ma.L1.Sales</th>\n",
       "      <td>-0.436521</td>\n",
       "      <td>0.000041</td>\n",
       "      <td>-4.320340</td>\n",
       "    </tr>\n",
       "    <tr>\n",
       "      <th>ma.L2.Sales</th>\n",
       "      <td>-0.382629</td>\n",
       "      <td>0.000204</td>\n",
       "      <td>-3.875838</td>\n",
       "    </tr>\n",
       "  </tbody>\n",
       "</table>\n",
       "</div>"
      ],
      "text/plain": [
       "             Estimate   pvalues  t-values\n",
       "const        1.725814  0.174759  1.368116\n",
       "ma.L1.Sales -0.436521  0.000041 -4.320340\n",
       "ma.L2.Sales -0.382629  0.000204 -3.875838"
      ]
     },
     "execution_count": 233,
     "metadata": {},
     "output_type": "execute_result"
    }
   ],
   "source": [
    "model=sm.tsa.ARMA(sales['Sales'].diff(1).ix[1:92].dropna(),(0,2)).fit(method='css')\n",
    "params=model.params\n",
    "tvalues=model.tvalues  #t统计量\n",
    "pvalues=model.pvalues  #p值\n",
    "result_mat=pd.DataFrame({'Estimate':params,'t-values':tvalues,'pvalues':pvalues})\n",
    "result_mat"
   ]
  },
  {
   "cell_type": "code",
   "execution_count": 234,
   "metadata": {},
   "outputs": [],
   "source": [
    "print 'AIC:',model.aic\n",
    "print 'Variance Estimates:',model.sigma2"
   ]
  },
  {
   "cell_type": "code",
   "execution_count": 235,
   "metadata": {},
   "outputs": [],
   "source": [
    "resid=model.resid\n",
    "r,q,p=sm.tsa.acf(resid.values.squeeze(),qstat=True)\n",
    "mat_res=np.c_[range(1,41),r[1:],q,p]\n",
    "table_res=pd.DataFrame(mat_res,columns=['to lag','AC','Q','Prob(>Q)'])\n",
    "LB_result_res=table_res.loc[[5,11,17,23]]\n",
    "LB_result_res.set_index('to lag',inplace=True)\n",
    "print '残差白噪声检验结果'\n",
    "print LB_result_res"
   ]
  },
  {
   "cell_type": "code",
   "execution_count": 236,
   "metadata": {},
   "outputs": [
    {
     "data": {
      "image/png": "[encoded data removed]",
      "text/plain": [
       "<matplotlib.figure.Figure at 0x11683668>"
      ]
     },
     "metadata": {},
     "output_type": "display_data"
    }
   ],
   "source": [
    "fig=plt.figure(figsize=(10,6))\n",
    "ax3=fig.add_subplot(211)\n",
    "fig=sm.graphics.tsa.plot_acf(resid,lags=24,ax=ax3)"
   ]
  },
  {
   "cell_type": "code",
   "execution_count": 237,
   "metadata": {},
   "outputs": [
    {
     "data": {
      "image/png": "[encoded data removed]",
      "text/plain": [
       "<matplotlib.figure.Figure at 0xdfcb630>"
      ]
     },
     "metadata": {},
     "output_type": "display_data"
    },
    {
     "data": {
      "image/png": "[encoded data removed]",
      "text/plain": [
       "<matplotlib.figure.Figure at 0x1207ecc0>"
      ]
     },
     "metadata": {},
     "output_type": "display_data"
    }
   ],
   "source": [
    "from scipy import stats\n",
    "sm.ProbPlot(resid,stats.t,fit=True).ppplot(line='45')\n",
    "sm.ProbPlot(resid,stats.t,fit=True).qqplot(line='45')\n",
    "plt.show()"
   ]
  },
  {
   "cell_type": "code",
   "execution_count": 238,
   "metadata": {},
   "outputs": [
    {
     "data": {
      "image/png": "[encoded data removed]",
      "text/plain": [
       "<matplotlib.figure.Figure at 0x10889128>"
      ]
     },
     "metadata": {},
     "output_type": "display_data"
    }
   ],
   "source": [
    "plt.figure()\n",
    "x=pd.Series(resid)\n",
    "p1=x.plot(kind='kde')\n",
    "p2=x.hist(normed=True)\n",
    "plt.grid(True)\n",
    "plt.show()"
   ]
  },
  {
   "cell_type": "code",
   "execution_count": 239,
   "metadata": {},
   "outputs": [
    {
     "data": {
      "text/plain": [
       "(array([-46.88275913,  -1.17370097,  -5.30952486, -12.61995529]),\n",
       " array([61.95815693, 69.2913763 , 70.52524153, 70.71368782]),\n",
       " array([[-168.31851526,   74.55299699],\n",
       "        [-136.98230296,  134.63490102],\n",
       "        [-143.53645827,  132.91740855],\n",
       "        [-151.21623663,  125.97632605]]))"
      ]
     },
     "execution_count": 239,
     "metadata": {},
     "output_type": "execute_result"
    }
   ],
   "source": [
    "arma_model.forecast(steps=4)"
   ]
  },
  {
   "cell_type": "code",
   "execution_count": 240,
   "metadata": {},
   "outputs": [
    {
     "data": {
      "text/plain": [
       "<matplotlib.legend.Legend at 0x107a0390>"
      ]
     },
     "execution_count": 240,
     "metadata": {},
     "output_type": "execute_result"
    },
    {
     "data": {
      "image/png": "[encoded data removed]",
      "text/plain": [
       "<matplotlib.figure.Figure at 0xfe5f390>"
      ]
     },
     "metadata": {},
     "output_type": "display_data"
    }
   ],
   "source": [
    "fig=plt.figure(figsize=(8,6))\n",
    "ax=fig.add_subplot(111)\n",
    "ax.plot(sales['Sales'].diff(1).ix[1:92],color='blue',label='Sales')\n",
    "ax.plot(arma_model.fittedvalues,color='green',label='Predicted Sales')\n",
    "plt.legend(loc='lower right')"
   ]
  }
 ],
 "metadata": {
  "kernelspec": {
   "display_name": "Python 2",
   "language": "python",
   "name": "python2"
  },
  "language_info": {
   "codemirror_mode": {
    "name": "ipython",
    "version": 2
   },
   "file_extension": ".py",
   "mimetype": "text/x-python",
   "name": "python",
   "nbconvert_exporter": "python",
   "pygments_lexer": "ipython2",
   "version": "2.7.14"
  }
 },
 "nbformat": 4,
 "nbformat_minor": 2
}
